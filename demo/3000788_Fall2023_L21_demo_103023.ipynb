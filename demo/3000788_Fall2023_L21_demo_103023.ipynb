{
 "cells": [
  {
   "cell_type": "markdown",
   "id": "moving-lesson",
   "metadata": {},
   "source": [
    "# For this demo, we will simulate differential equations from the lecture"
   ]
  },
  {
   "cell_type": "markdown",
   "id": "8ecf3f15",
   "metadata": {},
   "source": [
    "## First, import some library\n",
    "The key function here is [odeint](https://docs.scipy.org/doc/scipy/reference/generated/scipy.integrate.odeint.html)"
   ]
  },
  {
   "cell_type": "code",
   "execution_count": null,
   "id": "billion-second",
   "metadata": {},
   "outputs": [],
   "source": [
    "from scipy.integrate import odeint\n",
    "\n",
    "import matplotlib.pyplot as plt\n",
    "import numpy as np\n",
    "import pandas as pd\n",
    "import seaborn as sns"
   ]
  },
  {
   "cell_type": "markdown",
   "id": "purple-obligation",
   "metadata": {},
   "source": [
    "## Model 1: Fixed transcription rate and a fixed degradation rate\n",
    "$$\\frac{d[RNA]}{dt} = k_\\text{transcription} - k_\\text{degradation}[RNA]$$\n",
    "\n",
    "Define a function that compute the differential function\n",
    "\n",
    "Note that our function does not depend on **time**"
   ]
  },
  {
   "cell_type": "code",
   "execution_count": null,
   "id": "silver-cancer",
   "metadata": {},
   "outputs": [],
   "source": [
    "def simple_transcription(rna, time = np.arange(0, 20, 1), k_trans = 1.0, k_deg = 0.5):\n",
    "    return k_trans - k_deg * rna"
   ]
  },
  {
   "cell_type": "markdown",
   "id": "dfd49257",
   "metadata": {},
   "source": [
    "### To perform a simulation, we have to define the following:\n",
    "1. Initial [RNA]\n",
    "2. Timesteps: default = range from 0 to 20, with step size = 1\n",
    "3. $k_\\text{transcriptio}$: default = 1.0\n",
    "4. $k_\\text{degradation}$: default = 0.5\n",
    "\n",
    "### Task 1: Try varying the initial [RNA] and constants"
   ]
  },
  {
   "cell_type": "code",
   "execution_count": null,
   "id": "impossible-september",
   "metadata": {},
   "outputs": [],
   "source": [
    "initial_rna = 0.01 ## initial RNA concentration\n",
    "\n",
    "k_trans = 1 ## transcription rate\n",
    "k_deg = 0.5 ## degradation rate\n",
    "\n",
    "times = np.arange(0, 20, 1)\n",
    "simulated = odeint(simple_transcription, initial_rna, times, args = (k_trans, k_deg))\n",
    "\n",
    "plt.plot(times, simulated)\n",
    "plt.xlabel('time'); plt.ylabel('[RNA]')\n",
    "plt.show()"
   ]
  },
  {
   "cell_type": "markdown",
   "id": "continued-consolidation",
   "metadata": {},
   "source": [
    "### One key setting for a simulation is the resolution of the time scale\n",
    "Generally, the timesteps must correspond to the units of $k_\\text{transcriptio}$ and $k_\\text{degradation}$ \n",
    "\n",
    "In this demo, **we need to adjust the timesteps** to see the detailed behavior of the system"
   ]
  },
  {
   "cell_type": "code",
   "execution_count": null,
   "id": "cooperative-therapy",
   "metadata": {},
   "outputs": [],
   "source": [
    "## This system will converge to an equilibrium very quickly\n",
    "initial_rna = 0\n",
    "k_trans = 100\n",
    "k_deg = 15\n",
    "\n",
    "## Rough timestep = 1.0\n",
    "times_rough = np.arange(0, 3.01, 1)\n",
    "simulated_rough = odeint(simple_transcription, initial_rna, times_rough, args = (k_trans, k_deg))\n",
    "\n",
    "## Fine timestep = 0.01\n",
    "times_fine = np.arange(0, 3, 0.01)\n",
    "simulated_fine = odeint(simple_transcription, initial_rna, times_fine, args = (k_trans, k_deg))\n",
    "\n",
    "## Compare the resulting simulations\n",
    "plt.figure(figsize = (10, 4))\n",
    "\n",
    "plt.subplot(1, 2, 1)\n",
    "plt.plot(times_rough, simulated_rough)\n",
    "plt.xlabel('time'); plt.ylabel('[RNA]'); plt.title('Rough time step')\n",
    "\n",
    "plt.subplot(1, 2, 2)\n",
    "plt.plot(times_fine, simulated_fine)\n",
    "plt.xlabel('time'); plt.ylabel('[RNA]'); plt.title('Fine time step')\n",
    "\n",
    "plt.tight_layout()\n",
    "plt.show()"
   ]
  },
  {
   "cell_type": "markdown",
   "id": "foster-jaguar",
   "metadata": {},
   "source": [
    "## Adding time-dependent activation\n",
    "$$\\frac{d[RNA]}{dt} = k_\\text{transcription} - k_\\text{degradation}[RNA]\\text{, for } t \\leq 5$$\n",
    "$$\\frac{d[RNA]}{dt} = - k_\\text{degradation}[RNA]\\text{, for } t > 5$$\n",
    "\n",
    "Add an **if-else** statement to the function"
   ]
  },
  {
   "cell_type": "code",
   "execution_count": null,
   "id": "realistic-blues",
   "metadata": {},
   "outputs": [],
   "source": [
    "def time_transcription(rna, time, k_trans, k_deg):\n",
    "    if time < 5:\n",
    "        return k_trans - k_deg * rna\n",
    "    else:\n",
    "        return - k_deg * rna"
   ]
  },
  {
   "cell_type": "markdown",
   "id": "2bc9ba32",
   "metadata": {},
   "source": [
    "### Expression level peaks at t = 5, followed by an exponential decay"
   ]
  },
  {
   "cell_type": "code",
   "execution_count": null,
   "id": "fresh-baghdad",
   "metadata": {},
   "outputs": [],
   "source": [
    "initial_rna = 0\n",
    "k_trans = 2\n",
    "k_deg = 0.5\n",
    "\n",
    "times = range(0, 30)\n",
    "simulated = odeint(time_transcription, initial_rna, times, args = (k_trans, k_deg))\n",
    "\n",
    "plt.plot(times, simulated)\n",
    "plt.xlabel('time'); plt.ylabel('[RNA]')\n",
    "plt.show()"
   ]
  },
  {
   "cell_type": "markdown",
   "id": "recent-atlanta",
   "metadata": {},
   "source": [
    "## Model 2: Negative auto-regulation\n",
    "$$\\frac{d[RNA]}{dt} = \\frac{k_\\text{transcription}}{1 + (k_\\text{binding}[RNA])^n} - k_\\text{degradation}[RNA]$$"
   ]
  },
  {
   "cell_type": "code",
   "execution_count": null,
   "id": "annoying-might",
   "metadata": {},
   "outputs": [],
   "source": [
    "def neg_auto_transcription(rna, time, k_trans, k_deg, k_nar, n = 2):\n",
    "    return k_trans / (1 + (k_nar * rna) ** n) - k_deg * rna"
   ]
  },
  {
   "cell_type": "markdown",
   "id": "4d6862c5",
   "metadata": {},
   "source": [
    "### Task 2: Try changing initial [RNA] to investigate the behavior of the system"
   ]
  },
  {
   "cell_type": "code",
   "execution_count": null,
   "id": "dietary-stationery",
   "metadata": {},
   "outputs": [],
   "source": [
    "initial_rna = 1\n",
    "k_trans = 2\n",
    "k_deg = 0.5\n",
    "k_nar = 1\n",
    "n = 3\n",
    "\n",
    "times = np.arange(0, 20, 0.1)\n",
    "simulated = odeint(neg_auto_transcription, initial_rna, times, args = (k_trans, k_deg, k_nar, n))\n",
    "\n",
    "plt.plot(times, simulated)\n",
    "plt.xlabel('time'); plt.ylabel('[RNA]')\n",
    "plt.show()"
   ]
  },
  {
   "cell_type": "markdown",
   "id": "bbf12baa",
   "metadata": {},
   "source": [
    "## Compare behavior of a negative auto-regulation system from multiple initial conditions\n",
    "At low [RNA], the expression level rises until the equilibrium\n",
    "\n",
    "At high [RNA], the negative auto-regulation mechanism represses the expression\n",
    "\n",
    "### Task 3: Can you adjust the parameter(s) to make the system more complex"
   ]
  },
  {
   "cell_type": "code",
   "execution_count": null,
   "id": "65f96544",
   "metadata": {},
   "outputs": [],
   "source": [
    "times = np.arange(0, 8, 0.1)\n",
    "\n",
    "k_trans = 2\n",
    "k_deg = 0.5\n",
    "k_nar = 1\n",
    "n = 3\n",
    "\n",
    "for initial_rna in np.arange(0, 4, 0.1):\n",
    "    simulated = odeint(neg_auto_transcription, initial_rna, times, args = (k_trans, k_deg, k_nar, n))\n",
    "    \n",
    "    if simulated[0] < simulated[-1]:\n",
    "        plt.plot(times, simulated, c = 'tab:blue')\n",
    "    else:\n",
    "        plt.plot(times, simulated, c = 'tab:red')\n",
    "\n",
    "plt.xlabel('time'); plt.ylabel('[RNA]')\n",
    "plt.show()"
   ]
  },
  {
   "cell_type": "markdown",
   "id": "2d56fdeb",
   "metadata": {},
   "source": [
    "## Model 3: Positive auto-regulation\n",
    "$$\\frac{d[RNA]}{dt} = \\frac{k_\\text{transcription}(k_\\text{binding}[RNA])^n}{1 + (k_\\text{binding}[RNA])^n} - k_\\text{degradation}[RNA]$$"
   ]
  },
  {
   "cell_type": "code",
   "execution_count": null,
   "id": "important-management",
   "metadata": {},
   "outputs": [],
   "source": [
    "def pos_auto_transcription(rna, time, k_trans, k_deg, k_nar, n):\n",
    "    return k_trans * (k_nar * rna) ** n / (1 + (k_nar * rna) ** n) - k_deg * rna"
   ]
  },
  {
   "cell_type": "markdown",
   "id": "2db84d24",
   "metadata": {},
   "source": [
    "### Task 4: Try changing initial [RNA] to investigate the behavior of the system"
   ]
  },
  {
   "cell_type": "code",
   "execution_count": null,
   "id": "1370554d",
   "metadata": {
    "scrolled": false
   },
   "outputs": [],
   "source": [
    "initial_rna = 0\n",
    "times = np.arange(0, 30, 0.01)\n",
    "\n",
    "k_trans = 2\n",
    "k_deg = 0.5\n",
    "k_nar = 1\n",
    "n = 2\n",
    "\n",
    "simulated = odeint(pos_auto_transcription, initial_rna, times, args = (k_trans, k_deg, k_nar, n))\n",
    "\n",
    "plt.plot(times, simulated)\n",
    "plt.xlabel('time'); plt.ylabel('[RNA]')\n",
    "plt.show()"
   ]
  },
  {
   "cell_type": "markdown",
   "id": "f8473b39",
   "metadata": {},
   "source": [
    "### Bistability via positive auto-regulation"
   ]
  },
  {
   "cell_type": "code",
   "execution_count": null,
   "id": "fixed-service",
   "metadata": {},
   "outputs": [],
   "source": [
    "k_trans = 2\n",
    "k_deg = 0.5\n",
    "k_nar = 1\n",
    "n = 10\n",
    "\n",
    "times = np.arange(0, 30, 0.01)\n",
    "\n",
    "for initial_rna in np.arange(0, 6, 0.1):\n",
    "    simulated = odeint(pos_auto_transcription, initial_rna, times, args = (k_trans, k_deg, k_nar, n))\n",
    "    \n",
    "    if simulated[-1] < 0.5:\n",
    "        plt.plot(times, simulated, c = 'tab:orange')\n",
    "    elif simulated[0] < simulated[-1]:\n",
    "        plt.plot(times, simulated, c = 'tab:blue')\n",
    "    else:\n",
    "        plt.plot(times, simulated, c = 'tab:red')\n",
    "\n",
    "plt.xlabel('time'); plt.ylabel('[RNA]')\n",
    "plt.show()"
   ]
  },
  {
   "cell_type": "markdown",
   "id": "442dff55",
   "metadata": {},
   "source": [
    "## Model 4: Gene toggle switch\n",
    "Two genes repressing each other\n",
    "\n",
    "Assume the same transcription rate, degradation rate, and dimerization\n",
    "\n",
    "$$\\frac{d[LacI]}{dt} = \\frac{k_\\text{transcription}}{1 + [GFP]^2} - k_\\text{degradation}[LacI]$$\n",
    "$$\\frac{d[GFP]}{dt} = \\frac{k_\\text{transcription}}{1 + [LacI]^2} - k_\\text{degradation}[GFP]$$"
   ]
  },
  {
   "cell_type": "code",
   "execution_count": null,
   "id": "08a17a91",
   "metadata": {},
   "outputs": [],
   "source": [
    "def toggle_switch(rna, time, k_trans, k_deg, n = 2):\n",
    "    LacI = rna[0]\n",
    "    GFP = rna[1]\n",
    "    \n",
    "    dLacI_dt = k_trans / (1 + GFP ** n) - k_deg * LacI\n",
    "    dGFP_dt = k_trans / (1 + LacI ** n) - k_deg * GFP\n",
    "    \n",
    "    return [dLacI_dt, dGFP_dt]"
   ]
  },
  {
   "cell_type": "markdown",
   "id": "cdcfa53c",
   "metadata": {},
   "source": [
    "### Task 5: Vary the two initial [RNA] to study the dynamics"
   ]
  },
  {
   "cell_type": "code",
   "execution_count": null,
   "id": "c7de947f",
   "metadata": {},
   "outputs": [],
   "source": [
    "initial_rna = [5, 4]\n",
    "k_trans = 2\n",
    "k_deg = 0.5\n",
    "\n",
    "times = np.arange(0, 30, 0.01)\n",
    "simulated = odeint(toggle_switch, initial_rna, times, args = (k_trans, k_deg))\n",
    "\n",
    "plt.plot(times, simulated[:, 0], label = 'LacI')\n",
    "plt.plot(times, simulated[:, 1], label = 'GFP')\n",
    "plt.xlabel('time'); plt.ylabel('[RNA]'); plt.legend()\n",
    "plt.show()"
   ]
  },
  {
   "cell_type": "markdown",
   "id": "2fe81383",
   "metadata": {},
   "source": [
    "## Intervene the system by neutralizing LacI molecules\n",
    "Start at time = 10"
   ]
  },
  {
   "cell_type": "code",
   "execution_count": null,
   "id": "05152378",
   "metadata": {},
   "outputs": [],
   "source": [
    "def toggle_switch_intervene(rna, time, k_trans, k_deg, n):\n",
    "    LacI = rna[0]\n",
    "    GFP = rna[1]\n",
    "    \n",
    "    dLacI_dt = k_trans / (1 + GFP ** n) - k_deg * LacI\n",
    "    \n",
    "    if time < 10:\n",
    "        dGFP_dt = k_trans / (1 + LacI ** n) - k_deg * GFP\n",
    "    else:\n",
    "        dGFP_dt = k_trans - k_deg * GFP\n",
    "    \n",
    "    return [dLacI_dt, dGFP_dt]"
   ]
  },
  {
   "cell_type": "code",
   "execution_count": null,
   "id": "034e97b0",
   "metadata": {},
   "outputs": [],
   "source": [
    "initial_rna = [2, 1]\n",
    "times = np.arange(0, 30, 0.01)\n",
    "\n",
    "k_trans = 2\n",
    "k_deg = 0.5\n",
    "n = 2\n",
    "\n",
    "simulated = odeint(toggle_switch_intervene, initial_rna, times, args = (k_trans, k_deg, n))\n",
    "\n",
    "plt.plot(times, simulated[:, 0], label = 'LacI')\n",
    "plt.plot(times, simulated[:, 1], label = 'GFP')\n",
    "plt.xlabel('time step'); plt.ylabel('[RNA]'); plt.legend()\n",
    "plt.show()"
   ]
  },
  {
   "cell_type": "markdown",
   "id": "5a449b1e",
   "metadata": {},
   "source": [
    "## Model 5: Two genes with only linear effect\n",
    "$$\\frac{d[x_1]}{dt} = k_{11}[x_1] + k_{12}[x_2]$$\n",
    "$$\\frac{d[x_2]}{dt} = k_{21}[x_1] + k_{22}[x_2]$$"
   ]
  },
  {
   "cell_type": "code",
   "execution_count": null,
   "id": "b1915012",
   "metadata": {},
   "outputs": [],
   "source": [
    "def two_loci_linear(rna, time, k11, k12, k21, k22):\n",
    "    dx1_dt = k11 * rna[0] + k12 * rna[1]\n",
    "    dx2_dt = k21 * rna[0] + k22 * rna[1]\n",
    "    \n",
    "    return [dx1_dt, dx2_dt]\n",
    "\n",
    "## Function for visualizing the dynamics over time\n",
    "def view_simulation(simulated, times):\n",
    "    plt.figure(figsize = (8, 4))\n",
    "    \n",
    "    plt.subplot(1, 2, 1)\n",
    "    plt.plot(times, simulated[:, 0], label = 'x1')\n",
    "    plt.plot(times, simulated[:, 1], label = 'x2')\n",
    "    plt.xlabel('time'); plt.ylabel('[X]'); plt.legend()\n",
    "    plt.title('expression over time')\n",
    "\n",
    "    plt.subplot(1, 2, 2)\n",
    "    plt.scatter(simulated[:, 0], simulated[:, 1], c = times, s = 0.1)\n",
    "    plt.xlabel('[X1]'); plt.ylabel('[X2]')\n",
    "    plt.title('dynamics over time (yellow = late time steps)')\n",
    "\n",
    "    plt.tight_layout()\n",
    "    plt.show()"
   ]
  },
  {
   "cell_type": "markdown",
   "id": "eeaa6f40",
   "metadata": {},
   "source": [
    "### Task 6: Vary k11, k12, k21, and k22 to achieve different system behaviors"
   ]
  },
  {
   "cell_type": "code",
   "execution_count": null,
   "id": "e86e9b05",
   "metadata": {
    "scrolled": false
   },
   "outputs": [],
   "source": [
    "initial_x = [2, 1]\n",
    "times = np.arange(0, 50, 0.01)\n",
    "\n",
    "k11 = -0.4\n",
    "k12 = 0.6\n",
    "k21 = -0.2\n",
    "k22 = 0.3\n",
    "\n",
    "simulated = odeint(two_loci_linear, initial_x, times, args = (k11, k12, k21, k22))\n",
    "view_simulation(simulated, times)"
   ]
  },
  {
   "cell_type": "markdown",
   "id": "73cf67b9",
   "metadata": {},
   "source": [
    "### Can you tell how the behavior of the system is determined by the values k11, k12, k21, and k22?"
   ]
  }
 ],
 "metadata": {
  "kernelspec": {
   "display_name": "Python 3 (ipykernel)",
   "language": "python",
   "name": "python3"
  },
  "language_info": {
   "codemirror_mode": {
    "name": "ipython",
    "version": 3
   },
   "file_extension": ".py",
   "mimetype": "text/x-python",
   "name": "python",
   "nbconvert_exporter": "python",
   "pygments_lexer": "ipython3",
   "version": "3.9.12"
  }
 },
 "nbformat": 4,
 "nbformat_minor": 5
}
