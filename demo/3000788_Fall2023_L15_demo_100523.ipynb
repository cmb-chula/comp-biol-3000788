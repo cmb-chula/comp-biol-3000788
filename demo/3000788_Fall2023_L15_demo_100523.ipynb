{
 "cells": [
  {
   "cell_type": "markdown",
   "metadata": {
    "id": "5aP4yePhQvfN"
   },
   "source": [
    "## Introduction\n",
    "In this demo, we will analyze single-cell RNA-seq data using Python on Google Colab platform\n"
   ]
  },
  {
   "cell_type": "markdown",
   "metadata": {
    "id": "Sh4JB8WdR-Az"
   },
   "source": [
    "## Download data and install required library\n",
    "Data contain 3,000 peripheral blood mononulcear cells (PBMCs) from a healthy donor (provided by 10x Genomics)"
   ]
  },
  {
   "cell_type": "code",
   "execution_count": null,
   "metadata": {
    "colab": {
     "base_uri": "https://localhost:8080/"
    },
    "id": "lyQf7BSVP1W-",
    "outputId": "11e3e603-7106-4e86-a556-e86f25f0675f"
   },
   "outputs": [],
   "source": [
    "!mkdir data\n",
    "!wget http://cf.10xgenomics.com/samples/cell-exp/1.1.0/pbmc3k/pbmc3k_filtered_gene_bc_matrices.tar.gz -O data/pbmc3k_filtered_gene_bc_matrices.tar.gz\n",
    "!cd data; tar -xzf pbmc3k_filtered_gene_bc_matrices.tar.gz"
   ]
  },
  {
   "cell_type": "code",
   "execution_count": null,
   "metadata": {
    "colab": {
     "base_uri": "https://localhost:8080/"
    },
    "id": "FHpAgLcgDvIU",
    "outputId": "ba26bce0-44d7-43dd-db61-bf08239f9dc2"
   },
   "outputs": [],
   "source": [
    "!ls -la 'drive/MyDrive/Courses Content/RNAseq_Workshop_Jan2022'"
   ]
  },
  {
   "cell_type": "markdown",
   "metadata": {
    "id": "Lk7RaF71Qkp9"
   },
   "source": [
    "Google cloud environment does not have some required libary, so we have to install them\n",
    "\n",
    "Once the installation finished, you have to restart the environment to use the new library (There should be a *RESTART RUNTIME* button at the end of the output)\n",
    "\n",
    "Then you need to rerun these *import* commands again"
   ]
  },
  {
   "cell_type": "code",
   "execution_count": null,
   "metadata": {
    "colab": {
     "base_uri": "https://localhost:8080/"
    },
    "id": "hDkW0rLJR6cT",
    "outputId": "0f5b2c0c-b851-41b6-c9ce-fea93137ac2c"
   },
   "outputs": [],
   "source": [
    "!pip install scanpy leidenalg bbknn\n",
    "\n",
    "import numpy as np\n",
    "import pandas as pd\n",
    "import scanpy as sc\n",
    "import matplotlib.pyplot as plt"
   ]
  },
  {
   "cell_type": "markdown",
   "metadata": {
    "id": "nTIYdeS4SmMU"
   },
   "source": [
    "## Load single-cell data into Python"
   ]
  },
  {
   "cell_type": "code",
   "execution_count": null,
   "metadata": {
    "colab": {
     "base_uri": "https://localhost:8080/"
    },
    "id": "l7rvpkHtSmZ8",
    "outputId": "69fc5b2c-4970-4fe1-a9bd-a8f239c9477b"
   },
   "outputs": [],
   "source": [
    "adata = sc.read_10x_mtx('data/filtered_gene_bc_matrices/hg19/',\n",
    "                        var_names = 'gene_symbols',\n",
    "                        cache = True)\n",
    "\n",
    "adata.var_names_make_unique() ## ensure that all gene symbols are unique\n",
    "print(adata)"
   ]
  },
  {
   "cell_type": "markdown",
   "metadata": {
    "id": "_6bKkNuaTtcb"
   },
   "source": [
    "Visualize highly expressed genes"
   ]
  },
  {
   "cell_type": "code",
   "execution_count": null,
   "metadata": {
    "colab": {
     "base_uri": "https://localhost:8080/",
     "height": 361
    },
    "id": "MLU_nMUpTvYC",
    "outputId": "4e5eac35-1b9c-45b1-8145-8ec3fe480543"
   },
   "outputs": [],
   "source": [
    "sc.pl.highest_expr_genes(adata, n_top = 20, )"
   ]
  },
  {
   "cell_type": "markdown",
   "metadata": {
    "id": "2YQ490CcUMej"
   },
   "source": [
    "## Quality filter\n",
    "* Each cell must express at least 200 genes\n",
    "* Each gene must be observed in at least 3 cells"
   ]
  },
  {
   "cell_type": "code",
   "execution_count": null,
   "metadata": {
    "id": "CwmlreitUMuj"
   },
   "outputs": [],
   "source": [
    "sc.pp.filter_cells(adata, min_genes = 200)\n",
    "sc.pp.filter_genes(adata, min_cells = 3)"
   ]
  },
  {
   "cell_type": "markdown",
   "metadata": {
    "id": "ad9pxVQXVDFz"
   },
   "source": [
    "Analyze proportion of *mitochondrial* gene expression (gene symbols beginning with *MT-*)\n",
    "\n",
    "Remove cell with above 5% mitochondrial expression"
   ]
  },
  {
   "cell_type": "code",
   "execution_count": null,
   "metadata": {
    "colab": {
     "base_uri": "https://localhost:8080/",
     "height": 273
    },
    "id": "pdIQYBkwU_CC",
    "outputId": "3195c302-07d2-4232-f9a0-c54cfc7a6d9f"
   },
   "outputs": [],
   "source": [
    "adata.var['mt'] = adata.var_names.str.startswith('MT-')\n",
    "sc.pp.calculate_qc_metrics(adata, qc_vars = ['mt'], percent_top = None, log1p = False, inplace = True)\n",
    "\n",
    "sc.pl.scatter(adata, x = 'total_counts', y = 'pct_counts_mt')\n",
    "adata = adata[adata.obs.pct_counts_mt < 5, :]"
   ]
  },
  {
   "cell_type": "markdown",
   "metadata": {
    "id": "Ow6KBVNlURVF"
   },
   "source": [
    "Remove cells with more than 2,500 genes detected (possibly multi-cells)"
   ]
  },
  {
   "cell_type": "code",
   "execution_count": null,
   "metadata": {
    "colab": {
     "base_uri": "https://localhost:8080/",
     "height": 273
    },
    "id": "jwM9RJ91URw7",
    "outputId": "16ca3df7-c76c-4301-da77-79cec01eb168"
   },
   "outputs": [],
   "source": [
    "sc.pl.scatter(adata, x = 'total_counts', y = 'n_genes_by_counts')\n",
    "adata = adata[adata.obs.n_genes_by_counts < 2500, :]"
   ]
  },
  {
   "cell_type": "markdown",
   "metadata": {
    "id": "FnGBRv9JcQ1h"
   },
   "source": [
    "## Data normalization and preprocessing\n",
    "* Scale total read counts to 10,000 reads for each cell\n",
    "* Log-transform read counts\n"
   ]
  },
  {
   "cell_type": "code",
   "execution_count": null,
   "metadata": {
    "colab": {
     "base_uri": "https://localhost:8080/"
    },
    "id": "ZDJt8cD_cRLY",
    "outputId": "2169c3aa-5b93-445e-9630-2639e486a0b0"
   },
   "outputs": [],
   "source": [
    "sc.pp.normalize_total(adata, target_sum = 1e4)\n",
    "sc.pp.log1p(adata)"
   ]
  },
  {
   "cell_type": "markdown",
   "metadata": {
    "id": "7LouzqXcdWmx"
   },
   "source": [
    "Identify highly variable genes (high variance across cells) as they likely are cell type-specifics markers\n",
    "\n",
    "Note the impact of data normalization (left panel) compared to raw data (right panel)"
   ]
  },
  {
   "cell_type": "code",
   "execution_count": null,
   "metadata": {
    "colab": {
     "base_uri": "https://localhost:8080/",
     "height": 279
    },
    "id": "7AfvfQF5dZb6",
    "outputId": "6b8e97bb-d965-45b4-b553-a6a1f45f9551"
   },
   "outputs": [],
   "source": [
    "sc.pp.highly_variable_genes(adata, min_mean = 0.0125, max_mean = 3, min_disp = 0.5)\n",
    "sc.pl.highly_variable_genes(adata)\n",
    "\n",
    "adata.raw = adata\n",
    "adata = adata[:, adata.var.highly_variable]"
   ]
  },
  {
   "cell_type": "markdown",
   "metadata": {
    "id": "D5RDmfvqeNko"
   },
   "source": [
    "Remove biases from sequencing depth and mitochondrial expression (linear effect model)\n",
    "\n",
    "*Regress out* = use regression to identity the effect sizes and them subtracting them from the expression data"
   ]
  },
  {
   "cell_type": "code",
   "execution_count": null,
   "metadata": {
    "id": "WC-BqEHzeNxn"
   },
   "outputs": [],
   "source": [
    "sc.pp.regress_out(adata, ['total_counts', 'pct_counts_mt'])"
   ]
  },
  {
   "cell_type": "markdown",
   "metadata": {
    "id": "qEVukUYweSzY"
   },
   "source": [
    "## Visualize data on 2D\n",
    "First, using Principal Component Analysis (PCA, linear dimensionality reduction)\n",
    "\n",
    "Labeling with [*CST3*](https://www.genecards.org/cgi-bin/carddisp.pl?gene=CST3) expression levels show that the cells are well-ordered "
   ]
  },
  {
   "cell_type": "code",
   "execution_count": null,
   "metadata": {
    "colab": {
     "base_uri": "https://localhost:8080/",
     "height": 282
    },
    "id": "qBTToueJeTCY",
    "outputId": "8e6bca7c-f797-4d9e-e9b5-ea5390ad03bc"
   },
   "outputs": [],
   "source": [
    "sc.pp.scale(adata, max_value = 10)\n",
    "sc.tl.pca(adata, svd_solver = 'arpack')\n",
    "sc.pl.pca(adata, color = 'CST3')"
   ]
  },
  {
   "cell_type": "markdown",
   "metadata": {
    "id": "abcXBIUCjUiv"
   },
   "source": [
    "Multi-step dimensionality reduction\n",
    "* Perform PCA (linear dimensionality reduction)\n",
    "* Compute *neighbor network* using only the first 40 dimensions from PCA\n",
    "* Cluster cells using *leiden* algorithm\n",
    "* Perform UMAP (non-linear dimensionality reduction)\n",
    "\n",
    "Labeling with CST3, [NKG7](https://www.genecards.org/cgi-bin/carddisp.pl?gene=NKG7), and [PPBP](https://www.genecards.org/cgi-bin/carddisp.pl?gene=PPBP) expression levels show that each cell cluster on UMAP is associated with some gene markers"
   ]
  },
  {
   "cell_type": "code",
   "execution_count": null,
   "metadata": {
    "colab": {
     "base_uri": "https://localhost:8080/",
     "height": 165
    },
    "id": "GBMbhSnIjUFw",
    "outputId": "3a33de2e-11cb-4342-9fd8-aea494fac9c7"
   },
   "outputs": [],
   "source": [
    "sc.pp.neighbors(adata, n_neighbors = 10, n_pcs = 40)\n",
    "sc.tl.leiden(adata)\n",
    "sc.tl.paga(adata)\n",
    "sc.pl.paga(adata, plot = False)\n",
    "sc.tl.umap(adata, init_pos = 'paga')\n",
    "sc.pl.umap(adata, color=['leiden', 'CST3', 'NKG7', 'PPBP'])"
   ]
  },
  {
   "cell_type": "markdown",
   "metadata": {
    "id": "skJBuLpmXoCJ"
   },
   "source": [
    "## Finding marker genes\n",
    "For each cluster identified, perform differential expression between that cluster versus the result of the cell using *Wilcoxon*\n",
    "\n",
    "Show the top 25 genes along with their scores (*Wilcoxon* test statistics)\n",
    "\n",
    "* CST3 shows up as a marker for cluster 1\n",
    "* NKG7 shows up as a marker for clusters 4 and 5\n",
    "* PPBP shows up as a marker for cluster 10"
   ]
  },
  {
   "cell_type": "code",
   "execution_count": null,
   "metadata": {
    "colab": {
     "base_uri": "https://localhost:8080/",
     "height": 467
    },
    "id": "rp3SBqs4Xofb",
    "outputId": "eb6f3aaf-e7c0-4c9b-c657-ebc294c73721"
   },
   "outputs": [],
   "source": [
    "sc.tl.rank_genes_groups(adata, 'leiden', method = 'wilcoxon')\n",
    "sc.pl.rank_genes_groups(adata, n_genes = 25, sharey = False)"
   ]
  },
  {
   "cell_type": "markdown",
   "metadata": {
    "id": "rt-TbQrdZoXa"
   },
   "source": [
    "View the expression of top 8 marker genes for cluster 1"
   ]
  },
  {
   "cell_type": "code",
   "execution_count": null,
   "metadata": {
    "colab": {
     "base_uri": "https://localhost:8080/",
     "height": 317
    },
    "id": "N47GZib4ZnTF",
    "outputId": "77aa6e2b-258e-4e48-81b6-9e3d7b21921e"
   },
   "outputs": [],
   "source": [
    "sc.pl.rank_genes_groups_violin(adata, groups = '1', n_genes = 8)"
   ]
  },
  {
   "cell_type": "markdown",
   "metadata": {
    "id": "fgxx9KALZ1eD"
   },
   "source": [
    "Compare gene expression across clusters"
   ]
  },
  {
   "cell_type": "code",
   "execution_count": null,
   "metadata": {
    "colab": {
     "base_uri": "https://localhost:8080/",
     "height": 186
    },
    "id": "NjOTZQ0FZ16k",
    "outputId": "23ec5dbf-83d1-4bb2-d20b-f23db74f6528"
   },
   "outputs": [],
   "source": [
    "sc.pl.violin(adata, ['CST3', 'NKG7', 'PPBP'], groupby = 'leiden')"
   ]
  },
  {
   "cell_type": "markdown",
   "metadata": {
    "id": "IxNuBwY1aF2o"
   },
   "source": [
    "Summarize marker genes using *dot plot*\n",
    "* Color indicates expression level\n",
    "* Circle size indicates % of cell expressing that marker"
   ]
  },
  {
   "cell_type": "code",
   "execution_count": null,
   "metadata": {
    "colab": {
     "base_uri": "https://localhost:8080/",
     "height": 317
    },
    "id": "5_PjMZ63aFSW",
    "outputId": "6554dd7c-5ba9-48a7-ed98-863f7410dc49"
   },
   "outputs": [],
   "source": [
    "marker_genes = ['IL7R', 'CST3', 'LYZ', 'CD14',\n",
    "                'LGALS3', 'S100A8', 'CD79A', 'MS4A1', \n",
    "                'CD8A', 'CD8B', 'NKG7', 'GNLY', \n",
    "                'FCGR3A', 'MS4A7', 'FCER1A', 'PTP4A3',\n",
    "                'ISG15', 'IFI6', 'PPBP']\n",
    "\n",
    "sc.pl.dotplot(adata, marker_genes, groupby = 'leiden', vmax = 5);"
   ]
  },
  {
   "cell_type": "markdown",
   "metadata": {
    "id": "EP1X54iBb4uz"
   },
   "source": [
    "## Data integration\n",
    "We will combine two PBMC datasets"
   ]
  },
  {
   "cell_type": "code",
   "execution_count": null,
   "metadata": {
    "colab": {
     "base_uri": "https://localhost:8080/",
     "height": 49,
     "referenced_widgets": [
      "cd01b06ecc874f7e8df1f0640ea8c0e4",
      "01134d19997746d1974ed063abfd6f74",
      "eebcfa7dd57d40bebe7195ef4d396312",
      "8979112d142e4ca28613d42aba42eaf7",
      "2b889fd86d5d40eb90154fba9148b715",
      "b93c16f34bc249fdb3c91c46de2e33dc",
      "9a20350eb1724209a75bf9b422557c73",
      "2a4d64fcaf0b4fe08a2a5044e4b00148",
      "cb008cd515ec4967a5f50a40c80bbbf3",
      "604a1d359c4543bdb49a5b1e3a7beb7c",
      "d72bb3a5d9a24272b9bb55e7ee85e719"
     ]
    },
    "id": "93eeL-psb5C8",
    "outputId": "8c0667e1-54c2-48e0-8db8-995256ac1000"
   },
   "outputs": [],
   "source": [
    "adata_ref = sc.datasets.pbmc3k_processed()  # This is an annotated version of the PBMC dataset above\n",
    "adata = sc.datasets.pbmc68k_reduced()"
   ]
  },
  {
   "cell_type": "markdown",
   "metadata": {
    "id": "iNToiwbNb5Sf"
   },
   "source": [
    "Identify overlapping gene sets"
   ]
  },
  {
   "cell_type": "code",
   "execution_count": null,
   "metadata": {
    "id": "QixuTRM2b5at"
   },
   "outputs": [],
   "source": [
    "var_names = adata_ref.var_names.intersection(adata.var_names)\n",
    "adata_ref = adata_ref[:, var_names]\n",
    "adata = adata[:, var_names]"
   ]
  },
  {
   "cell_type": "markdown",
   "metadata": {
    "id": "Ss2cgxCrdqk2"
   },
   "source": [
    "Visualize data before integration using UMAP"
   ]
  },
  {
   "cell_type": "code",
   "execution_count": null,
   "metadata": {
    "colab": {
     "base_uri": "https://localhost:8080/",
     "height": 338
    },
    "id": "LtJkPOmddqrt",
    "outputId": "1d9367e2-e273-417c-dc6d-3610362cc7ac"
   },
   "outputs": [],
   "source": [
    "adata_concat = adata_ref.concatenate(adata, batch_categories = ['reference', 'new batch'])\n",
    "sc.pl.umap(adata_concat, color=['batch'])"
   ]
  },
  {
   "cell_type": "markdown",
   "metadata": {
    "id": "aIatzQXUb5hG"
   },
   "source": [
    "Perform dimensionality reduction and clustering on the reference dataset (same as earlier)"
   ]
  },
  {
   "cell_type": "code",
   "execution_count": null,
   "metadata": {
    "id": "Z946XewPb5m3"
   },
   "outputs": [],
   "source": [
    "sc.tl.pca(adata_ref, svd_solver = 'arpack')\n",
    "sc.pp.neighbors(adata_ref, n_neighbors = 10, n_pcs = 40)\n",
    "sc.tl.leiden(adata_ref)\n",
    "sc.tl.paga(adata_ref)\n",
    "sc.pl.paga(adata_ref, plot = False)\n",
    "sc.tl.umap(adata_ref, init_pos = 'paga')"
   ]
  },
  {
   "cell_type": "markdown",
   "metadata": {
    "id": "v_FL1LnYb5s2"
   },
   "source": [
    "### One-way mapping"
   ]
  },
  {
   "cell_type": "code",
   "execution_count": null,
   "metadata": {
    "colab": {
     "base_uri": "https://localhost:8080/",
     "height": 338
    },
    "id": "41rpA_-Becf6",
    "outputId": "f1b044c9-e756-4b7a-e7eb-fdd53c6c8ec1"
   },
   "outputs": [],
   "source": [
    "sc.tl.ingest(adata, adata_ref, obs = 'leiden')\n",
    "adata_concat = adata_ref.concatenate(adata, batch_categories = ['reference', 'new batch'])\n",
    "sc.pl.umap(adata_concat, color=['batch'])"
   ]
  },
  {
   "cell_type": "markdown",
   "metadata": {
    "id": "EEGW399kenNe"
   },
   "source": [
    "### Mutual nearest neighbor"
   ]
  },
  {
   "cell_type": "code",
   "execution_count": null,
   "metadata": {
    "colab": {
     "base_uri": "https://localhost:8080/",
     "height": 270
    },
    "id": "LYbdvo7XenT4",
    "outputId": "3674a8bc-2c95-4aac-85f2-8097655f3826"
   },
   "outputs": [],
   "source": [
    "sc.tl.pca(adata_concat)\n",
    "sc.external.pp.bbknn(adata_concat, batch_key = 'batch')\n",
    "sc.tl.umap(adata_concat)\n",
    "sc.pl.umap(adata_concat, color = ['batch', 'leiden'], wspace = 0.3)"
   ]
  },
  {
   "cell_type": "markdown",
   "metadata": {
    "id": "xNzGIesmenZU"
   },
   "source": [
    "## Another data integration example\n",
    "Pancreas tissue sample with 14,693 cells"
   ]
  },
  {
   "cell_type": "code",
   "execution_count": null,
   "metadata": {
    "colab": {
     "base_uri": "https://localhost:8080/",
     "height": 230,
     "referenced_widgets": [
      "55f1ceedcd4d40fe8d82080a57a2972c",
      "863856eeef324a4991171032ed967423",
      "5b739a0d4f1d4b3e863348582c60332d",
      "a9d1f20af8eb48db8506b23b3729150c",
      "b2f30e5d71b04d0e81fec1d4473cc4c4",
      "dfb93ffb98dd4a00960ced5635c2a064",
      "dd1e4650e597473e970cdd931f40fcc4",
      "442ca91da9954a4eaa72915a05a069f1",
      "365250e8b73249bd93058320259ecff3",
      "2874bb189c984d6585d56233bd5d15b4",
      "312e7806b9f44b7b9c14f9af0a6d7a09"
     ]
    },
    "id": "uj-kZ8BTend_",
    "outputId": "97ce7a78-3f0f-49be-b62a-d7fe090ef2c0"
   },
   "outputs": [],
   "source": [
    "adata_all = sc.read('data/pancreas.h5ad', backup_url='https://www.dropbox.com/s/qj1jlm9w10wmt0u/pancreas.h5ad?dl=1')\n",
    "print('number of cells:', adata_all.shape[0])"
   ]
  },
  {
   "cell_type": "markdown",
   "metadata": {
    "id": "A_L67gDOeni7"
   },
   "source": [
    "Remove minority cell types"
   ]
  },
  {
   "cell_type": "code",
   "execution_count": null,
   "metadata": {
    "colab": {
     "base_uri": "https://localhost:8080/"
    },
    "id": "j9dQTx8wg86l",
    "outputId": "c919f99b-99fd-41f1-a0f5-4d627dd988ce"
   },
   "outputs": [],
   "source": [
    "counts = adata_all.obs.celltype.value_counts()\n",
    "counts"
   ]
  },
  {
   "cell_type": "code",
   "execution_count": null,
   "metadata": {
    "id": "y7dFrvnQenoD"
   },
   "outputs": [],
   "source": [
    "minority_classes = counts.index[-10:].tolist()\n",
    "minority_classes.append('not applicable')\n",
    "\n",
    "adata_all = adata_all[~adata_all.obs.celltype.isin(minority_classes)]"
   ]
  },
  {
   "cell_type": "markdown",
   "metadata": {
    "id": "IGCjqGSAhDxc"
   },
   "source": [
    "Before integration"
   ]
  },
  {
   "cell_type": "code",
   "execution_count": null,
   "metadata": {
    "colab": {
     "base_uri": "https://localhost:8080/",
     "height": 276
    },
    "id": "lzr8gM_rhD3Y",
    "outputId": "5f94238e-481e-46f4-c76f-327a58d136a5"
   },
   "outputs": [],
   "source": [
    "sc.pp.pca(adata_all)\n",
    "sc.pp.neighbors(adata_all)\n",
    "sc.tl.umap(adata_all)\n",
    "sc.pl.umap(adata_all, color = ['batch', 'celltype'], palette = sc.pl.palettes.vega_20_scanpy)"
   ]
  },
  {
   "cell_type": "markdown",
   "metadata": {
    "id": "SoashpRZhD9D"
   },
   "source": [
    "Integration using mutual nearest neighbor"
   ]
  },
  {
   "cell_type": "code",
   "execution_count": null,
   "metadata": {
    "colab": {
     "base_uri": "https://localhost:8080/",
     "height": 276
    },
    "id": "GOA453-BhECB",
    "outputId": "dc088d3a-ac77-47bb-93f0-e09590c12a9c"
   },
   "outputs": [],
   "source": [
    "sc.external.pp.bbknn(adata_all, batch_key = 'batch')\n",
    "sc.tl.umap(adata_all)\n",
    "sc.pl.umap(adata_all, color = ['batch', 'celltype'])"
   ]
  },
  {
   "cell_type": "markdown",
   "metadata": {
    "id": "Z20Ykf1pentC"
   },
   "source": [
    "Visualize distribution of batches"
   ]
  },
  {
   "cell_type": "code",
   "execution_count": null,
   "metadata": {
    "colab": {
     "base_uri": "https://localhost:8080/",
     "height": 812
    },
    "id": "wlVqVtIpenyX",
    "outputId": "2a8115c9-c01c-41b1-d4bf-97c76633b278"
   },
   "outputs": [],
   "source": [
    "for batch in ['1', '2', '3']:\n",
    "    sc.pl.umap(adata_all, color = 'batch', groups = [batch])"
   ]
  },
  {
   "cell_type": "markdown",
   "metadata": {
    "id": "08L9ia8zecZx"
   },
   "source": [
    "## Trajectory inference\n",
    "2,700 cells from myeloid and erythroid differentiation\n",
    "\n",
    "Use *diffusion* map to calculate transition probabilities between cells"
   ]
  },
  {
   "cell_type": "code",
   "execution_count": null,
   "metadata": {
    "colab": {
     "base_uri": "https://localhost:8080/",
     "height": 423,
     "referenced_widgets": [
      "1a4a5eb0e5114182a18f28a094b38c41",
      "29dabc90f4294dca84e826fbb8053150",
      "6fcd2b2d17ae41e4bd41c61d6648fbe7",
      "42d94403050140d2a39fa255298629b6",
      "0e2783eea6ab4dee8c83cc1a14569d4d",
      "e602d6b615da4fe18cee928d0bd87e8a",
      "407a62169f2e4fb59a46f65377fd4c4c",
      "6f760b7f8ed84372b82202beb1c88719",
      "add83fa91fb7449e92a1b955b30e0cf9",
      "b598cc101376490ab7d431acae3dc8a1",
      "618e9c0a70be4055990e6d686efb22c5"
     ]
    },
    "id": "SOuu_LiJjXgt",
    "outputId": "33421c37-7b8c-4f6d-9307-35b7b5082fcb"
   },
   "outputs": [],
   "source": [
    "adata = sc.datasets.paul15()\n",
    "\n",
    "sc.pp.recipe_zheng17(adata)\n",
    "sc.tl.pca(adata, svd_solver = 'arpack')\n",
    "sc.pp.neighbors(adata, n_neighbors = 4, n_pcs = 20)\n",
    "sc.tl.diffmap(adata)\n",
    "sc.pp.neighbors(adata, n_neighbors = 10, use_rep = 'X_diffmap')\n",
    "\n",
    "sc.tl.draw_graph(adata)\n",
    "sc.pl.draw_graph(adata, color = 'paul15_clusters', legend_loc = 'on data')"
   ]
  },
  {
   "cell_type": "markdown",
   "metadata": {
    "id": "ozvHHaHCjXnn"
   },
   "source": [
    "### Cluster-level trajectory\n",
    "Reconstruct cluster-to-cluster trajectory outline using [PAGA](https://genomebiology.biomedcentral.com/articles/10.1186/s13059-019-1663-x) algorithm"
   ]
  },
  {
   "cell_type": "code",
   "execution_count": null,
   "metadata": {
    "colab": {
     "base_uri": "https://localhost:8080/",
     "height": 353
    },
    "id": "cHmORBPHjXts",
    "outputId": "9b36d1af-4be0-4ae2-aa14-a406d71d7133"
   },
   "outputs": [],
   "source": [
    "sc.tl.leiden(adata, resolution = 1.0)\n",
    "sc.tl.paga(adata, groups = 'leiden')\n",
    "sc.pl.paga(adata, color = ['leiden', 'Hba-a2', 'Elane'])\n",
    "sc.pl.paga(adata, color=['Prss34', 'Itga2b', 'Cma1'])"
   ]
  },
  {
   "cell_type": "markdown",
   "metadata": {
    "id": "udhE6IxOjXyv"
   },
   "source": [
    "### Cell-level trajectory\n",
    "Use cluster-level connectivity as a template for placing individual cells"
   ]
  },
  {
   "cell_type": "code",
   "execution_count": null,
   "metadata": {
    "colab": {
     "base_uri": "https://localhost:8080/",
     "height": 214
    },
    "id": "zSXHDoMsjX4S",
    "outputId": "bde4f57a-f7ec-438b-92b9-54b496a29e87"
   },
   "outputs": [],
   "source": [
    "sc.tl.draw_graph(adata, init_pos = 'paga')\n",
    "sc.pl.draw_graph(adata, color = ['Elane', 'Itga2b', 'Hba-a2'])"
   ]
  },
  {
   "cell_type": "markdown",
   "metadata": {
    "id": "Jxo5qCerjX9k"
   },
   "source": []
  },
  {
   "cell_type": "code",
   "execution_count": null,
   "metadata": {
    "colab": {
     "base_uri": "https://localhost:8080/",
     "height": 261
    },
    "id": "x9VjiaMHjYDK",
    "outputId": "0739e49a-b4d4-4711-901a-83c0c3109942"
   },
   "outputs": [],
   "source": [
    "sc.pl.paga_compare(\n",
    "    adata, threshold = 0.03, title='', right_margin = 0.2, size = 10, edge_width_scale = 0.5,\n",
    "    legend_fontsize = 12, fontsize = 12, frameon = False, edges = True)"
   ]
  },
  {
   "cell_type": "markdown",
   "metadata": {
    "id": "4XwkZnK-mEtg"
   },
   "source": [
    "### Estimate pseudotime\n",
    "Use annotated stem cells as the origin (leiden cluster 2)"
   ]
  },
  {
   "cell_type": "code",
   "execution_count": null,
   "metadata": {
    "colab": {
     "base_uri": "https://localhost:8080/",
     "height": 282
    },
    "id": "nljXzPRMmEzT",
    "outputId": "304261fb-19b9-4caf-cfb9-928300dfcda4"
   },
   "outputs": [],
   "source": [
    "adata.uns['iroot'] = np.flatnonzero(adata.obs['leiden']  == '2')[0]\n",
    "sc.tl.dpt(adata)\n",
    "sc.pl.draw_graph(adata, color = ['dpt_pseudotime'])"
   ]
  },
  {
   "cell_type": "markdown",
   "metadata": {
    "id": "TiJZK6kimE4X"
   },
   "source": [
    "Diffusion map simplifies the developmental trajectory as one straight line"
   ]
  },
  {
   "cell_type": "code",
   "execution_count": null,
   "metadata": {
    "colab": {
     "base_uri": "https://localhost:8080/",
     "height": 282
    },
    "id": "0O-1cUAXmE9k",
    "outputId": "f4514b2f-2ceb-4dd4-df54-ec4bae3df145"
   },
   "outputs": [],
   "source": [
    "sc.pl.diffmap(adata[~np.isinf(adata.obs['dpt_pseudotime']), :], color = 'dpt_pseudotime')"
   ]
  }
 ],
 "metadata": {
  "colab": {
   "collapsed_sections": [],
   "provenance": []
  },
  "kernelspec": {
   "display_name": "Python 3 (ipykernel)",
   "language": "python",
   "name": "python3"
  },
  "language_info": {
   "codemirror_mode": {
    "name": "ipython",
    "version": 3
   },
   "file_extension": ".py",
   "mimetype": "text/x-python",
   "name": "python",
   "nbconvert_exporter": "python",
   "pygments_lexer": "ipython3",
   "version": "3.9.12"
  },
  "widgets": {
   "application/vnd.jupyter.widget-state+json": {
    "01134d19997746d1974ed063abfd6f74": {
     "model_module": "@jupyter-widgets/controls",
     "model_module_version": "1.5.0",
     "model_name": "HTMLModel",
     "state": {
      "_dom_classes": [],
      "_model_module": "@jupyter-widgets/controls",
      "_model_module_version": "1.5.0",
      "_model_name": "HTMLModel",
      "_view_count": null,
      "_view_module": "@jupyter-widgets/controls",
      "_view_module_version": "1.5.0",
      "_view_name": "HTMLView",
      "description": "",
      "description_tooltip": null,
      "layout": "IPY_MODEL_b93c16f34bc249fdb3c91c46de2e33dc",
      "placeholder": "​",
      "style": "IPY_MODEL_9a20350eb1724209a75bf9b422557c73",
      "value": "100%"
     }
    },
    "0e2783eea6ab4dee8c83cc1a14569d4d": {
     "model_module": "@jupyter-widgets/base",
     "model_module_version": "1.2.0",
     "model_name": "LayoutModel",
     "state": {
      "_model_module": "@jupyter-widgets/base",
      "_model_module_version": "1.2.0",
      "_model_name": "LayoutModel",
      "_view_count": null,
      "_view_module": "@jupyter-widgets/base",
      "_view_module_version": "1.2.0",
      "_view_name": "LayoutView",
      "align_content": null,
      "align_items": null,
      "align_self": null,
      "border": null,
      "bottom": null,
      "display": null,
      "flex": null,
      "flex_flow": null,
      "grid_area": null,
      "grid_auto_columns": null,
      "grid_auto_flow": null,
      "grid_auto_rows": null,
      "grid_column": null,
      "grid_gap": null,
      "grid_row": null,
      "grid_template_areas": null,
      "grid_template_columns": null,
      "grid_template_rows": null,
      "height": null,
      "justify_content": null,
      "justify_items": null,
      "left": null,
      "margin": null,
      "max_height": null,
      "max_width": null,
      "min_height": null,
      "min_width": null,
      "object_fit": null,
      "object_position": null,
      "order": null,
      "overflow": null,
      "overflow_x": null,
      "overflow_y": null,
      "padding": null,
      "right": null,
      "top": null,
      "visibility": null,
      "width": null
     }
    },
    "1a4a5eb0e5114182a18f28a094b38c41": {
     "model_module": "@jupyter-widgets/controls",
     "model_module_version": "1.5.0",
     "model_name": "HBoxModel",
     "state": {
      "_dom_classes": [],
      "_model_module": "@jupyter-widgets/controls",
      "_model_module_version": "1.5.0",
      "_model_name": "HBoxModel",
      "_view_count": null,
      "_view_module": "@jupyter-widgets/controls",
      "_view_module_version": "1.5.0",
      "_view_name": "HBoxView",
      "box_style": "",
      "children": [
       "IPY_MODEL_29dabc90f4294dca84e826fbb8053150",
       "IPY_MODEL_6fcd2b2d17ae41e4bd41c61d6648fbe7",
       "IPY_MODEL_42d94403050140d2a39fa255298629b6"
      ],
      "layout": "IPY_MODEL_0e2783eea6ab4dee8c83cc1a14569d4d"
     }
    },
    "2874bb189c984d6585d56233bd5d15b4": {
     "model_module": "@jupyter-widgets/base",
     "model_module_version": "1.2.0",
     "model_name": "LayoutModel",
     "state": {
      "_model_module": "@jupyter-widgets/base",
      "_model_module_version": "1.2.0",
      "_model_name": "LayoutModel",
      "_view_count": null,
      "_view_module": "@jupyter-widgets/base",
      "_view_module_version": "1.2.0",
      "_view_name": "LayoutView",
      "align_content": null,
      "align_items": null,
      "align_self": null,
      "border": null,
      "bottom": null,
      "display": null,
      "flex": null,
      "flex_flow": null,
      "grid_area": null,
      "grid_auto_columns": null,
      "grid_auto_flow": null,
      "grid_auto_rows": null,
      "grid_column": null,
      "grid_gap": null,
      "grid_row": null,
      "grid_template_areas": null,
      "grid_template_columns": null,
      "grid_template_rows": null,
      "height": null,
      "justify_content": null,
      "justify_items": null,
      "left": null,
      "margin": null,
      "max_height": null,
      "max_width": null,
      "min_height": null,
      "min_width": null,
      "object_fit": null,
      "object_position": null,
      "order": null,
      "overflow": null,
      "overflow_x": null,
      "overflow_y": null,
      "padding": null,
      "right": null,
      "top": null,
      "visibility": null,
      "width": null
     }
    },
    "29dabc90f4294dca84e826fbb8053150": {
     "model_module": "@jupyter-widgets/controls",
     "model_module_version": "1.5.0",
     "model_name": "HTMLModel",
     "state": {
      "_dom_classes": [],
      "_model_module": "@jupyter-widgets/controls",
      "_model_module_version": "1.5.0",
      "_model_name": "HTMLModel",
      "_view_count": null,
      "_view_module": "@jupyter-widgets/controls",
      "_view_module_version": "1.5.0",
      "_view_name": "HTMLView",
      "description": "",
      "description_tooltip": null,
      "layout": "IPY_MODEL_e602d6b615da4fe18cee928d0bd87e8a",
      "placeholder": "​",
      "style": "IPY_MODEL_407a62169f2e4fb59a46f65377fd4c4c",
      "value": "100%"
     }
    },
    "2a4d64fcaf0b4fe08a2a5044e4b00148": {
     "model_module": "@jupyter-widgets/base",
     "model_module_version": "1.2.0",
     "model_name": "LayoutModel",
     "state": {
      "_model_module": "@jupyter-widgets/base",
      "_model_module_version": "1.2.0",
      "_model_name": "LayoutModel",
      "_view_count": null,
      "_view_module": "@jupyter-widgets/base",
      "_view_module_version": "1.2.0",
      "_view_name": "LayoutView",
      "align_content": null,
      "align_items": null,
      "align_self": null,
      "border": null,
      "bottom": null,
      "display": null,
      "flex": null,
      "flex_flow": null,
      "grid_area": null,
      "grid_auto_columns": null,
      "grid_auto_flow": null,
      "grid_auto_rows": null,
      "grid_column": null,
      "grid_gap": null,
      "grid_row": null,
      "grid_template_areas": null,
      "grid_template_columns": null,
      "grid_template_rows": null,
      "height": null,
      "justify_content": null,
      "justify_items": null,
      "left": null,
      "margin": null,
      "max_height": null,
      "max_width": null,
      "min_height": null,
      "min_width": null,
      "object_fit": null,
      "object_position": null,
      "order": null,
      "overflow": null,
      "overflow_x": null,
      "overflow_y": null,
      "padding": null,
      "right": null,
      "top": null,
      "visibility": null,
      "width": null
     }
    },
    "2b889fd86d5d40eb90154fba9148b715": {
     "model_module": "@jupyter-widgets/base",
     "model_module_version": "1.2.0",
     "model_name": "LayoutModel",
     "state": {
      "_model_module": "@jupyter-widgets/base",
      "_model_module_version": "1.2.0",
      "_model_name": "LayoutModel",
      "_view_count": null,
      "_view_module": "@jupyter-widgets/base",
      "_view_module_version": "1.2.0",
      "_view_name": "LayoutView",
      "align_content": null,
      "align_items": null,
      "align_self": null,
      "border": null,
      "bottom": null,
      "display": null,
      "flex": null,
      "flex_flow": null,
      "grid_area": null,
      "grid_auto_columns": null,
      "grid_auto_flow": null,
      "grid_auto_rows": null,
      "grid_column": null,
      "grid_gap": null,
      "grid_row": null,
      "grid_template_areas": null,
      "grid_template_columns": null,
      "grid_template_rows": null,
      "height": null,
      "justify_content": null,
      "justify_items": null,
      "left": null,
      "margin": null,
      "max_height": null,
      "max_width": null,
      "min_height": null,
      "min_width": null,
      "object_fit": null,
      "object_position": null,
      "order": null,
      "overflow": null,
      "overflow_x": null,
      "overflow_y": null,
      "padding": null,
      "right": null,
      "top": null,
      "visibility": null,
      "width": null
     }
    },
    "312e7806b9f44b7b9c14f9af0a6d7a09": {
     "model_module": "@jupyter-widgets/controls",
     "model_module_version": "1.5.0",
     "model_name": "DescriptionStyleModel",
     "state": {
      "_model_module": "@jupyter-widgets/controls",
      "_model_module_version": "1.5.0",
      "_model_name": "DescriptionStyleModel",
      "_view_count": null,
      "_view_module": "@jupyter-widgets/base",
      "_view_module_version": "1.2.0",
      "_view_name": "StyleView",
      "description_width": ""
     }
    },
    "365250e8b73249bd93058320259ecff3": {
     "model_module": "@jupyter-widgets/controls",
     "model_module_version": "1.5.0",
     "model_name": "ProgressStyleModel",
     "state": {
      "_model_module": "@jupyter-widgets/controls",
      "_model_module_version": "1.5.0",
      "_model_name": "ProgressStyleModel",
      "_view_count": null,
      "_view_module": "@jupyter-widgets/base",
      "_view_module_version": "1.2.0",
      "_view_name": "StyleView",
      "bar_color": null,
      "description_width": ""
     }
    },
    "407a62169f2e4fb59a46f65377fd4c4c": {
     "model_module": "@jupyter-widgets/controls",
     "model_module_version": "1.5.0",
     "model_name": "DescriptionStyleModel",
     "state": {
      "_model_module": "@jupyter-widgets/controls",
      "_model_module_version": "1.5.0",
      "_model_name": "DescriptionStyleModel",
      "_view_count": null,
      "_view_module": "@jupyter-widgets/base",
      "_view_module_version": "1.2.0",
      "_view_name": "StyleView",
      "description_width": ""
     }
    },
    "42d94403050140d2a39fa255298629b6": {
     "model_module": "@jupyter-widgets/controls",
     "model_module_version": "1.5.0",
     "model_name": "HTMLModel",
     "state": {
      "_dom_classes": [],
      "_model_module": "@jupyter-widgets/controls",
      "_model_module_version": "1.5.0",
      "_model_name": "HTMLModel",
      "_view_count": null,
      "_view_module": "@jupyter-widgets/controls",
      "_view_module_version": "1.5.0",
      "_view_name": "HTMLView",
      "description": "",
      "description_tooltip": null,
      "layout": "IPY_MODEL_b598cc101376490ab7d431acae3dc8a1",
      "placeholder": "​",
      "style": "IPY_MODEL_618e9c0a70be4055990e6d686efb22c5",
      "value": " 9.82M/9.82M [00:03&lt;00:00, 4.57MB/s]"
     }
    },
    "442ca91da9954a4eaa72915a05a069f1": {
     "model_module": "@jupyter-widgets/base",
     "model_module_version": "1.2.0",
     "model_name": "LayoutModel",
     "state": {
      "_model_module": "@jupyter-widgets/base",
      "_model_module_version": "1.2.0",
      "_model_name": "LayoutModel",
      "_view_count": null,
      "_view_module": "@jupyter-widgets/base",
      "_view_module_version": "1.2.0",
      "_view_name": "LayoutView",
      "align_content": null,
      "align_items": null,
      "align_self": null,
      "border": null,
      "bottom": null,
      "display": null,
      "flex": null,
      "flex_flow": null,
      "grid_area": null,
      "grid_auto_columns": null,
      "grid_auto_flow": null,
      "grid_auto_rows": null,
      "grid_column": null,
      "grid_gap": null,
      "grid_row": null,
      "grid_template_areas": null,
      "grid_template_columns": null,
      "grid_template_rows": null,
      "height": null,
      "justify_content": null,
      "justify_items": null,
      "left": null,
      "margin": null,
      "max_height": null,
      "max_width": null,
      "min_height": null,
      "min_width": null,
      "object_fit": null,
      "object_position": null,
      "order": null,
      "overflow": null,
      "overflow_x": null,
      "overflow_y": null,
      "padding": null,
      "right": null,
      "top": null,
      "visibility": null,
      "width": null
     }
    },
    "55f1ceedcd4d40fe8d82080a57a2972c": {
     "model_module": "@jupyter-widgets/controls",
     "model_module_version": "1.5.0",
     "model_name": "HBoxModel",
     "state": {
      "_dom_classes": [],
      "_model_module": "@jupyter-widgets/controls",
      "_model_module_version": "1.5.0",
      "_model_name": "HBoxModel",
      "_view_count": null,
      "_view_module": "@jupyter-widgets/controls",
      "_view_module_version": "1.5.0",
      "_view_name": "HBoxView",
      "box_style": "",
      "children": [
       "IPY_MODEL_863856eeef324a4991171032ed967423",
       "IPY_MODEL_5b739a0d4f1d4b3e863348582c60332d",
       "IPY_MODEL_a9d1f20af8eb48db8506b23b3729150c"
      ],
      "layout": "IPY_MODEL_b2f30e5d71b04d0e81fec1d4473cc4c4"
     }
    },
    "5b739a0d4f1d4b3e863348582c60332d": {
     "model_module": "@jupyter-widgets/controls",
     "model_module_version": "1.5.0",
     "model_name": "FloatProgressModel",
     "state": {
      "_dom_classes": [],
      "_model_module": "@jupyter-widgets/controls",
      "_model_module_version": "1.5.0",
      "_model_name": "FloatProgressModel",
      "_view_count": null,
      "_view_module": "@jupyter-widgets/controls",
      "_view_module_version": "1.5.0",
      "_view_name": "ProgressView",
      "bar_style": "success",
      "description": "",
      "description_tooltip": null,
      "layout": "IPY_MODEL_442ca91da9954a4eaa72915a05a069f1",
      "max": 184846668,
      "min": 0,
      "orientation": "horizontal",
      "style": "IPY_MODEL_365250e8b73249bd93058320259ecff3",
      "value": 184846668
     }
    },
    "604a1d359c4543bdb49a5b1e3a7beb7c": {
     "model_module": "@jupyter-widgets/base",
     "model_module_version": "1.2.0",
     "model_name": "LayoutModel",
     "state": {
      "_model_module": "@jupyter-widgets/base",
      "_model_module_version": "1.2.0",
      "_model_name": "LayoutModel",
      "_view_count": null,
      "_view_module": "@jupyter-widgets/base",
      "_view_module_version": "1.2.0",
      "_view_name": "LayoutView",
      "align_content": null,
      "align_items": null,
      "align_self": null,
      "border": null,
      "bottom": null,
      "display": null,
      "flex": null,
      "flex_flow": null,
      "grid_area": null,
      "grid_auto_columns": null,
      "grid_auto_flow": null,
      "grid_auto_rows": null,
      "grid_column": null,
      "grid_gap": null,
      "grid_row": null,
      "grid_template_areas": null,
      "grid_template_columns": null,
      "grid_template_rows": null,
      "height": null,
      "justify_content": null,
      "justify_items": null,
      "left": null,
      "margin": null,
      "max_height": null,
      "max_width": null,
      "min_height": null,
      "min_width": null,
      "object_fit": null,
      "object_position": null,
      "order": null,
      "overflow": null,
      "overflow_x": null,
      "overflow_y": null,
      "padding": null,
      "right": null,
      "top": null,
      "visibility": null,
      "width": null
     }
    },
    "618e9c0a70be4055990e6d686efb22c5": {
     "model_module": "@jupyter-widgets/controls",
     "model_module_version": "1.5.0",
     "model_name": "DescriptionStyleModel",
     "state": {
      "_model_module": "@jupyter-widgets/controls",
      "_model_module_version": "1.5.0",
      "_model_name": "DescriptionStyleModel",
      "_view_count": null,
      "_view_module": "@jupyter-widgets/base",
      "_view_module_version": "1.2.0",
      "_view_name": "StyleView",
      "description_width": ""
     }
    },
    "6f760b7f8ed84372b82202beb1c88719": {
     "model_module": "@jupyter-widgets/base",
     "model_module_version": "1.2.0",
     "model_name": "LayoutModel",
     "state": {
      "_model_module": "@jupyter-widgets/base",
      "_model_module_version": "1.2.0",
      "_model_name": "LayoutModel",
      "_view_count": null,
      "_view_module": "@jupyter-widgets/base",
      "_view_module_version": "1.2.0",
      "_view_name": "LayoutView",
      "align_content": null,
      "align_items": null,
      "align_self": null,
      "border": null,
      "bottom": null,
      "display": null,
      "flex": null,
      "flex_flow": null,
      "grid_area": null,
      "grid_auto_columns": null,
      "grid_auto_flow": null,
      "grid_auto_rows": null,
      "grid_column": null,
      "grid_gap": null,
      "grid_row": null,
      "grid_template_areas": null,
      "grid_template_columns": null,
      "grid_template_rows": null,
      "height": null,
      "justify_content": null,
      "justify_items": null,
      "left": null,
      "margin": null,
      "max_height": null,
      "max_width": null,
      "min_height": null,
      "min_width": null,
      "object_fit": null,
      "object_position": null,
      "order": null,
      "overflow": null,
      "overflow_x": null,
      "overflow_y": null,
      "padding": null,
      "right": null,
      "top": null,
      "visibility": null,
      "width": null
     }
    },
    "6fcd2b2d17ae41e4bd41c61d6648fbe7": {
     "model_module": "@jupyter-widgets/controls",
     "model_module_version": "1.5.0",
     "model_name": "FloatProgressModel",
     "state": {
      "_dom_classes": [],
      "_model_module": "@jupyter-widgets/controls",
      "_model_module_version": "1.5.0",
      "_model_name": "FloatProgressModel",
      "_view_count": null,
      "_view_module": "@jupyter-widgets/controls",
      "_view_module_version": "1.5.0",
      "_view_name": "ProgressView",
      "bar_style": "success",
      "description": "",
      "description_tooltip": null,
      "layout": "IPY_MODEL_6f760b7f8ed84372b82202beb1c88719",
      "max": 10297693,
      "min": 0,
      "orientation": "horizontal",
      "style": "IPY_MODEL_add83fa91fb7449e92a1b955b30e0cf9",
      "value": 10297693
     }
    },
    "863856eeef324a4991171032ed967423": {
     "model_module": "@jupyter-widgets/controls",
     "model_module_version": "1.5.0",
     "model_name": "HTMLModel",
     "state": {
      "_dom_classes": [],
      "_model_module": "@jupyter-widgets/controls",
      "_model_module_version": "1.5.0",
      "_model_name": "HTMLModel",
      "_view_count": null,
      "_view_module": "@jupyter-widgets/controls",
      "_view_module_version": "1.5.0",
      "_view_name": "HTMLView",
      "description": "",
      "description_tooltip": null,
      "layout": "IPY_MODEL_dfb93ffb98dd4a00960ced5635c2a064",
      "placeholder": "​",
      "style": "IPY_MODEL_dd1e4650e597473e970cdd931f40fcc4",
      "value": "100%"
     }
    },
    "8979112d142e4ca28613d42aba42eaf7": {
     "model_module": "@jupyter-widgets/controls",
     "model_module_version": "1.5.0",
     "model_name": "HTMLModel",
     "state": {
      "_dom_classes": [],
      "_model_module": "@jupyter-widgets/controls",
      "_model_module_version": "1.5.0",
      "_model_name": "HTMLModel",
      "_view_count": null,
      "_view_module": "@jupyter-widgets/controls",
      "_view_module_version": "1.5.0",
      "_view_name": "HTMLView",
      "description": "",
      "description_tooltip": null,
      "layout": "IPY_MODEL_604a1d359c4543bdb49a5b1e3a7beb7c",
      "placeholder": "​",
      "style": "IPY_MODEL_d72bb3a5d9a24272b9bb55e7ee85e719",
      "value": " 23.5M/23.5M [00:00&lt;00:00, 61.8MB/s]"
     }
    },
    "9a20350eb1724209a75bf9b422557c73": {
     "model_module": "@jupyter-widgets/controls",
     "model_module_version": "1.5.0",
     "model_name": "DescriptionStyleModel",
     "state": {
      "_model_module": "@jupyter-widgets/controls",
      "_model_module_version": "1.5.0",
      "_model_name": "DescriptionStyleModel",
      "_view_count": null,
      "_view_module": "@jupyter-widgets/base",
      "_view_module_version": "1.2.0",
      "_view_name": "StyleView",
      "description_width": ""
     }
    },
    "a9d1f20af8eb48db8506b23b3729150c": {
     "model_module": "@jupyter-widgets/controls",
     "model_module_version": "1.5.0",
     "model_name": "HTMLModel",
     "state": {
      "_dom_classes": [],
      "_model_module": "@jupyter-widgets/controls",
      "_model_module_version": "1.5.0",
      "_model_name": "HTMLModel",
      "_view_count": null,
      "_view_module": "@jupyter-widgets/controls",
      "_view_module_version": "1.5.0",
      "_view_name": "HTMLView",
      "description": "",
      "description_tooltip": null,
      "layout": "IPY_MODEL_2874bb189c984d6585d56233bd5d15b4",
      "placeholder": "​",
      "style": "IPY_MODEL_312e7806b9f44b7b9c14f9af0a6d7a09",
      "value": " 176M/176M [00:08&lt;00:00, 23.2MB/s]"
     }
    },
    "add83fa91fb7449e92a1b955b30e0cf9": {
     "model_module": "@jupyter-widgets/controls",
     "model_module_version": "1.5.0",
     "model_name": "ProgressStyleModel",
     "state": {
      "_model_module": "@jupyter-widgets/controls",
      "_model_module_version": "1.5.0",
      "_model_name": "ProgressStyleModel",
      "_view_count": null,
      "_view_module": "@jupyter-widgets/base",
      "_view_module_version": "1.2.0",
      "_view_name": "StyleView",
      "bar_color": null,
      "description_width": ""
     }
    },
    "b2f30e5d71b04d0e81fec1d4473cc4c4": {
     "model_module": "@jupyter-widgets/base",
     "model_module_version": "1.2.0",
     "model_name": "LayoutModel",
     "state": {
      "_model_module": "@jupyter-widgets/base",
      "_model_module_version": "1.2.0",
      "_model_name": "LayoutModel",
      "_view_count": null,
      "_view_module": "@jupyter-widgets/base",
      "_view_module_version": "1.2.0",
      "_view_name": "LayoutView",
      "align_content": null,
      "align_items": null,
      "align_self": null,
      "border": null,
      "bottom": null,
      "display": null,
      "flex": null,
      "flex_flow": null,
      "grid_area": null,
      "grid_auto_columns": null,
      "grid_auto_flow": null,
      "grid_auto_rows": null,
      "grid_column": null,
      "grid_gap": null,
      "grid_row": null,
      "grid_template_areas": null,
      "grid_template_columns": null,
      "grid_template_rows": null,
      "height": null,
      "justify_content": null,
      "justify_items": null,
      "left": null,
      "margin": null,
      "max_height": null,
      "max_width": null,
      "min_height": null,
      "min_width": null,
      "object_fit": null,
      "object_position": null,
      "order": null,
      "overflow": null,
      "overflow_x": null,
      "overflow_y": null,
      "padding": null,
      "right": null,
      "top": null,
      "visibility": null,
      "width": null
     }
    },
    "b598cc101376490ab7d431acae3dc8a1": {
     "model_module": "@jupyter-widgets/base",
     "model_module_version": "1.2.0",
     "model_name": "LayoutModel",
     "state": {
      "_model_module": "@jupyter-widgets/base",
      "_model_module_version": "1.2.0",
      "_model_name": "LayoutModel",
      "_view_count": null,
      "_view_module": "@jupyter-widgets/base",
      "_view_module_version": "1.2.0",
      "_view_name": "LayoutView",
      "align_content": null,
      "align_items": null,
      "align_self": null,
      "border": null,
      "bottom": null,
      "display": null,
      "flex": null,
      "flex_flow": null,
      "grid_area": null,
      "grid_auto_columns": null,
      "grid_auto_flow": null,
      "grid_auto_rows": null,
      "grid_column": null,
      "grid_gap": null,
      "grid_row": null,
      "grid_template_areas": null,
      "grid_template_columns": null,
      "grid_template_rows": null,
      "height": null,
      "justify_content": null,
      "justify_items": null,
      "left": null,
      "margin": null,
      "max_height": null,
      "max_width": null,
      "min_height": null,
      "min_width": null,
      "object_fit": null,
      "object_position": null,
      "order": null,
      "overflow": null,
      "overflow_x": null,
      "overflow_y": null,
      "padding": null,
      "right": null,
      "top": null,
      "visibility": null,
      "width": null
     }
    },
    "b93c16f34bc249fdb3c91c46de2e33dc": {
     "model_module": "@jupyter-widgets/base",
     "model_module_version": "1.2.0",
     "model_name": "LayoutModel",
     "state": {
      "_model_module": "@jupyter-widgets/base",
      "_model_module_version": "1.2.0",
      "_model_name": "LayoutModel",
      "_view_count": null,
      "_view_module": "@jupyter-widgets/base",
      "_view_module_version": "1.2.0",
      "_view_name": "LayoutView",
      "align_content": null,
      "align_items": null,
      "align_self": null,
      "border": null,
      "bottom": null,
      "display": null,
      "flex": null,
      "flex_flow": null,
      "grid_area": null,
      "grid_auto_columns": null,
      "grid_auto_flow": null,
      "grid_auto_rows": null,
      "grid_column": null,
      "grid_gap": null,
      "grid_row": null,
      "grid_template_areas": null,
      "grid_template_columns": null,
      "grid_template_rows": null,
      "height": null,
      "justify_content": null,
      "justify_items": null,
      "left": null,
      "margin": null,
      "max_height": null,
      "max_width": null,
      "min_height": null,
      "min_width": null,
      "object_fit": null,
      "object_position": null,
      "order": null,
      "overflow": null,
      "overflow_x": null,
      "overflow_y": null,
      "padding": null,
      "right": null,
      "top": null,
      "visibility": null,
      "width": null
     }
    },
    "cb008cd515ec4967a5f50a40c80bbbf3": {
     "model_module": "@jupyter-widgets/controls",
     "model_module_version": "1.5.0",
     "model_name": "ProgressStyleModel",
     "state": {
      "_model_module": "@jupyter-widgets/controls",
      "_model_module_version": "1.5.0",
      "_model_name": "ProgressStyleModel",
      "_view_count": null,
      "_view_module": "@jupyter-widgets/base",
      "_view_module_version": "1.2.0",
      "_view_name": "StyleView",
      "bar_color": null,
      "description_width": ""
     }
    },
    "cd01b06ecc874f7e8df1f0640ea8c0e4": {
     "model_module": "@jupyter-widgets/controls",
     "model_module_version": "1.5.0",
     "model_name": "HBoxModel",
     "state": {
      "_dom_classes": [],
      "_model_module": "@jupyter-widgets/controls",
      "_model_module_version": "1.5.0",
      "_model_name": "HBoxModel",
      "_view_count": null,
      "_view_module": "@jupyter-widgets/controls",
      "_view_module_version": "1.5.0",
      "_view_name": "HBoxView",
      "box_style": "",
      "children": [
       "IPY_MODEL_01134d19997746d1974ed063abfd6f74",
       "IPY_MODEL_eebcfa7dd57d40bebe7195ef4d396312",
       "IPY_MODEL_8979112d142e4ca28613d42aba42eaf7"
      ],
      "layout": "IPY_MODEL_2b889fd86d5d40eb90154fba9148b715"
     }
    },
    "d72bb3a5d9a24272b9bb55e7ee85e719": {
     "model_module": "@jupyter-widgets/controls",
     "model_module_version": "1.5.0",
     "model_name": "DescriptionStyleModel",
     "state": {
      "_model_module": "@jupyter-widgets/controls",
      "_model_module_version": "1.5.0",
      "_model_name": "DescriptionStyleModel",
      "_view_count": null,
      "_view_module": "@jupyter-widgets/base",
      "_view_module_version": "1.2.0",
      "_view_name": "StyleView",
      "description_width": ""
     }
    },
    "dd1e4650e597473e970cdd931f40fcc4": {
     "model_module": "@jupyter-widgets/controls",
     "model_module_version": "1.5.0",
     "model_name": "DescriptionStyleModel",
     "state": {
      "_model_module": "@jupyter-widgets/controls",
      "_model_module_version": "1.5.0",
      "_model_name": "DescriptionStyleModel",
      "_view_count": null,
      "_view_module": "@jupyter-widgets/base",
      "_view_module_version": "1.2.0",
      "_view_name": "StyleView",
      "description_width": ""
     }
    },
    "dfb93ffb98dd4a00960ced5635c2a064": {
     "model_module": "@jupyter-widgets/base",
     "model_module_version": "1.2.0",
     "model_name": "LayoutModel",
     "state": {
      "_model_module": "@jupyter-widgets/base",
      "_model_module_version": "1.2.0",
      "_model_name": "LayoutModel",
      "_view_count": null,
      "_view_module": "@jupyter-widgets/base",
      "_view_module_version": "1.2.0",
      "_view_name": "LayoutView",
      "align_content": null,
      "align_items": null,
      "align_self": null,
      "border": null,
      "bottom": null,
      "display": null,
      "flex": null,
      "flex_flow": null,
      "grid_area": null,
      "grid_auto_columns": null,
      "grid_auto_flow": null,
      "grid_auto_rows": null,
      "grid_column": null,
      "grid_gap": null,
      "grid_row": null,
      "grid_template_areas": null,
      "grid_template_columns": null,
      "grid_template_rows": null,
      "height": null,
      "justify_content": null,
      "justify_items": null,
      "left": null,
      "margin": null,
      "max_height": null,
      "max_width": null,
      "min_height": null,
      "min_width": null,
      "object_fit": null,
      "object_position": null,
      "order": null,
      "overflow": null,
      "overflow_x": null,
      "overflow_y": null,
      "padding": null,
      "right": null,
      "top": null,
      "visibility": null,
      "width": null
     }
    },
    "e602d6b615da4fe18cee928d0bd87e8a": {
     "model_module": "@jupyter-widgets/base",
     "model_module_version": "1.2.0",
     "model_name": "LayoutModel",
     "state": {
      "_model_module": "@jupyter-widgets/base",
      "_model_module_version": "1.2.0",
      "_model_name": "LayoutModel",
      "_view_count": null,
      "_view_module": "@jupyter-widgets/base",
      "_view_module_version": "1.2.0",
      "_view_name": "LayoutView",
      "align_content": null,
      "align_items": null,
      "align_self": null,
      "border": null,
      "bottom": null,
      "display": null,
      "flex": null,
      "flex_flow": null,
      "grid_area": null,
      "grid_auto_columns": null,
      "grid_auto_flow": null,
      "grid_auto_rows": null,
      "grid_column": null,
      "grid_gap": null,
      "grid_row": null,
      "grid_template_areas": null,
      "grid_template_columns": null,
      "grid_template_rows": null,
      "height": null,
      "justify_content": null,
      "justify_items": null,
      "left": null,
      "margin": null,
      "max_height": null,
      "max_width": null,
      "min_height": null,
      "min_width": null,
      "object_fit": null,
      "object_position": null,
      "order": null,
      "overflow": null,
      "overflow_x": null,
      "overflow_y": null,
      "padding": null,
      "right": null,
      "top": null,
      "visibility": null,
      "width": null
     }
    },
    "eebcfa7dd57d40bebe7195ef4d396312": {
     "model_module": "@jupyter-widgets/controls",
     "model_module_version": "1.5.0",
     "model_name": "FloatProgressModel",
     "state": {
      "_dom_classes": [],
      "_model_module": "@jupyter-widgets/controls",
      "_model_module_version": "1.5.0",
      "_model_name": "FloatProgressModel",
      "_view_count": null,
      "_view_module": "@jupyter-widgets/controls",
      "_view_module_version": "1.5.0",
      "_view_name": "ProgressView",
      "bar_style": "success",
      "description": "",
      "description_tooltip": null,
      "layout": "IPY_MODEL_2a4d64fcaf0b4fe08a2a5044e4b00148",
      "max": 24653425,
      "min": 0,
      "orientation": "horizontal",
      "style": "IPY_MODEL_cb008cd515ec4967a5f50a40c80bbbf3",
      "value": 24653425
     }
    }
   }
  }
 },
 "nbformat": 4,
 "nbformat_minor": 1
}
