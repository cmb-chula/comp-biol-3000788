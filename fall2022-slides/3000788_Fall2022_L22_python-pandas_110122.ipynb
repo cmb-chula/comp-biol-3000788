{
 "cells": [
  {
   "cell_type": "markdown",
   "id": "public-storm",
   "metadata": {},
   "source": [
    "## Data handling\n",
    "Visit [this](https://pandas.pydata.org/pandas-docs/stable/) for more in-depth resources and guides\n",
    "\n",
    "### First, import the pandas library\n",
    "Import **as** lets us abbreviate the library name\n",
    "\n",
    "Also import **numpy** for its mathematical functionality"
   ]
  },
  {
   "cell_type": "code",
   "execution_count": 5,
   "id": "indoor-escape",
   "metadata": {},
   "outputs": [],
   "source": [
    "import pandas as pd\n",
    "import numpy as np"
   ]
  },
  {
   "cell_type": "markdown",
   "id": "periodic-lender",
   "metadata": {},
   "source": [
    "## If you encounter error message like\n",
    "* ImportError: Missing optional dependency 'xlrd'. Install xlrd >= 1.0.0 for Excel support Use pip or conda to install xlrd\n",
    "  \n",
    "Then, follow the instruction to install missing library with this command template\n",
    "\n",
    "**!pip install _missing-lib-name_**"
   ]
  },
  {
   "cell_type": "code",
   "execution_count": null,
   "id": "blocked-mistress",
   "metadata": {},
   "outputs": [],
   "source": [
    "# !pip install xlrd openpyxl"
   ]
  },
  {
   "cell_type": "markdown",
   "id": "continuing-belize",
   "metadata": {},
   "source": [
    "## Tip 1: When in doubt, print()"
   ]
  },
  {
   "cell_type": "code",
   "execution_count": null,
   "id": "checked-hawaii",
   "metadata": {},
   "outputs": [],
   "source": [
    "x = 5\n",
    "y = 5 ** 2\n",
    "\n",
    "print(y)\n",
    "print(x, x ** 2, x ** 5)\n",
    "print(\"the value of\", x, 'to the power of 6 is', x ** 6)"
   ]
  },
  {
   "cell_type": "code",
   "execution_count": null,
   "id": "rental-platinum",
   "metadata": {},
   "outputs": [],
   "source": [
    "s = 'hello world'\n",
    "\n",
    "print(s)\n",
    "print(s + ' to everyone')"
   ]
  },
  {
   "cell_type": "markdown",
   "id": "faced-resolution",
   "metadata": {},
   "source": [
    "## Python data structures\n",
    "* list\n",
    "* tuple - a list that cannot be changed\n",
    "* dictionary - a mapping of **key** to **value**"
   ]
  },
  {
   "cell_type": "code",
   "execution_count": 2,
   "id": "incoming-argentina",
   "metadata": {},
   "outputs": [],
   "source": [
    "a_list = [0.1, 0.2, 0.3, 0.4, 0.5, 0.6]\n",
    "a_tuple = (0.1, 0.2, 0.3, 0.4, 0.5, 0.6)\n",
    "a_dict = {'phone':'081-000-0180', \n",
    "          'email':['abc@gmail.com', 'ab.c@chula.ac.th'],\n",
    "          'age':46}"
   ]
  },
  {
   "cell_type": "code",
   "execution_count": 3,
   "id": "through-jordan",
   "metadata": {},
   "outputs": [
    {
     "data": {
      "text/plain": [
       "['abc@gmail.com', 'ab.c@chula.ac.th']"
      ]
     },
     "execution_count": 3,
     "metadata": {},
     "output_type": "execute_result"
    }
   ],
   "source": [
    "a_dict['email']"
   ]
  },
  {
   "cell_type": "markdown",
   "id": "modular-bidding",
   "metadata": {},
   "source": [
    "## Accessing entries in list, tuple, and dictionary"
   ]
  },
  {
   "cell_type": "code",
   "execution_count": 4,
   "id": "adaptive-waterproof",
   "metadata": {},
   "outputs": [
    {
     "name": "stdout",
     "output_type": "stream",
     "text": [
      "0.1\n",
      "0.2\n",
      "46\n"
     ]
    }
   ],
   "source": [
    "print(a_list[0])\n",
    "print(a_tuple[1])\n",
    "print(a_dict['age'])"
   ]
  },
  {
   "cell_type": "markdown",
   "id": "reserved-cigarette",
   "metadata": {},
   "source": [
    "## Accessing multiple entries at once"
   ]
  },
  {
   "cell_type": "code",
   "execution_count": 5,
   "id": "spectacular-triple",
   "metadata": {},
   "outputs": [
    {
     "name": "stdout",
     "output_type": "stream",
     "text": [
      "[0.3, 0.4, 0.5, 0.6]\n",
      "(0.3, 0.4, 0.5, 0.6)\n"
     ]
    }
   ],
   "source": [
    "print(a_list[2:])\n",
    "print(a_tuple[-4:])"
   ]
  },
  {
   "cell_type": "code",
   "execution_count": 6,
   "id": "automotive-district",
   "metadata": {},
   "outputs": [
    {
     "name": "stdout",
     "output_type": "stream",
     "text": [
      "[0.6, 0.5, 0.4, 0.3, 0.2, 0.1]\n"
     ]
    }
   ],
   "source": [
    "# print(a_list[1:4:2])\n",
    "print(a_list[::-1])"
   ]
  },
  {
   "cell_type": "markdown",
   "id": "configured-dylan",
   "metadata": {},
   "source": [
    "## Changing entries in list and dictionary"
   ]
  },
  {
   "cell_type": "code",
   "execution_count": 7,
   "id": "mobile-league",
   "metadata": {},
   "outputs": [],
   "source": [
    "a_list[2] = 10\n",
    "a_dict['age'] = 18"
   ]
  },
  {
   "cell_type": "code",
   "execution_count": 8,
   "id": "civil-exhaust",
   "metadata": {},
   "outputs": [
    {
     "name": "stdout",
     "output_type": "stream",
     "text": [
      "[0.1, 0.2, 10, 0.4, 0.5, 0.6]\n",
      "18\n"
     ]
    }
   ],
   "source": [
    "print(a_list)\n",
    "print(a_dict['age'])"
   ]
  },
  {
   "cell_type": "markdown",
   "id": "brilliant-period",
   "metadata": {},
   "source": [
    "## Entries in tuple cannot be changed\n",
    "What could tuple be used for?"
   ]
  },
  {
   "cell_type": "code",
   "execution_count": 9,
   "id": "heard-coalition",
   "metadata": {
    "scrolled": true
   },
   "outputs": [
    {
     "ename": "TypeError",
     "evalue": "'tuple' object does not support item assignment",
     "output_type": "error",
     "traceback": [
      "\u001b[0;31m---------------------------------------------------------------------------\u001b[0m",
      "\u001b[0;31mTypeError\u001b[0m                                 Traceback (most recent call last)",
      "Cell \u001b[0;32mIn [9], line 1\u001b[0m\n\u001b[0;32m----> 1\u001b[0m \u001b[43ma_tuple\u001b[49m\u001b[43m[\u001b[49m\u001b[38;5;241;43m1\u001b[39;49m\u001b[43m]\u001b[49m \u001b[38;5;241m=\u001b[39m \u001b[38;5;241m2\u001b[39m\n",
      "\u001b[0;31mTypeError\u001b[0m: 'tuple' object does not support item assignment"
     ]
    }
   ],
   "source": [
    "a_tuple[1] = 2"
   ]
  },
  {
   "cell_type": "markdown",
   "id": "internal-blackjack",
   "metadata": {},
   "source": [
    "## Locating an entry by value"
   ]
  },
  {
   "cell_type": "code",
   "execution_count": 10,
   "id": "martial-restriction",
   "metadata": {},
   "outputs": [
    {
     "data": {
      "text/plain": [
       "4"
      ]
     },
     "execution_count": 10,
     "metadata": {},
     "output_type": "execute_result"
    }
   ],
   "source": [
    "a_list.index(0.5)"
   ]
  },
  {
   "cell_type": "code",
   "execution_count": 11,
   "id": "hindu-massachusetts",
   "metadata": {},
   "outputs": [
    {
     "ename": "ValueError",
     "evalue": "0 is not in list",
     "output_type": "error",
     "traceback": [
      "\u001b[0;31m---------------------------------------------------------------------------\u001b[0m",
      "\u001b[0;31mValueError\u001b[0m                                Traceback (most recent call last)",
      "Cell \u001b[0;32mIn [11], line 1\u001b[0m\n\u001b[0;32m----> 1\u001b[0m \u001b[43ma_list\u001b[49m\u001b[38;5;241;43m.\u001b[39;49m\u001b[43mindex\u001b[49m\u001b[43m(\u001b[49m\u001b[38;5;241;43m0\u001b[39;49m\u001b[43m)\u001b[49m\n",
      "\u001b[0;31mValueError\u001b[0m: 0 is not in list"
     ]
    }
   ],
   "source": [
    "a_list.index(0)"
   ]
  },
  {
   "cell_type": "markdown",
   "id": "african-discipline",
   "metadata": {},
   "source": [
    "## Pandas can read in txt, tsv, csv, and even excel files\n",
    "For excel file with multiple sheets, we can read specific sheet using **sheet_name** parameter\n",
    "\n",
    "**head()** is used to preview the top rows of the data frame"
   ]
  },
  {
   "cell_type": "code",
   "execution_count": 6,
   "id": "spatial-education",
   "metadata": {},
   "outputs": [
    {
     "data": {
      "text/html": [
       "<div>\n",
       "<style scoped>\n",
       "    .dataframe tbody tr th:only-of-type {\n",
       "        vertical-align: middle;\n",
       "    }\n",
       "\n",
       "    .dataframe tbody tr th {\n",
       "        vertical-align: top;\n",
       "    }\n",
       "\n",
       "    .dataframe thead th {\n",
       "        text-align: right;\n",
       "    }\n",
       "</style>\n",
       "<table border=\"1\" class=\"dataframe\">\n",
       "  <thead>\n",
       "    <tr style=\"text-align: right;\">\n",
       "      <th></th>\n",
       "      <th>FAP</th>\n",
       "      <th>SLC5A6</th>\n",
       "      <th>GFPT2</th>\n",
       "      <th>ASCL2</th>\n",
       "      <th>TSPAN6</th>\n",
       "      <th>CCDC80</th>\n",
       "      <th>DUSP4</th>\n",
       "      <th>EFEMP2</th>\n",
       "      <th>TRIM7</th>\n",
       "      <th>DCN</th>\n",
       "      <th>AGR2</th>\n",
       "      <th>REG4</th>\n",
       "      <th>TUBB6</th>\n",
       "      <th>POFUT1</th>\n",
       "      <th>RETNLB</th>\n",
       "      <th>CMS</th>\n",
       "    </tr>\n",
       "    <tr>\n",
       "      <th>SampleID</th>\n",
       "      <th></th>\n",
       "      <th></th>\n",
       "      <th></th>\n",
       "      <th></th>\n",
       "      <th></th>\n",
       "      <th></th>\n",
       "      <th></th>\n",
       "      <th></th>\n",
       "      <th></th>\n",
       "      <th></th>\n",
       "      <th></th>\n",
       "      <th></th>\n",
       "      <th></th>\n",
       "      <th></th>\n",
       "      <th></th>\n",
       "      <th></th>\n",
       "    </tr>\n",
       "  </thead>\n",
       "  <tbody>\n",
       "    <tr>\n",
       "      <th>Patient1</th>\n",
       "      <td>5.317879</td>\n",
       "      <td>7.521597</td>\n",
       "      <td>5.458581</td>\n",
       "      <td>7.873975</td>\n",
       "      <td>6.777987</td>\n",
       "      <td>5.148662</td>\n",
       "      <td>6.372153</td>\n",
       "      <td>6.495578</td>\n",
       "      <td>5.361258</td>\n",
       "      <td>7.529628</td>\n",
       "      <td>9.910427</td>\n",
       "      <td>6.563663</td>\n",
       "      <td>6.467622</td>\n",
       "      <td>6.556573</td>\n",
       "      <td>5.782625</td>\n",
       "      <td>CMS1</td>\n",
       "    </tr>\n",
       "    <tr>\n",
       "      <th>Patient2</th>\n",
       "      <td>5.462626</td>\n",
       "      <td>7.613383</td>\n",
       "      <td>3.996901</td>\n",
       "      <td>7.036830</td>\n",
       "      <td>7.610739</td>\n",
       "      <td>5.583870</td>\n",
       "      <td>6.889211</td>\n",
       "      <td>6.049421</td>\n",
       "      <td>6.075198</td>\n",
       "      <td>7.027278</td>\n",
       "      <td>8.972537</td>\n",
       "      <td>5.544412</td>\n",
       "      <td>6.861825</td>\n",
       "      <td>5.765743</td>\n",
       "      <td>4.195767</td>\n",
       "      <td>CMS1</td>\n",
       "    </tr>\n",
       "  </tbody>\n",
       "</table>\n",
       "</div>"
      ],
      "text/plain": [
       "               FAP    SLC5A6     GFPT2     ASCL2    TSPAN6    CCDC80  \\\n",
       "SampleID                                                               \n",
       "Patient1  5.317879  7.521597  5.458581  7.873975  6.777987  5.148662   \n",
       "Patient2  5.462626  7.613383  3.996901  7.036830  7.610739  5.583870   \n",
       "\n",
       "             DUSP4    EFEMP2     TRIM7       DCN      AGR2      REG4  \\\n",
       "SampleID                                                               \n",
       "Patient1  6.372153  6.495578  5.361258  7.529628  9.910427  6.563663   \n",
       "Patient2  6.889211  6.049421  6.075198  7.027278  8.972537  5.544412   \n",
       "\n",
       "             TUBB6    POFUT1    RETNLB   CMS  \n",
       "SampleID                                      \n",
       "Patient1  6.467622  6.556573  5.782625  CMS1  \n",
       "Patient2  6.861825  5.765743  4.195767  CMS1  "
      ]
     },
     "execution_count": 6,
     "metadata": {},
     "output_type": "execute_result"
    }
   ],
   "source": [
    "data = pd.read_excel('CRC_sample_data.xlsx', sheet_name = 'expression', index_col = 0)\n",
    "data.head(2)"
   ]
  },
  {
   "cell_type": "markdown",
   "id": "ultimate-franklin",
   "metadata": {},
   "source": [
    "**tail()** shows the bottom rows of the data frame"
   ]
  },
  {
   "cell_type": "code",
   "execution_count": 17,
   "id": "respective-school",
   "metadata": {},
   "outputs": [
    {
     "data": {
      "text/html": [
       "<div>\n",
       "<style scoped>\n",
       "    .dataframe tbody tr th:only-of-type {\n",
       "        vertical-align: middle;\n",
       "    }\n",
       "\n",
       "    .dataframe tbody tr th {\n",
       "        vertical-align: top;\n",
       "    }\n",
       "\n",
       "    .dataframe thead th {\n",
       "        text-align: right;\n",
       "    }\n",
       "</style>\n",
       "<table border=\"1\" class=\"dataframe\">\n",
       "  <thead>\n",
       "    <tr style=\"text-align: right;\">\n",
       "      <th></th>\n",
       "      <th>FAP</th>\n",
       "      <th>SLC5A6</th>\n",
       "      <th>GFPT2</th>\n",
       "      <th>ASCL2</th>\n",
       "      <th>TSPAN6</th>\n",
       "      <th>CCDC80</th>\n",
       "      <th>DUSP4</th>\n",
       "      <th>EFEMP2</th>\n",
       "      <th>TRIM7</th>\n",
       "      <th>DCN</th>\n",
       "      <th>AGR2</th>\n",
       "      <th>REG4</th>\n",
       "      <th>TUBB6</th>\n",
       "      <th>POFUT1</th>\n",
       "      <th>RETNLB</th>\n",
       "      <th>CMS</th>\n",
       "    </tr>\n",
       "    <tr>\n",
       "      <th>SampleID</th>\n",
       "      <th></th>\n",
       "      <th></th>\n",
       "      <th></th>\n",
       "      <th></th>\n",
       "      <th></th>\n",
       "      <th></th>\n",
       "      <th></th>\n",
       "      <th></th>\n",
       "      <th></th>\n",
       "      <th></th>\n",
       "      <th></th>\n",
       "      <th></th>\n",
       "      <th></th>\n",
       "      <th></th>\n",
       "      <th></th>\n",
       "      <th></th>\n",
       "    </tr>\n",
       "  </thead>\n",
       "  <tbody>\n",
       "    <tr>\n",
       "      <th>Patient50</th>\n",
       "      <td>5.759367</td>\n",
       "      <td>6.432468</td>\n",
       "      <td>4.713223</td>\n",
       "      <td>7.078099</td>\n",
       "      <td>6.763756</td>\n",
       "      <td>5.44207</td>\n",
       "      <td>6.134814</td>\n",
       "      <td>6.689782</td>\n",
       "      <td>6.583367</td>\n",
       "      <td>7.857809</td>\n",
       "      <td>9.571952</td>\n",
       "      <td>9.348392</td>\n",
       "      <td>6.505845</td>\n",
       "      <td>5.026038</td>\n",
       "      <td>4.529609</td>\n",
       "      <td>CMS3</td>\n",
       "    </tr>\n",
       "  </tbody>\n",
       "</table>\n",
       "</div>"
      ],
      "text/plain": [
       "                FAP    SLC5A6     GFPT2     ASCL2    TSPAN6   CCDC80  \\\n",
       "SampleID                                                               \n",
       "Patient50  5.759367  6.432468  4.713223  7.078099  6.763756  5.44207   \n",
       "\n",
       "              DUSP4    EFEMP2     TRIM7       DCN      AGR2      REG4  \\\n",
       "SampleID                                                                \n",
       "Patient50  6.134814  6.689782  6.583367  7.857809  9.571952  9.348392   \n",
       "\n",
       "              TUBB6    POFUT1    RETNLB   CMS  \n",
       "SampleID                                       \n",
       "Patient50  6.505845  5.026038  4.529609  CMS3  "
      ]
     },
     "execution_count": 17,
     "metadata": {},
     "output_type": "execute_result"
    }
   ],
   "source": [
    "data.tail(1)"
   ]
  },
  {
   "cell_type": "markdown",
   "id": "novel-label",
   "metadata": {},
   "source": [
    "## We can specify the location of header and index column\n",
    "With **header** and **index_col** parameters\n",
    "\n",
    "**Note:** In computer, index starts with zero, not one"
   ]
  },
  {
   "cell_type": "code",
   "execution_count": 4,
   "id": "thick-eligibility",
   "metadata": {},
   "outputs": [
    {
     "ename": "NameError",
     "evalue": "name 'pd' is not defined",
     "output_type": "error",
     "traceback": [
      "\u001b[0;31m---------------------------------------------------------------------------\u001b[0m",
      "\u001b[0;31mNameError\u001b[0m                                 Traceback (most recent call last)",
      "Cell \u001b[0;32mIn [4], line 1\u001b[0m\n\u001b[0;32m----> 1\u001b[0m data \u001b[38;5;241m=\u001b[39m \u001b[43mpd\u001b[49m\u001b[38;5;241m.\u001b[39mread_excel(\u001b[38;5;124m'\u001b[39m\u001b[38;5;124mCRC_sample_data.xlsx\u001b[39m\u001b[38;5;124m'\u001b[39m, sheet_name \u001b[38;5;241m=\u001b[39m \u001b[38;5;124m'\u001b[39m\u001b[38;5;124mexpression\u001b[39m\u001b[38;5;124m'\u001b[39m, header \u001b[38;5;241m=\u001b[39m \u001b[38;5;241m0\u001b[39m, index_col \u001b[38;5;241m=\u001b[39m \u001b[38;5;241m0\u001b[39m)\n\u001b[1;32m      2\u001b[0m data\u001b[38;5;241m.\u001b[39mhead(\u001b[38;5;241m5\u001b[39m)\n",
      "\u001b[0;31mNameError\u001b[0m: name 'pd' is not defined"
     ]
    }
   ],
   "source": [
    "data = pd.read_excel('CRC_sample_data.xlsx', sheet_name = 'expression', header = 0, index_col = 0)\n",
    "data.head(5)"
   ]
  },
  {
   "cell_type": "markdown",
   "id": "comic-winning",
   "metadata": {},
   "source": [
    "## Pandas automatically determine the appropriate data types for each column\n",
    "We can check data types with the built-in **dtypes** variable"
   ]
  },
  {
   "cell_type": "code",
   "execution_count": 21,
   "id": "complicated-error",
   "metadata": {},
   "outputs": [
    {
     "data": {
      "text/plain": [
       "FAP       float64\n",
       "SLC5A6    float64\n",
       "GFPT2     float64\n",
       "ASCL2     float64\n",
       "TSPAN6    float64\n",
       "CCDC80    float64\n",
       "DUSP4     float64\n",
       "EFEMP2    float64\n",
       "TRIM7     float64\n",
       "DCN       float64\n",
       "AGR2      float64\n",
       "REG4      float64\n",
       "TUBB6     float64\n",
       "POFUT1    float64\n",
       "RETNLB    float64\n",
       "CMS        object\n",
       "dtype: object"
      ]
     },
     "execution_count": 21,
     "metadata": {},
     "output_type": "execute_result"
    }
   ],
   "source": [
    "data.dtypes"
   ]
  },
  {
   "cell_type": "markdown",
   "id": "delayed-restriction",
   "metadata": {},
   "source": [
    "## Dimension of data frame\n",
    "shape"
   ]
  },
  {
   "cell_type": "code",
   "execution_count": 22,
   "id": "satisfied-language",
   "metadata": {},
   "outputs": [
    {
     "data": {
      "text/plain": [
       "(50, 16)"
      ]
     },
     "execution_count": 22,
     "metadata": {},
     "output_type": "execute_result"
    }
   ],
   "source": [
    "data.shape"
   ]
  },
  {
   "cell_type": "markdown",
   "id": "isolated-irrigation",
   "metadata": {},
   "source": [
    "## Row indices and column names\n",
    "* index\n",
    "* columns"
   ]
  },
  {
   "cell_type": "code",
   "execution_count": 23,
   "id": "rapid-warren",
   "metadata": {},
   "outputs": [
    {
     "data": {
      "text/plain": [
       "Index(['Patient1', 'Patient2', 'Patient3', 'Patient4', 'Patient5', 'Patient6',\n",
       "       'Patient7', 'Patient8', 'Patient9', 'Patient10', 'Patient11',\n",
       "       'Patient12', 'Patient13', 'Patient14', 'Patient15', 'Patient16',\n",
       "       'Patient17', 'Patient18', 'Patient19', 'Patient20', 'Patient21',\n",
       "       'Patient22', 'Patient23', 'Patient24', 'Patient25', 'Patient26',\n",
       "       'Patient27', 'Patient28', 'Patient29', 'Patient30', 'Patient31',\n",
       "       'Patient32', 'Patient33', 'Patient34', 'Patient35', 'Patient36',\n",
       "       'Patient37', 'Patient38', 'Patient39', 'Patient40', 'Patient41',\n",
       "       'Patient42', 'Patient43', 'Patient44', 'Patient45', 'Patient46',\n",
       "       'Patient47', 'Patient48', 'Patient49', 'Patient50'],\n",
       "      dtype='object', name='SampleID')"
      ]
     },
     "execution_count": 23,
     "metadata": {},
     "output_type": "execute_result"
    }
   ],
   "source": [
    "data.index"
   ]
  },
  {
   "cell_type": "code",
   "execution_count": 24,
   "id": "suffering-wholesale",
   "metadata": {},
   "outputs": [
    {
     "data": {
      "text/plain": [
       "Index(['FAP', 'SLC5A6', 'GFPT2', 'ASCL2', 'TSPAN6', 'CCDC80', 'DUSP4',\n",
       "       'EFEMP2', 'TRIM7', 'DCN', 'AGR2', 'REG4', 'TUBB6', 'POFUT1', 'RETNLB',\n",
       "       'CMS'],\n",
       "      dtype='object')"
      ]
     },
     "execution_count": 24,
     "metadata": {},
     "output_type": "execute_result"
    }
   ],
   "source": [
    "data.columns"
   ]
  },
  {
   "cell_type": "markdown",
   "id": "another-baseline",
   "metadata": {},
   "source": [
    "## Summary statistics\n",
    "* describe()\n",
    "* agg([statistics], axis = 0), see documentation [here](https://pandas.pydata.org/docs/reference/api/pandas.DataFrame.agg.html)\n",
    "* mean(axis = 0)\n",
    "* std(axis = 0)"
   ]
  },
  {
   "cell_type": "code",
   "execution_count": 25,
   "id": "primary-factor",
   "metadata": {},
   "outputs": [
    {
     "data": {
      "text/html": [
       "<div>\n",
       "<style scoped>\n",
       "    .dataframe tbody tr th:only-of-type {\n",
       "        vertical-align: middle;\n",
       "    }\n",
       "\n",
       "    .dataframe tbody tr th {\n",
       "        vertical-align: top;\n",
       "    }\n",
       "\n",
       "    .dataframe thead th {\n",
       "        text-align: right;\n",
       "    }\n",
       "</style>\n",
       "<table border=\"1\" class=\"dataframe\">\n",
       "  <thead>\n",
       "    <tr style=\"text-align: right;\">\n",
       "      <th></th>\n",
       "      <th>FAP</th>\n",
       "      <th>SLC5A6</th>\n",
       "      <th>GFPT2</th>\n",
       "      <th>ASCL2</th>\n",
       "      <th>TSPAN6</th>\n",
       "      <th>CCDC80</th>\n",
       "      <th>DUSP4</th>\n",
       "      <th>EFEMP2</th>\n",
       "      <th>TRIM7</th>\n",
       "      <th>DCN</th>\n",
       "      <th>AGR2</th>\n",
       "      <th>REG4</th>\n",
       "      <th>TUBB6</th>\n",
       "      <th>POFUT1</th>\n",
       "      <th>RETNLB</th>\n",
       "    </tr>\n",
       "  </thead>\n",
       "  <tbody>\n",
       "    <tr>\n",
       "      <th>count</th>\n",
       "      <td>50.000000</td>\n",
       "      <td>50.000000</td>\n",
       "      <td>50.000000</td>\n",
       "      <td>50.000000</td>\n",
       "      <td>50.000000</td>\n",
       "      <td>50.000000</td>\n",
       "      <td>50.000000</td>\n",
       "      <td>50.000000</td>\n",
       "      <td>50.000000</td>\n",
       "      <td>50.000000</td>\n",
       "      <td>50.000000</td>\n",
       "      <td>50.000000</td>\n",
       "      <td>50.000000</td>\n",
       "      <td>50.000000</td>\n",
       "      <td>50.000000</td>\n",
       "    </tr>\n",
       "    <tr>\n",
       "      <th>mean</th>\n",
       "      <td>5.837798</td>\n",
       "      <td>6.716091</td>\n",
       "      <td>4.937316</td>\n",
       "      <td>6.189130</td>\n",
       "      <td>6.779853</td>\n",
       "      <td>5.365377</td>\n",
       "      <td>6.898280</td>\n",
       "      <td>6.352815</td>\n",
       "      <td>5.786682</td>\n",
       "      <td>7.268783</td>\n",
       "      <td>9.255964</td>\n",
       "      <td>8.171306</td>\n",
       "      <td>6.843639</td>\n",
       "      <td>5.320090</td>\n",
       "      <td>3.539650</td>\n",
       "    </tr>\n",
       "    <tr>\n",
       "      <th>std</th>\n",
       "      <td>0.726815</td>\n",
       "      <td>0.484525</td>\n",
       "      <td>0.844463</td>\n",
       "      <td>1.704388</td>\n",
       "      <td>0.724840</td>\n",
       "      <td>0.930140</td>\n",
       "      <td>0.976062</td>\n",
       "      <td>0.573696</td>\n",
       "      <td>0.805768</td>\n",
       "      <td>1.030827</td>\n",
       "      <td>1.427257</td>\n",
       "      <td>1.950079</td>\n",
       "      <td>0.654265</td>\n",
       "      <td>0.405347</td>\n",
       "      <td>1.327002</td>\n",
       "    </tr>\n",
       "    <tr>\n",
       "      <th>min</th>\n",
       "      <td>4.208262</td>\n",
       "      <td>5.705932</td>\n",
       "      <td>3.324667</td>\n",
       "      <td>2.125807</td>\n",
       "      <td>4.791430</td>\n",
       "      <td>3.469958</td>\n",
       "      <td>4.417720</td>\n",
       "      <td>4.954105</td>\n",
       "      <td>2.868241</td>\n",
       "      <td>4.225770</td>\n",
       "      <td>4.684659</td>\n",
       "      <td>3.855574</td>\n",
       "      <td>5.309111</td>\n",
       "      <td>4.707178</td>\n",
       "      <td>1.604823</td>\n",
       "    </tr>\n",
       "    <tr>\n",
       "      <th>25%</th>\n",
       "      <td>5.319341</td>\n",
       "      <td>6.364697</td>\n",
       "      <td>4.288292</td>\n",
       "      <td>4.979495</td>\n",
       "      <td>6.483483</td>\n",
       "      <td>4.778292</td>\n",
       "      <td>6.445787</td>\n",
       "      <td>5.947604</td>\n",
       "      <td>5.544531</td>\n",
       "      <td>6.678181</td>\n",
       "      <td>8.540691</td>\n",
       "      <td>6.975765</td>\n",
       "      <td>6.495158</td>\n",
       "      <td>5.042827</td>\n",
       "      <td>2.574891</td>\n",
       "    </tr>\n",
       "    <tr>\n",
       "      <th>50%</th>\n",
       "      <td>5.968247</td>\n",
       "      <td>6.634655</td>\n",
       "      <td>5.059908</td>\n",
       "      <td>6.867199</td>\n",
       "      <td>6.762160</td>\n",
       "      <td>5.263732</td>\n",
       "      <td>7.125535</td>\n",
       "      <td>6.467185</td>\n",
       "      <td>6.052655</td>\n",
       "      <td>7.448704</td>\n",
       "      <td>9.342965</td>\n",
       "      <td>8.934924</td>\n",
       "      <td>6.754874</td>\n",
       "      <td>5.266818</td>\n",
       "      <td>3.454829</td>\n",
       "    </tr>\n",
       "    <tr>\n",
       "      <th>75%</th>\n",
       "      <td>6.331971</td>\n",
       "      <td>7.031999</td>\n",
       "      <td>5.463169</td>\n",
       "      <td>7.314634</td>\n",
       "      <td>7.231183</td>\n",
       "      <td>6.004600</td>\n",
       "      <td>7.566512</td>\n",
       "      <td>6.711835</td>\n",
       "      <td>6.300318</td>\n",
       "      <td>7.948625</td>\n",
       "      <td>10.081790</td>\n",
       "      <td>9.639411</td>\n",
       "      <td>7.192919</td>\n",
       "      <td>5.519746</td>\n",
       "      <td>4.505157</td>\n",
       "    </tr>\n",
       "    <tr>\n",
       "      <th>max</th>\n",
       "      <td>7.241834</td>\n",
       "      <td>8.152112</td>\n",
       "      <td>7.715739</td>\n",
       "      <td>8.628652</td>\n",
       "      <td>8.645912</td>\n",
       "      <td>7.130213</td>\n",
       "      <td>8.373788</td>\n",
       "      <td>7.305372</td>\n",
       "      <td>7.002703</td>\n",
       "      <td>9.043028</td>\n",
       "      <td>11.572476</td>\n",
       "      <td>11.344753</td>\n",
       "      <td>8.408573</td>\n",
       "      <td>6.556573</td>\n",
       "      <td>7.165236</td>\n",
       "    </tr>\n",
       "  </tbody>\n",
       "</table>\n",
       "</div>"
      ],
      "text/plain": [
       "             FAP     SLC5A6      GFPT2      ASCL2     TSPAN6     CCDC80  \\\n",
       "count  50.000000  50.000000  50.000000  50.000000  50.000000  50.000000   \n",
       "mean    5.837798   6.716091   4.937316   6.189130   6.779853   5.365377   \n",
       "std     0.726815   0.484525   0.844463   1.704388   0.724840   0.930140   \n",
       "min     4.208262   5.705932   3.324667   2.125807   4.791430   3.469958   \n",
       "25%     5.319341   6.364697   4.288292   4.979495   6.483483   4.778292   \n",
       "50%     5.968247   6.634655   5.059908   6.867199   6.762160   5.263732   \n",
       "75%     6.331971   7.031999   5.463169   7.314634   7.231183   6.004600   \n",
       "max     7.241834   8.152112   7.715739   8.628652   8.645912   7.130213   \n",
       "\n",
       "           DUSP4     EFEMP2      TRIM7        DCN       AGR2       REG4  \\\n",
       "count  50.000000  50.000000  50.000000  50.000000  50.000000  50.000000   \n",
       "mean    6.898280   6.352815   5.786682   7.268783   9.255964   8.171306   \n",
       "std     0.976062   0.573696   0.805768   1.030827   1.427257   1.950079   \n",
       "min     4.417720   4.954105   2.868241   4.225770   4.684659   3.855574   \n",
       "25%     6.445787   5.947604   5.544531   6.678181   8.540691   6.975765   \n",
       "50%     7.125535   6.467185   6.052655   7.448704   9.342965   8.934924   \n",
       "75%     7.566512   6.711835   6.300318   7.948625  10.081790   9.639411   \n",
       "max     8.373788   7.305372   7.002703   9.043028  11.572476  11.344753   \n",
       "\n",
       "           TUBB6     POFUT1     RETNLB  \n",
       "count  50.000000  50.000000  50.000000  \n",
       "mean    6.843639   5.320090   3.539650  \n",
       "std     0.654265   0.405347   1.327002  \n",
       "min     5.309111   4.707178   1.604823  \n",
       "25%     6.495158   5.042827   2.574891  \n",
       "50%     6.754874   5.266818   3.454829  \n",
       "75%     7.192919   5.519746   4.505157  \n",
       "max     8.408573   6.556573   7.165236  "
      ]
     },
     "execution_count": 25,
     "metadata": {},
     "output_type": "execute_result"
    }
   ],
   "source": [
    "data.describe()"
   ]
  },
  {
   "cell_type": "code",
   "execution_count": 26,
   "id": "curious-rochester",
   "metadata": {},
   "outputs": [
    {
     "name": "stderr",
     "output_type": "stream",
     "text": [
      "/var/folders/4x/_1fq7mms6_38qngkywbr6zzr0000gn/T/ipykernel_2225/531903386.py:1: FutureWarning: Dropping of nuisance columns in DataFrame reductions (with 'numeric_only=None') is deprecated; in a future version this will raise TypeError.  Select only valid columns before calling the reduction.\n",
      "  data.mean()\n"
     ]
    },
    {
     "data": {
      "text/plain": [
       "FAP       5.837798\n",
       "SLC5A6    6.716091\n",
       "GFPT2     4.937316\n",
       "ASCL2     6.189130\n",
       "TSPAN6    6.779853\n",
       "CCDC80    5.365377\n",
       "DUSP4     6.898280\n",
       "EFEMP2    6.352815\n",
       "TRIM7     5.786682\n",
       "DCN       7.268783\n",
       "AGR2      9.255964\n",
       "REG4      8.171306\n",
       "TUBB6     6.843639\n",
       "POFUT1    5.320090\n",
       "RETNLB    3.539650\n",
       "dtype: float64"
      ]
     },
     "execution_count": 26,
     "metadata": {},
     "output_type": "execute_result"
    }
   ],
   "source": [
    "data.mean()"
   ]
  },
  {
   "cell_type": "code",
   "execution_count": 29,
   "id": "e805258a",
   "metadata": {},
   "outputs": [
    {
     "name": "stdout",
     "output_type": "stream",
     "text": [
      "c\n"
     ]
    }
   ],
   "source": [
    "patient_name = ['Alice', 'Bob', 'Clare', 'Don', 'Eric', 'Fei', 'Gabriel', 'Henry', 'Ivan']\n",
    "print(patient_name[0][3])"
   ]
  },
  {
   "cell_type": "code",
   "execution_count": 32,
   "id": "enormous-underwear",
   "metadata": {
    "scrolled": true
   },
   "outputs": [
    {
     "data": {
      "text/html": [
       "<div>\n",
       "<style scoped>\n",
       "    .dataframe tbody tr th:only-of-type {\n",
       "        vertical-align: middle;\n",
       "    }\n",
       "\n",
       "    .dataframe tbody tr th {\n",
       "        vertical-align: top;\n",
       "    }\n",
       "\n",
       "    .dataframe thead th {\n",
       "        text-align: right;\n",
       "    }\n",
       "</style>\n",
       "<table border=\"1\" class=\"dataframe\">\n",
       "  <thead>\n",
       "    <tr style=\"text-align: right;\">\n",
       "      <th></th>\n",
       "      <th>mean</th>\n",
       "      <th>std</th>\n",
       "    </tr>\n",
       "    <tr>\n",
       "      <th>SampleID</th>\n",
       "      <th></th>\n",
       "      <th></th>\n",
       "    </tr>\n",
       "  </thead>\n",
       "  <tbody>\n",
       "    <tr>\n",
       "      <th>Patient1</th>\n",
       "      <td>6.609214</td>\n",
       "      <td>1.243988</td>\n",
       "    </tr>\n",
       "    <tr>\n",
       "      <th>Patient2</th>\n",
       "      <td>6.312383</td>\n",
       "      <td>1.315664</td>\n",
       "    </tr>\n",
       "    <tr>\n",
       "      <th>Patient3</th>\n",
       "      <td>6.020332</td>\n",
       "      <td>1.551171</td>\n",
       "    </tr>\n",
       "    <tr>\n",
       "      <th>Patient4</th>\n",
       "      <td>6.760024</td>\n",
       "      <td>1.454852</td>\n",
       "    </tr>\n",
       "    <tr>\n",
       "      <th>Patient5</th>\n",
       "      <td>6.456409</td>\n",
       "      <td>1.584368</td>\n",
       "    </tr>\n",
       "    <tr>\n",
       "      <th>Patient6</th>\n",
       "      <td>7.072045</td>\n",
       "      <td>1.653860</td>\n",
       "    </tr>\n",
       "    <tr>\n",
       "      <th>Patient7</th>\n",
       "      <td>5.327263</td>\n",
       "      <td>1.196508</td>\n",
       "    </tr>\n",
       "    <tr>\n",
       "      <th>Patient8</th>\n",
       "      <td>5.843336</td>\n",
       "      <td>1.520018</td>\n",
       "    </tr>\n",
       "    <tr>\n",
       "      <th>Patient9</th>\n",
       "      <td>5.876659</td>\n",
       "      <td>2.062362</td>\n",
       "    </tr>\n",
       "    <tr>\n",
       "      <th>Patient10</th>\n",
       "      <td>6.454575</td>\n",
       "      <td>1.339245</td>\n",
       "    </tr>\n",
       "    <tr>\n",
       "      <th>Patient11</th>\n",
       "      <td>6.775646</td>\n",
       "      <td>1.585588</td>\n",
       "    </tr>\n",
       "    <tr>\n",
       "      <th>Patient12</th>\n",
       "      <td>6.610202</td>\n",
       "      <td>1.806041</td>\n",
       "    </tr>\n",
       "    <tr>\n",
       "      <th>Patient13</th>\n",
       "      <td>5.628796</td>\n",
       "      <td>1.690298</td>\n",
       "    </tr>\n",
       "    <tr>\n",
       "      <th>Patient14</th>\n",
       "      <td>6.798966</td>\n",
       "      <td>2.105802</td>\n",
       "    </tr>\n",
       "    <tr>\n",
       "      <th>Patient15</th>\n",
       "      <td>6.583176</td>\n",
       "      <td>1.640564</td>\n",
       "    </tr>\n",
       "    <tr>\n",
       "      <th>Patient16</th>\n",
       "      <td>6.198568</td>\n",
       "      <td>2.139080</td>\n",
       "    </tr>\n",
       "    <tr>\n",
       "      <th>Patient17</th>\n",
       "      <td>6.510898</td>\n",
       "      <td>2.101855</td>\n",
       "    </tr>\n",
       "    <tr>\n",
       "      <th>Patient18</th>\n",
       "      <td>6.012400</td>\n",
       "      <td>1.920176</td>\n",
       "    </tr>\n",
       "    <tr>\n",
       "      <th>Patient19</th>\n",
       "      <td>5.684372</td>\n",
       "      <td>1.778558</td>\n",
       "    </tr>\n",
       "    <tr>\n",
       "      <th>Patient20</th>\n",
       "      <td>6.385495</td>\n",
       "      <td>1.202454</td>\n",
       "    </tr>\n",
       "    <tr>\n",
       "      <th>Patient21</th>\n",
       "      <td>5.906961</td>\n",
       "      <td>1.951451</td>\n",
       "    </tr>\n",
       "    <tr>\n",
       "      <th>Patient22</th>\n",
       "      <td>6.632239</td>\n",
       "      <td>1.094286</td>\n",
       "    </tr>\n",
       "    <tr>\n",
       "      <th>Patient23</th>\n",
       "      <td>6.169695</td>\n",
       "      <td>2.176568</td>\n",
       "    </tr>\n",
       "    <tr>\n",
       "      <th>Patient24</th>\n",
       "      <td>6.554711</td>\n",
       "      <td>1.902769</td>\n",
       "    </tr>\n",
       "    <tr>\n",
       "      <th>Patient25</th>\n",
       "      <td>5.783419</td>\n",
       "      <td>2.310010</td>\n",
       "    </tr>\n",
       "    <tr>\n",
       "      <th>Patient26</th>\n",
       "      <td>7.004950</td>\n",
       "      <td>1.762273</td>\n",
       "    </tr>\n",
       "    <tr>\n",
       "      <th>Patient27</th>\n",
       "      <td>6.430306</td>\n",
       "      <td>1.592649</td>\n",
       "    </tr>\n",
       "    <tr>\n",
       "      <th>Patient28</th>\n",
       "      <td>5.613163</td>\n",
       "      <td>1.409382</td>\n",
       "    </tr>\n",
       "    <tr>\n",
       "      <th>Patient29</th>\n",
       "      <td>6.493013</td>\n",
       "      <td>1.629277</td>\n",
       "    </tr>\n",
       "    <tr>\n",
       "      <th>Patient30</th>\n",
       "      <td>6.628591</td>\n",
       "      <td>1.428176</td>\n",
       "    </tr>\n",
       "    <tr>\n",
       "      <th>Patient31</th>\n",
       "      <td>6.207285</td>\n",
       "      <td>1.685714</td>\n",
       "    </tr>\n",
       "    <tr>\n",
       "      <th>Patient32</th>\n",
       "      <td>6.652798</td>\n",
       "      <td>1.929936</td>\n",
       "    </tr>\n",
       "    <tr>\n",
       "      <th>Patient33</th>\n",
       "      <td>6.361606</td>\n",
       "      <td>1.994265</td>\n",
       "    </tr>\n",
       "    <tr>\n",
       "      <th>Patient34</th>\n",
       "      <td>6.497078</td>\n",
       "      <td>1.831734</td>\n",
       "    </tr>\n",
       "    <tr>\n",
       "      <th>Patient35</th>\n",
       "      <td>6.307263</td>\n",
       "      <td>1.671168</td>\n",
       "    </tr>\n",
       "    <tr>\n",
       "      <th>Patient36</th>\n",
       "      <td>6.302473</td>\n",
       "      <td>1.540594</td>\n",
       "    </tr>\n",
       "    <tr>\n",
       "      <th>Patient37</th>\n",
       "      <td>5.914927</td>\n",
       "      <td>2.206808</td>\n",
       "    </tr>\n",
       "    <tr>\n",
       "      <th>Patient38</th>\n",
       "      <td>6.136930</td>\n",
       "      <td>1.612969</td>\n",
       "    </tr>\n",
       "    <tr>\n",
       "      <th>Patient39</th>\n",
       "      <td>6.050167</td>\n",
       "      <td>1.149788</td>\n",
       "    </tr>\n",
       "    <tr>\n",
       "      <th>Patient40</th>\n",
       "      <td>6.693099</td>\n",
       "      <td>1.504442</td>\n",
       "    </tr>\n",
       "    <tr>\n",
       "      <th>Patient41</th>\n",
       "      <td>6.221856</td>\n",
       "      <td>1.530340</td>\n",
       "    </tr>\n",
       "    <tr>\n",
       "      <th>Patient42</th>\n",
       "      <td>6.466011</td>\n",
       "      <td>1.429043</td>\n",
       "    </tr>\n",
       "    <tr>\n",
       "      <th>Patient43</th>\n",
       "      <td>6.849184</td>\n",
       "      <td>1.427884</td>\n",
       "    </tr>\n",
       "    <tr>\n",
       "      <th>Patient44</th>\n",
       "      <td>6.471797</td>\n",
       "      <td>1.531739</td>\n",
       "    </tr>\n",
       "    <tr>\n",
       "      <th>Patient45</th>\n",
       "      <td>6.568011</td>\n",
       "      <td>2.049557</td>\n",
       "    </tr>\n",
       "    <tr>\n",
       "      <th>Patient46</th>\n",
       "      <td>6.542844</td>\n",
       "      <td>1.851255</td>\n",
       "    </tr>\n",
       "    <tr>\n",
       "      <th>Patient47</th>\n",
       "      <td>6.875213</td>\n",
       "      <td>1.659221</td>\n",
       "    </tr>\n",
       "    <tr>\n",
       "      <th>Patient48</th>\n",
       "      <td>6.337311</td>\n",
       "      <td>1.050318</td>\n",
       "    </tr>\n",
       "    <tr>\n",
       "      <th>Patient49</th>\n",
       "      <td>6.386481</td>\n",
       "      <td>2.267152</td>\n",
       "    </tr>\n",
       "    <tr>\n",
       "      <th>Patient50</th>\n",
       "      <td>6.562439</td>\n",
       "      <td>1.484092</td>\n",
       "    </tr>\n",
       "  </tbody>\n",
       "</table>\n",
       "</div>"
      ],
      "text/plain": [
       "               mean       std\n",
       "SampleID                     \n",
       "Patient1   6.609214  1.243988\n",
       "Patient2   6.312383  1.315664\n",
       "Patient3   6.020332  1.551171\n",
       "Patient4   6.760024  1.454852\n",
       "Patient5   6.456409  1.584368\n",
       "Patient6   7.072045  1.653860\n",
       "Patient7   5.327263  1.196508\n",
       "Patient8   5.843336  1.520018\n",
       "Patient9   5.876659  2.062362\n",
       "Patient10  6.454575  1.339245\n",
       "Patient11  6.775646  1.585588\n",
       "Patient12  6.610202  1.806041\n",
       "Patient13  5.628796  1.690298\n",
       "Patient14  6.798966  2.105802\n",
       "Patient15  6.583176  1.640564\n",
       "Patient16  6.198568  2.139080\n",
       "Patient17  6.510898  2.101855\n",
       "Patient18  6.012400  1.920176\n",
       "Patient19  5.684372  1.778558\n",
       "Patient20  6.385495  1.202454\n",
       "Patient21  5.906961  1.951451\n",
       "Patient22  6.632239  1.094286\n",
       "Patient23  6.169695  2.176568\n",
       "Patient24  6.554711  1.902769\n",
       "Patient25  5.783419  2.310010\n",
       "Patient26  7.004950  1.762273\n",
       "Patient27  6.430306  1.592649\n",
       "Patient28  5.613163  1.409382\n",
       "Patient29  6.493013  1.629277\n",
       "Patient30  6.628591  1.428176\n",
       "Patient31  6.207285  1.685714\n",
       "Patient32  6.652798  1.929936\n",
       "Patient33  6.361606  1.994265\n",
       "Patient34  6.497078  1.831734\n",
       "Patient35  6.307263  1.671168\n",
       "Patient36  6.302473  1.540594\n",
       "Patient37  5.914927  2.206808\n",
       "Patient38  6.136930  1.612969\n",
       "Patient39  6.050167  1.149788\n",
       "Patient40  6.693099  1.504442\n",
       "Patient41  6.221856  1.530340\n",
       "Patient42  6.466011  1.429043\n",
       "Patient43  6.849184  1.427884\n",
       "Patient44  6.471797  1.531739\n",
       "Patient45  6.568011  2.049557\n",
       "Patient46  6.542844  1.851255\n",
       "Patient47  6.875213  1.659221\n",
       "Patient48  6.337311  1.050318\n",
       "Patient49  6.386481  2.267152\n",
       "Patient50  6.562439  1.484092"
      ]
     },
     "execution_count": 32,
     "metadata": {},
     "output_type": "execute_result"
    }
   ],
   "source": [
    "data.iloc[:, :-1].agg(['mean', 'std'], axis = 1)"
   ]
  },
  {
   "cell_type": "code",
   "execution_count": 34,
   "id": "hindu-productivity",
   "metadata": {
    "scrolled": true
   },
   "outputs": [
    {
     "name": "stderr",
     "output_type": "stream",
     "text": [
      "/var/folders/4x/_1fq7mms6_38qngkywbr6zzr0000gn/T/ipykernel_2225/2929971928.py:1: FutureWarning: Dropping of nuisance columns in DataFrame reductions (with 'numeric_only=None') is deprecated; in a future version this will raise TypeError.  Select only valid columns before calling the reduction.\n",
      "  data.mean(axis = 1)\n"
     ]
    },
    {
     "data": {
      "text/plain": [
       "SampleID\n",
       "Patient1     6.609214\n",
       "Patient2     6.312383\n",
       "Patient3     6.020332\n",
       "Patient4     6.760024\n",
       "Patient5     6.456409\n",
       "Patient6     7.072045\n",
       "Patient7     5.327263\n",
       "Patient8     5.843336\n",
       "Patient9     5.876659\n",
       "Patient10    6.454575\n",
       "Patient11    6.775646\n",
       "Patient12    6.610202\n",
       "Patient13    5.628796\n",
       "Patient14    6.798966\n",
       "Patient15    6.583176\n",
       "Patient16    6.198568\n",
       "Patient17    6.510898\n",
       "Patient18    6.012400\n",
       "Patient19    5.684372\n",
       "Patient20    6.385495\n",
       "Patient21    5.906961\n",
       "Patient22    6.632239\n",
       "Patient23    6.169695\n",
       "Patient24    6.554711\n",
       "Patient25    5.783419\n",
       "Patient26    7.004950\n",
       "Patient27    6.430306\n",
       "Patient28    5.613163\n",
       "Patient29    6.493013\n",
       "Patient30    6.628591\n",
       "Patient31    6.207285\n",
       "Patient32    6.652798\n",
       "Patient33    6.361606\n",
       "Patient34    6.497078\n",
       "Patient35    6.307263\n",
       "Patient36    6.302473\n",
       "Patient37    5.914927\n",
       "Patient38    6.136930\n",
       "Patient39    6.050167\n",
       "Patient40    6.693099\n",
       "Patient41    6.221856\n",
       "Patient42    6.466011\n",
       "Patient43    6.849184\n",
       "Patient44    6.471797\n",
       "Patient45    6.568011\n",
       "Patient46    6.542844\n",
       "Patient47    6.875213\n",
       "Patient48    6.337311\n",
       "Patient49    6.386481\n",
       "Patient50    6.562439\n",
       "dtype: float64"
      ]
     },
     "execution_count": 34,
     "metadata": {},
     "output_type": "execute_result"
    }
   ],
   "source": [
    "data.mean(axis = 1)"
   ]
  },
  {
   "cell_type": "code",
   "execution_count": 36,
   "id": "coupled-magic",
   "metadata": {
    "scrolled": true
   },
   "outputs": [
    {
     "name": "stderr",
     "output_type": "stream",
     "text": [
      "/var/folders/4x/_1fq7mms6_38qngkywbr6zzr0000gn/T/ipykernel_2225/1073660028.py:1: FutureWarning: Dropping of nuisance columns in DataFrame reductions (with 'numeric_only=None') is deprecated; in a future version this will raise TypeError.  Select only valid columns before calling the reduction.\n",
      "  data.std(axis = 1)\n"
     ]
    },
    {
     "data": {
      "text/plain": [
       "SampleID\n",
       "Patient1     1.243988\n",
       "Patient2     1.315664\n",
       "Patient3     1.551171\n",
       "Patient4     1.454852\n",
       "Patient5     1.584368\n",
       "Patient6     1.653860\n",
       "Patient7     1.196508\n",
       "Patient8     1.520018\n",
       "Patient9     2.062362\n",
       "Patient10    1.339245\n",
       "Patient11    1.585588\n",
       "Patient12    1.806041\n",
       "Patient13    1.690298\n",
       "Patient14    2.105802\n",
       "Patient15    1.640564\n",
       "Patient16    2.139080\n",
       "Patient17    2.101855\n",
       "Patient18    1.920176\n",
       "Patient19    1.778558\n",
       "Patient20    1.202454\n",
       "Patient21    1.951451\n",
       "Patient22    1.094286\n",
       "Patient23    2.176568\n",
       "Patient24    1.902769\n",
       "Patient25    2.310010\n",
       "Patient26    1.762273\n",
       "Patient27    1.592649\n",
       "Patient28    1.409382\n",
       "Patient29    1.629277\n",
       "Patient30    1.428176\n",
       "Patient31    1.685714\n",
       "Patient32    1.929936\n",
       "Patient33    1.994265\n",
       "Patient34    1.831734\n",
       "Patient35    1.671168\n",
       "Patient36    1.540594\n",
       "Patient37    2.206808\n",
       "Patient38    1.612969\n",
       "Patient39    1.149788\n",
       "Patient40    1.504442\n",
       "Patient41    1.530340\n",
       "Patient42    1.429043\n",
       "Patient43    1.427884\n",
       "Patient44    1.531739\n",
       "Patient45    2.049557\n",
       "Patient46    1.851255\n",
       "Patient47    1.659221\n",
       "Patient48    1.050318\n",
       "Patient49    2.267152\n",
       "Patient50    1.484092\n",
       "dtype: float64"
      ]
     },
     "execution_count": 36,
     "metadata": {},
     "output_type": "execute_result"
    }
   ],
   "source": [
    "data.std(axis = 1)"
   ]
  },
  {
   "cell_type": "markdown",
   "id": "traditional-priority",
   "metadata": {},
   "source": [
    "## Statistics for categorical features\n",
    "* nunique()\n",
    "* value_counts()"
   ]
  },
  {
   "cell_type": "code",
   "execution_count": 37,
   "id": "southeast-master",
   "metadata": {},
   "outputs": [
    {
     "data": {
      "text/plain": [
       "3"
      ]
     },
     "execution_count": 37,
     "metadata": {},
     "output_type": "execute_result"
    }
   ],
   "source": [
    "data['CMS'].nunique()"
   ]
  },
  {
   "cell_type": "code",
   "execution_count": 38,
   "id": "mysterious-armor",
   "metadata": {},
   "outputs": [
    {
     "data": {
      "text/plain": [
       "CMS1    20\n",
       "CMS2    15\n",
       "CMS3    15\n",
       "Name: CMS, dtype: int64"
      ]
     },
     "execution_count": 38,
     "metadata": {},
     "output_type": "execute_result"
    }
   ],
   "source": [
    "data['CMS'].value_counts()"
   ]
  },
  {
   "cell_type": "markdown",
   "id": "joint-joint",
   "metadata": {},
   "source": [
    "## Accessing data entry"
   ]
  },
  {
   "cell_type": "code",
   "execution_count": 40,
   "id": "charitable-appraisal",
   "metadata": {},
   "outputs": [
    {
     "name": "stdout",
     "output_type": "stream",
     "text": [
      "FAP       5.317879\n",
      "SLC5A6    7.521597\n",
      "GFPT2     5.458581\n",
      "ASCL2     7.873975\n",
      "TSPAN6    6.777987\n",
      "CCDC80    5.148662\n",
      "DUSP4     6.372153\n",
      "EFEMP2    6.495578\n",
      "TRIM7     5.361258\n",
      "DCN       7.529628\n",
      "AGR2      9.910427\n",
      "REG4      6.563663\n",
      "TUBB6     6.467622\n",
      "POFUT1    6.556573\n",
      "RETNLB    5.782625\n",
      "CMS           CMS1\n",
      "Name: Patient1, dtype: object\n"
     ]
    }
   ],
   "source": [
    "print(data.loc['Patient1', :])"
   ]
  },
  {
   "cell_type": "code",
   "execution_count": 41,
   "id": "impossible-extra",
   "metadata": {},
   "outputs": [
    {
     "name": "stdout",
     "output_type": "stream",
     "text": [
      "9.9104272014113\n"
     ]
    }
   ],
   "source": [
    "print(data.loc['Patient1', 'AGR2'])"
   ]
  },
  {
   "cell_type": "code",
   "execution_count": 39,
   "id": "broadband-spending",
   "metadata": {},
   "outputs": [
    {
     "name": "stdout",
     "output_type": "stream",
     "text": [
      "9.9104272014113\n"
     ]
    }
   ],
   "source": [
    "print(data.iloc[0, 10])"
   ]
  },
  {
   "cell_type": "markdown",
   "id": "durable-blink",
   "metadata": {},
   "source": [
    "## Quick way to standardize data frame\n",
    "What is standardization?"
   ]
  },
  {
   "cell_type": "code",
   "execution_count": 42,
   "id": "40718183",
   "metadata": {},
   "outputs": [
    {
     "data": {
      "text/html": [
       "<div>\n",
       "<style scoped>\n",
       "    .dataframe tbody tr th:only-of-type {\n",
       "        vertical-align: middle;\n",
       "    }\n",
       "\n",
       "    .dataframe tbody tr th {\n",
       "        vertical-align: top;\n",
       "    }\n",
       "\n",
       "    .dataframe thead th {\n",
       "        text-align: right;\n",
       "    }\n",
       "</style>\n",
       "<table border=\"1\" class=\"dataframe\">\n",
       "  <thead>\n",
       "    <tr style=\"text-align: right;\">\n",
       "      <th></th>\n",
       "      <th>FAP</th>\n",
       "      <th>SLC5A6</th>\n",
       "      <th>GFPT2</th>\n",
       "      <th>ASCL2</th>\n",
       "      <th>TSPAN6</th>\n",
       "      <th>CCDC80</th>\n",
       "      <th>DUSP4</th>\n",
       "      <th>EFEMP2</th>\n",
       "      <th>TRIM7</th>\n",
       "      <th>DCN</th>\n",
       "      <th>AGR2</th>\n",
       "      <th>REG4</th>\n",
       "      <th>TUBB6</th>\n",
       "      <th>POFUT1</th>\n",
       "      <th>RETNLB</th>\n",
       "      <th>CMS</th>\n",
       "    </tr>\n",
       "    <tr>\n",
       "      <th>SampleID</th>\n",
       "      <th></th>\n",
       "      <th></th>\n",
       "      <th></th>\n",
       "      <th></th>\n",
       "      <th></th>\n",
       "      <th></th>\n",
       "      <th></th>\n",
       "      <th></th>\n",
       "      <th></th>\n",
       "      <th></th>\n",
       "      <th></th>\n",
       "      <th></th>\n",
       "      <th></th>\n",
       "      <th></th>\n",
       "      <th></th>\n",
       "      <th></th>\n",
       "    </tr>\n",
       "  </thead>\n",
       "  <tbody>\n",
       "    <tr>\n",
       "      <th>Patient1</th>\n",
       "      <td>5.317879</td>\n",
       "      <td>7.521597</td>\n",
       "      <td>5.458581</td>\n",
       "      <td>7.873975</td>\n",
       "      <td>6.777987</td>\n",
       "      <td>5.148662</td>\n",
       "      <td>6.372153</td>\n",
       "      <td>6.495578</td>\n",
       "      <td>5.361258</td>\n",
       "      <td>7.529628</td>\n",
       "      <td>9.910427</td>\n",
       "      <td>6.563663</td>\n",
       "      <td>6.467622</td>\n",
       "      <td>6.556573</td>\n",
       "      <td>5.782625</td>\n",
       "      <td>CMS1</td>\n",
       "    </tr>\n",
       "    <tr>\n",
       "      <th>Patient2</th>\n",
       "      <td>5.462626</td>\n",
       "      <td>7.613383</td>\n",
       "      <td>3.996901</td>\n",
       "      <td>7.036830</td>\n",
       "      <td>7.610739</td>\n",
       "      <td>5.583870</td>\n",
       "      <td>6.889211</td>\n",
       "      <td>6.049421</td>\n",
       "      <td>6.075198</td>\n",
       "      <td>7.027278</td>\n",
       "      <td>8.972537</td>\n",
       "      <td>5.544412</td>\n",
       "      <td>6.861825</td>\n",
       "      <td>5.765743</td>\n",
       "      <td>4.195767</td>\n",
       "      <td>CMS1</td>\n",
       "    </tr>\n",
       "    <tr>\n",
       "      <th>Patient3</th>\n",
       "      <td>5.364091</td>\n",
       "      <td>8.152112</td>\n",
       "      <td>4.220819</td>\n",
       "      <td>4.225933</td>\n",
       "      <td>7.615335</td>\n",
       "      <td>5.042837</td>\n",
       "      <td>6.566867</td>\n",
       "      <td>6.224913</td>\n",
       "      <td>4.497239</td>\n",
       "      <td>6.609805</td>\n",
       "      <td>8.543011</td>\n",
       "      <td>7.602395</td>\n",
       "      <td>6.057700</td>\n",
       "      <td>6.179182</td>\n",
       "      <td>3.402747</td>\n",
       "      <td>CMS1</td>\n",
       "    </tr>\n",
       "    <tr>\n",
       "      <th>Patient4</th>\n",
       "      <td>7.241834</td>\n",
       "      <td>6.989748</td>\n",
       "      <td>5.535980</td>\n",
       "      <td>7.283076</td>\n",
       "      <td>6.760564</td>\n",
       "      <td>7.076600</td>\n",
       "      <td>6.418798</td>\n",
       "      <td>7.018138</td>\n",
       "      <td>5.620279</td>\n",
       "      <td>8.986782</td>\n",
       "      <td>8.049796</td>\n",
       "      <td>7.436953</td>\n",
       "      <td>8.252535</td>\n",
       "      <td>5.978596</td>\n",
       "      <td>2.750682</td>\n",
       "      <td>CMS1</td>\n",
       "    </tr>\n",
       "    <tr>\n",
       "      <th>Patient5</th>\n",
       "      <td>5.732008</td>\n",
       "      <td>7.252843</td>\n",
       "      <td>5.003082</td>\n",
       "      <td>6.519208</td>\n",
       "      <td>8.357291</td>\n",
       "      <td>5.660058</td>\n",
       "      <td>4.525700</td>\n",
       "      <td>6.506203</td>\n",
       "      <td>5.300539</td>\n",
       "      <td>7.059266</td>\n",
       "      <td>10.547725</td>\n",
       "      <td>7.424943</td>\n",
       "      <td>6.674952</td>\n",
       "      <td>5.850525</td>\n",
       "      <td>4.431800</td>\n",
       "      <td>CMS1</td>\n",
       "    </tr>\n",
       "  </tbody>\n",
       "</table>\n",
       "</div>"
      ],
      "text/plain": [
       "               FAP    SLC5A6     GFPT2     ASCL2    TSPAN6    CCDC80  \\\n",
       "SampleID                                                               \n",
       "Patient1  5.317879  7.521597  5.458581  7.873975  6.777987  5.148662   \n",
       "Patient2  5.462626  7.613383  3.996901  7.036830  7.610739  5.583870   \n",
       "Patient3  5.364091  8.152112  4.220819  4.225933  7.615335  5.042837   \n",
       "Patient4  7.241834  6.989748  5.535980  7.283076  6.760564  7.076600   \n",
       "Patient5  5.732008  7.252843  5.003082  6.519208  8.357291  5.660058   \n",
       "\n",
       "             DUSP4    EFEMP2     TRIM7       DCN       AGR2      REG4  \\\n",
       "SampleID                                                                \n",
       "Patient1  6.372153  6.495578  5.361258  7.529628   9.910427  6.563663   \n",
       "Patient2  6.889211  6.049421  6.075198  7.027278   8.972537  5.544412   \n",
       "Patient3  6.566867  6.224913  4.497239  6.609805   8.543011  7.602395   \n",
       "Patient4  6.418798  7.018138  5.620279  8.986782   8.049796  7.436953   \n",
       "Patient5  4.525700  6.506203  5.300539  7.059266  10.547725  7.424943   \n",
       "\n",
       "             TUBB6    POFUT1    RETNLB   CMS  \n",
       "SampleID                                      \n",
       "Patient1  6.467622  6.556573  5.782625  CMS1  \n",
       "Patient2  6.861825  5.765743  4.195767  CMS1  \n",
       "Patient3  6.057700  6.179182  3.402747  CMS1  \n",
       "Patient4  8.252535  5.978596  2.750682  CMS1  \n",
       "Patient5  6.674952  5.850525  4.431800  CMS1  "
      ]
     },
     "execution_count": 42,
     "metadata": {},
     "output_type": "execute_result"
    }
   ],
   "source": [
    "data.head()"
   ]
  },
  {
   "cell_type": "code",
   "execution_count": 50,
   "id": "meaning-bulgaria",
   "metadata": {},
   "outputs": [
    {
     "name": "stderr",
     "output_type": "stream",
     "text": [
      "/var/folders/4x/_1fq7mms6_38qngkywbr6zzr0000gn/T/ipykernel_2225/3958193006.py:1: FutureWarning: Dropping of nuisance columns in DataFrame reductions (with 'numeric_only=None') is deprecated; in a future version this will raise TypeError.  Select only valid columns before calling the reduction.\n",
      "  data_std = (data - data.mean()) / data.std()\n"
     ]
    },
    {
     "data": {
      "text/html": [
       "<div>\n",
       "<style scoped>\n",
       "    .dataframe tbody tr th:only-of-type {\n",
       "        vertical-align: middle;\n",
       "    }\n",
       "\n",
       "    .dataframe tbody tr th {\n",
       "        vertical-align: top;\n",
       "    }\n",
       "\n",
       "    .dataframe thead th {\n",
       "        text-align: right;\n",
       "    }\n",
       "</style>\n",
       "<table border=\"1\" class=\"dataframe\">\n",
       "  <thead>\n",
       "    <tr style=\"text-align: right;\">\n",
       "      <th></th>\n",
       "      <th>AGR2</th>\n",
       "      <th>ASCL2</th>\n",
       "      <th>CCDC80</th>\n",
       "      <th>CMS</th>\n",
       "      <th>DCN</th>\n",
       "      <th>DUSP4</th>\n",
       "      <th>EFEMP2</th>\n",
       "      <th>FAP</th>\n",
       "      <th>GFPT2</th>\n",
       "      <th>POFUT1</th>\n",
       "      <th>REG4</th>\n",
       "      <th>RETNLB</th>\n",
       "      <th>SLC5A6</th>\n",
       "      <th>TRIM7</th>\n",
       "      <th>TSPAN6</th>\n",
       "      <th>TUBB6</th>\n",
       "    </tr>\n",
       "    <tr>\n",
       "      <th>SampleID</th>\n",
       "      <th></th>\n",
       "      <th></th>\n",
       "      <th></th>\n",
       "      <th></th>\n",
       "      <th></th>\n",
       "      <th></th>\n",
       "      <th></th>\n",
       "      <th></th>\n",
       "      <th></th>\n",
       "      <th></th>\n",
       "      <th></th>\n",
       "      <th></th>\n",
       "      <th></th>\n",
       "      <th></th>\n",
       "      <th></th>\n",
       "      <th></th>\n",
       "    </tr>\n",
       "  </thead>\n",
       "  <tbody>\n",
       "    <tr>\n",
       "      <th>Patient1</th>\n",
       "      <td>0.458546</td>\n",
       "      <td>0.988534</td>\n",
       "      <td>-0.232992</td>\n",
       "      <td>NaN</td>\n",
       "      <td>0.253044</td>\n",
       "      <td>-0.539031</td>\n",
       "      <td>0.248849</td>\n",
       "      <td>-0.715340</td>\n",
       "      <td>0.617273</td>\n",
       "      <td>3.050430</td>\n",
       "      <td>-0.824399</td>\n",
       "      <td>1.690257</td>\n",
       "      <td>1.662467</td>\n",
       "      <td>-0.527974</td>\n",
       "      <td>-0.002575</td>\n",
       "      <td>-0.574715</td>\n",
       "    </tr>\n",
       "    <tr>\n",
       "      <th>Patient2</th>\n",
       "      <td>-0.198581</td>\n",
       "      <td>0.497363</td>\n",
       "      <td>0.234904</td>\n",
       "      <td>NaN</td>\n",
       "      <td>-0.234283</td>\n",
       "      <td>-0.009292</td>\n",
       "      <td>-0.528840</td>\n",
       "      <td>-0.516187</td>\n",
       "      <td>-1.113625</td>\n",
       "      <td>1.099434</td>\n",
       "      <td>-1.347070</td>\n",
       "      <td>0.494436</td>\n",
       "      <td>1.851903</td>\n",
       "      <td>0.358063</td>\n",
       "      <td>1.146303</td>\n",
       "      <td>0.027797</td>\n",
       "    </tr>\n",
       "    <tr>\n",
       "      <th>Patient3</th>\n",
       "      <td>-0.499527</td>\n",
       "      <td>-1.151848</td>\n",
       "      <td>-0.346765</td>\n",
       "      <td>NaN</td>\n",
       "      <td>-0.639271</td>\n",
       "      <td>-0.339541</td>\n",
       "      <td>-0.222944</td>\n",
       "      <td>-0.651758</td>\n",
       "      <td>-0.848465</td>\n",
       "      <td>2.119397</td>\n",
       "      <td>-0.291738</td>\n",
       "      <td>-0.103167</td>\n",
       "      <td>2.963771</td>\n",
       "      <td>-1.600265</td>\n",
       "      <td>1.152644</td>\n",
       "      <td>-1.201254</td>\n",
       "    </tr>\n",
       "    <tr>\n",
       "      <th>Patient4</th>\n",
       "      <td>-0.845095</td>\n",
       "      <td>0.641841</td>\n",
       "      <td>1.839748</td>\n",
       "      <td>NaN</td>\n",
       "      <td>1.666622</td>\n",
       "      <td>-0.491241</td>\n",
       "      <td>1.159715</td>\n",
       "      <td>1.931764</td>\n",
       "      <td>0.708928</td>\n",
       "      <td>1.624548</td>\n",
       "      <td>-0.376576</td>\n",
       "      <td>-0.594549</td>\n",
       "      <td>0.564796</td>\n",
       "      <td>-0.206515</td>\n",
       "      <td>-0.026611</td>\n",
       "      <td>2.153402</td>\n",
       "    </tr>\n",
       "    <tr>\n",
       "      <th>Patient5</th>\n",
       "      <td>0.905065</td>\n",
       "      <td>0.193664</td>\n",
       "      <td>0.316813</td>\n",
       "      <td>NaN</td>\n",
       "      <td>-0.203252</td>\n",
       "      <td>-2.430767</td>\n",
       "      <td>0.267369</td>\n",
       "      <td>-0.145553</td>\n",
       "      <td>0.077878</td>\n",
       "      <td>1.308592</td>\n",
       "      <td>-0.382735</td>\n",
       "      <td>0.672305</td>\n",
       "      <td>1.107791</td>\n",
       "      <td>-0.603329</td>\n",
       "      <td>2.176258</td>\n",
       "      <td>-0.257825</td>\n",
       "    </tr>\n",
       "  </tbody>\n",
       "</table>\n",
       "</div>"
      ],
      "text/plain": [
       "              AGR2     ASCL2    CCDC80  CMS       DCN     DUSP4    EFEMP2  \\\n",
       "SampleID                                                                    \n",
       "Patient1  0.458546  0.988534 -0.232992  NaN  0.253044 -0.539031  0.248849   \n",
       "Patient2 -0.198581  0.497363  0.234904  NaN -0.234283 -0.009292 -0.528840   \n",
       "Patient3 -0.499527 -1.151848 -0.346765  NaN -0.639271 -0.339541 -0.222944   \n",
       "Patient4 -0.845095  0.641841  1.839748  NaN  1.666622 -0.491241  1.159715   \n",
       "Patient5  0.905065  0.193664  0.316813  NaN -0.203252 -2.430767  0.267369   \n",
       "\n",
       "               FAP     GFPT2    POFUT1      REG4    RETNLB    SLC5A6  \\\n",
       "SampleID                                                               \n",
       "Patient1 -0.715340  0.617273  3.050430 -0.824399  1.690257  1.662467   \n",
       "Patient2 -0.516187 -1.113625  1.099434 -1.347070  0.494436  1.851903   \n",
       "Patient3 -0.651758 -0.848465  2.119397 -0.291738 -0.103167  2.963771   \n",
       "Patient4  1.931764  0.708928  1.624548 -0.376576 -0.594549  0.564796   \n",
       "Patient5 -0.145553  0.077878  1.308592 -0.382735  0.672305  1.107791   \n",
       "\n",
       "             TRIM7    TSPAN6     TUBB6  \n",
       "SampleID                                \n",
       "Patient1 -0.527974 -0.002575 -0.574715  \n",
       "Patient2  0.358063  1.146303  0.027797  \n",
       "Patient3 -1.600265  1.152644 -1.201254  \n",
       "Patient4 -0.206515 -0.026611  2.153402  \n",
       "Patient5 -0.603329  2.176258 -0.257825  "
      ]
     },
     "execution_count": 50,
     "metadata": {},
     "output_type": "execute_result"
    }
   ],
   "source": [
    "data_std = (data - data.mean()) / data.std()\n",
    "data_std.head()"
   ]
  },
  {
   "cell_type": "code",
   "execution_count": 45,
   "id": "66efc10f",
   "metadata": {},
   "outputs": [
    {
     "name": "stdout",
     "output_type": "stream",
     "text": [
      "['x']\n"
     ]
    }
   ],
   "source": [
    "alist = []\n",
    "alist.append('x')\n",
    "\n",
    "print(alist)"
   ]
  },
  {
   "cell_type": "code",
   "execution_count": 51,
   "id": "6e9bba85",
   "metadata": {},
   "outputs": [
    {
     "data": {
      "text/html": [
       "<div>\n",
       "<style scoped>\n",
       "    .dataframe tbody tr th:only-of-type {\n",
       "        vertical-align: middle;\n",
       "    }\n",
       "\n",
       "    .dataframe tbody tr th {\n",
       "        vertical-align: top;\n",
       "    }\n",
       "\n",
       "    .dataframe thead th {\n",
       "        text-align: right;\n",
       "    }\n",
       "</style>\n",
       "<table border=\"1\" class=\"dataframe\">\n",
       "  <thead>\n",
       "    <tr style=\"text-align: right;\">\n",
       "      <th></th>\n",
       "      <th>AGR2</th>\n",
       "      <th>ASCL2</th>\n",
       "      <th>CCDC80</th>\n",
       "      <th>DCN</th>\n",
       "      <th>DUSP4</th>\n",
       "      <th>EFEMP2</th>\n",
       "      <th>FAP</th>\n",
       "      <th>GFPT2</th>\n",
       "      <th>POFUT1</th>\n",
       "      <th>REG4</th>\n",
       "      <th>RETNLB</th>\n",
       "      <th>SLC5A6</th>\n",
       "      <th>TRIM7</th>\n",
       "      <th>TSPAN6</th>\n",
       "      <th>TUBB6</th>\n",
       "    </tr>\n",
       "    <tr>\n",
       "      <th>SampleID</th>\n",
       "      <th></th>\n",
       "      <th></th>\n",
       "      <th></th>\n",
       "      <th></th>\n",
       "      <th></th>\n",
       "      <th></th>\n",
       "      <th></th>\n",
       "      <th></th>\n",
       "      <th></th>\n",
       "      <th></th>\n",
       "      <th></th>\n",
       "      <th></th>\n",
       "      <th></th>\n",
       "      <th></th>\n",
       "      <th></th>\n",
       "    </tr>\n",
       "  </thead>\n",
       "  <tbody>\n",
       "    <tr>\n",
       "      <th>Patient1</th>\n",
       "      <td>0.458546</td>\n",
       "      <td>0.988534</td>\n",
       "      <td>-0.232992</td>\n",
       "      <td>0.253044</td>\n",
       "      <td>-0.539031</td>\n",
       "      <td>0.248849</td>\n",
       "      <td>-0.715340</td>\n",
       "      <td>0.617273</td>\n",
       "      <td>3.050430</td>\n",
       "      <td>-0.824399</td>\n",
       "      <td>1.690257</td>\n",
       "      <td>1.662467</td>\n",
       "      <td>-0.527974</td>\n",
       "      <td>-0.002575</td>\n",
       "      <td>-0.574715</td>\n",
       "    </tr>\n",
       "    <tr>\n",
       "      <th>Patient2</th>\n",
       "      <td>-0.198581</td>\n",
       "      <td>0.497363</td>\n",
       "      <td>0.234904</td>\n",
       "      <td>-0.234283</td>\n",
       "      <td>-0.009292</td>\n",
       "      <td>-0.528840</td>\n",
       "      <td>-0.516187</td>\n",
       "      <td>-1.113625</td>\n",
       "      <td>1.099434</td>\n",
       "      <td>-1.347070</td>\n",
       "      <td>0.494436</td>\n",
       "      <td>1.851903</td>\n",
       "      <td>0.358063</td>\n",
       "      <td>1.146303</td>\n",
       "      <td>0.027797</td>\n",
       "    </tr>\n",
       "    <tr>\n",
       "      <th>Patient3</th>\n",
       "      <td>-0.499527</td>\n",
       "      <td>-1.151848</td>\n",
       "      <td>-0.346765</td>\n",
       "      <td>-0.639271</td>\n",
       "      <td>-0.339541</td>\n",
       "      <td>-0.222944</td>\n",
       "      <td>-0.651758</td>\n",
       "      <td>-0.848465</td>\n",
       "      <td>2.119397</td>\n",
       "      <td>-0.291738</td>\n",
       "      <td>-0.103167</td>\n",
       "      <td>2.963771</td>\n",
       "      <td>-1.600265</td>\n",
       "      <td>1.152644</td>\n",
       "      <td>-1.201254</td>\n",
       "    </tr>\n",
       "    <tr>\n",
       "      <th>Patient4</th>\n",
       "      <td>-0.845095</td>\n",
       "      <td>0.641841</td>\n",
       "      <td>1.839748</td>\n",
       "      <td>1.666622</td>\n",
       "      <td>-0.491241</td>\n",
       "      <td>1.159715</td>\n",
       "      <td>1.931764</td>\n",
       "      <td>0.708928</td>\n",
       "      <td>1.624548</td>\n",
       "      <td>-0.376576</td>\n",
       "      <td>-0.594549</td>\n",
       "      <td>0.564796</td>\n",
       "      <td>-0.206515</td>\n",
       "      <td>-0.026611</td>\n",
       "      <td>2.153402</td>\n",
       "    </tr>\n",
       "    <tr>\n",
       "      <th>Patient5</th>\n",
       "      <td>0.905065</td>\n",
       "      <td>0.193664</td>\n",
       "      <td>0.316813</td>\n",
       "      <td>-0.203252</td>\n",
       "      <td>-2.430767</td>\n",
       "      <td>0.267369</td>\n",
       "      <td>-0.145553</td>\n",
       "      <td>0.077878</td>\n",
       "      <td>1.308592</td>\n",
       "      <td>-0.382735</td>\n",
       "      <td>0.672305</td>\n",
       "      <td>1.107791</td>\n",
       "      <td>-0.603329</td>\n",
       "      <td>2.176258</td>\n",
       "      <td>-0.257825</td>\n",
       "    </tr>\n",
       "  </tbody>\n",
       "</table>\n",
       "</div>"
      ],
      "text/plain": [
       "              AGR2     ASCL2    CCDC80       DCN     DUSP4    EFEMP2  \\\n",
       "SampleID                                                               \n",
       "Patient1  0.458546  0.988534 -0.232992  0.253044 -0.539031  0.248849   \n",
       "Patient2 -0.198581  0.497363  0.234904 -0.234283 -0.009292 -0.528840   \n",
       "Patient3 -0.499527 -1.151848 -0.346765 -0.639271 -0.339541 -0.222944   \n",
       "Patient4 -0.845095  0.641841  1.839748  1.666622 -0.491241  1.159715   \n",
       "Patient5  0.905065  0.193664  0.316813 -0.203252 -2.430767  0.267369   \n",
       "\n",
       "               FAP     GFPT2    POFUT1      REG4    RETNLB    SLC5A6  \\\n",
       "SampleID                                                               \n",
       "Patient1 -0.715340  0.617273  3.050430 -0.824399  1.690257  1.662467   \n",
       "Patient2 -0.516187 -1.113625  1.099434 -1.347070  0.494436  1.851903   \n",
       "Patient3 -0.651758 -0.848465  2.119397 -0.291738 -0.103167  2.963771   \n",
       "Patient4  1.931764  0.708928  1.624548 -0.376576 -0.594549  0.564796   \n",
       "Patient5 -0.145553  0.077878  1.308592 -0.382735  0.672305  1.107791   \n",
       "\n",
       "             TRIM7    TSPAN6     TUBB6  \n",
       "SampleID                                \n",
       "Patient1 -0.527974 -0.002575 -0.574715  \n",
       "Patient2  0.358063  1.146303  0.027797  \n",
       "Patient3 -1.600265  1.152644 -1.201254  \n",
       "Patient4 -0.206515 -0.026611  2.153402  \n",
       "Patient5 -0.603329  2.176258 -0.257825  "
      ]
     },
     "execution_count": 51,
     "metadata": {},
     "output_type": "execute_result"
    }
   ],
   "source": [
    "data_no_cms = data_std.drop('CMS', axis = 1)\n",
    "data_no_cms.head()"
   ]
  },
  {
   "cell_type": "markdown",
   "id": "professional-scratch",
   "metadata": {},
   "source": [
    "## How to access rows, columns, and specific cells?\n",
    "* data['column name']\n",
    "* data.loc['index', 'column name']"
   ]
  },
  {
   "cell_type": "code",
   "execution_count": null,
   "id": "rolled-copying",
   "metadata": {},
   "outputs": [],
   "source": [
    "data.head(5)"
   ]
  },
  {
   "cell_type": "code",
   "execution_count": null,
   "id": "dying-equity",
   "metadata": {},
   "outputs": [],
   "source": [
    "data.loc['Patient3', :]"
   ]
  },
  {
   "cell_type": "markdown",
   "id": "superior-creature",
   "metadata": {},
   "source": [
    "## Access with boolean list\n",
    "* data.loc[[True, False, ..., True], ['column 1', 'column 2']]"
   ]
  },
  {
   "cell_type": "code",
   "execution_count": 52,
   "id": "conceptual-convenience",
   "metadata": {},
   "outputs": [
    {
     "data": {
      "text/plain": [
       "6.56686721773301"
      ]
     },
     "execution_count": 52,
     "metadata": {},
     "output_type": "execute_result"
    }
   ],
   "source": [
    "data.loc['Patient3', 'DUSP4']"
   ]
  },
  {
   "cell_type": "code",
   "execution_count": 53,
   "id": "finnish-result",
   "metadata": {},
   "outputs": [
    {
     "data": {
      "text/html": [
       "<div>\n",
       "<style scoped>\n",
       "    .dataframe tbody tr th:only-of-type {\n",
       "        vertical-align: middle;\n",
       "    }\n",
       "\n",
       "    .dataframe tbody tr th {\n",
       "        vertical-align: top;\n",
       "    }\n",
       "\n",
       "    .dataframe thead th {\n",
       "        text-align: right;\n",
       "    }\n",
       "</style>\n",
       "<table border=\"1\" class=\"dataframe\">\n",
       "  <thead>\n",
       "    <tr style=\"text-align: right;\">\n",
       "      <th></th>\n",
       "      <th>DUSP4</th>\n",
       "      <th>AGR2</th>\n",
       "    </tr>\n",
       "    <tr>\n",
       "      <th>SampleID</th>\n",
       "      <th></th>\n",
       "      <th></th>\n",
       "    </tr>\n",
       "  </thead>\n",
       "  <tbody>\n",
       "    <tr>\n",
       "      <th>Patient3</th>\n",
       "      <td>6.566867</td>\n",
       "      <td>8.543011</td>\n",
       "    </tr>\n",
       "    <tr>\n",
       "      <th>Patient10</th>\n",
       "      <td>5.674381</td>\n",
       "      <td>7.223094</td>\n",
       "    </tr>\n",
       "  </tbody>\n",
       "</table>\n",
       "</div>"
      ],
      "text/plain": [
       "              DUSP4      AGR2\n",
       "SampleID                     \n",
       "Patient3   6.566867  8.543011\n",
       "Patient10  5.674381  7.223094"
      ]
     },
     "execution_count": 53,
     "metadata": {},
     "output_type": "execute_result"
    }
   ],
   "source": [
    "data.loc[['Patient3', 'Patient10'], ['DUSP4', 'AGR2']]"
   ]
  },
  {
   "cell_type": "code",
   "execution_count": 54,
   "id": "applicable-poverty",
   "metadata": {
    "scrolled": true
   },
   "outputs": [
    {
     "data": {
      "text/plain": [
       "SampleID\n",
       "Patient1      True\n",
       "Patient2      True\n",
       "Patient3      True\n",
       "Patient4      True\n",
       "Patient5     False\n",
       "Patient6      True\n",
       "Patient7     False\n",
       "Patient8      True\n",
       "Patient9      True\n",
       "Patient10     True\n",
       "Patient11     True\n",
       "Patient12     True\n",
       "Patient13     True\n",
       "Patient14     True\n",
       "Patient15     True\n",
       "Patient16     True\n",
       "Patient17     True\n",
       "Patient18     True\n",
       "Patient19     True\n",
       "Patient20     True\n",
       "Patient21     True\n",
       "Patient22     True\n",
       "Patient23     True\n",
       "Patient24     True\n",
       "Patient25     True\n",
       "Patient26     True\n",
       "Patient27     True\n",
       "Patient28     True\n",
       "Patient29     True\n",
       "Patient30     True\n",
       "Patient31     True\n",
       "Patient32     True\n",
       "Patient33     True\n",
       "Patient34     True\n",
       "Patient35     True\n",
       "Patient36     True\n",
       "Patient37     True\n",
       "Patient38     True\n",
       "Patient39    False\n",
       "Patient40     True\n",
       "Patient41     True\n",
       "Patient42     True\n",
       "Patient43     True\n",
       "Patient44     True\n",
       "Patient45     True\n",
       "Patient46     True\n",
       "Patient47     True\n",
       "Patient48     True\n",
       "Patient49     True\n",
       "Patient50     True\n",
       "Name: DUSP4, dtype: bool"
      ]
     },
     "execution_count": 54,
     "metadata": {},
     "output_type": "execute_result"
    }
   ],
   "source": [
    "data['DUSP4'] > 5"
   ]
  },
  {
   "cell_type": "code",
   "execution_count": 56,
   "id": "45f18233",
   "metadata": {},
   "outputs": [
    {
     "data": {
      "text/html": [
       "<div>\n",
       "<style scoped>\n",
       "    .dataframe tbody tr th:only-of-type {\n",
       "        vertical-align: middle;\n",
       "    }\n",
       "\n",
       "    .dataframe tbody tr th {\n",
       "        vertical-align: top;\n",
       "    }\n",
       "\n",
       "    .dataframe thead th {\n",
       "        text-align: right;\n",
       "    }\n",
       "</style>\n",
       "<table border=\"1\" class=\"dataframe\">\n",
       "  <thead>\n",
       "    <tr style=\"text-align: right;\">\n",
       "      <th></th>\n",
       "      <th>FAP</th>\n",
       "      <th>SLC5A6</th>\n",
       "      <th>GFPT2</th>\n",
       "      <th>ASCL2</th>\n",
       "      <th>TSPAN6</th>\n",
       "      <th>CCDC80</th>\n",
       "      <th>DUSP4</th>\n",
       "      <th>EFEMP2</th>\n",
       "      <th>TRIM7</th>\n",
       "      <th>DCN</th>\n",
       "      <th>AGR2</th>\n",
       "      <th>REG4</th>\n",
       "      <th>TUBB6</th>\n",
       "      <th>POFUT1</th>\n",
       "      <th>RETNLB</th>\n",
       "      <th>CMS</th>\n",
       "    </tr>\n",
       "    <tr>\n",
       "      <th>SampleID</th>\n",
       "      <th></th>\n",
       "      <th></th>\n",
       "      <th></th>\n",
       "      <th></th>\n",
       "      <th></th>\n",
       "      <th></th>\n",
       "      <th></th>\n",
       "      <th></th>\n",
       "      <th></th>\n",
       "      <th></th>\n",
       "      <th></th>\n",
       "      <th></th>\n",
       "      <th></th>\n",
       "      <th></th>\n",
       "      <th></th>\n",
       "      <th></th>\n",
       "    </tr>\n",
       "  </thead>\n",
       "  <tbody>\n",
       "    <tr>\n",
       "      <th>Patient5</th>\n",
       "      <td>5.732008</td>\n",
       "      <td>7.252843</td>\n",
       "      <td>5.003082</td>\n",
       "      <td>6.519208</td>\n",
       "      <td>8.357291</td>\n",
       "      <td>5.660058</td>\n",
       "      <td>4.525700</td>\n",
       "      <td>6.506203</td>\n",
       "      <td>5.300539</td>\n",
       "      <td>7.059266</td>\n",
       "      <td>10.547725</td>\n",
       "      <td>7.424943</td>\n",
       "      <td>6.674952</td>\n",
       "      <td>5.850525</td>\n",
       "      <td>4.431800</td>\n",
       "      <td>CMS1</td>\n",
       "    </tr>\n",
       "    <tr>\n",
       "      <th>Patient7</th>\n",
       "      <td>5.323728</td>\n",
       "      <td>6.797493</td>\n",
       "      <td>5.650428</td>\n",
       "      <td>3.786245</td>\n",
       "      <td>6.562456</td>\n",
       "      <td>4.341460</td>\n",
       "      <td>4.417720</td>\n",
       "      <td>5.867998</td>\n",
       "      <td>6.271575</td>\n",
       "      <td>7.070642</td>\n",
       "      <td>4.684659</td>\n",
       "      <td>3.855574</td>\n",
       "      <td>6.317054</td>\n",
       "      <td>5.677381</td>\n",
       "      <td>3.284533</td>\n",
       "      <td>CMS1</td>\n",
       "    </tr>\n",
       "    <tr>\n",
       "      <th>Patient39</th>\n",
       "      <td>5.517355</td>\n",
       "      <td>6.846884</td>\n",
       "      <td>4.945900</td>\n",
       "      <td>7.825758</td>\n",
       "      <td>7.302324</td>\n",
       "      <td>4.977612</td>\n",
       "      <td>4.739178</td>\n",
       "      <td>5.595053</td>\n",
       "      <td>5.925502</td>\n",
       "      <td>6.156288</td>\n",
       "      <td>8.034304</td>\n",
       "      <td>5.228956</td>\n",
       "      <td>7.470683</td>\n",
       "      <td>4.885445</td>\n",
       "      <td>5.301257</td>\n",
       "      <td>CMS3</td>\n",
       "    </tr>\n",
       "  </tbody>\n",
       "</table>\n",
       "</div>"
      ],
      "text/plain": [
       "                FAP    SLC5A6     GFPT2     ASCL2    TSPAN6    CCDC80  \\\n",
       "SampleID                                                                \n",
       "Patient5   5.732008  7.252843  5.003082  6.519208  8.357291  5.660058   \n",
       "Patient7   5.323728  6.797493  5.650428  3.786245  6.562456  4.341460   \n",
       "Patient39  5.517355  6.846884  4.945900  7.825758  7.302324  4.977612   \n",
       "\n",
       "              DUSP4    EFEMP2     TRIM7       DCN       AGR2      REG4  \\\n",
       "SampleID                                                                 \n",
       "Patient5   4.525700  6.506203  5.300539  7.059266  10.547725  7.424943   \n",
       "Patient7   4.417720  5.867998  6.271575  7.070642   4.684659  3.855574   \n",
       "Patient39  4.739178  5.595053  5.925502  6.156288   8.034304  5.228956   \n",
       "\n",
       "              TUBB6    POFUT1    RETNLB   CMS  \n",
       "SampleID                                       \n",
       "Patient5   6.674952  5.850525  4.431800  CMS1  \n",
       "Patient7   6.317054  5.677381  3.284533  CMS1  \n",
       "Patient39  7.470683  4.885445  5.301257  CMS3  "
      ]
     },
     "execution_count": 56,
     "metadata": {},
     "output_type": "execute_result"
    }
   ],
   "source": [
    "data.loc[data['DUSP4'] <= 5, :]"
   ]
  },
  {
   "cell_type": "code",
   "execution_count": 57,
   "id": "flexible-judges",
   "metadata": {
    "scrolled": false
   },
   "outputs": [
    {
     "name": "stdout",
     "output_type": "stream",
     "text": [
      "average DUSP4 expression for patient from CMS1 is 6.756505373534206\n"
     ]
    }
   ],
   "source": [
    "print('average DUSP4 expression for patient from CMS1 is', data.loc[data['CMS'] == 'CMS1', 'DUSP4'].mean())"
   ]
  },
  {
   "cell_type": "markdown",
   "id": "lovely-singapore",
   "metadata": {},
   "source": [
    "## Applying multiple conditions"
   ]
  },
  {
   "cell_type": "code",
   "execution_count": 58,
   "id": "focal-france",
   "metadata": {
    "scrolled": true
   },
   "outputs": [
    {
     "data": {
      "text/plain": [
       "SampleID\n",
       "Patient1     False\n",
       "Patient2     False\n",
       "Patient3     False\n",
       "Patient4     False\n",
       "Patient5      True\n",
       "Patient6      True\n",
       "Patient7     False\n",
       "Patient8     False\n",
       "Patient9      True\n",
       "Patient10    False\n",
       "Patient11    False\n",
       "Patient12     True\n",
       "Patient13    False\n",
       "Patient14     True\n",
       "Patient15     True\n",
       "Patient16     True\n",
       "Patient17     True\n",
       "Patient18    False\n",
       "Patient19    False\n",
       "Patient20    False\n",
       "Patient21    False\n",
       "Patient22    False\n",
       "Patient23    False\n",
       "Patient24    False\n",
       "Patient25    False\n",
       "Patient26    False\n",
       "Patient27    False\n",
       "Patient28    False\n",
       "Patient29    False\n",
       "Patient30    False\n",
       "Patient31    False\n",
       "Patient32    False\n",
       "Patient33    False\n",
       "Patient34    False\n",
       "Patient35    False\n",
       "Patient36    False\n",
       "Patient37    False\n",
       "Patient38    False\n",
       "Patient39    False\n",
       "Patient40    False\n",
       "Patient41    False\n",
       "Patient42    False\n",
       "Patient43    False\n",
       "Patient44    False\n",
       "Patient45    False\n",
       "Patient46    False\n",
       "Patient47    False\n",
       "Patient48    False\n",
       "Patient49    False\n",
       "Patient50    False\n",
       "dtype: bool"
      ]
     },
     "execution_count": 58,
     "metadata": {},
     "output_type": "execute_result"
    }
   ],
   "source": [
    "(data['AGR2'] > 10) & (data['CMS'] == 'CMS1')"
   ]
  },
  {
   "cell_type": "code",
   "execution_count": 59,
   "id": "nearby-hormone",
   "metadata": {
    "scrolled": true
   },
   "outputs": [
    {
     "data": {
      "text/plain": [
       "SampleID\n",
       "Patient1      True\n",
       "Patient2      True\n",
       "Patient3      True\n",
       "Patient4      True\n",
       "Patient5      True\n",
       "Patient6      True\n",
       "Patient7      True\n",
       "Patient8      True\n",
       "Patient9      True\n",
       "Patient10     True\n",
       "Patient11     True\n",
       "Patient12     True\n",
       "Patient13     True\n",
       "Patient14     True\n",
       "Patient15     True\n",
       "Patient16     True\n",
       "Patient17     True\n",
       "Patient18     True\n",
       "Patient19     True\n",
       "Patient20     True\n",
       "Patient21    False\n",
       "Patient22    False\n",
       "Patient23     True\n",
       "Patient24    False\n",
       "Patient25    False\n",
       "Patient26     True\n",
       "Patient27    False\n",
       "Patient28    False\n",
       "Patient29     True\n",
       "Patient30    False\n",
       "Patient31    False\n",
       "Patient32    False\n",
       "Patient33     True\n",
       "Patient34     True\n",
       "Patient35    False\n",
       "Patient36    False\n",
       "Patient37     True\n",
       "Patient38    False\n",
       "Patient39    False\n",
       "Patient40    False\n",
       "Patient41    False\n",
       "Patient42    False\n",
       "Patient43    False\n",
       "Patient44    False\n",
       "Patient45     True\n",
       "Patient46    False\n",
       "Patient47    False\n",
       "Patient48    False\n",
       "Patient49     True\n",
       "Patient50    False\n",
       "dtype: bool"
      ]
     },
     "execution_count": 59,
     "metadata": {},
     "output_type": "execute_result"
    }
   ],
   "source": [
    "(data['AGR2'] > 10) | (data['CMS'] == 'CMS1')"
   ]
  },
  {
   "cell_type": "code",
   "execution_count": 61,
   "id": "pretty-biology",
   "metadata": {
    "scrolled": true
   },
   "outputs": [
    {
     "data": {
      "text/html": [
       "<div>\n",
       "<style scoped>\n",
       "    .dataframe tbody tr th:only-of-type {\n",
       "        vertical-align: middle;\n",
       "    }\n",
       "\n",
       "    .dataframe tbody tr th {\n",
       "        vertical-align: top;\n",
       "    }\n",
       "\n",
       "    .dataframe thead th {\n",
       "        text-align: right;\n",
       "    }\n",
       "</style>\n",
       "<table border=\"1\" class=\"dataframe\">\n",
       "  <thead>\n",
       "    <tr style=\"text-align: right;\">\n",
       "      <th></th>\n",
       "      <th>AGR2</th>\n",
       "      <th>CMS</th>\n",
       "    </tr>\n",
       "    <tr>\n",
       "      <th>SampleID</th>\n",
       "      <th></th>\n",
       "      <th></th>\n",
       "    </tr>\n",
       "  </thead>\n",
       "  <tbody>\n",
       "    <tr>\n",
       "      <th>Patient1</th>\n",
       "      <td>9.910427</td>\n",
       "      <td>CMS1</td>\n",
       "    </tr>\n",
       "    <tr>\n",
       "      <th>Patient2</th>\n",
       "      <td>8.972537</td>\n",
       "      <td>CMS1</td>\n",
       "    </tr>\n",
       "    <tr>\n",
       "      <th>Patient3</th>\n",
       "      <td>8.543011</td>\n",
       "      <td>CMS1</td>\n",
       "    </tr>\n",
       "    <tr>\n",
       "      <th>Patient4</th>\n",
       "      <td>8.049796</td>\n",
       "      <td>CMS1</td>\n",
       "    </tr>\n",
       "    <tr>\n",
       "      <th>Patient5</th>\n",
       "      <td>10.547725</td>\n",
       "      <td>CMS1</td>\n",
       "    </tr>\n",
       "    <tr>\n",
       "      <th>Patient6</th>\n",
       "      <td>10.541127</td>\n",
       "      <td>CMS1</td>\n",
       "    </tr>\n",
       "    <tr>\n",
       "      <th>Patient7</th>\n",
       "      <td>4.684659</td>\n",
       "      <td>CMS1</td>\n",
       "    </tr>\n",
       "    <tr>\n",
       "      <th>Patient8</th>\n",
       "      <td>5.026115</td>\n",
       "      <td>CMS1</td>\n",
       "    </tr>\n",
       "    <tr>\n",
       "      <th>Patient9</th>\n",
       "      <td>10.086906</td>\n",
       "      <td>CMS1</td>\n",
       "    </tr>\n",
       "    <tr>\n",
       "      <th>Patient10</th>\n",
       "      <td>7.223094</td>\n",
       "      <td>CMS1</td>\n",
       "    </tr>\n",
       "    <tr>\n",
       "      <th>Patient11</th>\n",
       "      <td>8.856314</td>\n",
       "      <td>CMS1</td>\n",
       "    </tr>\n",
       "    <tr>\n",
       "      <th>Patient12</th>\n",
       "      <td>10.056375</td>\n",
       "      <td>CMS1</td>\n",
       "    </tr>\n",
       "    <tr>\n",
       "      <th>Patient13</th>\n",
       "      <td>8.484403</td>\n",
       "      <td>CMS1</td>\n",
       "    </tr>\n",
       "    <tr>\n",
       "      <th>Patient14</th>\n",
       "      <td>11.572476</td>\n",
       "      <td>CMS1</td>\n",
       "    </tr>\n",
       "    <tr>\n",
       "      <th>Patient15</th>\n",
       "      <td>10.066439</td>\n",
       "      <td>CMS1</td>\n",
       "    </tr>\n",
       "    <tr>\n",
       "      <th>Patient16</th>\n",
       "      <td>11.022775</td>\n",
       "      <td>CMS1</td>\n",
       "    </tr>\n",
       "    <tr>\n",
       "      <th>Patient17</th>\n",
       "      <td>10.548896</td>\n",
       "      <td>CMS1</td>\n",
       "    </tr>\n",
       "    <tr>\n",
       "      <th>Patient18</th>\n",
       "      <td>9.902321</td>\n",
       "      <td>CMS1</td>\n",
       "    </tr>\n",
       "    <tr>\n",
       "      <th>Patient19</th>\n",
       "      <td>8.539917</td>\n",
       "      <td>CMS1</td>\n",
       "    </tr>\n",
       "    <tr>\n",
       "      <th>Patient20</th>\n",
       "      <td>7.494754</td>\n",
       "      <td>CMS1</td>\n",
       "    </tr>\n",
       "    <tr>\n",
       "      <th>Patient23</th>\n",
       "      <td>10.990321</td>\n",
       "      <td>CMS2</td>\n",
       "    </tr>\n",
       "    <tr>\n",
       "      <th>Patient26</th>\n",
       "      <td>10.640813</td>\n",
       "      <td>CMS2</td>\n",
       "    </tr>\n",
       "    <tr>\n",
       "      <th>Patient29</th>\n",
       "      <td>10.002124</td>\n",
       "      <td>CMS2</td>\n",
       "    </tr>\n",
       "    <tr>\n",
       "      <th>Patient33</th>\n",
       "      <td>11.024809</td>\n",
       "      <td>CMS2</td>\n",
       "    </tr>\n",
       "    <tr>\n",
       "      <th>Patient34</th>\n",
       "      <td>10.971064</td>\n",
       "      <td>CMS2</td>\n",
       "    </tr>\n",
       "    <tr>\n",
       "      <th>Patient37</th>\n",
       "      <td>10.231674</td>\n",
       "      <td>CMS3</td>\n",
       "    </tr>\n",
       "    <tr>\n",
       "      <th>Patient45</th>\n",
       "      <td>10.561633</td>\n",
       "      <td>CMS3</td>\n",
       "    </tr>\n",
       "    <tr>\n",
       "      <th>Patient49</th>\n",
       "      <td>11.457905</td>\n",
       "      <td>CMS3</td>\n",
       "    </tr>\n",
       "  </tbody>\n",
       "</table>\n",
       "</div>"
      ],
      "text/plain": [
       "                AGR2   CMS\n",
       "SampleID                  \n",
       "Patient1    9.910427  CMS1\n",
       "Patient2    8.972537  CMS1\n",
       "Patient3    8.543011  CMS1\n",
       "Patient4    8.049796  CMS1\n",
       "Patient5   10.547725  CMS1\n",
       "Patient6   10.541127  CMS1\n",
       "Patient7    4.684659  CMS1\n",
       "Patient8    5.026115  CMS1\n",
       "Patient9   10.086906  CMS1\n",
       "Patient10   7.223094  CMS1\n",
       "Patient11   8.856314  CMS1\n",
       "Patient12  10.056375  CMS1\n",
       "Patient13   8.484403  CMS1\n",
       "Patient14  11.572476  CMS1\n",
       "Patient15  10.066439  CMS1\n",
       "Patient16  11.022775  CMS1\n",
       "Patient17  10.548896  CMS1\n",
       "Patient18   9.902321  CMS1\n",
       "Patient19   8.539917  CMS1\n",
       "Patient20   7.494754  CMS1\n",
       "Patient23  10.990321  CMS2\n",
       "Patient26  10.640813  CMS2\n",
       "Patient29  10.002124  CMS2\n",
       "Patient33  11.024809  CMS2\n",
       "Patient34  10.971064  CMS2\n",
       "Patient37  10.231674  CMS3\n",
       "Patient45  10.561633  CMS3\n",
       "Patient49  11.457905  CMS3"
      ]
     },
     "execution_count": 61,
     "metadata": {},
     "output_type": "execute_result"
    }
   ],
   "source": [
    "data.loc[(data['AGR2'] > 10) | (data['CMS'] == 'CMS1'), ['AGR2', 'CMS']]"
   ]
  },
  {
   "cell_type": "markdown",
   "id": "funded-investment",
   "metadata": {},
   "source": [
    "## Selection for categorical feature"
   ]
  },
  {
   "cell_type": "code",
   "execution_count": 62,
   "id": "unavailable-timeline",
   "metadata": {},
   "outputs": [
    {
     "data": {
      "text/plain": [
       "array(['CMS1', 'CMS2', 'CMS3'], dtype=object)"
      ]
     },
     "metadata": {},
     "output_type": "display_data"
    },
    {
     "name": "stdout",
     "output_type": "stream",
     "text": [
      "['CMS1' 'CMS2' 'CMS3']\n"
     ]
    }
   ],
   "source": [
    "array = pd.unique(data['CMS'])\n",
    "display(array)\n",
    "print(array)"
   ]
  },
  {
   "cell_type": "code",
   "execution_count": 64,
   "id": "extraordinary-citizen",
   "metadata": {},
   "outputs": [
    {
     "name": "stdout",
     "output_type": "stream",
     "text": [
      "['CMS3', 'CMS2', 'CMS1']\n"
     ]
    }
   ],
   "source": [
    "lst = sorted(pd.unique(data['CMS']), reverse = True)\n",
    "print(lst)"
   ]
  },
  {
   "cell_type": "code",
   "execution_count": null,
   "id": "roman-perth",
   "metadata": {},
   "outputs": [],
   "source": [
    "data.loc[data['CMS'].isin(['CMS2', 'CMS3']), 'AGR2'].mean()"
   ]
  },
  {
   "cell_type": "markdown",
   "id": "bigger-pointer",
   "metadata": {},
   "source": [
    "## Ability to use index is restricted to list, not array"
   ]
  },
  {
   "cell_type": "code",
   "execution_count": 65,
   "id": "talented-belize",
   "metadata": {},
   "outputs": [
    {
     "data": {
      "text/plain": [
       "1"
      ]
     },
     "execution_count": 65,
     "metadata": {},
     "output_type": "execute_result"
    }
   ],
   "source": [
    "lst.index('CMS2')"
   ]
  },
  {
   "cell_type": "code",
   "execution_count": 66,
   "id": "spectacular-reason",
   "metadata": {},
   "outputs": [
    {
     "ename": "AttributeError",
     "evalue": "'numpy.ndarray' object has no attribute 'index'",
     "output_type": "error",
     "traceback": [
      "\u001b[0;31m---------------------------------------------------------------------------\u001b[0m",
      "\u001b[0;31mAttributeError\u001b[0m                            Traceback (most recent call last)",
      "Cell \u001b[0;32mIn [66], line 1\u001b[0m\n\u001b[0;32m----> 1\u001b[0m \u001b[43marray\u001b[49m\u001b[38;5;241;43m.\u001b[39;49m\u001b[43mindex\u001b[49m(\u001b[38;5;124m'\u001b[39m\u001b[38;5;124mCMS2\u001b[39m\u001b[38;5;124m'\u001b[39m)\n",
      "\u001b[0;31mAttributeError\u001b[0m: 'numpy.ndarray' object has no attribute 'index'"
     ]
    }
   ],
   "source": [
    "array.index('CMS2')"
   ]
  },
  {
   "cell_type": "markdown",
   "id": "precious-consumer",
   "metadata": {},
   "source": [
    "## But ability to select entries by condition is restricted to array, not list"
   ]
  },
  {
   "cell_type": "code",
   "execution_count": 67,
   "id": "organic-greene",
   "metadata": {},
   "outputs": [],
   "source": [
    "array = np.array([40, 60, 70, 80, 50])\n",
    "lst = [40, 60, 70, 80, 50]"
   ]
  },
  {
   "cell_type": "code",
   "execution_count": 70,
   "id": "76c91357",
   "metadata": {},
   "outputs": [
    {
     "name": "stdout",
     "output_type": "stream",
     "text": [
      "[40 60 70 80 50]\n",
      "[40, 60, 70, 80, 50]\n"
     ]
    }
   ],
   "source": [
    "print(array)\n",
    "print(lst)"
   ]
  },
  {
   "cell_type": "code",
   "execution_count": 68,
   "id": "french-decade",
   "metadata": {},
   "outputs": [
    {
     "data": {
      "text/plain": [
       "array([70, 80])"
      ]
     },
     "execution_count": 68,
     "metadata": {},
     "output_type": "execute_result"
    }
   ],
   "source": [
    "array[array > 60]"
   ]
  },
  {
   "cell_type": "code",
   "execution_count": 69,
   "id": "greenhouse-harvest",
   "metadata": {},
   "outputs": [
    {
     "ename": "TypeError",
     "evalue": "'>' not supported between instances of 'list' and 'int'",
     "output_type": "error",
     "traceback": [
      "\u001b[0;31m---------------------------------------------------------------------------\u001b[0m",
      "\u001b[0;31mTypeError\u001b[0m                                 Traceback (most recent call last)",
      "Cell \u001b[0;32mIn [69], line 1\u001b[0m\n\u001b[0;32m----> 1\u001b[0m lst[\u001b[43mlst\u001b[49m\u001b[43m \u001b[49m\u001b[38;5;241;43m>\u001b[39;49m\u001b[43m \u001b[49m\u001b[38;5;241;43m60\u001b[39;49m]\n",
      "\u001b[0;31mTypeError\u001b[0m: '>' not supported between instances of 'list' and 'int'"
     ]
    }
   ],
   "source": [
    "lst[lst > 60]"
   ]
  },
  {
   "cell_type": "code",
   "execution_count": 71,
   "id": "abd88b44",
   "metadata": {},
   "outputs": [
    {
     "name": "stdout",
     "output_type": "stream",
     "text": [
      "[4. 6. 7. 8. 5.]\n"
     ]
    }
   ],
   "source": [
    "new_array = array / 10\n",
    "print(new_array)"
   ]
  },
  {
   "cell_type": "code",
   "execution_count": 72,
   "id": "165ca58b",
   "metadata": {},
   "outputs": [
    {
     "ename": "TypeError",
     "evalue": "unsupported operand type(s) for /: 'list' and 'int'",
     "output_type": "error",
     "traceback": [
      "\u001b[0;31m---------------------------------------------------------------------------\u001b[0m",
      "\u001b[0;31mTypeError\u001b[0m                                 Traceback (most recent call last)",
      "Cell \u001b[0;32mIn [72], line 1\u001b[0m\n\u001b[0;32m----> 1\u001b[0m new_lst \u001b[38;5;241m=\u001b[39m \u001b[43mlst\u001b[49m\u001b[43m \u001b[49m\u001b[38;5;241;43m/\u001b[39;49m\u001b[43m \u001b[49m\u001b[38;5;241;43m10\u001b[39;49m\n",
      "\u001b[0;31mTypeError\u001b[0m: unsupported operand type(s) for /: 'list' and 'int'"
     ]
    }
   ],
   "source": [
    "new_lst = lst / 10"
   ]
  },
  {
   "cell_type": "markdown",
   "id": "metallic-plasma",
   "metadata": {},
   "source": [
    "## List comprehension"
   ]
  },
  {
   "cell_type": "code",
   "execution_count": 73,
   "id": "actual-heather",
   "metadata": {},
   "outputs": [
    {
     "name": "stdout",
     "output_type": "stream",
     "text": [
      "[3, 4, 5, 6, 7, 3, 4, 5, 6, 7]\n"
     ]
    }
   ],
   "source": [
    "lst = [3, 4, 5, 6, 7]\n",
    "twice_lst = lst * 2\n",
    "\n",
    "print(twice_lst)"
   ]
  },
  {
   "cell_type": "code",
   "execution_count": 74,
   "id": "ceramic-inflation",
   "metadata": {},
   "outputs": [
    {
     "name": "stdout",
     "output_type": "stream",
     "text": [
      "[6, 8, 10, 12, 14]\n"
     ]
    }
   ],
   "source": [
    "new_twice_lst = [x * 2 for x in lst]\n",
    "\n",
    "print(new_twice_lst)"
   ]
  },
  {
   "cell_type": "code",
   "execution_count": 75,
   "id": "greatest-macro",
   "metadata": {},
   "outputs": [
    {
     "name": "stdout",
     "output_type": "stream",
     "text": [
      "[2.5, 3.0, 3.5]\n"
     ]
    }
   ],
   "source": [
    "half_lst = [x / 2 for x in lst if x > 4]\n",
    "\n",
    "print(half_lst)"
   ]
  },
  {
   "cell_type": "markdown",
   "id": "worldwide-newfoundland",
   "metadata": {},
   "source": [
    "## Convert array to list"
   ]
  },
  {
   "cell_type": "code",
   "execution_count": 76,
   "id": "characteristic-maintenance",
   "metadata": {},
   "outputs": [
    {
     "name": "stdout",
     "output_type": "stream",
     "text": [
      "[40, 60, 70, 80, 50]\n"
     ]
    }
   ],
   "source": [
    "lst = list(array)\n",
    "print(lst)"
   ]
  },
  {
   "cell_type": "code",
   "execution_count": 77,
   "id": "93b65d2e",
   "metadata": {},
   "outputs": [
    {
     "name": "stdout",
     "output_type": "stream",
     "text": [
      "[40 60 70 80 50]\n"
     ]
    }
   ],
   "source": [
    "array = np.array(lst)\n",
    "print(array)"
   ]
  },
  {
   "cell_type": "markdown",
   "id": "wrong-prerequisite",
   "metadata": {},
   "source": [
    "## Load a different sheet from an excel file"
   ]
  },
  {
   "cell_type": "code",
   "execution_count": 78,
   "id": "advanced-momentum",
   "metadata": {},
   "outputs": [
    {
     "data": {
      "text/html": [
       "<div>\n",
       "<style scoped>\n",
       "    .dataframe tbody tr th:only-of-type {\n",
       "        vertical-align: middle;\n",
       "    }\n",
       "\n",
       "    .dataframe tbody tr th {\n",
       "        vertical-align: top;\n",
       "    }\n",
       "\n",
       "    .dataframe thead th {\n",
       "        text-align: right;\n",
       "    }\n",
       "</style>\n",
       "<table border=\"1\" class=\"dataframe\">\n",
       "  <thead>\n",
       "    <tr style=\"text-align: right;\">\n",
       "      <th></th>\n",
       "      <th>KRAS</th>\n",
       "      <th>BRAF</th>\n",
       "      <th>APC</th>\n",
       "      <th>TP53</th>\n",
       "      <th>PIK3CA</th>\n",
       "      <th>PTEN</th>\n",
       "      <th>microsatelite_status</th>\n",
       "    </tr>\n",
       "    <tr>\n",
       "      <th>SampleID</th>\n",
       "      <th></th>\n",
       "      <th></th>\n",
       "      <th></th>\n",
       "      <th></th>\n",
       "      <th></th>\n",
       "      <th></th>\n",
       "      <th></th>\n",
       "    </tr>\n",
       "  </thead>\n",
       "  <tbody>\n",
       "    <tr>\n",
       "      <th>Patient1</th>\n",
       "      <td>NaN</td>\n",
       "      <td>NaN</td>\n",
       "      <td>NaN</td>\n",
       "      <td>NaN</td>\n",
       "      <td>NaN</td>\n",
       "      <td>NaN</td>\n",
       "      <td>NaN</td>\n",
       "    </tr>\n",
       "    <tr>\n",
       "      <th>Patient2</th>\n",
       "      <td>NaN</td>\n",
       "      <td>NaN</td>\n",
       "      <td>NaN</td>\n",
       "      <td>NaN</td>\n",
       "      <td>NaN</td>\n",
       "      <td>NaN</td>\n",
       "      <td>NaN</td>\n",
       "    </tr>\n",
       "    <tr>\n",
       "      <th>Patient3</th>\n",
       "      <td>NaN</td>\n",
       "      <td>NaN</td>\n",
       "      <td>NaN</td>\n",
       "      <td>NaN</td>\n",
       "      <td>NaN</td>\n",
       "      <td>NaN</td>\n",
       "      <td>NaN</td>\n",
       "    </tr>\n",
       "    <tr>\n",
       "      <th>Patient4</th>\n",
       "      <td>NaN</td>\n",
       "      <td>NaN</td>\n",
       "      <td>NaN</td>\n",
       "      <td>NaN</td>\n",
       "      <td>NaN</td>\n",
       "      <td>NaN</td>\n",
       "      <td>NaN</td>\n",
       "    </tr>\n",
       "    <tr>\n",
       "      <th>Patient5</th>\n",
       "      <td>wt</td>\n",
       "      <td>wt</td>\n",
       "      <td>wt</td>\n",
       "      <td>wt</td>\n",
       "      <td>mt</td>\n",
       "      <td>mt</td>\n",
       "      <td>MSI</td>\n",
       "    </tr>\n",
       "  </tbody>\n",
       "</table>\n",
       "</div>"
      ],
      "text/plain": [
       "         KRAS BRAF  APC TP53 PIK3CA PTEN microsatelite_status\n",
       "SampleID                                                     \n",
       "Patient1  NaN  NaN  NaN  NaN    NaN  NaN                  NaN\n",
       "Patient2  NaN  NaN  NaN  NaN    NaN  NaN                  NaN\n",
       "Patient3  NaN  NaN  NaN  NaN    NaN  NaN                  NaN\n",
       "Patient4  NaN  NaN  NaN  NaN    NaN  NaN                  NaN\n",
       "Patient5   wt   wt   wt   wt     mt   mt                  MSI"
      ]
     },
     "execution_count": 78,
     "metadata": {},
     "output_type": "execute_result"
    }
   ],
   "source": [
    "mutation_data = pd.read_excel('CRC_sample_data.xlsx', sheet_name = 'mutation', header = 0, index_col = 0)\n",
    "mutation_data.head(5)"
   ]
  },
  {
   "cell_type": "markdown",
   "id": "breeding-reasoning",
   "metadata": {},
   "source": [
    "## Select non-missing values\n",
    "isna()"
   ]
  },
  {
   "cell_type": "code",
   "execution_count": 79,
   "id": "manufactured-airplane",
   "metadata": {
    "scrolled": true
   },
   "outputs": [
    {
     "data": {
      "text/plain": [
       "SampleID\n",
       "Patient1      True\n",
       "Patient2      True\n",
       "Patient3      True\n",
       "Patient4      True\n",
       "Patient5     False\n",
       "Patient6     False\n",
       "Patient7     False\n",
       "Patient8     False\n",
       "Patient9     False\n",
       "Patient10    False\n",
       "Patient11    False\n",
       "Patient12     True\n",
       "Patient13     True\n",
       "Patient14     True\n",
       "Patient15    False\n",
       "Patient16     True\n",
       "Patient17    False\n",
       "Patient18    False\n",
       "Patient19    False\n",
       "Patient20    False\n",
       "Patient21    False\n",
       "Patient22    False\n",
       "Patient23    False\n",
       "Patient24    False\n",
       "Patient25     True\n",
       "Patient26    False\n",
       "Patient27    False\n",
       "Patient28    False\n",
       "Patient29    False\n",
       "Patient30     True\n",
       "Patient31    False\n",
       "Patient32    False\n",
       "Patient33    False\n",
       "Patient34     True\n",
       "Patient35    False\n",
       "Patient36     True\n",
       "Patient37    False\n",
       "Patient38    False\n",
       "Patient39    False\n",
       "Patient40    False\n",
       "Patient41    False\n",
       "Patient42    False\n",
       "Patient43    False\n",
       "Patient44    False\n",
       "Patient45    False\n",
       "Patient46    False\n",
       "Patient47    False\n",
       "Patient48     True\n",
       "Patient49     True\n",
       "Patient50     True\n",
       "Name: KRAS, dtype: bool"
      ]
     },
     "execution_count": 79,
     "metadata": {},
     "output_type": "execute_result"
    }
   ],
   "source": [
    "pd.isna(mutation_data['KRAS'])"
   ]
  },
  {
   "cell_type": "code",
   "execution_count": 80,
   "id": "valuable-acting",
   "metadata": {
    "scrolled": true
   },
   "outputs": [
    {
     "data": {
      "text/plain": [
       "SampleID\n",
       "Patient5     wt\n",
       "Patient6     wt\n",
       "Patient7     wt\n",
       "Patient8     mt\n",
       "Patient9     wt\n",
       "Patient10    wt\n",
       "Patient11    mt\n",
       "Patient15    mt\n",
       "Patient17    wt\n",
       "Patient18    wt\n",
       "Patient19    wt\n",
       "Patient20    mt\n",
       "Patient21    wt\n",
       "Patient22    mt\n",
       "Patient23    wt\n",
       "Patient24    wt\n",
       "Patient26    wt\n",
       "Patient27    wt\n",
       "Patient28    wt\n",
       "Patient29    wt\n",
       "Patient31    wt\n",
       "Patient32    wt\n",
       "Patient33    wt\n",
       "Patient35    wt\n",
       "Patient37    wt\n",
       "Patient38    mt\n",
       "Patient39    wt\n",
       "Patient40    wt\n",
       "Patient41    mt\n",
       "Patient42    mt\n",
       "Patient43    wt\n",
       "Patient44    wt\n",
       "Patient45    mt\n",
       "Patient46    mt\n",
       "Patient47    mt\n",
       "Name: KRAS, dtype: object"
      ]
     },
     "execution_count": 80,
     "metadata": {},
     "output_type": "execute_result"
    }
   ],
   "source": [
    "mutation_data.loc[~pd.isna(mutation_data['KRAS']), 'KRAS']"
   ]
  },
  {
   "cell_type": "markdown",
   "id": "dental-dressing",
   "metadata": {},
   "source": [
    "## Copying data frame\n",
    "Copying is important because we sometimes want to preserve the original data"
   ]
  },
  {
   "cell_type": "code",
   "execution_count": 1,
   "id": "received-prize",
   "metadata": {},
   "outputs": [
    {
     "name": "stdout",
     "output_type": "stream",
     "text": [
      "5\n"
     ]
    }
   ],
   "source": [
    "x = 5\n",
    "y = x\n",
    "x = 10\n",
    "print(y)"
   ]
  },
  {
   "cell_type": "code",
   "execution_count": 2,
   "id": "combined-survivor",
   "metadata": {},
   "outputs": [
    {
     "name": "stdout",
     "output_type": "stream",
     "text": [
      "[1, 5, 4]\n"
     ]
    }
   ],
   "source": [
    "lst = [1, 3, 4]\n",
    "new_lst = lst\n",
    "lst[1] = 5\n",
    "\n",
    "print(new_lst)"
   ]
  },
  {
   "cell_type": "code",
   "execution_count": 7,
   "id": "ecological-crest",
   "metadata": {},
   "outputs": [
    {
     "data": {
      "text/html": [
       "<div>\n",
       "<style scoped>\n",
       "    .dataframe tbody tr th:only-of-type {\n",
       "        vertical-align: middle;\n",
       "    }\n",
       "\n",
       "    .dataframe tbody tr th {\n",
       "        vertical-align: top;\n",
       "    }\n",
       "\n",
       "    .dataframe thead th {\n",
       "        text-align: right;\n",
       "    }\n",
       "</style>\n",
       "<table border=\"1\" class=\"dataframe\">\n",
       "  <thead>\n",
       "    <tr style=\"text-align: right;\">\n",
       "      <th></th>\n",
       "      <th>FAP</th>\n",
       "      <th>SLC5A6</th>\n",
       "      <th>GFPT2</th>\n",
       "      <th>ASCL2</th>\n",
       "      <th>TSPAN6</th>\n",
       "      <th>CCDC80</th>\n",
       "      <th>DUSP4</th>\n",
       "      <th>EFEMP2</th>\n",
       "      <th>TRIM7</th>\n",
       "      <th>DCN</th>\n",
       "      <th>AGR2</th>\n",
       "      <th>REG4</th>\n",
       "      <th>TUBB6</th>\n",
       "      <th>POFUT1</th>\n",
       "      <th>RETNLB</th>\n",
       "      <th>CMS</th>\n",
       "    </tr>\n",
       "    <tr>\n",
       "      <th>SampleID</th>\n",
       "      <th></th>\n",
       "      <th></th>\n",
       "      <th></th>\n",
       "      <th></th>\n",
       "      <th></th>\n",
       "      <th></th>\n",
       "      <th></th>\n",
       "      <th></th>\n",
       "      <th></th>\n",
       "      <th></th>\n",
       "      <th></th>\n",
       "      <th></th>\n",
       "      <th></th>\n",
       "      <th></th>\n",
       "      <th></th>\n",
       "      <th></th>\n",
       "    </tr>\n",
       "  </thead>\n",
       "  <tbody>\n",
       "    <tr>\n",
       "      <th>Patient1</th>\n",
       "      <td>5.317879</td>\n",
       "      <td>7.521597</td>\n",
       "      <td>5.458581</td>\n",
       "      <td>7.873975</td>\n",
       "      <td>6.777987</td>\n",
       "      <td>5.148662</td>\n",
       "      <td>6.372153</td>\n",
       "      <td>6.495578</td>\n",
       "      <td>5.361258</td>\n",
       "      <td>7.529628</td>\n",
       "      <td>9.910427</td>\n",
       "      <td>6.563663</td>\n",
       "      <td>6.467622</td>\n",
       "      <td>6.556573</td>\n",
       "      <td>5.782625</td>\n",
       "      <td>CMS1</td>\n",
       "    </tr>\n",
       "    <tr>\n",
       "      <th>Patient2</th>\n",
       "      <td>5.462626</td>\n",
       "      <td>7.613383</td>\n",
       "      <td>3.996901</td>\n",
       "      <td>7.036830</td>\n",
       "      <td>7.610739</td>\n",
       "      <td>5.583870</td>\n",
       "      <td>6.889211</td>\n",
       "      <td>6.049421</td>\n",
       "      <td>6.075198</td>\n",
       "      <td>7.027278</td>\n",
       "      <td>8.972537</td>\n",
       "      <td>5.544412</td>\n",
       "      <td>6.861825</td>\n",
       "      <td>5.765743</td>\n",
       "      <td>4.195767</td>\n",
       "      <td>CMS1</td>\n",
       "    </tr>\n",
       "    <tr>\n",
       "      <th>Patient3</th>\n",
       "      <td>5.364091</td>\n",
       "      <td>8.152112</td>\n",
       "      <td>4.220819</td>\n",
       "      <td>4.225933</td>\n",
       "      <td>7.615335</td>\n",
       "      <td>5.042837</td>\n",
       "      <td>6.566867</td>\n",
       "      <td>6.224913</td>\n",
       "      <td>4.497239</td>\n",
       "      <td>6.609805</td>\n",
       "      <td>8.543011</td>\n",
       "      <td>7.602395</td>\n",
       "      <td>6.057700</td>\n",
       "      <td>6.179182</td>\n",
       "      <td>3.402747</td>\n",
       "      <td>CMS1</td>\n",
       "    </tr>\n",
       "    <tr>\n",
       "      <th>Patient4</th>\n",
       "      <td>7.241834</td>\n",
       "      <td>6.989748</td>\n",
       "      <td>5.535980</td>\n",
       "      <td>7.283076</td>\n",
       "      <td>6.760564</td>\n",
       "      <td>7.076600</td>\n",
       "      <td>6.418798</td>\n",
       "      <td>7.018138</td>\n",
       "      <td>5.620279</td>\n",
       "      <td>8.986782</td>\n",
       "      <td>8.049796</td>\n",
       "      <td>7.436953</td>\n",
       "      <td>8.252535</td>\n",
       "      <td>5.978596</td>\n",
       "      <td>2.750682</td>\n",
       "      <td>CMS1</td>\n",
       "    </tr>\n",
       "    <tr>\n",
       "      <th>Patient5</th>\n",
       "      <td>5.732008</td>\n",
       "      <td>7.252843</td>\n",
       "      <td>5.003082</td>\n",
       "      <td>6.519208</td>\n",
       "      <td>8.357291</td>\n",
       "      <td>5.660058</td>\n",
       "      <td>4.525700</td>\n",
       "      <td>6.506203</td>\n",
       "      <td>5.300539</td>\n",
       "      <td>7.059266</td>\n",
       "      <td>10.547725</td>\n",
       "      <td>7.424943</td>\n",
       "      <td>6.674952</td>\n",
       "      <td>5.850525</td>\n",
       "      <td>4.431800</td>\n",
       "      <td>CMS1</td>\n",
       "    </tr>\n",
       "  </tbody>\n",
       "</table>\n",
       "</div>"
      ],
      "text/plain": [
       "               FAP    SLC5A6     GFPT2     ASCL2    TSPAN6    CCDC80  \\\n",
       "SampleID                                                               \n",
       "Patient1  5.317879  7.521597  5.458581  7.873975  6.777987  5.148662   \n",
       "Patient2  5.462626  7.613383  3.996901  7.036830  7.610739  5.583870   \n",
       "Patient3  5.364091  8.152112  4.220819  4.225933  7.615335  5.042837   \n",
       "Patient4  7.241834  6.989748  5.535980  7.283076  6.760564  7.076600   \n",
       "Patient5  5.732008  7.252843  5.003082  6.519208  8.357291  5.660058   \n",
       "\n",
       "             DUSP4    EFEMP2     TRIM7       DCN       AGR2      REG4  \\\n",
       "SampleID                                                                \n",
       "Patient1  6.372153  6.495578  5.361258  7.529628   9.910427  6.563663   \n",
       "Patient2  6.889211  6.049421  6.075198  7.027278   8.972537  5.544412   \n",
       "Patient3  6.566867  6.224913  4.497239  6.609805   8.543011  7.602395   \n",
       "Patient4  6.418798  7.018138  5.620279  8.986782   8.049796  7.436953   \n",
       "Patient5  4.525700  6.506203  5.300539  7.059266  10.547725  7.424943   \n",
       "\n",
       "             TUBB6    POFUT1    RETNLB   CMS  \n",
       "SampleID                                      \n",
       "Patient1  6.467622  6.556573  5.782625  CMS1  \n",
       "Patient2  6.861825  5.765743  4.195767  CMS1  \n",
       "Patient3  6.057700  6.179182  3.402747  CMS1  \n",
       "Patient4  8.252535  5.978596  2.750682  CMS1  \n",
       "Patient5  6.674952  5.850525  4.431800  CMS1  "
      ]
     },
     "execution_count": 7,
     "metadata": {},
     "output_type": "execute_result"
    }
   ],
   "source": [
    "new_data = data.copy()\n",
    "new_data.head()"
   ]
  },
  {
   "cell_type": "code",
   "execution_count": 8,
   "id": "atmospheric-bulletin",
   "metadata": {},
   "outputs": [
    {
     "data": {
      "text/html": [
       "<div>\n",
       "<style scoped>\n",
       "    .dataframe tbody tr th:only-of-type {\n",
       "        vertical-align: middle;\n",
       "    }\n",
       "\n",
       "    .dataframe tbody tr th {\n",
       "        vertical-align: top;\n",
       "    }\n",
       "\n",
       "    .dataframe thead th {\n",
       "        text-align: right;\n",
       "    }\n",
       "</style>\n",
       "<table border=\"1\" class=\"dataframe\">\n",
       "  <thead>\n",
       "    <tr style=\"text-align: right;\">\n",
       "      <th></th>\n",
       "      <th>FAP</th>\n",
       "      <th>SLC5A6</th>\n",
       "      <th>GFPT2</th>\n",
       "      <th>ASCL2</th>\n",
       "      <th>TSPAN6</th>\n",
       "      <th>CCDC80</th>\n",
       "      <th>DUSP4</th>\n",
       "      <th>EFEMP2</th>\n",
       "      <th>TRIM7</th>\n",
       "      <th>DCN</th>\n",
       "      <th>AGR2</th>\n",
       "      <th>REG4</th>\n",
       "      <th>TUBB6</th>\n",
       "      <th>POFUT1</th>\n",
       "      <th>RETNLB</th>\n",
       "      <th>CMS</th>\n",
       "    </tr>\n",
       "    <tr>\n",
       "      <th>SampleID</th>\n",
       "      <th></th>\n",
       "      <th></th>\n",
       "      <th></th>\n",
       "      <th></th>\n",
       "      <th></th>\n",
       "      <th></th>\n",
       "      <th></th>\n",
       "      <th></th>\n",
       "      <th></th>\n",
       "      <th></th>\n",
       "      <th></th>\n",
       "      <th></th>\n",
       "      <th></th>\n",
       "      <th></th>\n",
       "      <th></th>\n",
       "      <th></th>\n",
       "    </tr>\n",
       "  </thead>\n",
       "  <tbody>\n",
       "    <tr>\n",
       "      <th>Patient1</th>\n",
       "      <td>-5.000000</td>\n",
       "      <td>7.521597</td>\n",
       "      <td>5.458581</td>\n",
       "      <td>7.873975</td>\n",
       "      <td>6.777987</td>\n",
       "      <td>5.148662</td>\n",
       "      <td>6.372153</td>\n",
       "      <td>6.495578</td>\n",
       "      <td>5.361258</td>\n",
       "      <td>7.529628</td>\n",
       "      <td>9.910427</td>\n",
       "      <td>6.563663</td>\n",
       "      <td>6.467622</td>\n",
       "      <td>6.556573</td>\n",
       "      <td>5.782625</td>\n",
       "      <td>CMS1</td>\n",
       "    </tr>\n",
       "    <tr>\n",
       "      <th>Patient2</th>\n",
       "      <td>5.462626</td>\n",
       "      <td>7.613383</td>\n",
       "      <td>3.996901</td>\n",
       "      <td>7.036830</td>\n",
       "      <td>7.610739</td>\n",
       "      <td>5.583870</td>\n",
       "      <td>6.889211</td>\n",
       "      <td>6.049421</td>\n",
       "      <td>6.075198</td>\n",
       "      <td>7.027278</td>\n",
       "      <td>8.972537</td>\n",
       "      <td>5.544412</td>\n",
       "      <td>6.861825</td>\n",
       "      <td>5.765743</td>\n",
       "      <td>4.195767</td>\n",
       "      <td>CMS1</td>\n",
       "    </tr>\n",
       "    <tr>\n",
       "      <th>Patient3</th>\n",
       "      <td>5.364091</td>\n",
       "      <td>8.152112</td>\n",
       "      <td>4.220819</td>\n",
       "      <td>4.225933</td>\n",
       "      <td>7.615335</td>\n",
       "      <td>5.042837</td>\n",
       "      <td>6.566867</td>\n",
       "      <td>6.224913</td>\n",
       "      <td>4.497239</td>\n",
       "      <td>6.609805</td>\n",
       "      <td>8.543011</td>\n",
       "      <td>7.602395</td>\n",
       "      <td>6.057700</td>\n",
       "      <td>6.179182</td>\n",
       "      <td>3.402747</td>\n",
       "      <td>CMS1</td>\n",
       "    </tr>\n",
       "    <tr>\n",
       "      <th>Patient4</th>\n",
       "      <td>7.241834</td>\n",
       "      <td>6.989748</td>\n",
       "      <td>5.535980</td>\n",
       "      <td>7.283076</td>\n",
       "      <td>6.760564</td>\n",
       "      <td>7.076600</td>\n",
       "      <td>6.418798</td>\n",
       "      <td>7.018138</td>\n",
       "      <td>5.620279</td>\n",
       "      <td>8.986782</td>\n",
       "      <td>8.049796</td>\n",
       "      <td>7.436953</td>\n",
       "      <td>8.252535</td>\n",
       "      <td>5.978596</td>\n",
       "      <td>2.750682</td>\n",
       "      <td>CMS1</td>\n",
       "    </tr>\n",
       "    <tr>\n",
       "      <th>Patient5</th>\n",
       "      <td>5.732008</td>\n",
       "      <td>7.252843</td>\n",
       "      <td>5.003082</td>\n",
       "      <td>6.519208</td>\n",
       "      <td>8.357291</td>\n",
       "      <td>5.660058</td>\n",
       "      <td>4.525700</td>\n",
       "      <td>6.506203</td>\n",
       "      <td>5.300539</td>\n",
       "      <td>7.059266</td>\n",
       "      <td>10.547725</td>\n",
       "      <td>7.424943</td>\n",
       "      <td>6.674952</td>\n",
       "      <td>5.850525</td>\n",
       "      <td>4.431800</td>\n",
       "      <td>CMS1</td>\n",
       "    </tr>\n",
       "  </tbody>\n",
       "</table>\n",
       "</div>"
      ],
      "text/plain": [
       "               FAP    SLC5A6     GFPT2     ASCL2    TSPAN6    CCDC80  \\\n",
       "SampleID                                                               \n",
       "Patient1 -5.000000  7.521597  5.458581  7.873975  6.777987  5.148662   \n",
       "Patient2  5.462626  7.613383  3.996901  7.036830  7.610739  5.583870   \n",
       "Patient3  5.364091  8.152112  4.220819  4.225933  7.615335  5.042837   \n",
       "Patient4  7.241834  6.989748  5.535980  7.283076  6.760564  7.076600   \n",
       "Patient5  5.732008  7.252843  5.003082  6.519208  8.357291  5.660058   \n",
       "\n",
       "             DUSP4    EFEMP2     TRIM7       DCN       AGR2      REG4  \\\n",
       "SampleID                                                                \n",
       "Patient1  6.372153  6.495578  5.361258  7.529628   9.910427  6.563663   \n",
       "Patient2  6.889211  6.049421  6.075198  7.027278   8.972537  5.544412   \n",
       "Patient3  6.566867  6.224913  4.497239  6.609805   8.543011  7.602395   \n",
       "Patient4  6.418798  7.018138  5.620279  8.986782   8.049796  7.436953   \n",
       "Patient5  4.525700  6.506203  5.300539  7.059266  10.547725  7.424943   \n",
       "\n",
       "             TUBB6    POFUT1    RETNLB   CMS  \n",
       "SampleID                                      \n",
       "Patient1  6.467622  6.556573  5.782625  CMS1  \n",
       "Patient2  6.861825  5.765743  4.195767  CMS1  \n",
       "Patient3  6.057700  6.179182  3.402747  CMS1  \n",
       "Patient4  8.252535  5.978596  2.750682  CMS1  \n",
       "Patient5  6.674952  5.850525  4.431800  CMS1  "
      ]
     },
     "execution_count": 8,
     "metadata": {},
     "output_type": "execute_result"
    }
   ],
   "source": [
    "new_data.loc['Patient1', 'FAP'] = -5\n",
    "new_data.head()"
   ]
  },
  {
   "cell_type": "markdown",
   "id": "subtle-strike",
   "metadata": {},
   "source": [
    "Original data remain unchanged"
   ]
  },
  {
   "cell_type": "code",
   "execution_count": 9,
   "id": "sexual-corrections",
   "metadata": {},
   "outputs": [
    {
     "data": {
      "text/html": [
       "<div>\n",
       "<style scoped>\n",
       "    .dataframe tbody tr th:only-of-type {\n",
       "        vertical-align: middle;\n",
       "    }\n",
       "\n",
       "    .dataframe tbody tr th {\n",
       "        vertical-align: top;\n",
       "    }\n",
       "\n",
       "    .dataframe thead th {\n",
       "        text-align: right;\n",
       "    }\n",
       "</style>\n",
       "<table border=\"1\" class=\"dataframe\">\n",
       "  <thead>\n",
       "    <tr style=\"text-align: right;\">\n",
       "      <th></th>\n",
       "      <th>FAP</th>\n",
       "      <th>SLC5A6</th>\n",
       "      <th>GFPT2</th>\n",
       "      <th>ASCL2</th>\n",
       "      <th>TSPAN6</th>\n",
       "      <th>CCDC80</th>\n",
       "      <th>DUSP4</th>\n",
       "      <th>EFEMP2</th>\n",
       "      <th>TRIM7</th>\n",
       "      <th>DCN</th>\n",
       "      <th>AGR2</th>\n",
       "      <th>REG4</th>\n",
       "      <th>TUBB6</th>\n",
       "      <th>POFUT1</th>\n",
       "      <th>RETNLB</th>\n",
       "      <th>CMS</th>\n",
       "    </tr>\n",
       "    <tr>\n",
       "      <th>SampleID</th>\n",
       "      <th></th>\n",
       "      <th></th>\n",
       "      <th></th>\n",
       "      <th></th>\n",
       "      <th></th>\n",
       "      <th></th>\n",
       "      <th></th>\n",
       "      <th></th>\n",
       "      <th></th>\n",
       "      <th></th>\n",
       "      <th></th>\n",
       "      <th></th>\n",
       "      <th></th>\n",
       "      <th></th>\n",
       "      <th></th>\n",
       "      <th></th>\n",
       "    </tr>\n",
       "  </thead>\n",
       "  <tbody>\n",
       "    <tr>\n",
       "      <th>Patient1</th>\n",
       "      <td>5.317879</td>\n",
       "      <td>7.521597</td>\n",
       "      <td>5.458581</td>\n",
       "      <td>7.873975</td>\n",
       "      <td>6.777987</td>\n",
       "      <td>5.148662</td>\n",
       "      <td>6.372153</td>\n",
       "      <td>6.495578</td>\n",
       "      <td>5.361258</td>\n",
       "      <td>7.529628</td>\n",
       "      <td>9.910427</td>\n",
       "      <td>6.563663</td>\n",
       "      <td>6.467622</td>\n",
       "      <td>6.556573</td>\n",
       "      <td>5.782625</td>\n",
       "      <td>CMS1</td>\n",
       "    </tr>\n",
       "    <tr>\n",
       "      <th>Patient2</th>\n",
       "      <td>5.462626</td>\n",
       "      <td>7.613383</td>\n",
       "      <td>3.996901</td>\n",
       "      <td>7.036830</td>\n",
       "      <td>7.610739</td>\n",
       "      <td>5.583870</td>\n",
       "      <td>6.889211</td>\n",
       "      <td>6.049421</td>\n",
       "      <td>6.075198</td>\n",
       "      <td>7.027278</td>\n",
       "      <td>8.972537</td>\n",
       "      <td>5.544412</td>\n",
       "      <td>6.861825</td>\n",
       "      <td>5.765743</td>\n",
       "      <td>4.195767</td>\n",
       "      <td>CMS1</td>\n",
       "    </tr>\n",
       "    <tr>\n",
       "      <th>Patient3</th>\n",
       "      <td>5.364091</td>\n",
       "      <td>8.152112</td>\n",
       "      <td>4.220819</td>\n",
       "      <td>4.225933</td>\n",
       "      <td>7.615335</td>\n",
       "      <td>5.042837</td>\n",
       "      <td>6.566867</td>\n",
       "      <td>6.224913</td>\n",
       "      <td>4.497239</td>\n",
       "      <td>6.609805</td>\n",
       "      <td>8.543011</td>\n",
       "      <td>7.602395</td>\n",
       "      <td>6.057700</td>\n",
       "      <td>6.179182</td>\n",
       "      <td>3.402747</td>\n",
       "      <td>CMS1</td>\n",
       "    </tr>\n",
       "    <tr>\n",
       "      <th>Patient4</th>\n",
       "      <td>7.241834</td>\n",
       "      <td>6.989748</td>\n",
       "      <td>5.535980</td>\n",
       "      <td>7.283076</td>\n",
       "      <td>6.760564</td>\n",
       "      <td>7.076600</td>\n",
       "      <td>6.418798</td>\n",
       "      <td>7.018138</td>\n",
       "      <td>5.620279</td>\n",
       "      <td>8.986782</td>\n",
       "      <td>8.049796</td>\n",
       "      <td>7.436953</td>\n",
       "      <td>8.252535</td>\n",
       "      <td>5.978596</td>\n",
       "      <td>2.750682</td>\n",
       "      <td>CMS1</td>\n",
       "    </tr>\n",
       "    <tr>\n",
       "      <th>Patient5</th>\n",
       "      <td>5.732008</td>\n",
       "      <td>7.252843</td>\n",
       "      <td>5.003082</td>\n",
       "      <td>6.519208</td>\n",
       "      <td>8.357291</td>\n",
       "      <td>5.660058</td>\n",
       "      <td>4.525700</td>\n",
       "      <td>6.506203</td>\n",
       "      <td>5.300539</td>\n",
       "      <td>7.059266</td>\n",
       "      <td>10.547725</td>\n",
       "      <td>7.424943</td>\n",
       "      <td>6.674952</td>\n",
       "      <td>5.850525</td>\n",
       "      <td>4.431800</td>\n",
       "      <td>CMS1</td>\n",
       "    </tr>\n",
       "  </tbody>\n",
       "</table>\n",
       "</div>"
      ],
      "text/plain": [
       "               FAP    SLC5A6     GFPT2     ASCL2    TSPAN6    CCDC80  \\\n",
       "SampleID                                                               \n",
       "Patient1  5.317879  7.521597  5.458581  7.873975  6.777987  5.148662   \n",
       "Patient2  5.462626  7.613383  3.996901  7.036830  7.610739  5.583870   \n",
       "Patient3  5.364091  8.152112  4.220819  4.225933  7.615335  5.042837   \n",
       "Patient4  7.241834  6.989748  5.535980  7.283076  6.760564  7.076600   \n",
       "Patient5  5.732008  7.252843  5.003082  6.519208  8.357291  5.660058   \n",
       "\n",
       "             DUSP4    EFEMP2     TRIM7       DCN       AGR2      REG4  \\\n",
       "SampleID                                                                \n",
       "Patient1  6.372153  6.495578  5.361258  7.529628   9.910427  6.563663   \n",
       "Patient2  6.889211  6.049421  6.075198  7.027278   8.972537  5.544412   \n",
       "Patient3  6.566867  6.224913  4.497239  6.609805   8.543011  7.602395   \n",
       "Patient4  6.418798  7.018138  5.620279  8.986782   8.049796  7.436953   \n",
       "Patient5  4.525700  6.506203  5.300539  7.059266  10.547725  7.424943   \n",
       "\n",
       "             TUBB6    POFUT1    RETNLB   CMS  \n",
       "SampleID                                      \n",
       "Patient1  6.467622  6.556573  5.782625  CMS1  \n",
       "Patient2  6.861825  5.765743  4.195767  CMS1  \n",
       "Patient3  6.057700  6.179182  3.402747  CMS1  \n",
       "Patient4  8.252535  5.978596  2.750682  CMS1  \n",
       "Patient5  6.674952  5.850525  4.431800  CMS1  "
      ]
     },
     "execution_count": 9,
     "metadata": {},
     "output_type": "execute_result"
    }
   ],
   "source": [
    "data.head()"
   ]
  },
  {
   "cell_type": "markdown",
   "id": "noticed-conversation",
   "metadata": {},
   "source": [
    "## Add a new column"
   ]
  },
  {
   "cell_type": "code",
   "execution_count": 12,
   "id": "indoor-assets",
   "metadata": {},
   "outputs": [
    {
     "data": {
      "text/html": [
       "<div>\n",
       "<style scoped>\n",
       "    .dataframe tbody tr th:only-of-type {\n",
       "        vertical-align: middle;\n",
       "    }\n",
       "\n",
       "    .dataframe tbody tr th {\n",
       "        vertical-align: top;\n",
       "    }\n",
       "\n",
       "    .dataframe thead th {\n",
       "        text-align: right;\n",
       "    }\n",
       "</style>\n",
       "<table border=\"1\" class=\"dataframe\">\n",
       "  <thead>\n",
       "    <tr style=\"text-align: right;\">\n",
       "      <th></th>\n",
       "      <th>FAP</th>\n",
       "      <th>SLC5A6</th>\n",
       "      <th>GFPT2</th>\n",
       "      <th>ASCL2</th>\n",
       "      <th>TSPAN6</th>\n",
       "      <th>CCDC80</th>\n",
       "      <th>DUSP4</th>\n",
       "      <th>EFEMP2</th>\n",
       "      <th>TRIM7</th>\n",
       "      <th>DCN</th>\n",
       "      <th>AGR2</th>\n",
       "      <th>REG4</th>\n",
       "      <th>TUBB6</th>\n",
       "      <th>POFUT1</th>\n",
       "      <th>RETNLB</th>\n",
       "      <th>CMS</th>\n",
       "      <th>average</th>\n",
       "      <th>FAP x SLC5A6</th>\n",
       "    </tr>\n",
       "    <tr>\n",
       "      <th>SampleID</th>\n",
       "      <th></th>\n",
       "      <th></th>\n",
       "      <th></th>\n",
       "      <th></th>\n",
       "      <th></th>\n",
       "      <th></th>\n",
       "      <th></th>\n",
       "      <th></th>\n",
       "      <th></th>\n",
       "      <th></th>\n",
       "      <th></th>\n",
       "      <th></th>\n",
       "      <th></th>\n",
       "      <th></th>\n",
       "      <th></th>\n",
       "      <th></th>\n",
       "      <th></th>\n",
       "      <th></th>\n",
       "    </tr>\n",
       "  </thead>\n",
       "  <tbody>\n",
       "    <tr>\n",
       "      <th>Patient1</th>\n",
       "      <td>-5.000000</td>\n",
       "      <td>7.521597</td>\n",
       "      <td>5.458581</td>\n",
       "      <td>7.873975</td>\n",
       "      <td>6.777987</td>\n",
       "      <td>5.148662</td>\n",
       "      <td>6.372153</td>\n",
       "      <td>6.495578</td>\n",
       "      <td>5.361258</td>\n",
       "      <td>7.529628</td>\n",
       "      <td>9.910427</td>\n",
       "      <td>6.563663</td>\n",
       "      <td>6.467622</td>\n",
       "      <td>6.556573</td>\n",
       "      <td>5.782625</td>\n",
       "      <td>CMS1</td>\n",
       "      <td>6.609214</td>\n",
       "      <td>-37.607987</td>\n",
       "    </tr>\n",
       "    <tr>\n",
       "      <th>Patient2</th>\n",
       "      <td>5.462626</td>\n",
       "      <td>7.613383</td>\n",
       "      <td>3.996901</td>\n",
       "      <td>7.036830</td>\n",
       "      <td>7.610739</td>\n",
       "      <td>5.583870</td>\n",
       "      <td>6.889211</td>\n",
       "      <td>6.049421</td>\n",
       "      <td>6.075198</td>\n",
       "      <td>7.027278</td>\n",
       "      <td>8.972537</td>\n",
       "      <td>5.544412</td>\n",
       "      <td>6.861825</td>\n",
       "      <td>5.765743</td>\n",
       "      <td>4.195767</td>\n",
       "      <td>CMS1</td>\n",
       "      <td>6.312383</td>\n",
       "      <td>41.589065</td>\n",
       "    </tr>\n",
       "    <tr>\n",
       "      <th>Patient3</th>\n",
       "      <td>5.364091</td>\n",
       "      <td>8.152112</td>\n",
       "      <td>4.220819</td>\n",
       "      <td>4.225933</td>\n",
       "      <td>7.615335</td>\n",
       "      <td>5.042837</td>\n",
       "      <td>6.566867</td>\n",
       "      <td>6.224913</td>\n",
       "      <td>4.497239</td>\n",
       "      <td>6.609805</td>\n",
       "      <td>8.543011</td>\n",
       "      <td>7.602395</td>\n",
       "      <td>6.057700</td>\n",
       "      <td>6.179182</td>\n",
       "      <td>3.402747</td>\n",
       "      <td>CMS1</td>\n",
       "      <td>6.020332</td>\n",
       "      <td>43.728668</td>\n",
       "    </tr>\n",
       "    <tr>\n",
       "      <th>Patient4</th>\n",
       "      <td>7.241834</td>\n",
       "      <td>6.989748</td>\n",
       "      <td>5.535980</td>\n",
       "      <td>7.283076</td>\n",
       "      <td>6.760564</td>\n",
       "      <td>7.076600</td>\n",
       "      <td>6.418798</td>\n",
       "      <td>7.018138</td>\n",
       "      <td>5.620279</td>\n",
       "      <td>8.986782</td>\n",
       "      <td>8.049796</td>\n",
       "      <td>7.436953</td>\n",
       "      <td>8.252535</td>\n",
       "      <td>5.978596</td>\n",
       "      <td>2.750682</td>\n",
       "      <td>CMS1</td>\n",
       "      <td>6.760024</td>\n",
       "      <td>50.618598</td>\n",
       "    </tr>\n",
       "    <tr>\n",
       "      <th>Patient5</th>\n",
       "      <td>5.732008</td>\n",
       "      <td>7.252843</td>\n",
       "      <td>5.003082</td>\n",
       "      <td>6.519208</td>\n",
       "      <td>8.357291</td>\n",
       "      <td>5.660058</td>\n",
       "      <td>4.525700</td>\n",
       "      <td>6.506203</td>\n",
       "      <td>5.300539</td>\n",
       "      <td>7.059266</td>\n",
       "      <td>10.547725</td>\n",
       "      <td>7.424943</td>\n",
       "      <td>6.674952</td>\n",
       "      <td>5.850525</td>\n",
       "      <td>4.431800</td>\n",
       "      <td>CMS1</td>\n",
       "      <td>6.456409</td>\n",
       "      <td>41.573351</td>\n",
       "    </tr>\n",
       "  </tbody>\n",
       "</table>\n",
       "</div>"
      ],
      "text/plain": [
       "               FAP    SLC5A6     GFPT2     ASCL2    TSPAN6    CCDC80  \\\n",
       "SampleID                                                               \n",
       "Patient1 -5.000000  7.521597  5.458581  7.873975  6.777987  5.148662   \n",
       "Patient2  5.462626  7.613383  3.996901  7.036830  7.610739  5.583870   \n",
       "Patient3  5.364091  8.152112  4.220819  4.225933  7.615335  5.042837   \n",
       "Patient4  7.241834  6.989748  5.535980  7.283076  6.760564  7.076600   \n",
       "Patient5  5.732008  7.252843  5.003082  6.519208  8.357291  5.660058   \n",
       "\n",
       "             DUSP4    EFEMP2     TRIM7       DCN       AGR2      REG4  \\\n",
       "SampleID                                                                \n",
       "Patient1  6.372153  6.495578  5.361258  7.529628   9.910427  6.563663   \n",
       "Patient2  6.889211  6.049421  6.075198  7.027278   8.972537  5.544412   \n",
       "Patient3  6.566867  6.224913  4.497239  6.609805   8.543011  7.602395   \n",
       "Patient4  6.418798  7.018138  5.620279  8.986782   8.049796  7.436953   \n",
       "Patient5  4.525700  6.506203  5.300539  7.059266  10.547725  7.424943   \n",
       "\n",
       "             TUBB6    POFUT1    RETNLB   CMS   average  FAP x SLC5A6  \n",
       "SampleID                                                              \n",
       "Patient1  6.467622  6.556573  5.782625  CMS1  6.609214    -37.607987  \n",
       "Patient2  6.861825  5.765743  4.195767  CMS1  6.312383     41.589065  \n",
       "Patient3  6.057700  6.179182  3.402747  CMS1  6.020332     43.728668  \n",
       "Patient4  8.252535  5.978596  2.750682  CMS1  6.760024     50.618598  \n",
       "Patient5  6.674952  5.850525  4.431800  CMS1  6.456409     41.573351  "
      ]
     },
     "execution_count": 12,
     "metadata": {},
     "output_type": "execute_result"
    }
   ],
   "source": [
    "new_data['FAP x SLC5A6'] = new_data['TSPAN6'] * new_data['SLC5A6']\n",
    "new_data.head()"
   ]
  },
  {
   "cell_type": "markdown",
   "id": "caroline-array",
   "metadata": {},
   "source": [
    "## Calculating statistics per group\n",
    "groupby()"
   ]
  },
  {
   "cell_type": "code",
   "execution_count": 14,
   "id": "21764382",
   "metadata": {},
   "outputs": [
    {
     "data": {
      "text/plain": [
       "array(['CMS1', 'CMS2', 'CMS3'], dtype=object)"
      ]
     },
     "execution_count": 14,
     "metadata": {},
     "output_type": "execute_result"
    }
   ],
   "source": [
    "pd.unique(new_data['CMS'])"
   ]
  },
  {
   "cell_type": "code",
   "execution_count": 13,
   "id": "vulnerable-grammar",
   "metadata": {},
   "outputs": [
    {
     "data": {
      "text/html": [
       "<div>\n",
       "<style scoped>\n",
       "    .dataframe tbody tr th:only-of-type {\n",
       "        vertical-align: middle;\n",
       "    }\n",
       "\n",
       "    .dataframe tbody tr th {\n",
       "        vertical-align: top;\n",
       "    }\n",
       "\n",
       "    .dataframe thead th {\n",
       "        text-align: right;\n",
       "    }\n",
       "</style>\n",
       "<table border=\"1\" class=\"dataframe\">\n",
       "  <thead>\n",
       "    <tr style=\"text-align: right;\">\n",
       "      <th></th>\n",
       "      <th>FAP</th>\n",
       "      <th>SLC5A6</th>\n",
       "      <th>GFPT2</th>\n",
       "      <th>ASCL2</th>\n",
       "      <th>TSPAN6</th>\n",
       "      <th>CCDC80</th>\n",
       "      <th>DUSP4</th>\n",
       "      <th>EFEMP2</th>\n",
       "      <th>TRIM7</th>\n",
       "      <th>DCN</th>\n",
       "      <th>AGR2</th>\n",
       "      <th>REG4</th>\n",
       "      <th>TUBB6</th>\n",
       "      <th>POFUT1</th>\n",
       "      <th>RETNLB</th>\n",
       "      <th>average</th>\n",
       "      <th>FAP x SLC5A6</th>\n",
       "    </tr>\n",
       "    <tr>\n",
       "      <th>CMS</th>\n",
       "      <th></th>\n",
       "      <th></th>\n",
       "      <th></th>\n",
       "      <th></th>\n",
       "      <th></th>\n",
       "      <th></th>\n",
       "      <th></th>\n",
       "      <th></th>\n",
       "      <th></th>\n",
       "      <th></th>\n",
       "      <th></th>\n",
       "      <th></th>\n",
       "      <th></th>\n",
       "      <th></th>\n",
       "      <th></th>\n",
       "      <th></th>\n",
       "      <th></th>\n",
       "    </tr>\n",
       "  </thead>\n",
       "  <tbody>\n",
       "    <tr>\n",
       "      <th>CMS1</th>\n",
       "      <td>5.177354</td>\n",
       "      <td>6.886191</td>\n",
       "      <td>4.885876</td>\n",
       "      <td>6.427058</td>\n",
       "      <td>6.808196</td>\n",
       "      <td>5.016452</td>\n",
       "      <td>6.756505</td>\n",
       "      <td>6.270085</td>\n",
       "      <td>5.690918</td>\n",
       "      <td>7.170562</td>\n",
       "      <td>9.006503</td>\n",
       "      <td>7.885265</td>\n",
       "      <td>6.846878</td>\n",
       "      <td>5.473240</td>\n",
       "      <td>3.623595</td>\n",
       "      <td>6.296038</td>\n",
       "      <td>35.317076</td>\n",
       "    </tr>\n",
       "    <tr>\n",
       "      <th>CMS2</th>\n",
       "      <td>5.779586</td>\n",
       "      <td>6.695623</td>\n",
       "      <td>4.809646</td>\n",
       "      <td>5.584092</td>\n",
       "      <td>6.959512</td>\n",
       "      <td>5.509791</td>\n",
       "      <td>6.952251</td>\n",
       "      <td>6.332585</td>\n",
       "      <td>5.841067</td>\n",
       "      <td>7.139227</td>\n",
       "      <td>9.650661</td>\n",
       "      <td>8.663313</td>\n",
       "      <td>6.721061</td>\n",
       "      <td>5.290922</td>\n",
       "      <td>3.313740</td>\n",
       "      <td>6.349539</td>\n",
       "      <td>38.771797</td>\n",
       "    </tr>\n",
       "    <tr>\n",
       "      <th>CMS3</th>\n",
       "      <td>6.088745</td>\n",
       "      <td>6.509758</td>\n",
       "      <td>5.133573</td>\n",
       "      <td>6.476929</td>\n",
       "      <td>6.562403</td>\n",
       "      <td>5.686196</td>\n",
       "      <td>7.033342</td>\n",
       "      <td>6.483351</td>\n",
       "      <td>5.859985</td>\n",
       "      <td>7.529301</td>\n",
       "      <td>9.193881</td>\n",
       "      <td>8.060689</td>\n",
       "      <td>6.961898</td>\n",
       "      <td>5.145060</td>\n",
       "      <td>3.653633</td>\n",
       "      <td>6.425250</td>\n",
       "      <td>39.605577</td>\n",
       "    </tr>\n",
       "  </tbody>\n",
       "</table>\n",
       "</div>"
      ],
      "text/plain": [
       "           FAP    SLC5A6     GFPT2     ASCL2    TSPAN6    CCDC80     DUSP4  \\\n",
       "CMS                                                                          \n",
       "CMS1  5.177354  6.886191  4.885876  6.427058  6.808196  5.016452  6.756505   \n",
       "CMS2  5.779586  6.695623  4.809646  5.584092  6.959512  5.509791  6.952251   \n",
       "CMS3  6.088745  6.509758  5.133573  6.476929  6.562403  5.686196  7.033342   \n",
       "\n",
       "        EFEMP2     TRIM7       DCN      AGR2      REG4     TUBB6    POFUT1  \\\n",
       "CMS                                                                          \n",
       "CMS1  6.270085  5.690918  7.170562  9.006503  7.885265  6.846878  5.473240   \n",
       "CMS2  6.332585  5.841067  7.139227  9.650661  8.663313  6.721061  5.290922   \n",
       "CMS3  6.483351  5.859985  7.529301  9.193881  8.060689  6.961898  5.145060   \n",
       "\n",
       "        RETNLB   average  FAP x SLC5A6  \n",
       "CMS                                     \n",
       "CMS1  3.623595  6.296038     35.317076  \n",
       "CMS2  3.313740  6.349539     38.771797  \n",
       "CMS3  3.653633  6.425250     39.605577  "
      ]
     },
     "execution_count": 13,
     "metadata": {},
     "output_type": "execute_result"
    }
   ],
   "source": [
    "new_data.groupby('CMS').mean()"
   ]
  },
  {
   "cell_type": "code",
   "execution_count": 15,
   "id": "medical-davis",
   "metadata": {},
   "outputs": [
    {
     "data": {
      "text/html": [
       "<div>\n",
       "<style scoped>\n",
       "    .dataframe tbody tr th:only-of-type {\n",
       "        vertical-align: middle;\n",
       "    }\n",
       "\n",
       "    .dataframe tbody tr th {\n",
       "        vertical-align: top;\n",
       "    }\n",
       "\n",
       "    .dataframe thead th {\n",
       "        text-align: right;\n",
       "    }\n",
       "</style>\n",
       "<table border=\"1\" class=\"dataframe\">\n",
       "  <thead>\n",
       "    <tr style=\"text-align: right;\">\n",
       "      <th></th>\n",
       "      <th>FAP</th>\n",
       "      <th>SLC5A6</th>\n",
       "      <th>GFPT2</th>\n",
       "      <th>ASCL2</th>\n",
       "      <th>TSPAN6</th>\n",
       "      <th>CCDC80</th>\n",
       "      <th>DUSP4</th>\n",
       "      <th>EFEMP2</th>\n",
       "      <th>TRIM7</th>\n",
       "      <th>DCN</th>\n",
       "      <th>AGR2</th>\n",
       "      <th>REG4</th>\n",
       "      <th>TUBB6</th>\n",
       "      <th>POFUT1</th>\n",
       "      <th>RETNLB</th>\n",
       "      <th>average</th>\n",
       "      <th>FAP x SLC5A6</th>\n",
       "    </tr>\n",
       "    <tr>\n",
       "      <th>CMS</th>\n",
       "      <th></th>\n",
       "      <th></th>\n",
       "      <th></th>\n",
       "      <th></th>\n",
       "      <th></th>\n",
       "      <th></th>\n",
       "      <th></th>\n",
       "      <th></th>\n",
       "      <th></th>\n",
       "      <th></th>\n",
       "      <th></th>\n",
       "      <th></th>\n",
       "      <th></th>\n",
       "      <th></th>\n",
       "      <th></th>\n",
       "      <th></th>\n",
       "      <th></th>\n",
       "    </tr>\n",
       "  </thead>\n",
       "  <tbody>\n",
       "    <tr>\n",
       "      <th>CMS1</th>\n",
       "      <td>5.413358</td>\n",
       "      <td>6.809508</td>\n",
       "      <td>5.104045</td>\n",
       "      <td>6.729795</td>\n",
       "      <td>6.617792</td>\n",
       "      <td>4.888518</td>\n",
       "      <td>6.882406</td>\n",
       "      <td>6.397944</td>\n",
       "      <td>5.844112</td>\n",
       "      <td>7.080048</td>\n",
       "      <td>9.437429</td>\n",
       "      <td>8.752215</td>\n",
       "      <td>6.664631</td>\n",
       "      <td>5.304315</td>\n",
       "      <td>3.325177</td>\n",
       "      <td>6.420035</td>\n",
       "      <td>37.850216</td>\n",
       "    </tr>\n",
       "    <tr>\n",
       "      <th>CMS2</th>\n",
       "      <td>5.962015</td>\n",
       "      <td>6.787483</td>\n",
       "      <td>5.001984</td>\n",
       "      <td>6.855597</td>\n",
       "      <td>6.939538</td>\n",
       "      <td>5.357899</td>\n",
       "      <td>7.290589</td>\n",
       "      <td>6.354966</td>\n",
       "      <td>6.165573</td>\n",
       "      <td>7.605952</td>\n",
       "      <td>9.514784</td>\n",
       "      <td>9.160111</td>\n",
       "      <td>6.735849</td>\n",
       "      <td>5.316901</td>\n",
       "      <td>3.455666</td>\n",
       "      <td>6.430306</td>\n",
       "      <td>38.156645</td>\n",
       "    </tr>\n",
       "    <tr>\n",
       "      <th>CMS3</th>\n",
       "      <td>6.296011</td>\n",
       "      <td>6.432468</td>\n",
       "      <td>5.313438</td>\n",
       "      <td>7.078099</td>\n",
       "      <td>6.723037</td>\n",
       "      <td>5.888979</td>\n",
       "      <td>7.033327</td>\n",
       "      <td>6.666716</td>\n",
       "      <td>5.925502</td>\n",
       "      <td>7.679102</td>\n",
       "      <td>9.286057</td>\n",
       "      <td>8.930608</td>\n",
       "      <td>6.888585</td>\n",
       "      <td>5.166031</td>\n",
       "      <td>4.090627</td>\n",
       "      <td>6.466011</td>\n",
       "      <td>40.928620</td>\n",
       "    </tr>\n",
       "  </tbody>\n",
       "</table>\n",
       "</div>"
      ],
      "text/plain": [
       "           FAP    SLC5A6     GFPT2     ASCL2    TSPAN6    CCDC80     DUSP4  \\\n",
       "CMS                                                                          \n",
       "CMS1  5.413358  6.809508  5.104045  6.729795  6.617792  4.888518  6.882406   \n",
       "CMS2  5.962015  6.787483  5.001984  6.855597  6.939538  5.357899  7.290589   \n",
       "CMS3  6.296011  6.432468  5.313438  7.078099  6.723037  5.888979  7.033327   \n",
       "\n",
       "        EFEMP2     TRIM7       DCN      AGR2      REG4     TUBB6    POFUT1  \\\n",
       "CMS                                                                          \n",
       "CMS1  6.397944  5.844112  7.080048  9.437429  8.752215  6.664631  5.304315   \n",
       "CMS2  6.354966  6.165573  7.605952  9.514784  9.160111  6.735849  5.316901   \n",
       "CMS3  6.666716  5.925502  7.679102  9.286057  8.930608  6.888585  5.166031   \n",
       "\n",
       "        RETNLB   average  FAP x SLC5A6  \n",
       "CMS                                     \n",
       "CMS1  3.325177  6.420035     37.850216  \n",
       "CMS2  3.455666  6.430306     38.156645  \n",
       "CMS3  4.090627  6.466011     40.928620  "
      ]
     },
     "execution_count": 15,
     "metadata": {},
     "output_type": "execute_result"
    }
   ],
   "source": [
    "new_data.groupby('CMS').median()"
   ]
  },
  {
   "cell_type": "code",
   "execution_count": 16,
   "id": "empirical-ecology",
   "metadata": {},
   "outputs": [
    {
     "data": {
      "text/html": [
       "<div>\n",
       "<style scoped>\n",
       "    .dataframe tbody tr th:only-of-type {\n",
       "        vertical-align: middle;\n",
       "    }\n",
       "\n",
       "    .dataframe tbody tr th {\n",
       "        vertical-align: top;\n",
       "    }\n",
       "\n",
       "    .dataframe thead th {\n",
       "        text-align: right;\n",
       "    }\n",
       "</style>\n",
       "<table border=\"1\" class=\"dataframe\">\n",
       "  <thead>\n",
       "    <tr style=\"text-align: right;\">\n",
       "      <th></th>\n",
       "      <th>FAP</th>\n",
       "      <th>SLC5A6</th>\n",
       "      <th>GFPT2</th>\n",
       "      <th>ASCL2</th>\n",
       "      <th>TSPAN6</th>\n",
       "      <th>CCDC80</th>\n",
       "      <th>DUSP4</th>\n",
       "      <th>EFEMP2</th>\n",
       "      <th>TRIM7</th>\n",
       "      <th>DCN</th>\n",
       "      <th>AGR2</th>\n",
       "      <th>REG4</th>\n",
       "      <th>TUBB6</th>\n",
       "      <th>POFUT1</th>\n",
       "      <th>RETNLB</th>\n",
       "      <th>average</th>\n",
       "      <th>FAP x SLC5A6</th>\n",
       "    </tr>\n",
       "    <tr>\n",
       "      <th>CMS</th>\n",
       "      <th></th>\n",
       "      <th></th>\n",
       "      <th></th>\n",
       "      <th></th>\n",
       "      <th></th>\n",
       "      <th></th>\n",
       "      <th></th>\n",
       "      <th></th>\n",
       "      <th></th>\n",
       "      <th></th>\n",
       "      <th></th>\n",
       "      <th></th>\n",
       "      <th></th>\n",
       "      <th></th>\n",
       "      <th></th>\n",
       "      <th></th>\n",
       "      <th></th>\n",
       "    </tr>\n",
       "  </thead>\n",
       "  <tbody>\n",
       "    <tr>\n",
       "      <th>CMS1</th>\n",
       "      <td>2.521938</td>\n",
       "      <td>0.529478</td>\n",
       "      <td>0.988115</td>\n",
       "      <td>1.563879</td>\n",
       "      <td>0.710954</td>\n",
       "      <td>0.946218</td>\n",
       "      <td>1.120124</td>\n",
       "      <td>0.601510</td>\n",
       "      <td>0.910132</td>\n",
       "      <td>1.112713</td>\n",
       "      <td>1.841101</td>\n",
       "      <td>2.063829</td>\n",
       "      <td>0.776496</td>\n",
       "      <td>0.529022</td>\n",
       "      <td>1.078805</td>\n",
       "      <td>0.458234</td>\n",
       "      <td>18.200314</td>\n",
       "    </tr>\n",
       "    <tr>\n",
       "      <th>CMS2</th>\n",
       "      <td>0.616043</td>\n",
       "      <td>0.359574</td>\n",
       "      <td>0.737980</td>\n",
       "      <td>1.863321</td>\n",
       "      <td>0.833197</td>\n",
       "      <td>0.767518</td>\n",
       "      <td>0.949679</td>\n",
       "      <td>0.586716</td>\n",
       "      <td>0.945766</td>\n",
       "      <td>1.077422</td>\n",
       "      <td>0.963606</td>\n",
       "      <td>1.557366</td>\n",
       "      <td>0.483658</td>\n",
       "      <td>0.255311</td>\n",
       "      <td>1.483349</td>\n",
       "      <td>0.366783</td>\n",
       "      <td>5.106172</td>\n",
       "    </tr>\n",
       "    <tr>\n",
       "      <th>CMS3</th>\n",
       "      <td>0.716974</td>\n",
       "      <td>0.473829</td>\n",
       "      <td>0.750807</td>\n",
       "      <td>1.677589</td>\n",
       "      <td>0.610155</td>\n",
       "      <td>0.957778</td>\n",
       "      <td>0.823646</td>\n",
       "      <td>0.536844</td>\n",
       "      <td>0.481396</td>\n",
       "      <td>0.879477</td>\n",
       "      <td>1.158014</td>\n",
       "      <td>2.171287</td>\n",
       "      <td>0.644138</td>\n",
       "      <td>0.250660</td>\n",
       "      <td>1.518160</td>\n",
       "      <td>0.275255</td>\n",
       "      <td>5.145026</td>\n",
       "    </tr>\n",
       "  </tbody>\n",
       "</table>\n",
       "</div>"
      ],
      "text/plain": [
       "           FAP    SLC5A6     GFPT2     ASCL2    TSPAN6    CCDC80     DUSP4  \\\n",
       "CMS                                                                          \n",
       "CMS1  2.521938  0.529478  0.988115  1.563879  0.710954  0.946218  1.120124   \n",
       "CMS2  0.616043  0.359574  0.737980  1.863321  0.833197  0.767518  0.949679   \n",
       "CMS3  0.716974  0.473829  0.750807  1.677589  0.610155  0.957778  0.823646   \n",
       "\n",
       "        EFEMP2     TRIM7       DCN      AGR2      REG4     TUBB6    POFUT1  \\\n",
       "CMS                                                                          \n",
       "CMS1  0.601510  0.910132  1.112713  1.841101  2.063829  0.776496  0.529022   \n",
       "CMS2  0.586716  0.945766  1.077422  0.963606  1.557366  0.483658  0.255311   \n",
       "CMS3  0.536844  0.481396  0.879477  1.158014  2.171287  0.644138  0.250660   \n",
       "\n",
       "        RETNLB   average  FAP x SLC5A6  \n",
       "CMS                                     \n",
       "CMS1  1.078805  0.458234     18.200314  \n",
       "CMS2  1.483349  0.366783      5.106172  \n",
       "CMS3  1.518160  0.275255      5.145026  "
      ]
     },
     "execution_count": 16,
     "metadata": {},
     "output_type": "execute_result"
    }
   ],
   "source": [
    "new_data.groupby('CMS').std()"
   ]
  },
  {
   "cell_type": "markdown",
   "id": "excited-charlotte",
   "metadata": {},
   "source": [
    "## Save data frame to excel file"
   ]
  },
  {
   "cell_type": "code",
   "execution_count": 17,
   "id": "binary-combination",
   "metadata": {},
   "outputs": [],
   "source": [
    "new_data.to_excel('new_dataframe.xlsx')"
   ]
  },
  {
   "cell_type": "markdown",
   "id": "protecting-lesbian",
   "metadata": {},
   "source": [
    "## For loop"
   ]
  },
  {
   "cell_type": "code",
   "execution_count": 18,
   "id": "literary-campus",
   "metadata": {},
   "outputs": [
    {
     "data": {
      "text/plain": [
       "[0, 1, 2, 3, 4, 5, 6, 7, 8, 9]"
      ]
     },
     "execution_count": 18,
     "metadata": {},
     "output_type": "execute_result"
    }
   ],
   "source": [
    "list(range(10))"
   ]
  },
  {
   "cell_type": "code",
   "execution_count": 19,
   "id": "finnish-ethiopia",
   "metadata": {},
   "outputs": [
    {
     "name": "stdout",
     "output_type": "stream",
     "text": [
      "0\n",
      "1\n",
      "2\n",
      "3\n",
      "4\n",
      "5\n",
      "6\n",
      "7\n",
      "8\n",
      "9\n"
     ]
    }
   ],
   "source": [
    "for i in range(10):\n",
    "    print(i)"
   ]
  },
  {
   "cell_type": "markdown",
   "id": "precious-washington",
   "metadata": {},
   "source": [
    "### Go over data one column at a time"
   ]
  },
  {
   "cell_type": "code",
   "execution_count": 20,
   "id": "swedish-kentucky",
   "metadata": {},
   "outputs": [
    {
     "data": {
      "text/plain": [
       "Index(['FAP', 'SLC5A6', 'GFPT2', 'ASCL2', 'TSPAN6', 'CCDC80', 'DUSP4',\n",
       "       'EFEMP2', 'TRIM7', 'DCN', 'AGR2', 'REG4', 'TUBB6', 'POFUT1', 'RETNLB',\n",
       "       'CMS'],\n",
       "      dtype='object')"
      ]
     },
     "execution_count": 20,
     "metadata": {},
     "output_type": "execute_result"
    }
   ],
   "source": [
    "data.columns"
   ]
  },
  {
   "cell_type": "code",
   "execution_count": 21,
   "id": "fabulous-weather",
   "metadata": {
    "scrolled": false
   },
   "outputs": [
    {
     "name": "stdout",
     "output_type": "stream",
     "text": [
      "FAP mean = 5.837798271570673 std = 0.7268151668649991\n",
      "SLC5A6 mean = 6.716090501801843 std = 0.48452488022793194\n",
      "GFPT2 mean = 4.937316203751788 std = 0.8444631359686181\n",
      "ASCL2 mean = 6.189129583684837 std = 1.7043883930513326\n",
      "TSPAN6 mean = 6.779853084510222 std = 0.7248398444823763\n",
      "CCDC80 mean = 5.365376883441282 std = 0.9301397103582416\n",
      "DUSP4 mean = 6.898279961337789 std = 0.9760619609925546\n",
      "EFEMP2 mean = 6.3528146421449785 std = 0.5736958202424725\n",
      "TRIM7 mean = 5.786682481831352 std = 0.805768441378514\n",
      "DCN mean = 7.268783172079207 std = 1.030827356688954\n",
      "AGR2 mean = 9.255963986762353 std = 1.427256881342723\n",
      "REG4 mean = 8.171306490760951 std = 1.9500791067363323\n",
      "TUBB6 mean = 6.84363871512698 std = 0.6542653298749708\n",
      "POFUT1 mean = 5.320090465841044 std = 0.40534709175112954\n",
      "RETNLB mean = 3.539649907218695 std = 1.3270021784751038\n"
     ]
    }
   ],
   "source": [
    "for c in data.columns[:-1]:\n",
    "    print(c, 'mean =', data[c].mean(), 'std =', data[c].std())"
   ]
  },
  {
   "cell_type": "markdown",
   "id": "measured-spread",
   "metadata": {},
   "source": [
    "### Go over data one row at a time"
   ]
  },
  {
   "cell_type": "code",
   "execution_count": 22,
   "id": "brutal-debut",
   "metadata": {},
   "outputs": [
    {
     "name": "stdout",
     "output_type": "stream",
     "text": [
      "0 FAP = 5.31787854169241 SLC5A6 = 7.52159731275778\n",
      "1 FAP = 5.46262582095284 SLC5A6 = 7.613383443550051\n",
      "2 FAP = 5.36409097800165 SLC5A6 = 8.15211150589592\n",
      "3 FAP = 7.241833950260019 SLC5A6 = 6.98974844869259\n",
      "4 FAP = 5.73200786216588 SLC5A6 = 7.25284259391562\n",
      "5 FAP = 7.210346651400889 SLC5A6 = 6.10483318329787\n",
      "6 FAP = 5.32372753792337 SLC5A6 = 6.79749274296288\n",
      "7 FAP = 5.31063855138597 SLC5A6 = 6.572456622232879\n",
      "8 FAP = 4.208261744613741 SLC5A6 = 6.5543446277055\n",
      "9 FAP = 6.17311094583072 SLC5A6 = 6.345487876655951\n"
     ]
    }
   ],
   "source": [
    "for i in range(10):\n",
    "    print(i, 'FAP =', data.iloc[i, 0], 'SLC5A6 =', data.iloc[i, 1])"
   ]
  },
  {
   "cell_type": "code",
   "execution_count": 23,
   "id": "sized-pulse",
   "metadata": {},
   "outputs": [
    {
     "name": "stdout",
     "output_type": "stream",
     "text": [
      "0 FAP = 5.31787854169241 SLC5A6 = 7.52159731275778\n",
      "1 FAP = 5.46262582095284 SLC5A6 = 7.613383443550051\n",
      "2 FAP = 5.36409097800165 SLC5A6 = 8.15211150589592\n",
      "3 FAP = 7.241833950260019 SLC5A6 = 6.98974844869259\n",
      "4 FAP = 5.73200786216588 SLC5A6 = 7.25284259391562\n",
      "5 FAP = 7.210346651400889 SLC5A6 = 6.10483318329787\n",
      "6 FAP = 5.32372753792337 SLC5A6 = 6.79749274296288\n",
      "7 FAP = 5.31063855138597 SLC5A6 = 6.572456622232879\n",
      "8 FAP = 4.208261744613741 SLC5A6 = 6.5543446277055\n",
      "9 FAP = 6.17311094583072 SLC5A6 = 6.345487876655951\n"
     ]
    }
   ],
   "source": [
    "for i in range(10):\n",
    "    print(i, 'FAP =', data['FAP'].iloc[i], 'SLC5A6 =', data['SLC5A6'].iloc[i])"
   ]
  },
  {
   "cell_type": "markdown",
   "id": "early-invention",
   "metadata": {},
   "source": [
    "## Dealing with missing value\n",
    "impute with **fillna()**"
   ]
  },
  {
   "cell_type": "code",
   "execution_count": 24,
   "id": "handmade-spectacular",
   "metadata": {},
   "outputs": [
    {
     "data": {
      "text/html": [
       "<div>\n",
       "<style scoped>\n",
       "    .dataframe tbody tr th:only-of-type {\n",
       "        vertical-align: middle;\n",
       "    }\n",
       "\n",
       "    .dataframe tbody tr th {\n",
       "        vertical-align: top;\n",
       "    }\n",
       "\n",
       "    .dataframe thead th {\n",
       "        text-align: right;\n",
       "    }\n",
       "</style>\n",
       "<table border=\"1\" class=\"dataframe\">\n",
       "  <thead>\n",
       "    <tr style=\"text-align: right;\">\n",
       "      <th></th>\n",
       "      <th>ProteinA</th>\n",
       "      <th>ProteinB</th>\n",
       "      <th>ProteinC</th>\n",
       "    </tr>\n",
       "  </thead>\n",
       "  <tbody>\n",
       "    <tr>\n",
       "      <th>Cell1</th>\n",
       "      <td>0.0</td>\n",
       "      <td>NaN</td>\n",
       "      <td>1</td>\n",
       "    </tr>\n",
       "    <tr>\n",
       "      <th>Cell2</th>\n",
       "      <td>NaN</td>\n",
       "      <td>1.0</td>\n",
       "      <td>2</td>\n",
       "    </tr>\n",
       "    <tr>\n",
       "      <th>Cell3</th>\n",
       "      <td>2.0</td>\n",
       "      <td>3.0</td>\n",
       "      <td>4</td>\n",
       "    </tr>\n",
       "  </tbody>\n",
       "</table>\n",
       "</div>"
      ],
      "text/plain": [
       "       ProteinA  ProteinB  ProteinC\n",
       "Cell1       0.0       NaN         1\n",
       "Cell2       NaN       1.0         2\n",
       "Cell3       2.0       3.0         4"
      ]
     },
     "execution_count": 24,
     "metadata": {},
     "output_type": "execute_result"
    }
   ],
   "source": [
    "missing_data = pd.DataFrame([[0, np.nan, 1], \n",
    "                             [np.nan, 1, 2],\n",
    "                             [2, 3, 4]], \n",
    "                            index = ['Cell1', 'Cell2', 'Cell3'],\n",
    "                            columns = ['ProteinA', 'ProteinB', 'ProteinC'])\n",
    "missing_data.head()"
   ]
  },
  {
   "cell_type": "code",
   "execution_count": 25,
   "id": "absent-farming",
   "metadata": {},
   "outputs": [
    {
     "data": {
      "text/html": [
       "<div>\n",
       "<style scoped>\n",
       "    .dataframe tbody tr th:only-of-type {\n",
       "        vertical-align: middle;\n",
       "    }\n",
       "\n",
       "    .dataframe tbody tr th {\n",
       "        vertical-align: top;\n",
       "    }\n",
       "\n",
       "    .dataframe thead th {\n",
       "        text-align: right;\n",
       "    }\n",
       "</style>\n",
       "<table border=\"1\" class=\"dataframe\">\n",
       "  <thead>\n",
       "    <tr style=\"text-align: right;\">\n",
       "      <th></th>\n",
       "      <th>ProteinA</th>\n",
       "      <th>ProteinB</th>\n",
       "      <th>ProteinC</th>\n",
       "    </tr>\n",
       "  </thead>\n",
       "  <tbody>\n",
       "    <tr>\n",
       "      <th>Cell1</th>\n",
       "      <td>0.0</td>\n",
       "      <td>-1.0</td>\n",
       "      <td>1</td>\n",
       "    </tr>\n",
       "    <tr>\n",
       "      <th>Cell2</th>\n",
       "      <td>-1.0</td>\n",
       "      <td>1.0</td>\n",
       "      <td>2</td>\n",
       "    </tr>\n",
       "    <tr>\n",
       "      <th>Cell3</th>\n",
       "      <td>2.0</td>\n",
       "      <td>3.0</td>\n",
       "      <td>4</td>\n",
       "    </tr>\n",
       "  </tbody>\n",
       "</table>\n",
       "</div>"
      ],
      "text/plain": [
       "       ProteinA  ProteinB  ProteinC\n",
       "Cell1       0.0      -1.0         1\n",
       "Cell2      -1.0       1.0         2\n",
       "Cell3       2.0       3.0         4"
      ]
     },
     "execution_count": 25,
     "metadata": {},
     "output_type": "execute_result"
    }
   ],
   "source": [
    "imputed_data = missing_data.fillna(-1)\n",
    "imputed_data.head()"
   ]
  },
  {
   "cell_type": "code",
   "execution_count": 26,
   "id": "declared-saudi",
   "metadata": {},
   "outputs": [
    {
     "data": {
      "text/html": [
       "<div>\n",
       "<style scoped>\n",
       "    .dataframe tbody tr th:only-of-type {\n",
       "        vertical-align: middle;\n",
       "    }\n",
       "\n",
       "    .dataframe tbody tr th {\n",
       "        vertical-align: top;\n",
       "    }\n",
       "\n",
       "    .dataframe thead th {\n",
       "        text-align: right;\n",
       "    }\n",
       "</style>\n",
       "<table border=\"1\" class=\"dataframe\">\n",
       "  <thead>\n",
       "    <tr style=\"text-align: right;\">\n",
       "      <th></th>\n",
       "      <th>ProteinA</th>\n",
       "      <th>ProteinB</th>\n",
       "      <th>ProteinC</th>\n",
       "    </tr>\n",
       "  </thead>\n",
       "  <tbody>\n",
       "    <tr>\n",
       "      <th>Cell1</th>\n",
       "      <td>0.0</td>\n",
       "      <td>2.0</td>\n",
       "      <td>1</td>\n",
       "    </tr>\n",
       "    <tr>\n",
       "      <th>Cell2</th>\n",
       "      <td>1.0</td>\n",
       "      <td>1.0</td>\n",
       "      <td>2</td>\n",
       "    </tr>\n",
       "    <tr>\n",
       "      <th>Cell3</th>\n",
       "      <td>2.0</td>\n",
       "      <td>3.0</td>\n",
       "      <td>4</td>\n",
       "    </tr>\n",
       "  </tbody>\n",
       "</table>\n",
       "</div>"
      ],
      "text/plain": [
       "       ProteinA  ProteinB  ProteinC\n",
       "Cell1       0.0       2.0         1\n",
       "Cell2       1.0       1.0         2\n",
       "Cell3       2.0       3.0         4"
      ]
     },
     "execution_count": 26,
     "metadata": {},
     "output_type": "execute_result"
    }
   ],
   "source": [
    "imputed_data = missing_data.fillna(missing_data.mean())\n",
    "imputed_data.head()"
   ]
  },
  {
   "cell_type": "markdown",
   "id": "unknown-syria",
   "metadata": {},
   "source": [
    "## Selecting rows with no missing data"
   ]
  },
  {
   "cell_type": "code",
   "execution_count": 27,
   "id": "grateful-collaboration",
   "metadata": {},
   "outputs": [
    {
     "data": {
      "text/html": [
       "<div>\n",
       "<style scoped>\n",
       "    .dataframe tbody tr th:only-of-type {\n",
       "        vertical-align: middle;\n",
       "    }\n",
       "\n",
       "    .dataframe tbody tr th {\n",
       "        vertical-align: top;\n",
       "    }\n",
       "\n",
       "    .dataframe thead th {\n",
       "        text-align: right;\n",
       "    }\n",
       "</style>\n",
       "<table border=\"1\" class=\"dataframe\">\n",
       "  <thead>\n",
       "    <tr style=\"text-align: right;\">\n",
       "      <th></th>\n",
       "      <th>ProteinA</th>\n",
       "      <th>ProteinB</th>\n",
       "      <th>ProteinC</th>\n",
       "    </tr>\n",
       "  </thead>\n",
       "  <tbody>\n",
       "    <tr>\n",
       "      <th>Cell1</th>\n",
       "      <td>0.0</td>\n",
       "      <td>NaN</td>\n",
       "      <td>1</td>\n",
       "    </tr>\n",
       "    <tr>\n",
       "      <th>Cell3</th>\n",
       "      <td>2.0</td>\n",
       "      <td>3.0</td>\n",
       "      <td>4</td>\n",
       "    </tr>\n",
       "  </tbody>\n",
       "</table>\n",
       "</div>"
      ],
      "text/plain": [
       "       ProteinA  ProteinB  ProteinC\n",
       "Cell1       0.0       NaN         1\n",
       "Cell3       2.0       3.0         4"
      ]
     },
     "execution_count": 27,
     "metadata": {},
     "output_type": "execute_result"
    }
   ],
   "source": [
    "nomissing_data = missing_data.loc[~pd.isna(missing_data['ProteinA']), :]\n",
    "nomissing_data.head()"
   ]
  },
  {
   "cell_type": "code",
   "execution_count": 28,
   "id": "contained-second",
   "metadata": {},
   "outputs": [
    {
     "data": {
      "text/html": [
       "<div>\n",
       "<style scoped>\n",
       "    .dataframe tbody tr th:only-of-type {\n",
       "        vertical-align: middle;\n",
       "    }\n",
       "\n",
       "    .dataframe tbody tr th {\n",
       "        vertical-align: top;\n",
       "    }\n",
       "\n",
       "    .dataframe thead th {\n",
       "        text-align: right;\n",
       "    }\n",
       "</style>\n",
       "<table border=\"1\" class=\"dataframe\">\n",
       "  <thead>\n",
       "    <tr style=\"text-align: right;\">\n",
       "      <th></th>\n",
       "      <th>ProteinA</th>\n",
       "      <th>ProteinB</th>\n",
       "      <th>ProteinC</th>\n",
       "    </tr>\n",
       "  </thead>\n",
       "  <tbody>\n",
       "    <tr>\n",
       "      <th>Cell3</th>\n",
       "      <td>2.0</td>\n",
       "      <td>3.0</td>\n",
       "      <td>4</td>\n",
       "    </tr>\n",
       "  </tbody>\n",
       "</table>\n",
       "</div>"
      ],
      "text/plain": [
       "       ProteinA  ProteinB  ProteinC\n",
       "Cell3       2.0       3.0         4"
      ]
     },
     "execution_count": 28,
     "metadata": {},
     "output_type": "execute_result"
    }
   ],
   "source": [
    "nomissing_data = missing_data.loc[~pd.isna(missing_data['ProteinA']) & ~pd.isna(missing_data['ProteinB']), :]\n",
    "nomissing_data.head()"
   ]
  },
  {
   "cell_type": "markdown",
   "id": "hundred-harvey",
   "metadata": {},
   "source": [
    "Using any() function"
   ]
  },
  {
   "cell_type": "code",
   "execution_count": 29,
   "id": "hawaiian-faith",
   "metadata": {},
   "outputs": [
    {
     "name": "stdout",
     "output_type": "stream",
     "text": [
      "True\n",
      "False\n",
      "True\n"
     ]
    }
   ],
   "source": [
    "print(pd.DataFrame([True, True, False, False]).any()[0])\n",
    "print(pd.DataFrame([False, False, False, False]).any()[0])\n",
    "print(pd.DataFrame([False, True, False, False]).any()[0])"
   ]
  },
  {
   "cell_type": "code",
   "execution_count": 30,
   "id": "confident-coating",
   "metadata": {},
   "outputs": [
    {
     "data": {
      "text/plain": [
       "Cell1     True\n",
       "Cell2     True\n",
       "Cell3    False\n",
       "dtype: bool"
      ]
     },
     "execution_count": 30,
     "metadata": {},
     "output_type": "execute_result"
    }
   ],
   "source": [
    "pd.isna(missing_data).any(axis = 1)"
   ]
  },
  {
   "cell_type": "code",
   "execution_count": 31,
   "id": "outside-flesh",
   "metadata": {},
   "outputs": [
    {
     "data": {
      "text/html": [
       "<div>\n",
       "<style scoped>\n",
       "    .dataframe tbody tr th:only-of-type {\n",
       "        vertical-align: middle;\n",
       "    }\n",
       "\n",
       "    .dataframe tbody tr th {\n",
       "        vertical-align: top;\n",
       "    }\n",
       "\n",
       "    .dataframe thead th {\n",
       "        text-align: right;\n",
       "    }\n",
       "</style>\n",
       "<table border=\"1\" class=\"dataframe\">\n",
       "  <thead>\n",
       "    <tr style=\"text-align: right;\">\n",
       "      <th></th>\n",
       "      <th>ProteinA</th>\n",
       "      <th>ProteinB</th>\n",
       "      <th>ProteinC</th>\n",
       "    </tr>\n",
       "  </thead>\n",
       "  <tbody>\n",
       "    <tr>\n",
       "      <th>Cell3</th>\n",
       "      <td>2.0</td>\n",
       "      <td>3.0</td>\n",
       "      <td>4</td>\n",
       "    </tr>\n",
       "  </tbody>\n",
       "</table>\n",
       "</div>"
      ],
      "text/plain": [
       "       ProteinA  ProteinB  ProteinC\n",
       "Cell3       2.0       3.0         4"
      ]
     },
     "execution_count": 31,
     "metadata": {},
     "output_type": "execute_result"
    }
   ],
   "source": [
    "nomissing_data = missing_data.loc[~pd.isna(missing_data).any(axis = 1), :]\n",
    "nomissing_data.head()"
   ]
  }
 ],
 "metadata": {
  "kernelspec": {
   "display_name": "Python 3 (ipykernel)",
   "language": "python",
   "name": "python3"
  },
  "language_info": {
   "codemirror_mode": {
    "name": "ipython",
    "version": 3
   },
   "file_extension": ".py",
   "mimetype": "text/x-python",
   "name": "python",
   "nbconvert_exporter": "python",
   "pygments_lexer": "ipython3",
   "version": "3.9.7"
  }
 },
 "nbformat": 4,
 "nbformat_minor": 5
}
