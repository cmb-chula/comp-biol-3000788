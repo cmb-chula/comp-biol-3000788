{
 "cells": [
  {
   "cell_type": "markdown",
   "metadata": {},
   "source": [
    "## Welcome to Python programming via Jupyter interface\n",
    "This is called a **Markdown** panel"
   ]
  },
  {
   "cell_type": "code",
   "execution_count": 1,
   "metadata": {},
   "outputs": [
    {
     "name": "stdout",
     "output_type": "stream",
     "text": [
      "102\n",
      "This is called a **Code** panel\n"
     ]
    }
   ],
   "source": [
    "x = 5\n",
    "print(x * 20 + x - 3)\n",
    "print('This is called a **Code** panel')"
   ]
  },
  {
   "cell_type": "markdown",
   "metadata": {},
   "source": [
    "# Markdown panel helps other understand your code\n",
    "And can be very __fancy__\n",
    "\n",
    "See [more](https://medium.com/ibm-data-science-experience/markdown-for-jupyter-notebooks-cheatsheet-386c05aeebed)\n",
    "\n",
    "## Demo 1: Gut microbiota \n",
    "---\n",
    "### Data were acquired by two laboratories on two sequencing platforms\n",
    "*   **M0** dataset was acquired on an **Illumina** platform by a group at CU\n",
    "*   **JI** and **KI** datasets were acquired by a group at JP on **454** and **Illumina** platforms, respectively\n",
    "\n",
    "### *M0* dataset was acquired in 3 sequencing batches\n",
    "*    Batch ID can be found in **M0_manifest.tsv**\n",
    "\n",
    "### For each dataset, you are given two files:\n",
    "1.   **_feature.tsv** files contain OTU abundance table\n",
    "\n",
    "| OTU ID   | sample-1 | sample-2 |    ...   | sample-N |\n",
    "|---------|---------|---------|---------|---------|\n",
    "| OTU-1   | 39 | 214 |    ...   | 380 |\n",
    "| OTU-2   | 359 | 0 |    ...   | 495 |\n",
    "| ...   | ... | ... |    ...   | ... |\n",
    "| OTU-M   | 155 | 108 |    ...   | 12 |\n",
    "\n",
    "2.   **_taxonomy.tsv** files contain taxonomy mapping for each OTU\n",
    "\n",
    "| OTU ID   | taxonomy | confidence |\n",
    "|---------|---------|---------|\n",
    "| OTU-1   | D_1__Actinobacteria;D_2__Coriobacteriia;D_3__Coriobacteriales;D_4__Coriobacteriaceae;D_5__Collinsella | 0.9999 |\n",
    "| OTU-2   | D_1__Firmicutes;D_2__Clostridia;D_3__Clostridiales;D_4__Lachnospiraceae;D_5__Fusicatenibacter | 0.9711 |\n",
    "| ...   | ... | ... |\n",
    "| OTU-M   | D_1__Firmicutes;D_2__Clostridia;D_3__Clostridiales;D_4__Ruminococcaceae;D_5__Subdoligranulum | 0.9834 |"
   ]
  },
  {
   "cell_type": "markdown",
   "metadata": {},
   "source": [
    "## Number operations"
   ]
  },
  {
   "cell_type": "code",
   "execution_count": 4,
   "metadata": {},
   "outputs": [
    {
     "name": "stdout",
     "output_type": "stream",
     "text": [
      "8\n",
      "3.5\n",
      "3\n",
      "49\n",
      "Notice the difference between \"x / 2\" and \"x // 2\"\n"
     ]
    }
   ],
   "source": [
    "print(x + 1)\n",
    "print(x / 2)\n",
    "print(x // 2)\n",
    "print(x ** 2)\n",
    "print('Notice the difference between \"x / 2\" and \"x // 2\"')"
   ]
  },
  {
   "cell_type": "markdown",
   "metadata": {},
   "source": [
    "### Can you guess what % operator does?"
   ]
  },
  {
   "cell_type": "code",
   "execution_count": 3,
   "metadata": {},
   "outputs": [],
   "source": [
    "x = 7"
   ]
  },
  {
   "cell_type": "code",
   "execution_count": 5,
   "metadata": {},
   "outputs": [
    {
     "name": "stdout",
     "output_type": "stream",
     "text": [
      "3\n",
      "1\n",
      "9\n"
     ]
    }
   ],
   "source": [
    "print(15 % 4)\n",
    "print(15 % 7)\n",
    "print(100 % 13)"
   ]
  },
  {
   "cell_type": "code",
   "execution_count": 6,
   "metadata": {},
   "outputs": [
    {
     "name": "stdout",
     "output_type": "stream",
     "text": [
      "y = 5 x = 5\n",
      "y = 5 x = 10\n",
      "Notice how \"y\" does not change with \"x\"\n"
     ]
    }
   ],
   "source": [
    "x = 5\n",
    "y = x\n",
    "print('y =', y, 'x =', x)\n",
    "x = 10\n",
    "print('y =', y, 'x =', x)\n",
    "print('Notice how \"y\" does not change with \"x\"')"
   ]
  },
  {
   "cell_type": "code",
   "execution_count": 7,
   "metadata": {},
   "outputs": [
    {
     "name": "stdout",
     "output_type": "stream",
     "text": [
      "27\n",
      "What does \"**\" do?\n"
     ]
    }
   ],
   "source": [
    "x = 3\n",
    "print(x ** 3)\n",
    "print('What does \"**\" do?')"
   ]
  },
  {
   "cell_type": "markdown",
   "metadata": {},
   "source": [
    "### Variable can be updated at the same time that an operation is performed"
   ]
  },
  {
   "cell_type": "code",
   "execution_count": 12,
   "metadata": {},
   "outputs": [
    {
     "name": "stdout",
     "output_type": "stream",
     "text": [
      "9.9\n",
      "-1.0499999999999998\n"
     ]
    }
   ],
   "source": [
    "x = 7.9\n",
    "x = x + 2\n",
    "\n",
    "print(x)\n",
    "\n",
    "y = 7.9\n",
    "y = y / 2 # divide y by 2\n",
    "y = y - 5\n",
    "\n",
    "print(y)"
   ]
  },
  {
   "cell_type": "markdown",
   "metadata": {},
   "source": [
    "## String"
   ]
  },
  {
   "cell_type": "code",
   "execution_count": 13,
   "metadata": {},
   "outputs": [
    {
     "name": "stdout",
     "output_type": "stream",
     "text": [
      "hello world\n",
      "helloworld\n",
      "5\n"
     ]
    }
   ],
   "source": [
    "msg1 = 'hello'\n",
    "msg2 = \"world\"\n",
    "\n",
    "print(msg1, msg2)\n",
    "print(msg1 + msg2)\n",
    "print(len(msg1))"
   ]
  },
  {
   "cell_type": "code",
   "execution_count": 18,
   "metadata": {},
   "outputs": [
    {
     "name": "stdout",
     "output_type": "stream",
     "text": [
      "hello   world\n"
     ]
    }
   ],
   "source": [
    "msg = msg1 + '   ' + msg2\n",
    "print(msg)"
   ]
  },
  {
   "cell_type": "code",
   "execution_count": 19,
   "metadata": {},
   "outputs": [
    {
     "name": "stdout",
     "output_type": "stream",
     "text": [
      "Deep learning\n",
      "DEEP LEARNING\n",
      "machine learning\n",
      "DEEP TECH\n",
      "deep learning\n"
     ]
    }
   ],
   "source": [
    "msg = 'deep learning'\n",
    "print(msg.capitalize())\n",
    "print(msg.upper())\n",
    "\n",
    "print(msg.replace('deep', 'machine'))\n",
    "print(msg.replace('learning', 'tech').upper())\n",
    "print(msg)"
   ]
  },
  {
   "cell_type": "code",
   "execution_count": 20,
   "metadata": {},
   "outputs": [
    {
     "name": "stdout",
     "output_type": "stream",
     "text": [
      "    DNA    RNA\n",
      "DNA    RNA\n"
     ]
    }
   ],
   "source": [
    "msg = '    DNA    RNA'\n",
    "print(msg)\n",
    "print(msg.strip())"
   ]
  },
  {
   "cell_type": "code",
   "execution_count": 21,
   "metadata": {},
   "outputs": [
    {
     "name": "stdout",
     "output_type": "stream",
     "text": [
      "hello world\n"
     ]
    }
   ],
   "source": [
    "msg = 'hello'\n",
    "msg += ' world'\n",
    "print(msg)"
   ]
  },
  {
   "cell_type": "markdown",
   "metadata": {},
   "source": [
    "## Error messages\n",
    "Do not be scared of these. Python error messages are often helpful and will point you to where the problem is\n",
    "\n",
    "Notice the line numbers and arrows pointing to the issue"
   ]
  },
  {
   "cell_type": "code",
   "execution_count": 27,
   "metadata": {},
   "outputs": [
    {
     "name": "stdout",
     "output_type": "stream",
     "text": [
      "When you use undefined variable:\n"
     ]
    },
    {
     "ename": "NameError",
     "evalue": "name 'unknown1' is not defined",
     "output_type": "error",
     "traceback": [
      "\u001b[1;31m---------------------------------------------------------------------------\u001b[0m",
      "\u001b[1;31mNameError\u001b[0m                                 Traceback (most recent call last)",
      "\u001b[1;32m<ipython-input-27-ec093d278129>\u001b[0m in \u001b[0;36m<module>\u001b[1;34m\u001b[0m\n\u001b[0;32m      1\u001b[0m \u001b[0mprint\u001b[0m\u001b[1;33m(\u001b[0m\u001b[1;34m'When you use undefined variable:'\u001b[0m\u001b[1;33m)\u001b[0m\u001b[1;33m\u001b[0m\u001b[1;33m\u001b[0m\u001b[0m\n\u001b[1;32m----> 2\u001b[1;33m \u001b[0mx\u001b[0m \u001b[1;33m=\u001b[0m \u001b[0munknown1\u001b[0m\u001b[1;33m\u001b[0m\u001b[1;33m\u001b[0m\u001b[0m\n\u001b[0m",
      "\u001b[1;31mNameError\u001b[0m: name 'unknown1' is not defined"
     ]
    }
   ],
   "source": [
    "print('When you use undefined variable:')\n",
    "x = unknown1"
   ]
  },
  {
   "cell_type": "markdown",
   "metadata": {},
   "source": [
    "### Variable name cannot begin with number"
   ]
  },
  {
   "cell_type": "code",
   "execution_count": 28,
   "metadata": {},
   "outputs": [
    {
     "ename": "SyntaxError",
     "evalue": "invalid syntax (<ipython-input-28-f7e61cfb6027>, line 1)",
     "output_type": "error",
     "traceback": [
      "\u001b[1;36m  File \u001b[1;32m\"<ipython-input-28-f7e61cfb6027>\"\u001b[1;36m, line \u001b[1;32m1\u001b[0m\n\u001b[1;33m    1x = 4.89\u001b[0m\n\u001b[1;37m     ^\u001b[0m\n\u001b[1;31mSyntaxError\u001b[0m\u001b[1;31m:\u001b[0m invalid syntax\n"
     ]
    }
   ],
   "source": [
    "1x = 4.89 "
   ]
  },
  {
   "cell_type": "markdown",
   "metadata": {},
   "source": [
    "### Illegal mathematical operation is also considered error"
   ]
  },
  {
   "cell_type": "code",
   "execution_count": 29,
   "metadata": {},
   "outputs": [
    {
     "ename": "ZeroDivisionError",
     "evalue": "division by zero",
     "output_type": "error",
     "traceback": [
      "\u001b[1;31m---------------------------------------------------------------------------\u001b[0m",
      "\u001b[1;31mZeroDivisionError\u001b[0m                         Traceback (most recent call last)",
      "\u001b[1;32m<ipython-input-29-c5fface48809>\u001b[0m in \u001b[0;36m<module>\u001b[1;34m\u001b[0m\n\u001b[1;32m----> 1\u001b[1;33m \u001b[0mx\u001b[0m \u001b[1;33m=\u001b[0m \u001b[1;36m6\u001b[0m \u001b[1;33m/\u001b[0m \u001b[1;36m0\u001b[0m\u001b[1;33m\u001b[0m\u001b[1;33m\u001b[0m\u001b[0m\n\u001b[0m",
      "\u001b[1;31mZeroDivisionError\u001b[0m: division by zero"
     ]
    }
   ],
   "source": [
    "x = 6 / 0"
   ]
  },
  {
   "cell_type": "markdown",
   "metadata": {},
   "source": [
    "### Some names are reserved. Do not use names that are highlighted in green"
   ]
  },
  {
   "cell_type": "code",
   "execution_count": 30,
   "metadata": {},
   "outputs": [
    {
     "ename": "SyntaxError",
     "evalue": "invalid syntax (<ipython-input-30-dc05e41a10d5>, line 4)",
     "output_type": "error",
     "traceback": [
      "\u001b[1;36m  File \u001b[1;32m\"<ipython-input-30-dc05e41a10d5>\"\u001b[1;36m, line \u001b[1;32m4\u001b[0m\n\u001b[1;33m    and         ## This is reserved\u001b[0m\n\u001b[1;37m    ^\u001b[0m\n\u001b[1;31mSyntaxError\u001b[0m\u001b[1;31m:\u001b[0m invalid syntax\n"
     ]
    }
   ],
   "source": [
    "int         ## This is reserved\n",
    "str         ## This is reserved\n",
    "integer = 3 ## This is ok\n",
    "and         ## This is reserved"
   ]
  },
  {
   "cell_type": "code",
   "execution_count": 32,
   "metadata": {},
   "outputs": [
    {
     "data": {
      "text/plain": [
       "True"
      ]
     },
     "execution_count": 32,
     "metadata": {},
     "output_type": "execute_result"
    }
   ],
   "source": [
    "True or False"
   ]
  },
  {
   "cell_type": "markdown",
   "metadata": {},
   "source": [
    "## Task 1: Write a simple calculator\n",
    "Complete the follow function which takes in three inputs from user: Two numbers, x and y, and a command, *add*, *subtract*, *multiply*, or *divide*. And return the correct answer\n",
    "\n",
    "**def** stands for *define* and is how we define function in Python\n",
    "\n",
    "**if-elif-else** is a structure that let us control how to program should behave under a condition. **elif** is shortened from *else-if*"
   ]
  },
  {
   "cell_type": "code",
   "execution_count": 33,
   "metadata": {},
   "outputs": [],
   "source": [
    "def simple_calculator(x, y, command):\n",
    "    if command == 'add':\n",
    "        return x + y\n",
    "    elif command == 'subtract':\n",
    "        return x - y ### fill in your answer here\n",
    "    elif command == 'multiply':\n",
    "        return x * y ### fill in your answer here\n",
    "    elif command == 'divide':\n",
    "        return x / y ### fill in your answer here\n",
    "    else:\n",
    "        return 'Unknown command: ' + command"
   ]
  },
  {
   "cell_type": "markdown",
   "metadata": {},
   "source": [
    "#### Test your work here"
   ]
  },
  {
   "cell_type": "code",
   "execution_count": 36,
   "metadata": {},
   "outputs": [
    {
     "name": "stdout",
     "output_type": "stream",
     "text": [
      "0.5\n",
      "6\n",
      "Unknown command: exponential\n"
     ]
    }
   ],
   "source": [
    "print(simple_calculator(5, 10, 'divide'))\n",
    "print(simple_calculator(2, 3, 'multiply'))\n",
    "print(simple_calculator(2.4, 8, 'exponential'))"
   ]
  },
  {
   "cell_type": "markdown",
   "metadata": {},
   "source": [
    "## If-else control statement\n",
    "From Task 1, you can see that we can control the program to perform specific task under specific condition\n",
    "\n",
    "Let's explore the building block behind if-else statement"
   ]
  },
  {
   "cell_type": "code",
   "execution_count": 37,
   "metadata": {},
   "outputs": [
    {
     "name": "stdout",
     "output_type": "stream",
     "text": [
      "True\n",
      "False\n",
      "False\n",
      "False\n",
      "True\n"
     ]
    }
   ],
   "source": [
    "command = 'add'\n",
    "print(command == 'add')\n",
    "print(command == 'subtract')\n",
    "print(command != 'add')\n",
    "print(not command == 'add')\n",
    "print(not command != 'add')"
   ]
  },
  {
   "cell_type": "markdown",
   "metadata": {},
   "source": [
    "## Boolean\n",
    "True-False values are called **boolean**. They are what control the direction of if-else statement\n",
    "\n",
    "And they can be assigned and used in any part of the program"
   ]
  },
  {
   "cell_type": "code",
   "execution_count": 38,
   "metadata": {},
   "outputs": [
    {
     "name": "stdout",
     "output_type": "stream",
     "text": [
      "\"t\" is True\n",
      "\"f\" is False\n"
     ]
    }
   ],
   "source": [
    "t = True\n",
    "\n",
    "if t:\n",
    "    print('\"t\" is True')\n",
    "else:\n",
    "    print('\"t\" is False')\n",
    "    \n",
    "f = False\n",
    "\n",
    "if f:\n",
    "    print('\"f\" is True')\n",
    "else:\n",
    "    print('\"f\" is False')"
   ]
  },
  {
   "cell_type": "markdown",
   "metadata": {},
   "source": [
    "### Boolean operations"
   ]
  },
  {
   "cell_type": "code",
   "execution_count": 39,
   "metadata": {},
   "outputs": [
    {
     "name": "stdout",
     "output_type": "stream",
     "text": [
      "False\n",
      "True\n",
      "False\n"
     ]
    }
   ],
   "source": [
    "print(t and f)\n",
    "print(t or f)\n",
    "print(not t)"
   ]
  },
  {
   "cell_type": "markdown",
   "metadata": {},
   "source": [
    "## List\n",
    "List is a simple linear data structure that store elements [a, b, ...]\n",
    "\n",
    "String can be thought of as a list of characters\n",
    "\n",
    "Hence, **for** loop is a natural way to traverse through the elements of list"
   ]
  },
  {
   "cell_type": "code",
   "execution_count": 44,
   "metadata": {},
   "outputs": [
    {
     "name": "stdout",
     "output_type": "stream",
     "text": [
      "[1, 1, 2, 3, 5, 8, 13, 21, 34]\n",
      "1\n",
      "1\n",
      "2\n",
      "8\n",
      "34\n",
      "21\n"
     ]
    }
   ],
   "source": [
    "mylist = [1, 1, 2, 3, 5, 8, 13, 21, 34]\n",
    "\n",
    "print(mylist)\n",
    "print(mylist[0])\n",
    "print(mylist[1])\n",
    "print(mylist[2])\n",
    "print(mylist[5])\n",
    "print(mylist[-1])\n",
    "print(mylist[-2])"
   ]
  },
  {
   "cell_type": "markdown",
   "metadata": {},
   "source": [
    "### Partial list can be extracted via slicing"
   ]
  },
  {
   "cell_type": "code",
   "execution_count": 46,
   "metadata": {},
   "outputs": [
    {
     "name": "stdout",
     "output_type": "stream",
     "text": [
      "[1, 2, 3, 5, 8, 13, 21]\n",
      "[1, 1, 2]\n",
      "[5, 8, 13, 21, 34]\n"
     ]
    }
   ],
   "source": [
    "mylist = [1, 1, 2, 3, 5, 8, 13, 21, 34]\n",
    "print(mylist[1:8])\n",
    "print(mylist[:3])\n",
    "print(mylist[-5:])"
   ]
  },
  {
   "cell_type": "markdown",
   "metadata": {},
   "source": [
    "### BE CAREFUL: Lists are completely linked when copied\n",
    "Do not simply use **A = B** when copying list\n",
    "\n",
    "See the right way below"
   ]
  },
  {
   "cell_type": "code",
   "execution_count": 47,
   "metadata": {},
   "outputs": [
    {
     "name": "stdout",
     "output_type": "stream",
     "text": [
      "[1, 1, 2, 3, 5]\n",
      "[1, 1, 2, 3, 5]\n",
      "['my_new_entry', 1, 2, 3, 5]\n",
      "['my_new_entry', 1, 2, 3, 5]\n",
      "['your_new_entry', 1, 2, 3, 5]\n",
      "['your_new_entry', 1, 2, 3, 5]\n"
     ]
    }
   ],
   "source": [
    "mylist = [1, 1, 2, 3, 5]\n",
    "yourlist = mylist\n",
    "print(mylist)\n",
    "print(yourlist)\n",
    "\n",
    "mylist[0] = 'my_new_entry'\n",
    "print(mylist)\n",
    "print(yourlist)\n",
    "\n",
    "yourlist[0] = 'your_new_entry'\n",
    "print(mylist)\n",
    "print(yourlist)"
   ]
  },
  {
   "cell_type": "code",
   "execution_count": 48,
   "metadata": {},
   "outputs": [
    {
     "name": "stdout",
     "output_type": "stream",
     "text": [
      "[1, 1, 2, 3, 5]\n",
      "[1, 1, 2, 3, 5]\n",
      "['my_new_entry', 1, 2, 3, 5]\n",
      "[1, 1, 2, 3, 5]\n",
      "['my_new_entry', 1, 2, 3, 5]\n",
      "['your_new_entry', 1, 2, 3, 5]\n"
     ]
    }
   ],
   "source": [
    "mylist = [1, 1, 2, 3, 5]\n",
    "yourlist = mylist[:]\n",
    "print(mylist)\n",
    "print(yourlist)\n",
    "\n",
    "mylist[0] = 'my_new_entry'\n",
    "print(mylist)\n",
    "print(yourlist)\n",
    "\n",
    "yourlist[0] = 'your_new_entry'\n",
    "print(mylist)\n",
    "print(yourlist)"
   ]
  },
  {
   "cell_type": "markdown",
   "metadata": {},
   "source": [
    "### Expanding list"
   ]
  },
  {
   "cell_type": "code",
   "execution_count": 49,
   "metadata": {},
   "outputs": [
    {
     "name": "stdout",
     "output_type": "stream",
     "text": [
      "[1]\n",
      "[1, 2, 3, 4]\n"
     ]
    }
   ],
   "source": [
    "mylist = []\n",
    "mylist.append(1)\n",
    "print(mylist)\n",
    "\n",
    "mylist.extend([2, 3, 4])\n",
    "print(mylist)"
   ]
  },
  {
   "cell_type": "markdown",
   "metadata": {},
   "source": [
    "### String can be thought of as a list of character"
   ]
  },
  {
   "cell_type": "code",
   "execution_count": 50,
   "metadata": {},
   "outputs": [
    {
     "name": "stdout",
     "output_type": "stream",
     "text": [
      "ATG\n",
      "G\n",
      "AG\n"
     ]
    }
   ],
   "source": [
    "seq = 'ATGAACGGGTAG'\n",
    "print(seq[:3])\n",
    "print(seq[7])\n",
    "print(seq[-2:])"
   ]
  },
  {
   "cell_type": "markdown",
   "metadata": {},
   "source": [
    "### A built-in function for generating list of integers\n",
    "**range(start, stop, step)**"
   ]
  },
  {
   "cell_type": "code",
   "execution_count": 51,
   "metadata": {},
   "outputs": [
    {
     "name": "stdout",
     "output_type": "stream",
     "text": [
      "0\n",
      "1\n",
      "2\n",
      "3\n",
      "4\n"
     ]
    }
   ],
   "source": [
    "for i in range(5):\n",
    "    print(i)"
   ]
  },
  {
   "cell_type": "code",
   "execution_count": 52,
   "metadata": {},
   "outputs": [
    {
     "name": "stdout",
     "output_type": "stream",
     "text": [
      "1\n",
      "2\n",
      "3\n"
     ]
    }
   ],
   "source": [
    "for i in range(1, 4):\n",
    "    print(i)"
   ]
  },
  {
   "cell_type": "code",
   "execution_count": 53,
   "metadata": {},
   "outputs": [
    {
     "name": "stdout",
     "output_type": "stream",
     "text": [
      "1\n",
      "3\n",
      "5\n",
      "7\n",
      "9\n"
     ]
    }
   ],
   "source": [
    "for i in range(1, 10, 2):\n",
    "    print(i)"
   ]
  }
 ],
 "metadata": {
  "kernelspec": {
   "display_name": "Python 3 (ipykernel)",
   "language": "python",
   "name": "python3"
  },
  "language_info": {
   "codemirror_mode": {
    "name": "ipython",
    "version": 3
   },
   "file_extension": ".py",
   "mimetype": "text/x-python",
   "name": "python",
   "nbconvert_exporter": "python",
   "pygments_lexer": "ipython3",
   "version": "3.9.7"
  }
 },
 "nbformat": 4,
 "nbformat_minor": 2
}
