{
 "cells": [
  {
   "cell_type": "markdown",
   "metadata": {},
   "source": [
    "## A bit more on function\n",
    "Defining a function lets you **reuse** the same code multiple times\n",
    "\n",
    "A function, **f**, with inputs, **x**, **y**, **z**, is called through **f(x, y, z)**\n",
    "\n",
    "The keyword **return** inside the function specifies which value would be returned to the user\n",
    "\n",
    "## Another example of function\n",
    "This one returns the **arithmatic mean, geometric mean, and harmonic mean** of two input values"
   ]
  },
  {
   "cell_type": "code",
   "execution_count": 1,
   "metadata": {},
   "outputs": [],
   "source": [
    "def get_means(x, y):\n",
    "    return (x + y) / 2, (x * y) ** 0.5, 2 / ((1 / x) + (1 / y))"
   ]
  },
  {
   "cell_type": "markdown",
   "metadata": {},
   "source": [
    "log((x * y) ** 0.5) => 0.5 log(x * y) => 0.5 (log(x) + log(y))"
   ]
  },
  {
   "cell_type": "markdown",
   "metadata": {},
   "source": [
    "### Test"
   ]
  },
  {
   "cell_type": "code",
   "execution_count": 4,
   "metadata": {},
   "outputs": [
    {
     "name": "stdout",
     "output_type": "stream",
     "text": [
      "(505.0, 100.0, 19.801980198019802)\n"
     ]
    }
   ],
   "source": [
    "print(get_means(1000, 10))"
   ]
  },
  {
   "cell_type": "code",
   "execution_count": 6,
   "metadata": {},
   "outputs": [
    {
     "name": "stdout",
     "output_type": "stream",
     "text": [
      "(115.0, 77.45966692414834, 52.173913043478265)\n"
     ]
    }
   ],
   "source": [
    "print(get_means(200, 30))"
   ]
  },
  {
   "cell_type": "markdown",
   "metadata": {},
   "source": [
    "## Print() is a function that we will be using a lot\n",
    "**print(x)** will show the value of **x**\n",
    "\n",
    "**print(x, y)** will show the values of **x** and **y**"
   ]
  },
  {
   "cell_type": "code",
   "execution_count": 7,
   "metadata": {},
   "outputs": [
    {
     "name": "stdout",
     "output_type": "stream",
     "text": [
      "2.7180555555555554\n",
      "2.7180555555555554 7.38782600308642\n",
      "the mean value of feature x is 2.7180555555555554\n"
     ]
    }
   ],
   "source": [
    "x = 1 + 1 + 1/2 + 1/6 + 1/24 + 1/120 + 1/720\n",
    "print(x)\n",
    "print(x, x ** 2)\n",
    "print('the mean value of feature x is', x)"
   ]
  },
  {
   "cell_type": "markdown",
   "metadata": {},
   "source": [
    "## Print() can also readily handle other Python objects\n",
    "Like **list**"
   ]
  },
  {
   "cell_type": "code",
   "execution_count": 9,
   "metadata": {},
   "outputs": [
    {
     "name": "stdout",
     "output_type": "stream",
     "text": [
      "[3, 0, 1, 1, 9, 7, 9]\n",
      "(2.0, 1.7320508075688772, 1.5)\n"
     ]
    }
   ],
   "source": [
    "y = [3,0,1,1,9,7,9]\n",
    "print(y)\n",
    "print(get_means(3, 1))"
   ]
  },
  {
   "cell_type": "code",
   "execution_count": 14,
   "metadata": {},
   "outputs": [
    {
     "name": "stdout",
     "output_type": "stream",
     "text": [
      "7\n"
     ]
    }
   ],
   "source": [
    "print(y[-2])"
   ]
  },
  {
   "cell_type": "markdown",
   "metadata": {},
   "source": [
    "Or **dictionary**"
   ]
  },
  {
   "cell_type": "code",
   "execution_count": 15,
   "metadata": {},
   "outputs": [
    {
     "name": "stdout",
     "output_type": "stream",
     "text": [
      "{4: 'four', 'two': 2, 'three': 3}\n"
     ]
    }
   ],
   "source": [
    "z = {4:'four', 'two':2, 'three':3}\n",
    "print(z)"
   ]
  },
  {
   "cell_type": "code",
   "execution_count": 18,
   "metadata": {},
   "outputs": [
    {
     "name": "stdout",
     "output_type": "stream",
     "text": [
      "3\n"
     ]
    }
   ],
   "source": [
    "print(z['three'])"
   ]
  },
  {
   "cell_type": "code",
   "execution_count": 19,
   "metadata": {},
   "outputs": [
    {
     "name": "stdout",
     "output_type": "stream",
     "text": [
      "DGS3\n"
     ]
    }
   ],
   "source": [
    "gene_to_symbol = {'ENSG0000001231236': 'DGS3'}\n",
    "print(gene_to_symbol['ENSG0000001231236'])"
   ]
  },
  {
   "cell_type": "markdown",
   "metadata": {},
   "source": [
    "## Dictionary is a generalized mapping from key to value\n",
    "List is a mapping from index to value: y[0] -> 3 acts a mapping from index 0 to value 3\n",
    "\n",
    "But dictionary's key can be non-integer: z['one'] -> 1\n",
    "\n",
    "## Let's focus on list for now\n",
    "First, let's create a list with some names. We can use **list.index()** to ask where something is located in the list\n",
    "\n",
    "**list** is a **data structure** and **index()** is one of its built-in functions"
   ]
  },
  {
   "cell_type": "code",
   "execution_count": 20,
   "metadata": {},
   "outputs": [
    {
     "name": "stdout",
     "output_type": "stream",
     "text": [
      "3\n"
     ]
    }
   ],
   "source": [
    "department = ['medicine', 'radiology', 'pathology', 'pediatrics']\n",
    "print(department.index('pediatrics'))"
   ]
  },
  {
   "cell_type": "code",
   "execution_count": 21,
   "metadata": {},
   "outputs": [
    {
     "ename": "ValueError",
     "evalue": "'AI' is not in list",
     "output_type": "error",
     "traceback": [
      "\u001b[0;31m---------------------------------------------------------------------------\u001b[0m",
      "\u001b[0;31mValueError\u001b[0m                                Traceback (most recent call last)",
      "Cell \u001b[0;32mIn [21], line 1\u001b[0m\n\u001b[0;32m----> 1\u001b[0m \u001b[38;5;28mprint\u001b[39m(\u001b[43mdepartment\u001b[49m\u001b[38;5;241;43m.\u001b[39;49m\u001b[43mindex\u001b[49m\u001b[43m(\u001b[49m\u001b[38;5;124;43m'\u001b[39;49m\u001b[38;5;124;43mAI\u001b[39;49m\u001b[38;5;124;43m'\u001b[39;49m\u001b[43m)\u001b[49m)\n",
      "\u001b[0;31mValueError\u001b[0m: 'AI' is not in list"
     ]
    }
   ],
   "source": [
    "print(department.index('AI'))"
   ]
  },
  {
   "cell_type": "markdown",
   "metadata": {},
   "source": [
    "## Whoops! 'AI' is not in the list and so we got an error\n",
    "We have to be careful when using **index()**\n",
    "\n",
    "A good way is to check first whether the thing we look for is present **in** the list"
   ]
  },
  {
   "cell_type": "code",
   "execution_count": 24,
   "metadata": {},
   "outputs": [
    {
     "name": "stdout",
     "output_type": "stream",
     "text": [
      "we have radiology!\n"
     ]
    }
   ],
   "source": [
    "if 'radiology' in department:\n",
    "    print('we have radiology!')\n",
    "else:\n",
    "    print(':(')"
   ]
  },
  {
   "cell_type": "markdown",
   "metadata": {},
   "source": [
    "## List indexing, the other way around\n",
    "department = ['medicine', 'radiology', 'pathology', 'pediatrics']\n",
    "\n",
    "We can use **negative index** to quickly access the **end** of the list"
   ]
  },
  {
   "cell_type": "code",
   "execution_count": 25,
   "metadata": {},
   "outputs": [
    {
     "name": "stdout",
     "output_type": "stream",
     "text": [
      "location 0,1: e\n",
      "location 2,5: l\n"
     ]
    }
   ],
   "source": [
    "department = ['medicine', 'radiology', 'pathology', 'pediatrics']\n",
    "print('location 0,1:', department[0][1])\n",
    "print('location 2,5:', department[2][5])"
   ]
  },
  {
   "cell_type": "code",
   "execution_count": 26,
   "metadata": {},
   "outputs": [
    {
     "name": "stdout",
     "output_type": "stream",
     "text": [
      "location -1,-3: i\n"
     ]
    }
   ],
   "source": [
    "print('location -1,-3:', department[-1][-3])"
   ]
  },
  {
   "cell_type": "code",
   "execution_count": 27,
   "metadata": {},
   "outputs": [
    {
     "name": "stdout",
     "output_type": "stream",
     "text": [
      "location -2,-4: l\n"
     ]
    }
   ],
   "source": [
    "print('location -2,-4:', department[-2][-4])"
   ]
  },
  {
   "cell_type": "markdown",
   "metadata": {},
   "source": [
    "## List is also useful for specifying the range of for loop\n",
    "Here is a simple for loop over the elements of **department**"
   ]
  },
  {
   "cell_type": "code",
   "execution_count": 30,
   "metadata": {},
   "outputs": [
    {
     "name": "stdout",
     "output_type": "stream",
     "text": [
      "four\n",
      "2\n",
      "3\n"
     ]
    }
   ],
   "source": [
    "for x in z:\n",
    "    print(z[x])"
   ]
  },
  {
   "cell_type": "markdown",
   "metadata": {},
   "source": [
    "### We can run for loop the old-fashioned way\n",
    "**range()** is a built-in Python function that return numbers, starting from 0 by default. \n",
    "\n",
    "**range(10)** returns 0, 1, ..., and 9 in that order"
   ]
  },
  {
   "cell_type": "code",
   "execution_count": 31,
   "metadata": {},
   "outputs": [
    {
     "name": "stdout",
     "output_type": "stream",
     "text": [
      "0\n",
      "1\n",
      "2\n",
      "3\n",
      "4\n",
      "5\n",
      "6\n",
      "7\n",
      "8\n",
      "9\n"
     ]
    }
   ],
   "source": [
    "for i in range(10):\n",
    "    print(i)"
   ]
  },
  {
   "cell_type": "markdown",
   "metadata": {},
   "source": [
    "We can further control the **start**, **stop**, and **step** of **range()**"
   ]
  },
  {
   "cell_type": "code",
   "execution_count": 32,
   "metadata": {},
   "outputs": [
    {
     "name": "stdout",
     "output_type": "stream",
     "text": [
      "1\n",
      "3\n",
      "5\n",
      "7\n",
      "9\n"
     ]
    }
   ],
   "source": [
    "for i in range(1, 10, 2):\n",
    "    print(i)"
   ]
  },
  {
   "cell_type": "markdown",
   "metadata": {},
   "source": [
    "We can even go **backward**"
   ]
  },
  {
   "cell_type": "code",
   "execution_count": 33,
   "metadata": {},
   "outputs": [
    {
     "name": "stdout",
     "output_type": "stream",
     "text": [
      "10\n",
      "8\n",
      "6\n",
      "4\n",
      "2\n"
     ]
    }
   ],
   "source": [
    "for i in range(10, 1, -2):\n",
    "    print(i)"
   ]
  },
  {
   "cell_type": "markdown",
   "metadata": {},
   "source": [
    "## Instead of looping over elements in a list, we can loop over the indices\n",
    "Recall that **department** is a **list** which maps 0 -> 'medicine', 1 -> 'radiology', ...\n",
    "\n",
    "**len()** is a built-in Python function that return the **size** of an object"
   ]
  },
  {
   "cell_type": "code",
   "execution_count": 34,
   "metadata": {},
   "outputs": [
    {
     "name": "stdout",
     "output_type": "stream",
     "text": [
      "0 medicine\n",
      "2 pathology\n",
      "4 surgery\n",
      "6 microbiology\n",
      "8 \n"
     ]
    }
   ],
   "source": [
    "department = ['medicine', 'radiology', 'pathology', 'pediatrics', 'surgery', 'immunology', \n",
    "              'microbiology', 'anesthesiology', '']\n",
    "\n",
    "for i in range(0, len(department), 2):\n",
    "    print(i, department[i])"
   ]
  },
  {
   "cell_type": "markdown",
   "metadata": {},
   "source": [
    "## Exercises: Let's apply what we learned to do some analyses"
   ]
  },
  {
   "cell_type": "code",
   "execution_count": 35,
   "metadata": {},
   "outputs": [],
   "source": [
    "patient_age = [18,        47,   12,     8,      4,     65,      17,      34,      77]\n",
    "patient_name = ['Alice', 'Bob', 'Clare', 'Don', 'Eric', 'Fei', 'Gabriel', 'Henry', 'Ivan']"
   ]
  },
  {
   "cell_type": "markdown",
   "metadata": {},
   "source": [
    "### Task 1: Count number of patients"
   ]
  },
  {
   "cell_type": "code",
   "execution_count": 36,
   "metadata": {},
   "outputs": [
    {
     "name": "stdout",
     "output_type": "stream",
     "text": [
      "the number of patient is 9\n",
      "the number of patient is 9\n"
     ]
    }
   ],
   "source": [
    "print('the number of patient is', len(patient_name))\n",
    "print('the number of patient is', len(patient_age))"
   ]
  },
  {
   "cell_type": "markdown",
   "metadata": {},
   "source": [
    "### Task 2: Calculate geometric mean of age"
   ]
  },
  {
   "cell_type": "code",
   "execution_count": 41,
   "metadata": {},
   "outputs": [
    {
     "name": "stdout",
     "output_type": "stream",
     "text": [
      "geometric mean of patient age is 21.39622008180148\n"
     ]
    }
   ],
   "source": [
    "product_age = 1\n",
    "num_patient = len(patient_age)\n",
    "\n",
    "for x in patient_age:\n",
    "    product_age = product_age * x\n",
    "    \n",
    "geomean_age = product_age ** (1 / num_patient)\n",
    "    \n",
    "print('geometric mean of patient age is', geomean_age)"
   ]
  },
  {
   "cell_type": "code",
   "execution_count": 42,
   "metadata": {},
   "outputs": [
    {
     "name": "stdout",
     "output_type": "stream",
     "text": [
      "average of patient age is 31.333333333333332\n"
     ]
    }
   ],
   "source": [
    "print('average of patient age is', sum(patient_age) / len(patient_age))"
   ]
  },
  {
   "cell_type": "markdown",
   "metadata": {},
   "source": [
    "### Task 3: Find the lowest and highest ages"
   ]
  },
  {
   "cell_type": "code",
   "execution_count": 44,
   "metadata": {},
   "outputs": [
    {
     "name": "stdout",
     "output_type": "stream",
     "text": [
      "the youngest patient's age is 4\n",
      "the oldest patient's age is 77\n"
     ]
    }
   ],
   "source": [
    "min_age = 1000\n",
    "max_age = 0\n",
    "\n",
    "for x in patient_age:\n",
    "    if x < min_age:\n",
    "        min_age = x\n",
    "    \n",
    "    if x > max_age:\n",
    "        max_age = x\n",
    "    \n",
    "print('the youngest patient\\'s age is', min_age)\n",
    "print('the oldest patient\\'s age is', max_age)"
   ]
  },
  {
   "cell_type": "code",
   "execution_count": 43,
   "metadata": {},
   "outputs": [
    {
     "name": "stdout",
     "output_type": "stream",
     "text": [
      "77 4\n"
     ]
    }
   ],
   "source": [
    "print(max(patient_age), min(patient_age))"
   ]
  },
  {
   "cell_type": "markdown",
   "metadata": {},
   "source": [
    "### Task 4: Find the name of the youngest patient"
   ]
  },
  {
   "cell_type": "code",
   "execution_count": 45,
   "metadata": {},
   "outputs": [
    {
     "name": "stdout",
     "output_type": "stream",
     "text": [
      "the youngest patient's age is Eric\n"
     ]
    }
   ],
   "source": [
    "min_age = 1000\n",
    "\n",
    "for x in patient_age:\n",
    "    if x < min_age:\n",
    "        min_age = x\n",
    "\n",
    "min_patient_index = patient_age.index(min_age)\n",
    "   \n",
    "print(\"the youngest patient's age is\", patient_name[min_patient_index])"
   ]
  },
  {
   "cell_type": "markdown",
   "metadata": {},
   "source": [
    "### Task 5: Count the number of patients above 60 years old"
   ]
  },
  {
   "cell_type": "code",
   "execution_count": 46,
   "metadata": {},
   "outputs": [
    {
     "name": "stdout",
     "output_type": "stream",
     "text": [
      "number of patient over 60 is 2\n"
     ]
    }
   ],
   "source": [
    "num_patient_over60 = 0\n",
    "\n",
    "for x in patient_age:\n",
    "    if x > 60:\n",
    "        num_patient_over60 = num_patient_over60 + 1\n",
    "    \n",
    "print('number of patient over 60 is', num_patient_over60)"
   ]
  },
  {
   "cell_type": "markdown",
   "metadata": {},
   "source": [
    "### Task 6: List the names of patients above 60 years old"
   ]
  },
  {
   "cell_type": "code",
   "execution_count": 47,
   "metadata": {},
   "outputs": [
    {
     "name": "stdout",
     "output_type": "stream",
     "text": [
      "65 Fei\n",
      "77 Ivan\n"
     ]
    }
   ],
   "source": [
    "for i in range(len(patient_age)):\n",
    "    if patient_age[i] > 60:\n",
    "        print(patient_age[i], patient_name[i])"
   ]
  },
  {
   "cell_type": "markdown",
   "metadata": {},
   "source": [
    "## And now, the BEST feature of Python list\n",
    "This is a technique called **list comprehension**\n",
    "\n",
    "Can you guess what the following code will output?"
   ]
  },
  {
   "cell_type": "code",
   "execution_count": 48,
   "metadata": {},
   "outputs": [
    {
     "name": "stdout",
     "output_type": "stream",
     "text": [
      "[0, 1, 2, 3, 4]\n"
     ]
    }
   ],
   "source": [
    "y = [i for i in range(5)]\n",
    "print(y)"
   ]
  },
  {
   "cell_type": "code",
   "execution_count": 49,
   "metadata": {},
   "outputs": [
    {
     "name": "stdout",
     "output_type": "stream",
     "text": [
      "[0, 2, 4]\n"
     ]
    }
   ],
   "source": [
    "y = [i for i in range(5) if i % 2 == 0]\n",
    "print(y)"
   ]
  },
  {
   "cell_type": "code",
   "execution_count": 50,
   "metadata": {},
   "outputs": [
    {
     "name": "stdout",
     "output_type": "stream",
     "text": [
      "[0, 2, 4]\n"
     ]
    }
   ],
   "source": [
    "y = []\n",
    "\n",
    "for i in range(5):\n",
    "    if i % 2 == 0:\n",
    "        y.append(i)\n",
    "\n",
    "print(y)"
   ]
  },
  {
   "cell_type": "code",
   "execution_count": 51,
   "metadata": {},
   "outputs": [
    {
     "name": "stdout",
     "output_type": "stream",
     "text": [
      "[11, 12, 13, 14, 15, 16, 17, 18, 19, 20, 21, 22, 23, 24, 25, 26, 27, 28, 29]\n"
     ]
    }
   ],
   "source": [
    "y = [i for i in range(100) if i > 10 and i ** 2 < 900]\n",
    "print(y)"
   ]
  },
  {
   "cell_type": "code",
   "execution_count": 52,
   "metadata": {},
   "outputs": [
    {
     "name": "stdout",
     "output_type": "stream",
     "text": [
      "['radiology', 'pathology', 'surgery', 'immunology', 'microbiology', 'anesthesiology']\n"
     ]
    }
   ],
   "source": [
    "department = ['medicine', 'radiology', 'pathology', 'pediatrics', 'surgery', 'immunology', \n",
    "              'microbiology', 'anesthesiology']\n",
    "\n",
    "print([x for x in department if x[-1] == 'y'])"
   ]
  },
  {
   "cell_type": "code",
   "execution_count": 53,
   "metadata": {},
   "outputs": [
    {
     "name": "stdout",
     "output_type": "stream",
     "text": [
      "['medicine', 'pediatrics']\n"
     ]
    }
   ],
   "source": [
    "print([x for x in department if not x[-1] == 'y'])"
   ]
  },
  {
   "cell_type": "markdown",
   "metadata": {},
   "source": [
    "### Let's solve Task 5 again with list comprehension"
   ]
  },
  {
   "cell_type": "code",
   "execution_count": 54,
   "metadata": {},
   "outputs": [
    {
     "name": "stdout",
     "output_type": "stream",
     "text": [
      "2 [65, 77]\n"
     ]
    }
   ],
   "source": [
    "patient_age = [18, 47, 12, 8, 4, 65, 17, 34, 77]\n",
    "num_above_60 = len([x for x in patient_age if x > 60])\n",
    "\n",
    "print(num_above_60, [x for x in patient_age if x > 60])"
   ]
  },
  {
   "cell_type": "markdown",
   "metadata": {},
   "source": [
    "### Let's solve Task 6 again with list comprehension"
   ]
  },
  {
   "cell_type": "code",
   "execution_count": 57,
   "metadata": {},
   "outputs": [
    {
     "name": "stdout",
     "output_type": "stream",
     "text": [
      "[['Fei', 65], ['Ivan', 77]]\n"
     ]
    }
   ],
   "source": [
    "patient_age = [18, 47, 12, 8, 4, 65, 17, 34, 77]\n",
    "patient_name = ['Alice', 'Bob', 'Clare', 'Don', 'Eric', 'Fei', 'Gabriel', 'Henry', 'Ivan']\n",
    "\n",
    "patient_above_60 = [[patient_name[i], patient_age[i]] for i in range(len(patient_name)) if patient_age[i] > 60]\n",
    "print(patient_above_60)"
   ]
  },
  {
   "cell_type": "markdown",
   "metadata": {},
   "source": [
    "## Finally, we can access more than one elements of a list at a time\n",
    "This is call **slicing**"
   ]
  },
  {
   "cell_type": "code",
   "execution_count": 58,
   "metadata": {},
   "outputs": [
    {
     "name": "stdout",
     "output_type": "stream",
     "text": [
      "['Bob', 'Clare', 'Don', 'Eric']\n"
     ]
    }
   ],
   "source": [
    "patient_name = ['Alice', 'Bob', 'Clare', 'Don', 'Eric', 'Fei', 'Gabriel', 'Henry', 'Ivan']\n",
    "print(patient_name[1:5])"
   ]
  },
  {
   "cell_type": "code",
   "execution_count": 59,
   "metadata": {},
   "outputs": [
    {
     "name": "stdout",
     "output_type": "stream",
     "text": [
      "['Clare']\n",
      "[]\n"
     ]
    }
   ],
   "source": [
    "print(patient_name[2:3])\n",
    "print(patient_name[4:4])"
   ]
  },
  {
   "cell_type": "markdown",
   "metadata": {},
   "source": [
    "Similar to **range()**, we can also define **start**, **stop**, and **step** with **slicing**"
   ]
  },
  {
   "cell_type": "code",
   "execution_count": 60,
   "metadata": {},
   "outputs": [
    {
     "name": "stdout",
     "output_type": "stream",
     "text": [
      "['Bob', 'Don']\n"
     ]
    }
   ],
   "source": [
    "print(patient_name[1:5:2])"
   ]
  },
  {
   "cell_type": "markdown",
   "metadata": {},
   "source": [
    "We can also do **backward** slicing"
   ]
  },
  {
   "cell_type": "code",
   "execution_count": 61,
   "metadata": {},
   "outputs": [
    {
     "name": "stdout",
     "output_type": "stream",
     "text": [
      "['Gabriel', 'Henry']\n"
     ]
    }
   ],
   "source": [
    "print(patient_name[-3:-1])"
   ]
  },
  {
   "cell_type": "markdown",
   "metadata": {},
   "source": [
    "Note that **slicing** assumes default **start = 0** and **stop = end of list**"
   ]
  },
  {
   "cell_type": "code",
   "execution_count": 62,
   "metadata": {},
   "outputs": [
    {
     "name": "stdout",
     "output_type": "stream",
     "text": [
      "['Alice', 'Bob']\n",
      "['Gabriel', 'Henry', 'Ivan']\n"
     ]
    }
   ],
   "source": [
    "print(patient_name[:2])\n",
    "print(patient_name[-3:])"
   ]
  },
  {
   "cell_type": "markdown",
   "metadata": {},
   "source": [
    "### Task 7: Use slicing to get just 'Alice', 'Don', and 'Gabriel'"
   ]
  },
  {
   "cell_type": "code",
   "execution_count": 63,
   "metadata": {},
   "outputs": [
    {
     "name": "stdout",
     "output_type": "stream",
     "text": [
      "['Alice', 'Don', 'Gabriel']\n"
     ]
    }
   ],
   "source": [
    "patient_name = ['Alice', 'Bob', 'Clare', 'Don', 'Eric', 'Fei', 'Gabriel', 'Henry', 'Ivan']\n",
    "print(patient_name[::3])"
   ]
  },
  {
   "cell_type": "code",
   "execution_count": 64,
   "metadata": {},
   "outputs": [
    {
     "name": "stdout",
     "output_type": "stream",
     "text": [
      "['Ivan', 'Henry', 'Gabriel', 'Fei', 'Eric', 'Don', 'Clare', 'Bob', 'Alice']\n"
     ]
    }
   ],
   "source": [
    "print(patient_name[::-1])"
   ]
  }
 ],
 "metadata": {
  "kernelspec": {
   "display_name": "Python 3 (ipykernel)",
   "language": "python",
   "name": "python3"
  },
  "language_info": {
   "codemirror_mode": {
    "name": "ipython",
    "version": 3
   },
   "file_extension": ".py",
   "mimetype": "text/x-python",
   "name": "python",
   "nbconvert_exporter": "python",
   "pygments_lexer": "ipython3",
   "version": "3.9.7"
  }
 },
 "nbformat": 4,
 "nbformat_minor": 4
}
