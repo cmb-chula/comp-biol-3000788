{
 "cells": [
  {
   "cell_type": "markdown",
   "id": "8a2ab97e",
   "metadata": {
    "id": "8a2ab97e"
   },
   "source": [
    "# scipy is a library for fundamental analysis algorithms\n",
    "* [Statistics](https://scipy.github.io/devdocs/reference/stats.html#module-scipy.stats)\n",
    "* [Distance calculaton](https://docs.scipy.org/doc/scipy/reference/spatial.distance.html)\n",
    "* [Contingency table](https://docs.scipy.org/doc/scipy/reference/stats.contingency.html)\n",
    "* [Optimization](https://scipy.github.io/devdocs/tutorial/optimize.html)\n",
    "\n",
    "# [statsmodels](https://www.statsmodels.org/stable/examples/index.html) provide more advanced regression analyses"
   ]
  },
  {
   "cell_type": "code",
   "execution_count": 1,
   "id": "536853d9",
   "metadata": {
    "id": "536853d9"
   },
   "outputs": [],
   "source": [
    "import pandas as pd\n",
    "import numpy as np\n",
    "import matplotlib.pyplot as plt\n",
    "import seaborn as sns\n",
    "\n",
    "import scipy.stats\n",
    "import statsmodels"
   ]
  },
  {
   "cell_type": "markdown",
   "id": "rO-q0lYkancX",
   "metadata": {
    "id": "rO-q0lYkancX"
   },
   "source": [
    "## Load gene expression and mutation data"
   ]
  },
  {
   "cell_type": "code",
   "execution_count": 2,
   "id": "57db2072",
   "metadata": {
    "colab": {
     "base_uri": "https://localhost:8080/",
     "height": 206
    },
    "id": "57db2072",
    "outputId": "5bab7e1d-f055-4736-86b6-71708cfc3db8"
   },
   "outputs": [
    {
     "data": {
      "text/html": [
       "<div>\n",
       "<style scoped>\n",
       "    .dataframe tbody tr th:only-of-type {\n",
       "        vertical-align: middle;\n",
       "    }\n",
       "\n",
       "    .dataframe tbody tr th {\n",
       "        vertical-align: top;\n",
       "    }\n",
       "\n",
       "    .dataframe thead th {\n",
       "        text-align: right;\n",
       "    }\n",
       "</style>\n",
       "<table border=\"1\" class=\"dataframe\">\n",
       "  <thead>\n",
       "    <tr style=\"text-align: right;\">\n",
       "      <th></th>\n",
       "      <th>FAP</th>\n",
       "      <th>SLC5A6</th>\n",
       "      <th>GFPT2</th>\n",
       "      <th>ASCL2</th>\n",
       "      <th>TSPAN6</th>\n",
       "      <th>CCDC80</th>\n",
       "      <th>DUSP4</th>\n",
       "      <th>EFEMP2</th>\n",
       "      <th>TRIM7</th>\n",
       "      <th>DCN</th>\n",
       "      <th>...</th>\n",
       "      <th>POFUT1</th>\n",
       "      <th>RETNLB</th>\n",
       "      <th>CMS</th>\n",
       "      <th>KRAS</th>\n",
       "      <th>BRAF</th>\n",
       "      <th>APC</th>\n",
       "      <th>TP53</th>\n",
       "      <th>PIK3CA</th>\n",
       "      <th>PTEN</th>\n",
       "      <th>microsatelite_status</th>\n",
       "    </tr>\n",
       "    <tr>\n",
       "      <th>SampleID</th>\n",
       "      <th></th>\n",
       "      <th></th>\n",
       "      <th></th>\n",
       "      <th></th>\n",
       "      <th></th>\n",
       "      <th></th>\n",
       "      <th></th>\n",
       "      <th></th>\n",
       "      <th></th>\n",
       "      <th></th>\n",
       "      <th></th>\n",
       "      <th></th>\n",
       "      <th></th>\n",
       "      <th></th>\n",
       "      <th></th>\n",
       "      <th></th>\n",
       "      <th></th>\n",
       "      <th></th>\n",
       "      <th></th>\n",
       "      <th></th>\n",
       "      <th></th>\n",
       "    </tr>\n",
       "  </thead>\n",
       "  <tbody>\n",
       "    <tr>\n",
       "      <th>Patient1</th>\n",
       "      <td>5.317879</td>\n",
       "      <td>7.521597</td>\n",
       "      <td>5.458581</td>\n",
       "      <td>7.873975</td>\n",
       "      <td>6.777987</td>\n",
       "      <td>5.148662</td>\n",
       "      <td>6.372153</td>\n",
       "      <td>6.495578</td>\n",
       "      <td>5.361258</td>\n",
       "      <td>7.529628</td>\n",
       "      <td>...</td>\n",
       "      <td>6.556573</td>\n",
       "      <td>5.782625</td>\n",
       "      <td>CMS1</td>\n",
       "      <td>NaN</td>\n",
       "      <td>NaN</td>\n",
       "      <td>NaN</td>\n",
       "      <td>NaN</td>\n",
       "      <td>NaN</td>\n",
       "      <td>NaN</td>\n",
       "      <td>NaN</td>\n",
       "    </tr>\n",
       "    <tr>\n",
       "      <th>Patient2</th>\n",
       "      <td>5.462626</td>\n",
       "      <td>7.613383</td>\n",
       "      <td>3.996901</td>\n",
       "      <td>7.036830</td>\n",
       "      <td>7.610739</td>\n",
       "      <td>5.583870</td>\n",
       "      <td>6.889211</td>\n",
       "      <td>6.049421</td>\n",
       "      <td>6.075198</td>\n",
       "      <td>7.027278</td>\n",
       "      <td>...</td>\n",
       "      <td>5.765743</td>\n",
       "      <td>4.195767</td>\n",
       "      <td>CMS1</td>\n",
       "      <td>NaN</td>\n",
       "      <td>NaN</td>\n",
       "      <td>NaN</td>\n",
       "      <td>NaN</td>\n",
       "      <td>NaN</td>\n",
       "      <td>NaN</td>\n",
       "      <td>NaN</td>\n",
       "    </tr>\n",
       "    <tr>\n",
       "      <th>Patient3</th>\n",
       "      <td>5.364091</td>\n",
       "      <td>8.152112</td>\n",
       "      <td>4.220819</td>\n",
       "      <td>4.225933</td>\n",
       "      <td>7.615335</td>\n",
       "      <td>5.042837</td>\n",
       "      <td>6.566867</td>\n",
       "      <td>6.224913</td>\n",
       "      <td>4.497239</td>\n",
       "      <td>6.609805</td>\n",
       "      <td>...</td>\n",
       "      <td>6.179182</td>\n",
       "      <td>3.402747</td>\n",
       "      <td>CMS1</td>\n",
       "      <td>NaN</td>\n",
       "      <td>NaN</td>\n",
       "      <td>NaN</td>\n",
       "      <td>NaN</td>\n",
       "      <td>NaN</td>\n",
       "      <td>NaN</td>\n",
       "      <td>NaN</td>\n",
       "    </tr>\n",
       "    <tr>\n",
       "      <th>Patient4</th>\n",
       "      <td>7.241834</td>\n",
       "      <td>6.989748</td>\n",
       "      <td>5.535980</td>\n",
       "      <td>7.283076</td>\n",
       "      <td>6.760564</td>\n",
       "      <td>7.076600</td>\n",
       "      <td>6.418798</td>\n",
       "      <td>7.018138</td>\n",
       "      <td>5.620279</td>\n",
       "      <td>8.986782</td>\n",
       "      <td>...</td>\n",
       "      <td>5.978596</td>\n",
       "      <td>2.750682</td>\n",
       "      <td>CMS1</td>\n",
       "      <td>NaN</td>\n",
       "      <td>NaN</td>\n",
       "      <td>NaN</td>\n",
       "      <td>NaN</td>\n",
       "      <td>NaN</td>\n",
       "      <td>NaN</td>\n",
       "      <td>NaN</td>\n",
       "    </tr>\n",
       "    <tr>\n",
       "      <th>Patient5</th>\n",
       "      <td>5.732008</td>\n",
       "      <td>7.252843</td>\n",
       "      <td>5.003082</td>\n",
       "      <td>6.519208</td>\n",
       "      <td>8.357291</td>\n",
       "      <td>5.660058</td>\n",
       "      <td>4.525700</td>\n",
       "      <td>6.506203</td>\n",
       "      <td>5.300539</td>\n",
       "      <td>7.059266</td>\n",
       "      <td>...</td>\n",
       "      <td>5.850525</td>\n",
       "      <td>4.431800</td>\n",
       "      <td>CMS1</td>\n",
       "      <td>wt</td>\n",
       "      <td>wt</td>\n",
       "      <td>wt</td>\n",
       "      <td>wt</td>\n",
       "      <td>mt</td>\n",
       "      <td>mt</td>\n",
       "      <td>MSI</td>\n",
       "    </tr>\n",
       "  </tbody>\n",
       "</table>\n",
       "<p>5 rows × 23 columns</p>\n",
       "</div>"
      ],
      "text/plain": [
       "               FAP    SLC5A6     GFPT2     ASCL2    TSPAN6    CCDC80  \\\n",
       "SampleID                                                               \n",
       "Patient1  5.317879  7.521597  5.458581  7.873975  6.777987  5.148662   \n",
       "Patient2  5.462626  7.613383  3.996901  7.036830  7.610739  5.583870   \n",
       "Patient3  5.364091  8.152112  4.220819  4.225933  7.615335  5.042837   \n",
       "Patient4  7.241834  6.989748  5.535980  7.283076  6.760564  7.076600   \n",
       "Patient5  5.732008  7.252843  5.003082  6.519208  8.357291  5.660058   \n",
       "\n",
       "             DUSP4    EFEMP2     TRIM7       DCN  ...    POFUT1    RETNLB  \\\n",
       "SampleID                                          ...                       \n",
       "Patient1  6.372153  6.495578  5.361258  7.529628  ...  6.556573  5.782625   \n",
       "Patient2  6.889211  6.049421  6.075198  7.027278  ...  5.765743  4.195767   \n",
       "Patient3  6.566867  6.224913  4.497239  6.609805  ...  6.179182  3.402747   \n",
       "Patient4  6.418798  7.018138  5.620279  8.986782  ...  5.978596  2.750682   \n",
       "Patient5  4.525700  6.506203  5.300539  7.059266  ...  5.850525  4.431800   \n",
       "\n",
       "           CMS  KRAS  BRAF  APC TP53 PIK3CA PTEN microsatelite_status  \n",
       "SampleID                                                               \n",
       "Patient1  CMS1   NaN   NaN  NaN  NaN    NaN  NaN                  NaN  \n",
       "Patient2  CMS1   NaN   NaN  NaN  NaN    NaN  NaN                  NaN  \n",
       "Patient3  CMS1   NaN   NaN  NaN  NaN    NaN  NaN                  NaN  \n",
       "Patient4  CMS1   NaN   NaN  NaN  NaN    NaN  NaN                  NaN  \n",
       "Patient5  CMS1    wt    wt   wt   wt     mt   mt                  MSI  \n",
       "\n",
       "[5 rows x 23 columns]"
      ]
     },
     "execution_count": 2,
     "metadata": {},
     "output_type": "execute_result"
    }
   ],
   "source": [
    "exp_data = pd.read_excel('CRC_sample_data.xlsx', sheet_name = 'expression', header = 0, index_col = 0)\n",
    "mut_data = pd.read_excel('CRC_sample_data.xlsx', sheet_name = 'mutation', header = 0, index_col = 0)\n",
    "\n",
    "data = pd.concat([exp_data, mut_data], axis = 1)\n",
    "data.head()"
   ]
  },
  {
   "cell_type": "markdown",
   "id": "cardiac-colors",
   "metadata": {
    "id": "cardiac-colors"
   },
   "source": [
    "## Check whether data is normally distributed\n",
    "[normaltest](https://docs.scipy.org/doc/scipy/reference/generated/scipy.stats.normaltest.html) from scipy.stats\n",
    "\n",
    "What does this p-value mean?"
   ]
  },
  {
   "cell_type": "code",
   "execution_count": 3,
   "id": "a917f8d6",
   "metadata": {
    "colab": {
     "base_uri": "https://localhost:8080/"
    },
    "id": "a917f8d6",
    "outputId": "db8b2ce7-f2af-4fa1-ef15-21cb16e9606a"
   },
   "outputs": [
    {
     "name": "stdout",
     "output_type": "stream",
     "text": [
      "NormaltestResult(statistic=0.6722289786125877, pvalue=0.714541293795801)\n"
     ]
    }
   ],
   "source": [
    "print(scipy.stats.normaltest(data['FAP']))"
   ]
  },
  {
   "cell_type": "markdown",
   "id": "GDX6mYseTiIh",
   "metadata": {
    "id": "GDX6mYseTiIh"
   },
   "source": [
    "### Visualize the best normal distribution fit for the data\n",
    "**norm.fit** estimates the maximum likelihood estimates for mean & SD from data\n",
    "\n",
    "**norm.pdf** calculates the theoretical density"
   ]
  },
  {
   "cell_type": "code",
   "execution_count": 4,
   "id": "6c9c31f0",
   "metadata": {
    "colab": {
     "base_uri": "https://localhost:8080/",
     "height": 279
    },
    "id": "6c9c31f0",
    "outputId": "266b403f-b0b8-4f49-892e-b46fcaff98cf"
   },
   "outputs": [
    {
     "data": {
      "image/png": "[encoded data removed]",
      "text/plain": [
       "<Figure size 432x288 with 1 Axes>"
      ]
     },
     "metadata": {
      "needs_background": "light"
     },
     "output_type": "display_data"
    }
   ],
   "source": [
    "mean, std = scipy.stats.norm.fit(data['FAP'])\n",
    "\n",
    "plt.figure()\n",
    "plt.hist(data['FAP'], bins = 10, density = True, label = 'Observed')\n",
    "\n",
    "x = np.linspace(mean - 3 * std, mean +  3 * std, 100)\n",
    "plt.plot(x, scipy.stats.norm.pdf(x, mean, std), label = 'Fitted')\n",
    "\n",
    "plt.xlabel('FAP'); plt.ylabel('Density'); plt.legend()\n",
    "plt.show()"
   ]
  },
  {
   "cell_type": "markdown",
   "id": "saved-leader",
   "metadata": {},
   "source": [
    "## Q-Q plot"
   ]
  },
  {
   "cell_type": "code",
   "execution_count": 8,
   "id": "parliamentary-begin",
   "metadata": {},
   "outputs": [
    {
     "data": {
      "image/png": "[encoded data removed]",
      "text/plain": [
       "<Figure size 360x360 with 1 Axes>"
      ]
     },
     "metadata": {
      "needs_background": "light"
     },
     "output_type": "display_data"
    }
   ],
   "source": [
    "mean, std = scipy.stats.norm.fit(data['FAP'])\n",
    "\n",
    "sorted_fap = sorted(data['FAP'].values)\n",
    "true_prc = [i / data.shape[0] for i in range(1, data.shape[0] + 1)]\n",
    "est_prc = scipy.stats.norm.cdf(sorted_fap, mean, std)\n",
    "\n",
    "plt.figure(figsize = (5, 5))\n",
    "plt.scatter(est_prc, true_prc)\n",
    "plt.plot([0, 1], [0, 1], '--k')\n",
    "plt.xlabel('Estimated percentile'); plt.ylabel('True percentile')\n",
    "plt.show()"
   ]
  },
  {
   "cell_type": "code",
   "execution_count": 6,
   "id": "legal-smile",
   "metadata": {},
   "outputs": [
    {
     "name": "stdout",
     "output_type": "stream",
     "text": [
      "[0.02, 0.04, 0.06, 0.08, 0.1, 0.12, 0.14, 0.16, 0.18, 0.2, 0.22, 0.24, 0.26, 0.28, 0.3, 0.32, 0.34, 0.36, 0.38, 0.4, 0.42, 0.44, 0.46, 0.48, 0.5, 0.52, 0.54, 0.56, 0.58, 0.6, 0.62, 0.64, 0.66, 0.68, 0.7, 0.72, 0.74, 0.76, 0.78, 0.8, 0.82, 0.84, 0.86, 0.88, 0.9, 0.92, 0.94, 0.96, 0.98, 1.0]\n"
     ]
    }
   ],
   "source": [
    "print(true_prc)"
   ]
  },
  {
   "cell_type": "code",
   "execution_count": 7,
   "id": "adjacent-drink",
   "metadata": {},
   "outputs": [
    {
     "name": "stdout",
     "output_type": "stream",
     "text": [
      "[0.01176292 0.01958525 0.04645463 0.05049444 0.0832736  0.11489455\n",
      " 0.11647623 0.17120334 0.18457155 0.21229971 0.23003379 0.23188151\n",
      " 0.23496216 0.23746735 0.25514873 0.26710944 0.28939599 0.3010345\n",
      " 0.32146254 0.32802849 0.33277901 0.44155373 0.45659893 0.55808451\n",
      " 0.56853317 0.57533049 0.58237055 0.59349846 0.60085639 0.60927353\n",
      " 0.61982178 0.65354656 0.67940263 0.69252886 0.73788518 0.74232365\n",
      " 0.74690625 0.75621005 0.77950649 0.79192062 0.79897713 0.83108164\n",
      " 0.8467353  0.86383497 0.87811585 0.92150054 0.93919218 0.94982099\n",
      " 0.97177948 0.97449388]\n"
     ]
    }
   ],
   "source": [
    "print(est_prc)"
   ]
  },
  {
   "cell_type": "markdown",
   "id": "a13ab45c",
   "metadata": {},
   "source": [
    "## Compare AGR2 expression across CMS groups"
   ]
  },
  {
   "cell_type": "code",
   "execution_count": 9,
   "id": "c4d3f638",
   "metadata": {},
   "outputs": [],
   "source": [
    "cms1_agr2 = data.loc[data['CMS'] == 'CMS1', 'AGR2']\n",
    "cms2_agr2 = data.loc[data['CMS'] == 'CMS2', 'AGR2']\n",
    "cms3_agr2 = data.loc[data['CMS'] == 'CMS3', 'AGR2']"
   ]
  },
  {
   "cell_type": "code",
   "execution_count": 10,
   "id": "fpgseccVV99I",
   "metadata": {
    "id": "fpgseccVV99I"
   },
   "outputs": [
    {
     "name": "stderr",
     "output_type": "stream",
     "text": [
      "/Users/kppt/opt/anaconda3/lib/python3.9/site-packages/numpy/core/_asarray.py:102: VisibleDeprecationWarning: Creating an ndarray from ragged nested sequences (which is a list-or-tuple of lists-or-tuples-or ndarrays with different lengths or shapes) is deprecated. If you meant to do this, you must specify 'dtype=object' when creating the ndarray.\n",
      "  return array(a, dtype, copy=False, order=order)\n"
     ]
    },
    {
     "data": {
      "image/png": "[encoded data removed]",
      "text/plain": [
       "<Figure size 432x288 with 1 Axes>"
      ]
     },
     "metadata": {
      "needs_background": "light"
     },
     "output_type": "display_data"
    }
   ],
   "source": [
    "plt.figure()\n",
    "plt.boxplot([cms1_agr2, cms2_agr2, cms3_agr2], labels = ['CMS1', 'CMS2', 'CMS3'], vert = False)\n",
    "plt.xlabel('AGR2')\n",
    "plt.show()"
   ]
  },
  {
   "cell_type": "markdown",
   "id": "ZeYvXGvFWBTo",
   "metadata": {
    "id": "ZeYvXGvFWBTo"
   },
   "source": [
    "### Use t-test or Mann-Whitney U test"
   ]
  },
  {
   "cell_type": "code",
   "execution_count": 11,
   "id": "7c9d6f6c",
   "metadata": {
    "colab": {
     "base_uri": "https://localhost:8080/"
    },
    "id": "7c9d6f6c",
    "outputId": "590a8fdd-4b7f-47c6-be12-3319c6615596"
   },
   "outputs": [
    {
     "name": "stdout",
     "output_type": "stream",
     "text": [
      "CMS1 vs CMS2\n",
      "Ttest_indResult(statistic=-1.3391363869959167, pvalue=0.19058985088422298)\n",
      "MannwhitneyuResult(statistic=126.0, pvalue=0.4334313937003256)\n"
     ]
    }
   ],
   "source": [
    "print('CMS1 vs CMS2')\n",
    "print(scipy.stats.ttest_ind(cms1_agr2, cms2_agr2, equal_var = False, alternative = 'two-sided'))\n",
    "print(scipy.stats.mannwhitneyu(cms1_agr2, cms2_agr2, alternative = 'two-sided'))"
   ]
  },
  {
   "cell_type": "code",
   "execution_count": 12,
   "id": "29447dbb",
   "metadata": {},
   "outputs": [
    {
     "name": "stdout",
     "output_type": "stream",
     "text": [
      "CMS1 vs CMS3\n",
      "Ttest_indResult(statistic=-0.36826904753727113, pvalue=0.7150842259197574)\n",
      "MannwhitneyuResult(statistic=153.0, pvalue=0.9335864962947554)\n"
     ]
    }
   ],
   "source": [
    "print('CMS1 vs CMS3')\n",
    "print(scipy.stats.ttest_ind(cms1_agr2, cms3_agr2, equal_var = False, alternative = 'two-sided'))\n",
    "print(scipy.stats.mannwhitneyu(cms1_agr2, cms3_agr2, alternative = 'two-sided'))"
   ]
  },
  {
   "cell_type": "code",
   "execution_count": 13,
   "id": "0b23fbb6",
   "metadata": {},
   "outputs": [
    {
     "name": "stdout",
     "output_type": "stream",
     "text": [
      "CMS2 vs CMS3\n",
      "Ttest_indResult(statistic=1.1743172276152125, pvalue=0.2504827034844691)\n",
      "MannwhitneyuResult(statistic=136.0, pvalue=0.3400858902842717)\n"
     ]
    }
   ],
   "source": [
    "print('CMS2 vs CMS3')\n",
    "print(scipy.stats.ttest_ind(cms2_agr2, cms3_agr2, equal_var = False, alternative = 'two-sided'))\n",
    "print(scipy.stats.mannwhitneyu(cms2_agr2, cms3_agr2, alternative = 'two-sided'))"
   ]
  },
  {
   "cell_type": "markdown",
   "id": "animated-detail",
   "metadata": {},
   "source": [
    "## ANOVA\n",
    "[f_oneway](https://docs.scipy.org/doc/scipy/reference/generated/scipy.stats.f_oneway.html)"
   ]
  },
  {
   "cell_type": "code",
   "execution_count": 14,
   "id": "junior-accountability",
   "metadata": {},
   "outputs": [
    {
     "name": "stdout",
     "output_type": "stream",
     "text": [
      "F_onewayResult(statistic=0.8892122675203398, pvalue=0.41777946129988164)\n"
     ]
    }
   ],
   "source": [
    "print(scipy.stats.f_oneway(data['AGR2'].loc[data['CMS'] == 'CMS1'],\n",
    "                           data['AGR2'].loc[data['CMS'] == 'CMS2'],\n",
    "                           data['AGR2'].loc[data['CMS'] == 'CMS3']))"
   ]
  },
  {
   "cell_type": "markdown",
   "id": "stopped-defendant",
   "metadata": {
    "id": "stopped-defendant"
   },
   "source": [
    "## Correlation scores\n",
    "* [Pearson](https://docs.scipy.org/doc/scipy/reference/generated/scipy.stats.pearsonr.html)\n",
    "* [Spearman](https://docs.scipy.org/doc/scipy/reference/generated/scipy.stats.spearmanr.html)\n",
    "* [Kendall](https://docs.scipy.org/doc/scipy/reference/generated/scipy.stats.kendalltau.html)"
   ]
  },
  {
   "cell_type": "code",
   "execution_count": 15,
   "id": "0ed1d714",
   "metadata": {},
   "outputs": [
    {
     "data": {
      "image/png": "[encoded data removed]",
      "text/plain": [
       "<Figure size 360x360 with 1 Axes>"
      ]
     },
     "metadata": {
      "needs_background": "light"
     },
     "output_type": "display_data"
    }
   ],
   "source": [
    "_ = sns.lmplot(data = data, x = 'AGR2', y = 'REG4')"
   ]
  },
  {
   "cell_type": "code",
   "execution_count": 16,
   "id": "bce60387",
   "metadata": {
    "colab": {
     "base_uri": "https://localhost:8080/"
    },
    "id": "bce60387",
    "outputId": "f76bb7f5-7f28-4cde-841d-9ec7f58cfaf6"
   },
   "outputs": [
    {
     "name": "stdout",
     "output_type": "stream",
     "text": [
      "Pearson: (0.7316565727656428, 1.5818530658956757e-09)\n",
      "Spearman: SpearmanrResult(correlation=0.7301320528211284, pvalue=1.7777764336740489e-09)\n",
      "Kendall: KendalltauResult(correlation=0.5510204081632653, pvalue=1.6395769802108334e-08)\n"
     ]
    }
   ],
   "source": [
    "print('Pearson:', scipy.stats.pearsonr(data['AGR2'], data['REG4']))\n",
    "print('Spearman:', scipy.stats.spearmanr(data['AGR2'], data['REG4']))\n",
    "print('Kendall:', scipy.stats.kendalltau(data['AGR2'], data['REG4']))"
   ]
  },
  {
   "cell_type": "code",
   "execution_count": 17,
   "id": "5405c2f9",
   "metadata": {},
   "outputs": [
    {
     "data": {
      "image/png": "[encoded data removed]",
      "text/plain": [
       "<Figure size 360x360 with 1 Axes>"
      ]
     },
     "metadata": {
      "needs_background": "light"
     },
     "output_type": "display_data"
    }
   ],
   "source": [
    "_ = sns.lmplot(data = data, x = 'SLC5A6', y = 'FAP')"
   ]
  },
  {
   "cell_type": "code",
   "execution_count": 18,
   "id": "e342fafb",
   "metadata": {},
   "outputs": [
    {
     "name": "stdout",
     "output_type": "stream",
     "text": [
      "Pearson: (-0.043464480172998025, 0.7643995689756427)\n",
      "Spearman: SpearmanrResult(correlation=-0.006194477791116446, pvalue=0.9659453951391317)\n",
      "Kendall: KendalltauResult(correlation=0.0008163265306122448, pvalue=0.9933258869658097)\n"
     ]
    }
   ],
   "source": [
    "print('Pearson:', scipy.stats.pearsonr(data['SLC5A6'], data['FAP']))\n",
    "print('Spearman:', scipy.stats.spearmanr(data['SLC5A6'], data['FAP']))\n",
    "print('Kendall:', scipy.stats.kendalltau(data['SLC5A6'], data['FAP']))"
   ]
  },
  {
   "cell_type": "markdown",
   "id": "sorted-force",
   "metadata": {
    "id": "sorted-force"
   },
   "source": [
    "## Paired data\n",
    "This is a toy data of model A and B's performances across 7 datasets"
   ]
  },
  {
   "cell_type": "code",
   "execution_count": 19,
   "id": "e8db0b1f",
   "metadata": {
    "colab": {
     "base_uri": "https://localhost:8080/",
     "height": 112
    },
    "id": "e8db0b1f",
    "outputId": "79fab8ed-23ce-44ee-d41f-0045b3e1a33b"
   },
   "outputs": [
    {
     "data": {
      "text/html": [
       "<div>\n",
       "<style scoped>\n",
       "    .dataframe tbody tr th:only-of-type {\n",
       "        vertical-align: middle;\n",
       "    }\n",
       "\n",
       "    .dataframe tbody tr th {\n",
       "        vertical-align: top;\n",
       "    }\n",
       "\n",
       "    .dataframe thead th {\n",
       "        text-align: right;\n",
       "    }\n",
       "</style>\n",
       "<table border=\"1\" class=\"dataframe\">\n",
       "  <thead>\n",
       "    <tr style=\"text-align: right;\">\n",
       "      <th></th>\n",
       "      <th>Dataset 1</th>\n",
       "      <th>Dataset 2</th>\n",
       "      <th>Dataset 3</th>\n",
       "      <th>Dataset 4</th>\n",
       "      <th>Dataset 5</th>\n",
       "      <th>Dataset 6</th>\n",
       "      <th>Dataset 7</th>\n",
       "    </tr>\n",
       "  </thead>\n",
       "  <tbody>\n",
       "    <tr>\n",
       "      <th>Model A</th>\n",
       "      <td>0.701</td>\n",
       "      <td>0.503</td>\n",
       "      <td>0.991</td>\n",
       "      <td>0.827</td>\n",
       "      <td>0.623</td>\n",
       "      <td>0.728</td>\n",
       "      <td>0.596</td>\n",
       "    </tr>\n",
       "    <tr>\n",
       "      <th>Model B</th>\n",
       "      <td>0.691</td>\n",
       "      <td>0.478</td>\n",
       "      <td>0.905</td>\n",
       "      <td>0.739</td>\n",
       "      <td>0.589</td>\n",
       "      <td>0.719</td>\n",
       "      <td>0.508</td>\n",
       "    </tr>\n",
       "  </tbody>\n",
       "</table>\n",
       "</div>"
      ],
      "text/plain": [
       "         Dataset 1  Dataset 2  Dataset 3  Dataset 4  Dataset 5  Dataset 6  \\\n",
       "Model A      0.701      0.503      0.991      0.827      0.623      0.728   \n",
       "Model B      0.691      0.478      0.905      0.739      0.589      0.719   \n",
       "\n",
       "         Dataset 7  \n",
       "Model A      0.596  \n",
       "Model B      0.508  "
      ]
     },
     "execution_count": 19,
     "metadata": {},
     "output_type": "execute_result"
    }
   ],
   "source": [
    "auc_df = pd.DataFrame([[0.701, 0.503, 0.991, 0.827, 0.623, 0.728, 0.596], \n",
    "                       [0.691, 0.478, 0.905, 0.739, 0.589, 0.719, 0.508]],\n",
    "                      index = ['Model A', 'Model B'], columns = ['Dataset ' + str(i) for i in range(1, 8)])\n",
    "auc_df.head()"
   ]
  },
  {
   "cell_type": "markdown",
   "id": "pDWqFW4BZPCR",
   "metadata": {
    "id": "pDWqFW4BZPCR"
   },
   "source": [
    "### Visualize with box and scatter plots"
   ]
  },
  {
   "cell_type": "code",
   "execution_count": 20,
   "id": "possible-lawrence",
   "metadata": {
    "colab": {
     "base_uri": "https://localhost:8080/",
     "height": 265
    },
    "id": "possible-lawrence",
    "outputId": "5d43fbfd-47f9-4bb5-c7fe-9a06d81486b8"
   },
   "outputs": [
    {
     "data": {
      "image/png": "[encoded data removed]",
      "text/plain": [
       "<Figure size 432x288 with 1 Axes>"
      ]
     },
     "metadata": {
      "needs_background": "light"
     },
     "output_type": "display_data"
    }
   ],
   "source": [
    "plt.figure()\n",
    "plt.boxplot([auc_df.loc['Model A', :], auc_df.loc['Model B', :]], labels = ['Model A', 'Model B'])\n",
    "plt.ylabel('AUC')\n",
    "plt.show()"
   ]
  },
  {
   "cell_type": "code",
   "execution_count": 21,
   "id": "above-chemistry",
   "metadata": {
    "colab": {
     "base_uri": "https://localhost:8080/",
     "height": 295
    },
    "id": "above-chemistry",
    "outputId": "8a002528-695c-4d3a-cc1f-b2ea1e94097a"
   },
   "outputs": [
    {
     "data": {
      "image/png": "[encoded data removed]",
      "text/plain": [
       "<Figure size 288x288 with 1 Axes>"
      ]
     },
     "metadata": {
      "needs_background": "light"
     },
     "output_type": "display_data"
    }
   ],
   "source": [
    "plt.figure(figsize = (4, 4))\n",
    "plt.scatter(auc_df.loc['Model A', :], auc_df.loc['Model B', :])\n",
    "plt.xlabel('Model A'); plt.ylabel('Model B'); plt.title('AUC')\n",
    "plt.plot([0.5, 1], [0.5, 1], '--k')\n",
    "plt.show()"
   ]
  },
  {
   "cell_type": "markdown",
   "id": "iZBnPIRHZe4Y",
   "metadata": {
    "id": "iZBnPIRHZe4Y"
   },
   "source": [
    "### What happen if you switch paired and unpaired tests?"
   ]
  },
  {
   "cell_type": "code",
   "execution_count": 22,
   "id": "cc5f0c86",
   "metadata": {
    "colab": {
     "base_uri": "https://localhost:8080/"
    },
    "id": "cc5f0c86",
    "outputId": "b00204aa-da15-486f-9fec-dcf5ac84cb19"
   },
   "outputs": [
    {
     "name": "stdout",
     "output_type": "stream",
     "text": [
      "unpaired t-test: Ttest_indResult(statistic=0.5861139805745107, pvalue=0.5686597321571196)\n",
      "paired t-test: Ttest_relResult(statistic=3.4485643789623377, pvalue=0.013656963060721596)\n",
      "---------------------------------------\n",
      "Mann-Whitney U test: MannwhitneyuResult(statistic=29.0, pvalue=0.6200466200466201)\n",
      "Wilcoxon signed rank test: WilcoxonResult(statistic=0.0, pvalue=0.015625)\n"
     ]
    }
   ],
   "source": [
    "print('unpaired t-test:', scipy.stats.ttest_ind(auc_df.loc['Model A', :], auc_df.loc['Model B', :]))\n",
    "print('paired t-test:', scipy.stats.ttest_rel(auc_df.loc['Model A', :], auc_df.loc['Model B', :]))\n",
    "\n",
    "print('---------------------------------------')\n",
    "print('Mann-Whitney U test:', scipy.stats.mannwhitneyu(auc_df.loc['Model A', :], auc_df.loc['Model B', :]))\n",
    "print('Wilcoxon signed rank test:', scipy.stats.wilcoxon(auc_df.loc['Model A', :], auc_df.loc['Model B', :]))"
   ]
  },
  {
   "cell_type": "markdown",
   "id": "982a2051",
   "metadata": {
    "id": "982a2051"
   },
   "source": [
    "## Test for association between CMS and KRAS mutation"
   ]
  },
  {
   "cell_type": "code",
   "execution_count": 23,
   "id": "assumed-cleaners",
   "metadata": {
    "colab": {
     "base_uri": "https://localhost:8080/",
     "height": 143
    },
    "id": "assumed-cleaners",
    "outputId": "1f3e8f4f-ef3d-46a7-ed55-dafaf9b80bdc"
   },
   "outputs": [
    {
     "data": {
      "text/html": [
       "<div>\n",
       "<style scoped>\n",
       "    .dataframe tbody tr th:only-of-type {\n",
       "        vertical-align: middle;\n",
       "    }\n",
       "\n",
       "    .dataframe tbody tr th {\n",
       "        vertical-align: top;\n",
       "    }\n",
       "\n",
       "    .dataframe thead th {\n",
       "        text-align: right;\n",
       "    }\n",
       "</style>\n",
       "<table border=\"1\" class=\"dataframe\">\n",
       "  <thead>\n",
       "    <tr style=\"text-align: right;\">\n",
       "      <th>KRAS</th>\n",
       "      <th>mt</th>\n",
       "      <th>wt</th>\n",
       "    </tr>\n",
       "    <tr>\n",
       "      <th>CMS</th>\n",
       "      <th></th>\n",
       "      <th></th>\n",
       "    </tr>\n",
       "  </thead>\n",
       "  <tbody>\n",
       "    <tr>\n",
       "      <th>CMS1</th>\n",
       "      <td>4</td>\n",
       "      <td>8</td>\n",
       "    </tr>\n",
       "    <tr>\n",
       "      <th>CMS2</th>\n",
       "      <td>1</td>\n",
       "      <td>11</td>\n",
       "    </tr>\n",
       "    <tr>\n",
       "      <th>CMS3</th>\n",
       "      <td>6</td>\n",
       "      <td>5</td>\n",
       "    </tr>\n",
       "  </tbody>\n",
       "</table>\n",
       "</div>"
      ],
      "text/plain": [
       "KRAS  mt  wt\n",
       "CMS         \n",
       "CMS1   4   8\n",
       "CMS2   1  11\n",
       "CMS3   6   5"
      ]
     },
     "execution_count": 23,
     "metadata": {},
     "output_type": "execute_result"
    }
   ],
   "source": [
    "cms_vs_kras = pd.crosstab(index = data['CMS'], columns = data['KRAS'])\n",
    "cms_vs_kras.head()"
   ]
  },
  {
   "cell_type": "markdown",
   "id": "Swrwv3D2chMo",
   "metadata": {
    "id": "Swrwv3D2chMo"
   },
   "source": [
    "### Use [fisher_exact](https://docs.scipy.org/doc/scipy/reference/generated/scipy.stats.fisher_exact.html)\n",
    "CMS2 vs non-CMS2"
   ]
  },
  {
   "cell_type": "code",
   "execution_count": 24,
   "id": "covered-healthcare",
   "metadata": {
    "colab": {
     "base_uri": "https://localhost:8080/"
    },
    "id": "covered-healthcare",
    "outputId": "1910bbde-d81b-4e8b-aa49-2b21d9257578"
   },
   "outputs": [
    {
     "data": {
      "text/html": [
       "<div>\n",
       "<style scoped>\n",
       "    .dataframe tbody tr th:only-of-type {\n",
       "        vertical-align: middle;\n",
       "    }\n",
       "\n",
       "    .dataframe tbody tr th {\n",
       "        vertical-align: top;\n",
       "    }\n",
       "\n",
       "    .dataframe thead th {\n",
       "        text-align: right;\n",
       "    }\n",
       "</style>\n",
       "<table border=\"1\" class=\"dataframe\">\n",
       "  <thead>\n",
       "    <tr style=\"text-align: right;\">\n",
       "      <th>KRAS</th>\n",
       "      <th>mt</th>\n",
       "      <th>wt</th>\n",
       "    </tr>\n",
       "    <tr>\n",
       "      <th>CMS</th>\n",
       "      <th></th>\n",
       "      <th></th>\n",
       "    </tr>\n",
       "  </thead>\n",
       "  <tbody>\n",
       "    <tr>\n",
       "      <th>False</th>\n",
       "      <td>10</td>\n",
       "      <td>13</td>\n",
       "    </tr>\n",
       "    <tr>\n",
       "      <th>True</th>\n",
       "      <td>1</td>\n",
       "      <td>11</td>\n",
       "    </tr>\n",
       "  </tbody>\n",
       "</table>\n",
       "</div>"
      ],
      "text/plain": [
       "KRAS   mt  wt\n",
       "CMS          \n",
       "False  10  13\n",
       "True    1  11"
      ]
     },
     "metadata": {},
     "output_type": "display_data"
    },
    {
     "name": "stdout",
     "output_type": "stream",
     "text": [
      "two-tailed Fisher's exact: (8.461538461538462, 0.055192798433654294)\n"
     ]
    }
   ],
   "source": [
    "cms2_vs_kras = pd.crosstab(index = data['CMS'] == 'CMS2', columns = data['KRAS'])\n",
    "display(cms2_vs_kras)\n",
    "print('two-tailed Fisher\\'s exact:', scipy.stats.fisher_exact(cms2_vs_kras))"
   ]
  },
  {
   "cell_type": "markdown",
   "id": "forced-blink",
   "metadata": {
    "id": "forced-blink"
   },
   "source": [
    "CMS3 vs other CMS"
   ]
  },
  {
   "cell_type": "code",
   "execution_count": 25,
   "id": "configured-example",
   "metadata": {
    "colab": {
     "base_uri": "https://localhost:8080/",
     "height": 238
    },
    "id": "configured-example",
    "outputId": "10ce69fd-2db4-41aa-c49c-04e64bb63588"
   },
   "outputs": [
    {
     "data": {
      "text/html": [
       "<div>\n",
       "<style scoped>\n",
       "    .dataframe tbody tr th:only-of-type {\n",
       "        vertical-align: middle;\n",
       "    }\n",
       "\n",
       "    .dataframe tbody tr th {\n",
       "        vertical-align: top;\n",
       "    }\n",
       "\n",
       "    .dataframe thead th {\n",
       "        text-align: right;\n",
       "    }\n",
       "</style>\n",
       "<table border=\"1\" class=\"dataframe\">\n",
       "  <thead>\n",
       "    <tr style=\"text-align: right;\">\n",
       "      <th>KRAS</th>\n",
       "      <th>mt</th>\n",
       "      <th>wt</th>\n",
       "    </tr>\n",
       "    <tr>\n",
       "      <th>CMS</th>\n",
       "      <th></th>\n",
       "      <th></th>\n",
       "    </tr>\n",
       "  </thead>\n",
       "  <tbody>\n",
       "    <tr>\n",
       "      <th>False</th>\n",
       "      <td>5</td>\n",
       "      <td>19</td>\n",
       "    </tr>\n",
       "    <tr>\n",
       "      <th>True</th>\n",
       "      <td>6</td>\n",
       "      <td>5</td>\n",
       "    </tr>\n",
       "  </tbody>\n",
       "</table>\n",
       "</div>"
      ],
      "text/plain": [
       "KRAS   mt  wt\n",
       "CMS          \n",
       "False   5  19\n",
       "True    6   5"
      ]
     },
     "metadata": {},
     "output_type": "display_data"
    },
    {
     "name": "stdout",
     "output_type": "stream",
     "text": [
      "two-tailed Fisher's exact: (0.21929824561403508, 0.06228994173180524)\n"
     ]
    }
   ],
   "source": [
    "cms3_vs_kras = pd.crosstab(index = data['CMS'] == 'CMS3', columns = data['KRAS'])\n",
    "display(cms3_vs_kras)\n",
    "print('two-tailed Fisher\\'s exact:', scipy.stats.fisher_exact(cms3_vs_kras))"
   ]
  },
  {
   "cell_type": "markdown",
   "id": "7290efae",
   "metadata": {},
   "source": [
    "## Use looping to perform all CMS vs mutation tests"
   ]
  },
  {
   "cell_type": "code",
   "execution_count": 28,
   "id": "c01bc05a",
   "metadata": {},
   "outputs": [
    {
     "data": {
      "text/html": [
       "<div>\n",
       "<style scoped>\n",
       "    .dataframe tbody tr th:only-of-type {\n",
       "        vertical-align: middle;\n",
       "    }\n",
       "\n",
       "    .dataframe tbody tr th {\n",
       "        vertical-align: top;\n",
       "    }\n",
       "\n",
       "    .dataframe thead th {\n",
       "        text-align: right;\n",
       "    }\n",
       "</style>\n",
       "<table border=\"1\" class=\"dataframe\">\n",
       "  <thead>\n",
       "    <tr style=\"text-align: right;\">\n",
       "      <th></th>\n",
       "      <th>p-value</th>\n",
       "    </tr>\n",
       "  </thead>\n",
       "  <tbody>\n",
       "    <tr>\n",
       "      <th>CMS2:KRAS</th>\n",
       "      <td>0.055193</td>\n",
       "    </tr>\n",
       "    <tr>\n",
       "      <th>CMS3:KRAS</th>\n",
       "      <td>0.06229</td>\n",
       "    </tr>\n",
       "    <tr>\n",
       "      <th>CMS2:APC</th>\n",
       "      <td>0.258982</td>\n",
       "    </tr>\n",
       "    <tr>\n",
       "      <th>CMS2:PTEN</th>\n",
       "      <td>0.402388</td>\n",
       "    </tr>\n",
       "    <tr>\n",
       "      <th>CMS1:APC</th>\n",
       "      <td>0.450605</td>\n",
       "    </tr>\n",
       "    <tr>\n",
       "      <th>CMS2:BRAF</th>\n",
       "      <td>0.475862</td>\n",
       "    </tr>\n",
       "    <tr>\n",
       "      <th>CMS1:TP53</th>\n",
       "      <td>0.685468</td>\n",
       "    </tr>\n",
       "    <tr>\n",
       "      <th>CMS1:PTEN</th>\n",
       "      <td>0.685468</td>\n",
       "    </tr>\n",
       "    <tr>\n",
       "      <th>CMS3:TP53</th>\n",
       "      <td>0.685468</td>\n",
       "    </tr>\n",
       "    <tr>\n",
       "      <th>CMS1:PIK3CA</th>\n",
       "      <td>0.706206</td>\n",
       "    </tr>\n",
       "  </tbody>\n",
       "</table>\n",
       "</div>"
      ],
      "text/plain": [
       "              p-value\n",
       "CMS2:KRAS    0.055193\n",
       "CMS3:KRAS     0.06229\n",
       "CMS2:APC     0.258982\n",
       "CMS2:PTEN    0.402388\n",
       "CMS1:APC     0.450605\n",
       "CMS2:BRAF    0.475862\n",
       "CMS1:TP53    0.685468\n",
       "CMS1:PTEN    0.685468\n",
       "CMS3:TP53    0.685468\n",
       "CMS1:PIK3CA  0.706206"
      ]
     },
     "execution_count": 28,
     "metadata": {},
     "output_type": "execute_result"
    }
   ],
   "source": [
    "all_fishers = pd.DataFrame(columns = ['p-value'])\n",
    "\n",
    "for cms in pd.unique(data['CMS']):\n",
    "    for gene in ['KRAS', 'BRAF', 'APC', 'TP53', 'PIK3CA', 'PTEN']:\n",
    "        test_name = cms + ':' + gene\n",
    "        temp = pd.crosstab(index = data['CMS'] == cms, columns = data[gene])\n",
    "        all_fishers.loc[test_name, :] = scipy.stats.fisher_exact(temp)[1]\n",
    "\n",
    "all_fishers = all_fishers.sort_values('p-value')\n",
    "all_fishers.head(10)"
   ]
  },
  {
   "cell_type": "markdown",
   "id": "modular-calibration",
   "metadata": {
    "id": "modular-calibration"
   },
   "source": [
    "## Correction for multiple testing\n",
    "Starting with Bonferroni. We are using 0.1 cutoff just to show the effect"
   ]
  },
  {
   "cell_type": "code",
   "execution_count": 29,
   "id": "220d7126",
   "metadata": {},
   "outputs": [
    {
     "data": {
      "text/html": [
       "<div>\n",
       "<style scoped>\n",
       "    .dataframe tbody tr th:only-of-type {\n",
       "        vertical-align: middle;\n",
       "    }\n",
       "\n",
       "    .dataframe tbody tr th {\n",
       "        vertical-align: top;\n",
       "    }\n",
       "\n",
       "    .dataframe thead th {\n",
       "        text-align: right;\n",
       "    }\n",
       "</style>\n",
       "<table border=\"1\" class=\"dataframe\">\n",
       "  <thead>\n",
       "    <tr style=\"text-align: right;\">\n",
       "      <th></th>\n",
       "      <th>p-value</th>\n",
       "      <th>No correction</th>\n",
       "    </tr>\n",
       "  </thead>\n",
       "  <tbody>\n",
       "    <tr>\n",
       "      <th>CMS2:KRAS</th>\n",
       "      <td>0.055193</td>\n",
       "      <td>True</td>\n",
       "    </tr>\n",
       "    <tr>\n",
       "      <th>CMS3:KRAS</th>\n",
       "      <td>0.06229</td>\n",
       "      <td>True</td>\n",
       "    </tr>\n",
       "    <tr>\n",
       "      <th>CMS2:APC</th>\n",
       "      <td>0.258982</td>\n",
       "      <td>False</td>\n",
       "    </tr>\n",
       "    <tr>\n",
       "      <th>CMS2:PTEN</th>\n",
       "      <td>0.402388</td>\n",
       "      <td>False</td>\n",
       "    </tr>\n",
       "    <tr>\n",
       "      <th>CMS1:APC</th>\n",
       "      <td>0.450605</td>\n",
       "      <td>False</td>\n",
       "    </tr>\n",
       "  </tbody>\n",
       "</table>\n",
       "</div>"
      ],
      "text/plain": [
       "            p-value  No correction\n",
       "CMS2:KRAS  0.055193           True\n",
       "CMS3:KRAS   0.06229           True\n",
       "CMS2:APC   0.258982          False\n",
       "CMS2:PTEN  0.402388          False\n",
       "CMS1:APC   0.450605          False"
      ]
     },
     "execution_count": 29,
     "metadata": {},
     "output_type": "execute_result"
    }
   ],
   "source": [
    "cutoff = 0.1\n",
    "\n",
    "all_fishers['No correction'] = all_fishers['p-value'] <= cutoff\n",
    "all_fishers.head()"
   ]
  },
  {
   "cell_type": "code",
   "execution_count": 30,
   "id": "monetary-treasure",
   "metadata": {
    "colab": {
     "base_uri": "https://localhost:8080/",
     "height": 206
    },
    "id": "monetary-treasure",
    "outputId": "31e58234-a62e-405f-da32-7890f7bf5c98"
   },
   "outputs": [
    {
     "data": {
      "text/html": [
       "<div>\n",
       "<style scoped>\n",
       "    .dataframe tbody tr th:only-of-type {\n",
       "        vertical-align: middle;\n",
       "    }\n",
       "\n",
       "    .dataframe tbody tr th {\n",
       "        vertical-align: top;\n",
       "    }\n",
       "\n",
       "    .dataframe thead th {\n",
       "        text-align: right;\n",
       "    }\n",
       "</style>\n",
       "<table border=\"1\" class=\"dataframe\">\n",
       "  <thead>\n",
       "    <tr style=\"text-align: right;\">\n",
       "      <th></th>\n",
       "      <th>p-value</th>\n",
       "      <th>No correction</th>\n",
       "      <th>Bonferroni</th>\n",
       "    </tr>\n",
       "  </thead>\n",
       "  <tbody>\n",
       "    <tr>\n",
       "      <th>CMS2:KRAS</th>\n",
       "      <td>0.055193</td>\n",
       "      <td>True</td>\n",
       "      <td>False</td>\n",
       "    </tr>\n",
       "    <tr>\n",
       "      <th>CMS3:KRAS</th>\n",
       "      <td>0.06229</td>\n",
       "      <td>True</td>\n",
       "      <td>False</td>\n",
       "    </tr>\n",
       "    <tr>\n",
       "      <th>CMS2:APC</th>\n",
       "      <td>0.258982</td>\n",
       "      <td>False</td>\n",
       "      <td>False</td>\n",
       "    </tr>\n",
       "    <tr>\n",
       "      <th>CMS2:PTEN</th>\n",
       "      <td>0.402388</td>\n",
       "      <td>False</td>\n",
       "      <td>False</td>\n",
       "    </tr>\n",
       "    <tr>\n",
       "      <th>CMS1:APC</th>\n",
       "      <td>0.450605</td>\n",
       "      <td>False</td>\n",
       "      <td>False</td>\n",
       "    </tr>\n",
       "  </tbody>\n",
       "</table>\n",
       "</div>"
      ],
      "text/plain": [
       "            p-value  No correction  Bonferroni\n",
       "CMS2:KRAS  0.055193           True       False\n",
       "CMS3:KRAS   0.06229           True       False\n",
       "CMS2:APC   0.258982          False       False\n",
       "CMS2:PTEN  0.402388          False       False\n",
       "CMS1:APC   0.450605          False       False"
      ]
     },
     "execution_count": 30,
     "metadata": {},
     "output_type": "execute_result"
    }
   ],
   "source": [
    "all_fishers['Bonferroni'] = all_fishers['p-value'] <= cutoff / all_fishers.shape[0]\n",
    "all_fishers.head()"
   ]
  },
  {
   "cell_type": "markdown",
   "id": "colonial-dressing",
   "metadata": {
    "id": "colonial-dressing"
   },
   "source": [
    "## Benjamini-Hochberg and more\n",
    "[multipletests](https://www.statsmodels.org/dev/generated/statsmodels.stats.multitest.multipletests.html)"
   ]
  },
  {
   "cell_type": "code",
   "execution_count": 31,
   "id": "interpreted-master",
   "metadata": {
    "colab": {
     "base_uri": "https://localhost:8080/"
    },
    "id": "interpreted-master",
    "outputId": "542bb0b1-cd47-4e38-d279-c44f5b2a07fc"
   },
   "outputs": [
    {
     "name": "stdout",
     "output_type": "stream",
     "text": [
      "(array([False, False, False, False, False, False, False, False, False,\n",
      "       False, False, False, False, False, False, False, False, False]), array([0.5606094755862472, 0.5606094755862472, 1.0, 1.0, 1.0, 1.0, 1.0,\n",
      "       1.0, 1.0, 1.0, 1.0, 1.0, 1.0, 1.0, 1.0, 1.0, 1.0, 1.0],\n",
      "      dtype=object), 0.005836264433394134, 0.005555555555555556)\n"
     ]
    }
   ],
   "source": [
    "from statsmodels.stats.multitest import multipletests\n",
    "\n",
    "benjamini_hochberg = multipletests(all_fishers['p-value'].values, alpha = cutoff, method = 'fdr_bh')\n",
    "print(benjamini_hochberg)"
   ]
  },
  {
   "cell_type": "code",
   "execution_count": 32,
   "id": "assisted-cabin",
   "metadata": {
    "colab": {
     "base_uri": "https://localhost:8080/",
     "height": 206
    },
    "id": "assisted-cabin",
    "outputId": "1003332d-093d-4106-a6a4-1825519c4cee"
   },
   "outputs": [
    {
     "data": {
      "text/html": [
       "<div>\n",
       "<style scoped>\n",
       "    .dataframe tbody tr th:only-of-type {\n",
       "        vertical-align: middle;\n",
       "    }\n",
       "\n",
       "    .dataframe tbody tr th {\n",
       "        vertical-align: top;\n",
       "    }\n",
       "\n",
       "    .dataframe thead th {\n",
       "        text-align: right;\n",
       "    }\n",
       "</style>\n",
       "<table border=\"1\" class=\"dataframe\">\n",
       "  <thead>\n",
       "    <tr style=\"text-align: right;\">\n",
       "      <th></th>\n",
       "      <th>CMS2:KRAS</th>\n",
       "      <th>CMS3:KRAS</th>\n",
       "      <th>CMS2:APC</th>\n",
       "      <th>CMS2:PTEN</th>\n",
       "      <th>CMS1:APC</th>\n",
       "      <th>CMS2:BRAF</th>\n",
       "      <th>CMS1:TP53</th>\n",
       "      <th>CMS1:PTEN</th>\n",
       "      <th>CMS3:TP53</th>\n",
       "      <th>CMS1:PIK3CA</th>\n",
       "      <th>CMS3:APC</th>\n",
       "      <th>CMS3:BRAF</th>\n",
       "      <th>CMS1:BRAF</th>\n",
       "      <th>CMS1:KRAS</th>\n",
       "      <th>CMS2:TP53</th>\n",
       "      <th>CMS3:PIK3CA</th>\n",
       "      <th>CMS2:PIK3CA</th>\n",
       "      <th>CMS3:PTEN</th>\n",
       "    </tr>\n",
       "  </thead>\n",
       "  <tbody>\n",
       "    <tr>\n",
       "      <th>Test result</th>\n",
       "      <td>False</td>\n",
       "      <td>False</td>\n",
       "      <td>False</td>\n",
       "      <td>False</td>\n",
       "      <td>False</td>\n",
       "      <td>False</td>\n",
       "      <td>False</td>\n",
       "      <td>False</td>\n",
       "      <td>False</td>\n",
       "      <td>False</td>\n",
       "      <td>False</td>\n",
       "      <td>False</td>\n",
       "      <td>False</td>\n",
       "      <td>False</td>\n",
       "      <td>False</td>\n",
       "      <td>False</td>\n",
       "      <td>False</td>\n",
       "      <td>False</td>\n",
       "    </tr>\n",
       "    <tr>\n",
       "      <th>FDR</th>\n",
       "      <td>0.560609</td>\n",
       "      <td>0.560609</td>\n",
       "      <td>1.0</td>\n",
       "      <td>1.0</td>\n",
       "      <td>1.0</td>\n",
       "      <td>1.0</td>\n",
       "      <td>1.0</td>\n",
       "      <td>1.0</td>\n",
       "      <td>1.0</td>\n",
       "      <td>1.0</td>\n",
       "      <td>1.0</td>\n",
       "      <td>1.0</td>\n",
       "      <td>1.0</td>\n",
       "      <td>1.0</td>\n",
       "      <td>1.0</td>\n",
       "      <td>1.0</td>\n",
       "      <td>1.0</td>\n",
       "      <td>1.0</td>\n",
       "    </tr>\n",
       "  </tbody>\n",
       "</table>\n",
       "</div>"
      ],
      "text/plain": [
       "            CMS2:KRAS CMS3:KRAS CMS2:APC CMS2:PTEN CMS1:APC CMS2:BRAF  \\\n",
       "Test result     False     False    False     False    False     False   \n",
       "FDR          0.560609  0.560609      1.0       1.0      1.0       1.0   \n",
       "\n",
       "            CMS1:TP53 CMS1:PTEN CMS3:TP53 CMS1:PIK3CA CMS3:APC CMS3:BRAF  \\\n",
       "Test result     False     False     False       False    False     False   \n",
       "FDR               1.0       1.0       1.0         1.0      1.0       1.0   \n",
       "\n",
       "            CMS1:BRAF CMS1:KRAS CMS2:TP53 CMS3:PIK3CA CMS2:PIK3CA CMS3:PTEN  \n",
       "Test result     False     False     False       False       False     False  \n",
       "FDR               1.0       1.0       1.0         1.0         1.0       1.0  "
      ]
     },
     "execution_count": 32,
     "metadata": {},
     "output_type": "execute_result"
    }
   ],
   "source": [
    "pd.DataFrame(benjamini_hochberg[0:2], index = ['Test result', 'FDR'], columns = all_fishers.index)"
   ]
  },
  {
   "cell_type": "markdown",
   "id": "1R4gWuJzibdz",
   "metadata": {
    "id": "1R4gWuJzibdz"
   },
   "source": [
    "## Permutation test with numpy.random\n",
    "1. Shuffle expression values for REG4\n",
    "2. Recalculate correlation between AGR2 and shuffled REG4\n",
    "3. Show the distribution of shuffled correlations compared to the actual value"
   ]
  },
  {
   "cell_type": "code",
   "execution_count": 43,
   "id": "removable-approach",
   "metadata": {},
   "outputs": [
    {
     "data": {
      "image/png": "[encoded data removed]",
      "text/plain": [
       "<Figure size 432x288 with 1 Axes>"
      ]
     },
     "metadata": {
      "needs_background": "light"
     },
     "output_type": "display_data"
    }
   ],
   "source": [
    "np.random.seed(4649)\n",
    "all_corrs = []\n",
    "\n",
    "for i in range(1000):\n",
    "    shuffled_REG4 = data['REG4'].iloc[np.random.permutation(data.shape[0])]\n",
    "    all_corrs.append(scipy.stats.pearsonr(data['AGR2'], shuffled_REG4)[0])\n",
    "    \n",
    "obs_corr = scipy.stats.pearsonr(data['AGR2'], data['REG4'])[0]\n",
    "    \n",
    "plt.hist(all_corrs, bins = 20, density = True)\n",
    "plt.plot([obs_corr, obs_corr], [0, 2], c = 'tab:red')\n",
    "plt.xlabel('Correlation between shuffled data'); plt.title('AGR2 vs REG4')\n",
    "plt.show()"
   ]
  },
  {
   "cell_type": "code",
   "execution_count": 44,
   "id": "rapid-veteran",
   "metadata": {},
   "outputs": [
    {
     "data": {
      "image/png": "[encoded data removed]",
      "text/plain": [
       "<Figure size 432x288 with 1 Axes>"
      ]
     },
     "metadata": {
      "needs_background": "light"
     },
     "output_type": "display_data"
    }
   ],
   "source": [
    "np.random.seed(4649)\n",
    "all_corrs = []\n",
    "\n",
    "for i in range(1000):\n",
    "    shuffled_FAP = data['FAP'].iloc[np.random.permutation(data.shape[0])]\n",
    "    all_corrs.append(scipy.stats.pearsonr(data['SLC5A6'], shuffled_FAP)[0])\n",
    "    \n",
    "obs_corr = scipy.stats.pearsonr(data['SLC5A6'], data['FAP'])[0]\n",
    "    \n",
    "plt.hist(all_corrs, bins = 20, density = True)\n",
    "plt.plot([obs_corr, obs_corr], [0, 2], c = 'tab:red')\n",
    "plt.xlabel('Correlation between shuffled data'); plt.title('SLC5A6 vs FAP')\n",
    "plt.show()"
   ]
  },
  {
   "cell_type": "markdown",
   "id": "sacred-responsibility",
   "metadata": {},
   "source": [
    "## Bootstrapping with numpy.random.choice\n",
    "Randomly select 40% of the patients (with or without repetition)"
   ]
  },
  {
   "cell_type": "code",
   "execution_count": 61,
   "id": "3aa0ed20",
   "metadata": {},
   "outputs": [
    {
     "data": {
      "text/plain": [
       "array([1, 0, 7, 8, 3, 5])"
      ]
     },
     "execution_count": 61,
     "metadata": {},
     "output_type": "execute_result"
    }
   ],
   "source": [
    "np.random.choice(range(10), size = 6, replace = False)"
   ]
  },
  {
   "cell_type": "code",
   "execution_count": 62,
   "id": "0c70a267",
   "metadata": {
    "id": "0c70a267"
   },
   "outputs": [
    {
     "data": {
      "image/png": "[encoded data removed]",
      "text/plain": [
       "<Figure size 432x288 with 1 Axes>"
      ]
     },
     "metadata": {
      "needs_background": "light"
     },
     "output_type": "display_data"
    }
   ],
   "source": [
    "np.random.seed(4649)\n",
    "subset_size = int(data.shape[0] * 0.4)\n",
    "reg4_agr2_corrs = []\n",
    "\n",
    "for i in range(1000):\n",
    "    bootstrap = data.loc[np.random.choice(data.index, size = subset_size, replace = False), :]\n",
    "    reg4_agr2_corrs.append(scipy.stats.pearsonr(bootstrap['REG4'], bootstrap['AGR2'])[0])\n",
    "    \n",
    "plt.hist(all_corrs, bins = 20, density = True, label = 'Shuffled', alpha = 0.5)\n",
    "plt.hist(reg4_agr2_corrs, bins = 20, density = True, facecolor = 'tab:red', label = 'Bootstrap', alpha = 0.5)\n",
    "plt.xlabel('Pearson correlation'); plt.title('AGR2 vs REG4'); plt.legend()\n",
    "plt.show()"
   ]
  },
  {
   "cell_type": "code",
   "execution_count": 63,
   "id": "wrapped-violation",
   "metadata": {},
   "outputs": [
    {
     "data": {
      "image/png": "[encoded data removed]",
      "text/plain": [
       "<Figure size 432x288 with 1 Axes>"
      ]
     },
     "metadata": {
      "needs_background": "light"
     },
     "output_type": "display_data"
    }
   ],
   "source": [
    "np.random.seed(4649)\n",
    "subset_size = int(data.shape[0] * 0.4)\n",
    "reg4_agr2_corrs = []\n",
    "\n",
    "for i in range(1000):\n",
    "    bootstrap = data.loc[np.random.choice(data.index, size = subset_size, replace = False), :]\n",
    "    reg4_agr2_corrs.append(scipy.stats.pearsonr(bootstrap['FAP'], bootstrap['SLC5A6'])[0])\n",
    "    \n",
    "plt.hist(all_corrs, bins = 20, density = True, label = 'Shuffled', alpha = 0.5)\n",
    "plt.hist(reg4_agr2_corrs, bins = 20, density = True, facecolor = 'tab:red', label = 'Bootstrap', alpha = 0.5)\n",
    "plt.xlabel('Pearson correlation'); plt.title('FAP vs SLC5A6'); plt.legend()\n",
    "plt.show()"
   ]
  },
  {
   "cell_type": "code",
   "execution_count": null,
   "id": "average-playing",
   "metadata": {},
   "outputs": [],
   "source": []
  },
  {
   "cell_type": "code",
   "execution_count": null,
   "id": "varying-profit",
   "metadata": {},
   "outputs": [],
   "source": []
  },
  {
   "cell_type": "code",
   "execution_count": null,
   "id": "known-moment",
   "metadata": {},
   "outputs": [],
   "source": []
  },
  {
   "cell_type": "code",
   "execution_count": null,
   "id": "explicit-cemetery",
   "metadata": {},
   "outputs": [],
   "source": []
  }
 ],
 "metadata": {
  "colab": {
   "collapsed_sections": [],
   "provenance": [],
   "toc_visible": true
  },
  "kernelspec": {
   "display_name": "Python 3 (ipykernel)",
   "language": "python",
   "name": "python3"
  },
  "language_info": {
   "codemirror_mode": {
    "name": "ipython",
    "version": 3
   },
   "file_extension": ".py",
   "mimetype": "text/x-python",
   "name": "python",
   "nbconvert_exporter": "python",
   "pygments_lexer": "ipython3",
   "version": "3.8.10"
  }
 },
 "nbformat": 4,
 "nbformat_minor": 5
}
