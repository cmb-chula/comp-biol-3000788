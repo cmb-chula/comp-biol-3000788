{
 "cells": [
  {
   "cell_type": "markdown",
   "id": "8a2ab97e",
   "metadata": {
    "id": "8a2ab97e"
   },
   "source": [
    "# scipy is a library for fundamental analysis algorithms\n",
    "* [Statistics](https://scipy.github.io/devdocs/reference/stats.html#module-scipy.stats)\n",
    "* [Distance calculaton](https://docs.scipy.org/doc/scipy/reference/spatial.distance.html)\n",
    "* [Contingency table](https://docs.scipy.org/doc/scipy/reference/stats.contingency.html)\n",
    "* [Optimization](https://scipy.github.io/devdocs/tutorial/optimize.html)\n",
    "\n",
    "## [statsmodels](https://www.statsmodels.org/stable/examples/index.html) provide more advanced analyses"
   ]
  },
  {
   "cell_type": "code",
   "execution_count": null,
   "id": "57c6dbb7",
   "metadata": {},
   "outputs": [],
   "source": [
    "# !pip install scipy statsmodels"
   ]
  },
  {
   "cell_type": "code",
   "execution_count": null,
   "id": "536853d9",
   "metadata": {
    "id": "536853d9"
   },
   "outputs": [],
   "source": [
    "import pandas as pd\n",
    "import numpy as np\n",
    "import matplotlib.pyplot as plt\n",
    "import seaborn as sns\n",
    "\n",
    "import scipy.stats\n",
    "import statsmodels"
   ]
  },
  {
   "cell_type": "markdown",
   "id": "rO-q0lYkancX",
   "metadata": {
    "id": "rO-q0lYkancX"
   },
   "source": [
    "## Load gene expression and mutation data\n",
    "And merge them together into a single DataFrame"
   ]
  },
  {
   "cell_type": "code",
   "execution_count": null,
   "id": "57db2072",
   "metadata": {
    "colab": {
     "base_uri": "https://localhost:8080/",
     "height": 206
    },
    "id": "57db2072",
    "outputId": "5bab7e1d-f055-4736-86b6-71708cfc3db8"
   },
   "outputs": [],
   "source": [
    "exp_data = pd.read_excel('CRC_sample_data.xlsx', sheet_name = 'expression', header = 0, index_col = 0)\n",
    "mut_data = pd.read_excel('CRC_sample_data.xlsx', sheet_name = 'mutation', header = 0, index_col = 0)\n",
    "\n",
    "data = pd.concat([exp_data, mut_data], axis = 1)\n",
    "data.head()"
   ]
  },
  {
   "cell_type": "markdown",
   "id": "cardiac-colors",
   "metadata": {
    "id": "cardiac-colors"
   },
   "source": [
    "## Check whether data is normally distributed\n",
    "An option is [normaltest](https://docs.scipy.org/doc/scipy/reference/generated/scipy.stats.normaltest.html) from scipy.stats\n",
    "\n",
    "What does this p-value mean?"
   ]
  },
  {
   "cell_type": "code",
   "execution_count": null,
   "id": "a917f8d6",
   "metadata": {
    "colab": {
     "base_uri": "https://localhost:8080/"
    },
    "id": "a917f8d6",
    "outputId": "db8b2ce7-f2af-4fa1-ef15-21cb16e9606a"
   },
   "outputs": [],
   "source": [
    "print(scipy.stats.normaltest(data['FAP']))"
   ]
  },
  {
   "cell_type": "markdown",
   "id": "GDX6mYseTiIh",
   "metadata": {
    "id": "GDX6mYseTiIh"
   },
   "source": [
    "### Visualize the best normal distribution fit for the data\n",
    "**norm.fit** estimates the maximum likelihood estimates for mean & SD from data\n",
    "\n",
    "**norm.pdf** calculates the theoretical density"
   ]
  },
  {
   "cell_type": "code",
   "execution_count": null,
   "id": "6c9c31f0",
   "metadata": {
    "colab": {
     "base_uri": "https://localhost:8080/",
     "height": 279
    },
    "id": "6c9c31f0",
    "outputId": "266b403f-b0b8-4f49-892e-b46fcaff98cf"
   },
   "outputs": [],
   "source": [
    "mean, std = scipy.stats.norm.fit(data['FAP'])\n",
    "\n",
    "plt.figure()\n",
    "plt.hist(data['FAP'], bins = 10, density = True, label = 'Observed')\n",
    "\n",
    "x = np.linspace(mean - 3 * std, mean +  3 * std, 100)\n",
    "plt.plot(x, scipy.stats.norm.pdf(x, mean, std), label = 'Fitted')\n",
    "\n",
    "plt.xlabel('FAP'); plt.ylabel('Density'); plt.legend()\n",
    "plt.show()"
   ]
  },
  {
   "cell_type": "markdown",
   "id": "saved-leader",
   "metadata": {},
   "source": [
    "## Q-Q plot"
   ]
  },
  {
   "cell_type": "code",
   "execution_count": null,
   "id": "parliamentary-begin",
   "metadata": {},
   "outputs": [],
   "source": [
    "mean, std = scipy.stats.norm.fit(data['FAP'])\n",
    "\n",
    "sorted_fap = sorted(data['FAP'].values)\n",
    "true_prc = [i / data.shape[0] for i in range(1, data.shape[0] + 1)]\n",
    "est_prc = scipy.stats.norm.cdf(sorted_fap, mean, std)\n",
    "\n",
    "plt.figure(figsize = (5, 5))\n",
    "plt.scatter(est_prc, true_prc)\n",
    "plt.plot([0, 1], [0, 1], '--k')\n",
    "plt.xlabel('Estimated percentile'); plt.ylabel('True percentile')\n",
    "plt.show()"
   ]
  },
  {
   "cell_type": "code",
   "execution_count": null,
   "id": "legal-smile",
   "metadata": {},
   "outputs": [],
   "source": [
    "print(true_prc)"
   ]
  },
  {
   "cell_type": "code",
   "execution_count": null,
   "id": "adjacent-drink",
   "metadata": {},
   "outputs": [],
   "source": [
    "print(est_prc)"
   ]
  },
  {
   "cell_type": "markdown",
   "id": "a13ab45c",
   "metadata": {},
   "source": [
    "## Compare AGR2 expression across CMS groups"
   ]
  },
  {
   "cell_type": "code",
   "execution_count": null,
   "id": "c4d3f638",
   "metadata": {},
   "outputs": [],
   "source": [
    "cms1_agr2 = data.loc[data['CMS'] == 'CMS1', 'AGR2']\n",
    "cms2_agr2 = data.loc[data['CMS'] == 'CMS2', 'AGR2']\n",
    "cms3_agr2 = data.loc[data['CMS'] == 'CMS3', 'AGR2']"
   ]
  },
  {
   "cell_type": "code",
   "execution_count": null,
   "id": "fpgseccVV99I",
   "metadata": {
    "id": "fpgseccVV99I"
   },
   "outputs": [],
   "source": [
    "plt.figure()\n",
    "plt.boxplot([cms1_agr2, cms2_agr2, cms3_agr2], labels = ['CMS1', 'CMS2', 'CMS3'], vert = False)\n",
    "plt.xlabel('AGR2')\n",
    "plt.show()"
   ]
  },
  {
   "cell_type": "markdown",
   "id": "ZeYvXGvFWBTo",
   "metadata": {
    "id": "ZeYvXGvFWBTo"
   },
   "source": [
    "### Use t-test or Mann-Whitney U test"
   ]
  },
  {
   "cell_type": "code",
   "execution_count": null,
   "id": "7c9d6f6c",
   "metadata": {
    "colab": {
     "base_uri": "https://localhost:8080/"
    },
    "id": "7c9d6f6c",
    "outputId": "590a8fdd-4b7f-47c6-be12-3319c6615596"
   },
   "outputs": [],
   "source": [
    "print('CMS1 vs CMS2')\n",
    "print(scipy.stats.ttest_ind(cms1_agr2, cms2_agr2, equal_var = False, alternative = 'two-sided'))\n",
    "print(scipy.stats.mannwhitneyu(cms1_agr2, cms2_agr2, alternative = 'two-sided'))"
   ]
  },
  {
   "cell_type": "code",
   "execution_count": null,
   "id": "29447dbb",
   "metadata": {},
   "outputs": [],
   "source": [
    "print('CMS1 vs CMS3')\n",
    "print(scipy.stats.ttest_ind(cms1_agr2, cms3_agr2, equal_var = False, alternative = 'two-sided'))\n",
    "print(scipy.stats.mannwhitneyu(cms1_agr2, cms3_agr2, alternative = 'two-sided'))"
   ]
  },
  {
   "cell_type": "code",
   "execution_count": null,
   "id": "0b23fbb6",
   "metadata": {},
   "outputs": [],
   "source": [
    "print('CMS2 vs CMS3')\n",
    "print(scipy.stats.ttest_ind(cms2_agr2, cms3_agr2, equal_var = False, alternative = 'two-sided'))\n",
    "print(scipy.stats.mannwhitneyu(cms2_agr2, cms3_agr2, alternative = 'two-sided'))"
   ]
  },
  {
   "cell_type": "markdown",
   "id": "animated-detail",
   "metadata": {},
   "source": [
    "## ANOVA\n",
    "Can be performed with [f_oneway](https://docs.scipy.org/doc/scipy/reference/generated/scipy.stats.f_oneway.html)"
   ]
  },
  {
   "cell_type": "code",
   "execution_count": null,
   "id": "junior-accountability",
   "metadata": {},
   "outputs": [],
   "source": [
    "print(scipy.stats.f_oneway(data['AGR2'].loc[data['CMS'] == 'CMS1'],\n",
    "                           data['AGR2'].loc[data['CMS'] == 'CMS2'],\n",
    "                           data['AGR2'].loc[data['CMS'] == 'CMS3']))"
   ]
  },
  {
   "cell_type": "markdown",
   "id": "stopped-defendant",
   "metadata": {
    "id": "stopped-defendant"
   },
   "source": [
    "## Correlation scores\n",
    "* [Pearson](https://docs.scipy.org/doc/scipy/reference/generated/scipy.stats.pearsonr.html)\n",
    "* [Spearman](https://docs.scipy.org/doc/scipy/reference/generated/scipy.stats.spearmanr.html)\n",
    "* [Kendall](https://docs.scipy.org/doc/scipy/reference/generated/scipy.stats.kendalltau.html)"
   ]
  },
  {
   "cell_type": "code",
   "execution_count": null,
   "id": "0ed1d714",
   "metadata": {},
   "outputs": [],
   "source": [
    "_ = sns.lmplot(data = data, x = 'AGR2', y = 'REG4')"
   ]
  },
  {
   "cell_type": "code",
   "execution_count": null,
   "id": "bce60387",
   "metadata": {
    "colab": {
     "base_uri": "https://localhost:8080/"
    },
    "id": "bce60387",
    "outputId": "f76bb7f5-7f28-4cde-841d-9ec7f58cfaf6"
   },
   "outputs": [],
   "source": [
    "print('Pearson:', scipy.stats.pearsonr(data['AGR2'], data['REG4']))\n",
    "print('Spearman:', scipy.stats.spearmanr(data['AGR2'], data['REG4']))\n",
    "print('Kendall:', scipy.stats.kendalltau(data['AGR2'], data['REG4']))"
   ]
  },
  {
   "cell_type": "code",
   "execution_count": null,
   "id": "5405c2f9",
   "metadata": {},
   "outputs": [],
   "source": [
    "_ = sns.lmplot(data = data, x = 'SLC5A6', y = 'FAP')"
   ]
  },
  {
   "cell_type": "code",
   "execution_count": null,
   "id": "e342fafb",
   "metadata": {},
   "outputs": [],
   "source": [
    "print('Pearson:', scipy.stats.pearsonr(data['SLC5A6'], data['FAP']))\n",
    "print('Spearman:', scipy.stats.spearmanr(data['SLC5A6'], data['FAP']))\n",
    "print('Kendall:', scipy.stats.kendalltau(data['SLC5A6'], data['FAP']))"
   ]
  },
  {
   "cell_type": "markdown",
   "id": "sorted-force",
   "metadata": {
    "id": "sorted-force"
   },
   "source": [
    "## Paired data\n",
    "This is a toy data of model A and B's performances across 7 datasets"
   ]
  },
  {
   "cell_type": "code",
   "execution_count": null,
   "id": "e8db0b1f",
   "metadata": {
    "colab": {
     "base_uri": "https://localhost:8080/",
     "height": 112
    },
    "id": "e8db0b1f",
    "outputId": "79fab8ed-23ce-44ee-d41f-0045b3e1a33b"
   },
   "outputs": [],
   "source": [
    "auc_df = pd.DataFrame([[0.701, 0.503, 0.991, 0.827, 0.623, 0.728, 0.596], \n",
    "                       [0.691, 0.478, 0.905, 0.739, 0.589, 0.719, 0.508]],\n",
    "                      index = ['Model A', 'Model B'], columns = ['Dataset ' + str(i) for i in range(1, 8)])\n",
    "auc_df.head()"
   ]
  },
  {
   "cell_type": "markdown",
   "id": "pDWqFW4BZPCR",
   "metadata": {
    "id": "pDWqFW4BZPCR"
   },
   "source": [
    "### Visualize with box and scatter plots"
   ]
  },
  {
   "cell_type": "code",
   "execution_count": null,
   "id": "possible-lawrence",
   "metadata": {
    "colab": {
     "base_uri": "https://localhost:8080/",
     "height": 265
    },
    "id": "possible-lawrence",
    "outputId": "5d43fbfd-47f9-4bb5-c7fe-9a06d81486b8"
   },
   "outputs": [],
   "source": [
    "plt.figure()\n",
    "plt.boxplot([auc_df.loc['Model A', :], auc_df.loc['Model B', :]], labels = ['Model A', 'Model B'])\n",
    "plt.ylabel('AUC')\n",
    "plt.show()"
   ]
  },
  {
   "cell_type": "code",
   "execution_count": null,
   "id": "above-chemistry",
   "metadata": {
    "colab": {
     "base_uri": "https://localhost:8080/",
     "height": 295
    },
    "id": "above-chemistry",
    "outputId": "8a002528-695c-4d3a-cc1f-b2ea1e94097a"
   },
   "outputs": [],
   "source": [
    "plt.figure(figsize = (4, 4))\n",
    "plt.scatter(auc_df.loc['Model A', :], auc_df.loc['Model B', :])\n",
    "plt.xlabel('Model A'); plt.ylabel('Model B'); plt.title('AUC')\n",
    "plt.plot([0.5, 1], [0.5, 1], '--k')\n",
    "plt.show()"
   ]
  },
  {
   "cell_type": "markdown",
   "id": "iZBnPIRHZe4Y",
   "metadata": {
    "id": "iZBnPIRHZe4Y"
   },
   "source": [
    "### What happen if you switch paired and unpaired tests?"
   ]
  },
  {
   "cell_type": "code",
   "execution_count": null,
   "id": "cc5f0c86",
   "metadata": {
    "colab": {
     "base_uri": "https://localhost:8080/"
    },
    "id": "cc5f0c86",
    "outputId": "b00204aa-da15-486f-9fec-dcf5ac84cb19"
   },
   "outputs": [],
   "source": [
    "print('unpaired t-test:', scipy.stats.ttest_ind(auc_df.loc['Model A', :], auc_df.loc['Model B', :]))\n",
    "print('paired t-test:', scipy.stats.ttest_rel(auc_df.loc['Model A', :], auc_df.loc['Model B', :]))\n",
    "\n",
    "print('---------------------------------------')\n",
    "print('Mann-Whitney U test:', scipy.stats.mannwhitneyu(auc_df.loc['Model A', :], auc_df.loc['Model B', :]))\n",
    "print('Wilcoxon signed rank test:', scipy.stats.wilcoxon(auc_df.loc['Model A', :], auc_df.loc['Model B', :]))"
   ]
  },
  {
   "cell_type": "markdown",
   "id": "982a2051",
   "metadata": {
    "id": "982a2051"
   },
   "source": [
    "## Test for association between CMS and KRAS mutation"
   ]
  },
  {
   "cell_type": "code",
   "execution_count": null,
   "id": "assumed-cleaners",
   "metadata": {
    "colab": {
     "base_uri": "https://localhost:8080/",
     "height": 143
    },
    "id": "assumed-cleaners",
    "outputId": "1f3e8f4f-ef3d-46a7-ed55-dafaf9b80bdc"
   },
   "outputs": [],
   "source": [
    "cms_vs_kras = pd.crosstab(index = data['CMS'], columns = data['KRAS'])\n",
    "cms_vs_kras.head()"
   ]
  },
  {
   "cell_type": "markdown",
   "id": "Swrwv3D2chMo",
   "metadata": {
    "id": "Swrwv3D2chMo"
   },
   "source": [
    "### Use [fisher_exact](https://docs.scipy.org/doc/scipy/reference/generated/scipy.stats.fisher_exact.html)\n",
    "CMS2 vs non-CMS2"
   ]
  },
  {
   "cell_type": "code",
   "execution_count": null,
   "id": "covered-healthcare",
   "metadata": {
    "colab": {
     "base_uri": "https://localhost:8080/"
    },
    "id": "covered-healthcare",
    "outputId": "1910bbde-d81b-4e8b-aa49-2b21d9257578"
   },
   "outputs": [],
   "source": [
    "cms2_vs_kras = pd.crosstab(index = data['CMS'] == 'CMS2', columns = data['KRAS'])\n",
    "display(cms2_vs_kras)\n",
    "print('two-tailed Fisher\\'s exact:', scipy.stats.fisher_exact(cms2_vs_kras))"
   ]
  },
  {
   "cell_type": "markdown",
   "id": "forced-blink",
   "metadata": {
    "id": "forced-blink"
   },
   "source": [
    "CMS3 vs other CMS"
   ]
  },
  {
   "cell_type": "code",
   "execution_count": null,
   "id": "configured-example",
   "metadata": {
    "colab": {
     "base_uri": "https://localhost:8080/",
     "height": 238
    },
    "id": "configured-example",
    "outputId": "10ce69fd-2db4-41aa-c49c-04e64bb63588"
   },
   "outputs": [],
   "source": [
    "cms3_vs_kras = pd.crosstab(index = data['CMS'] == 'CMS3', columns = data['KRAS'])\n",
    "display(cms3_vs_kras)\n",
    "print('two-tailed Fisher\\'s exact:', scipy.stats.fisher_exact(cms3_vs_kras))"
   ]
  },
  {
   "cell_type": "markdown",
   "id": "7290efae",
   "metadata": {},
   "source": [
    "## Use looping to perform all CMS vs mutation tests"
   ]
  },
  {
   "cell_type": "code",
   "execution_count": null,
   "id": "c01bc05a",
   "metadata": {},
   "outputs": [],
   "source": [
    "all_fishers = pd.DataFrame(columns = ['p-value'])\n",
    "\n",
    "for cms in pd.unique(data['CMS']):\n",
    "    for gene in ['KRAS', 'BRAF', 'APC', 'TP53', 'PIK3CA', 'PTEN']:\n",
    "        test_name = cms + ':' + gene\n",
    "        temp = pd.crosstab(index = data['CMS'] == cms, columns = data[gene])\n",
    "        all_fishers.loc[test_name, :] = scipy.stats.fisher_exact(temp)[1]\n",
    "\n",
    "all_fishers = all_fishers.sort_values('p-value')\n",
    "all_fishers.head(10)"
   ]
  },
  {
   "cell_type": "markdown",
   "id": "modular-calibration",
   "metadata": {
    "id": "modular-calibration"
   },
   "source": [
    "## Correction for multiple testing\n",
    "Starting with Bonferroni. We are using 0.1 cutoff just to show the effect"
   ]
  },
  {
   "cell_type": "code",
   "execution_count": null,
   "id": "220d7126",
   "metadata": {},
   "outputs": [],
   "source": [
    "cutoff = 0.1\n",
    "\n",
    "all_fishers['No correction'] = all_fishers['p-value'] <= cutoff\n",
    "all_fishers.head()"
   ]
  },
  {
   "cell_type": "code",
   "execution_count": null,
   "id": "monetary-treasure",
   "metadata": {
    "colab": {
     "base_uri": "https://localhost:8080/",
     "height": 206
    },
    "id": "monetary-treasure",
    "outputId": "31e58234-a62e-405f-da32-7890f7bf5c98"
   },
   "outputs": [],
   "source": [
    "all_fishers['Bonferroni'] = all_fishers['p-value'] <= cutoff / all_fishers.shape[0]\n",
    "all_fishers.head()"
   ]
  },
  {
   "cell_type": "markdown",
   "id": "colonial-dressing",
   "metadata": {
    "id": "colonial-dressing"
   },
   "source": [
    "## Benjamini-Hochberg and more\n",
    "[multipletests](https://www.statsmodels.org/dev/generated/statsmodels.stats.multitest.multipletests.html)"
   ]
  },
  {
   "cell_type": "code",
   "execution_count": null,
   "id": "interpreted-master",
   "metadata": {
    "colab": {
     "base_uri": "https://localhost:8080/"
    },
    "id": "interpreted-master",
    "outputId": "542bb0b1-cd47-4e38-d279-c44f5b2a07fc"
   },
   "outputs": [],
   "source": [
    "from statsmodels.stats.multitest import multipletests\n",
    "\n",
    "benjamini_hochberg = multipletests(all_fishers['p-value'].values, alpha = cutoff, method = 'fdr_bh')\n",
    "print(benjamini_hochberg)"
   ]
  },
  {
   "cell_type": "code",
   "execution_count": null,
   "id": "assisted-cabin",
   "metadata": {
    "colab": {
     "base_uri": "https://localhost:8080/",
     "height": 206
    },
    "id": "assisted-cabin",
    "outputId": "1003332d-093d-4106-a6a4-1825519c4cee"
   },
   "outputs": [],
   "source": [
    "pd.DataFrame(benjamini_hochberg[0:2], index = ['Test result', 'FDR'], columns = all_fishers.index)"
   ]
  },
  {
   "cell_type": "markdown",
   "id": "1R4gWuJzibdz",
   "metadata": {
    "id": "1R4gWuJzibdz"
   },
   "source": [
    "## Permutation test with numpy.random\n",
    "1. Shuffle expression values for REG4\n",
    "2. Recalculate correlation between AGR2 and shuffled REG4\n",
    "3. Show the distribution of shuffled correlations compared to the actual value"
   ]
  },
  {
   "cell_type": "code",
   "execution_count": null,
   "id": "removable-approach",
   "metadata": {},
   "outputs": [],
   "source": [
    "np.random.seed(4649)\n",
    "all_corrs = []\n",
    "\n",
    "for i in range(1000):\n",
    "    shuffled_REG4 = data['REG4'].iloc[np.random.permutation(data.shape[0])]\n",
    "    all_corrs.append(scipy.stats.pearsonr(data['AGR2'], shuffled_REG4)[0])\n",
    "    \n",
    "obs_corr = scipy.stats.pearsonr(data['AGR2'], data['REG4'])[0]\n",
    "    \n",
    "plt.hist(all_corrs, bins = 20, density = True)\n",
    "plt.plot([obs_corr, obs_corr], [0, 2], c = 'tab:red')\n",
    "plt.xlabel('Correlation between shuffled data'); plt.title('AGR2 vs REG4')\n",
    "plt.show()"
   ]
  },
  {
   "cell_type": "code",
   "execution_count": null,
   "id": "rapid-veteran",
   "metadata": {},
   "outputs": [],
   "source": [
    "np.random.seed(4649)\n",
    "all_corrs = []\n",
    "\n",
    "for i in range(1000):\n",
    "    shuffled_FAP = data['FAP'].iloc[np.random.permutation(data.shape[0])]\n",
    "    all_corrs.append(scipy.stats.pearsonr(data['SLC5A6'], shuffled_FAP)[0])\n",
    "    \n",
    "obs_corr = scipy.stats.pearsonr(data['SLC5A6'], data['FAP'])[0]\n",
    "    \n",
    "plt.hist(all_corrs, bins = 20, density = True)\n",
    "plt.plot([obs_corr, obs_corr], [0, 2], c = 'tab:red')\n",
    "plt.xlabel('Correlation between shuffled data'); plt.title('SLC5A6 vs FAP')\n",
    "plt.show()"
   ]
  },
  {
   "cell_type": "markdown",
   "id": "sacred-responsibility",
   "metadata": {},
   "source": [
    "## Bootstrapping with numpy.random.choice\n",
    "Randomly select 40% of the patients (with or without repetition)"
   ]
  },
  {
   "cell_type": "code",
   "execution_count": null,
   "id": "3aa0ed20",
   "metadata": {},
   "outputs": [],
   "source": [
    "np.random.choice(range(10), size = 6, replace = False)"
   ]
  },
  {
   "cell_type": "code",
   "execution_count": null,
   "id": "0c70a267",
   "metadata": {
    "id": "0c70a267"
   },
   "outputs": [],
   "source": [
    "np.random.seed(4649)\n",
    "subset_size = int(data.shape[0] * 0.4)\n",
    "reg4_agr2_corrs = []\n",
    "\n",
    "for i in range(1000):\n",
    "    bootstrap = data.loc[np.random.choice(data.index, size = subset_size, replace = False), :]\n",
    "    reg4_agr2_corrs.append(scipy.stats.pearsonr(bootstrap['REG4'], bootstrap['AGR2'])[0])\n",
    "    \n",
    "plt.hist(all_corrs, bins = 20, density = True, label = 'Shuffled', alpha = 0.5)\n",
    "plt.hist(reg4_agr2_corrs, bins = 20, density = True, facecolor = 'tab:red', label = 'Bootstrap', alpha = 0.5)\n",
    "plt.xlabel('Pearson correlation'); plt.title('AGR2 vs REG4'); plt.legend()\n",
    "plt.show()"
   ]
  },
  {
   "cell_type": "code",
   "execution_count": null,
   "id": "wrapped-violation",
   "metadata": {},
   "outputs": [],
   "source": [
    "np.random.seed(4649)\n",
    "subset_size = int(data.shape[0] * 0.4)\n",
    "reg4_agr2_corrs = []\n",
    "\n",
    "for i in range(1000):\n",
    "    bootstrap = data.loc[np.random.choice(data.index, size = subset_size, replace = False), :]\n",
    "    reg4_agr2_corrs.append(scipy.stats.pearsonr(bootstrap['FAP'], bootstrap['SLC5A6'])[0])\n",
    "    \n",
    "plt.hist(all_corrs, bins = 20, density = True, label = 'Shuffled', alpha = 0.5)\n",
    "plt.hist(reg4_agr2_corrs, bins = 20, density = True, facecolor = 'tab:red', label = 'Bootstrap', alpha = 0.5)\n",
    "plt.xlabel('Pearson correlation'); plt.title('FAP vs SLC5A6'); plt.legend()\n",
    "plt.show()"
   ]
  }
 ],
 "metadata": {
  "colab": {
   "collapsed_sections": [],
   "provenance": [],
   "toc_visible": true
  },
  "kernelspec": {
   "display_name": "Python 3 (ipykernel)",
   "language": "python",
   "name": "python3"
  },
  "language_info": {
   "codemirror_mode": {
    "name": "ipython",
    "version": 3
   },
   "file_extension": ".py",
   "mimetype": "text/x-python",
   "name": "python",
   "nbconvert_exporter": "python",
   "pygments_lexer": "ipython3",
   "version": "3.9.7"
  }
 },
 "nbformat": 4,
 "nbformat_minor": 5
}
