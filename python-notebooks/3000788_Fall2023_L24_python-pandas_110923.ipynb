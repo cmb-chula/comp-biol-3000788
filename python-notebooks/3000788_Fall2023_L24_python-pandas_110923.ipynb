{
 "cells": [
  {
   "cell_type": "markdown",
   "id": "public-storm",
   "metadata": {},
   "source": [
    "# Data handling (excel-like) with [Pandas](https://pandas.pydata.org/pandas-docs/stable/) and [Numpy](https://numpy.org/)\n",
    "\n",
    "## Import the libraries\n",
    "Similar to **import math** from last session\n",
    "\n",
    "### Tips:\n",
    "* Using import pandas **as** pd lets us abbreviate the library name\n",
    "* We can call pd.DataFrame() instead of pandas.DataFrame()"
   ]
  },
  {
   "cell_type": "code",
   "execution_count": null,
   "id": "indoor-escape",
   "metadata": {},
   "outputs": [],
   "source": [
    "import pandas as pd\n",
    "import numpy as np"
   ]
  },
  {
   "cell_type": "markdown",
   "id": "f893687e",
   "metadata": {},
   "source": [
    "### Let's try loading data from an Excel file"
   ]
  },
  {
   "cell_type": "code",
   "execution_count": null,
   "id": "b2d45f52",
   "metadata": {},
   "outputs": [],
   "source": [
    "data = pd.read_excel('CRC_sample_data.xlsx', sheet_name = 'expression', index_col = 0)\n",
    "data.head()"
   ]
  },
  {
   "cell_type": "markdown",
   "id": "periodic-lender",
   "metadata": {},
   "source": [
    "### If you encounter an error message:\n",
    "**ImportError: Missing optional dependency 'xlrd'. Install xlrd >= 1.0.0 for Excel support Use pip or conda to install xlrd**\n",
    "  \n",
    "Then, follow the instruction to install missing library with this command template\n",
    "\n",
    "**!pip install _missing-lib-name_**"
   ]
  },
  {
   "cell_type": "code",
   "execution_count": null,
   "id": "blocked-mistress",
   "metadata": {},
   "outputs": [],
   "source": [
    "# !pip install xlrd openpyxl"
   ]
  },
  {
   "cell_type": "markdown",
   "id": "5a22b29f",
   "metadata": {},
   "source": [
    "## Some more data structures (in addition to list)\n",
    "1. tuple\n",
    "2. dictionary\n",
    "3. (numpy) array\n",
    "4. (pandas) DataFrame and Series"
   ]
  },
  {
   "cell_type": "markdown",
   "id": "faced-resolution",
   "metadata": {},
   "source": [
    "## Tuple\n",
    "#### List versus tuple\n",
    "Notice the different parenthesis styles"
   ]
  },
  {
   "cell_type": "code",
   "execution_count": null,
   "id": "1938cf7f",
   "metadata": {},
   "outputs": [],
   "source": [
    "a_list = [0.1, 0.2, 0.3, 0.4, 0.5, 0.6]\n",
    "a_tuple = (0.1, 0.2, 0.3, 0.4, 0.5, 0.6)\n",
    "\n",
    "print(a_list)\n",
    "print(a_tuple)"
   ]
  },
  {
   "cell_type": "markdown",
   "id": "2534b680",
   "metadata": {},
   "source": [
    "#### Tuple is immutable\n",
    "You will get a TypeError"
   ]
  },
  {
   "cell_type": "code",
   "execution_count": null,
   "id": "507238f5",
   "metadata": {},
   "outputs": [],
   "source": [
    "a_list[0] = 5\n",
    "print(a_list)\n",
    "\n",
    "a_tuple[0] = 5\n",
    "print(a_tuple)"
   ]
  },
  {
   "cell_type": "markdown",
   "id": "20b66e3c",
   "metadata": {},
   "source": [
    "### So why do we need tuple?"
   ]
  },
  {
   "cell_type": "markdown",
   "id": "320614c3",
   "metadata": {},
   "source": [
    "## Dictionary\n",
    "A mapping from **key** to **value**\n",
    "\n",
    "#### Actually, list and tuple are also mappings from 0, 1, 2, ... to values"
   ]
  },
  {
   "cell_type": "code",
   "execution_count": null,
   "id": "b2498888",
   "metadata": {},
   "outputs": [],
   "source": [
    "a_dict = {'phone':'081-000-0180', \n",
    "          'email':['abc@gmail.com', 'ab.c@chula.ac.th'],\n",
    "          'age':46}\n",
    "\n",
    "print('phone number:', a_dict['phone'])\n",
    "print('emails:', a_dict['email'])\n",
    "print('age:', a_dict['age'])"
   ]
  },
  {
   "cell_type": "markdown",
   "id": "dbd71167",
   "metadata": {},
   "source": [
    "#### Mapped value can be re-assigned"
   ]
  },
  {
   "cell_type": "code",
   "execution_count": null,
   "id": "incoming-argentina",
   "metadata": {},
   "outputs": [],
   "source": [
    "a_dict['email'] = ['ab.c@hotmail.com']\n",
    "print(a_dict)"
   ]
  },
  {
   "cell_type": "markdown",
   "id": "4c6ca542",
   "metadata": {},
   "source": [
    "#### New entries can be added"
   ]
  },
  {
   "cell_type": "code",
   "execution_count": null,
   "id": "7727c619",
   "metadata": {},
   "outputs": [],
   "source": [
    "a_dict['position'] = 'dean'\n",
    "print(a_dict)"
   ]
  },
  {
   "cell_type": "markdown",
   "id": "60c34139",
   "metadata": {},
   "source": [
    "#### The values can be anything, the key must be an immutable type\n",
    "Otherwise, the key may not remain the same"
   ]
  },
  {
   "cell_type": "code",
   "execution_count": null,
   "id": "9fac0c59",
   "metadata": {},
   "outputs": [],
   "source": [
    "my_key = (0, 'test') ## using tuple as key\n",
    "my_val = 'hello world'\n",
    "a_dict[my_key] = my_val\n",
    "print(a_dict[my_key])\n",
    "\n",
    "#################################\n",
    "my_key = [0, 'test'] ## using list as key\n",
    "a_dict[my_key] = my_val\n",
    "print(a_dict[my_key])"
   ]
  },
  {
   "cell_type": "markdown",
   "id": "cf951340",
   "metadata": {},
   "source": [
    "### For can iterate over dictionary\n",
    "By default, it will iterate over the **keys**"
   ]
  },
  {
   "cell_type": "code",
   "execution_count": null,
   "id": "hindu-massachusetts",
   "metadata": {},
   "outputs": [],
   "source": [
    "for key in a_dict:\n",
    "    print(key, a_dict[key])"
   ]
  },
  {
   "cell_type": "code",
   "execution_count": null,
   "id": "59a90d3e",
   "metadata": {},
   "outputs": [],
   "source": [
    "for val in a_dict.values():\n",
    "    print(val)"
   ]
  },
  {
   "cell_type": "markdown",
   "id": "4d2142af",
   "metadata": {},
   "source": [
    "## (numpy) Array\n",
    "Look similar to list but with many different behaviors"
   ]
  },
  {
   "cell_type": "code",
   "execution_count": null,
   "id": "905efd42",
   "metadata": {},
   "outputs": [],
   "source": [
    "a_list = [9, 4, 21, 5]\n",
    "a_array = np.array(a_list)\n",
    "\n",
    "print(a_list)\n",
    "print(a_array)\n",
    "\n",
    "print(a_list[3])\n",
    "print(a_array[3])\n",
    "\n",
    "print(a_list[:2])\n",
    "print(a_array[:2])"
   ]
  },
  {
   "cell_type": "markdown",
   "id": "12965c13",
   "metadata": {},
   "source": [
    "#### list.index() does not work on array"
   ]
  },
  {
   "cell_type": "code",
   "execution_count": null,
   "id": "603bd7a8",
   "metadata": {},
   "outputs": [],
   "source": [
    "print(a_list.index(21))\n",
    "print(a_array.index(21))"
   ]
  },
  {
   "cell_type": "markdown",
   "id": "51c36d7f",
   "metadata": {},
   "source": [
    "#### But elements in array can be accessed more freely"
   ]
  },
  {
   "cell_type": "code",
   "execution_count": null,
   "id": "28af5953",
   "metadata": {},
   "outputs": [],
   "source": [
    "indices = [0, 1, 3]\n",
    "print(a_array[indices])\n",
    "print(a_list[indices])"
   ]
  },
  {
   "cell_type": "markdown",
   "id": "8d86abda",
   "metadata": {},
   "source": [
    "#### And mathematical operation can be performed more easily with array"
   ]
  },
  {
   "cell_type": "code",
   "execution_count": null,
   "id": "4788d7a5",
   "metadata": {},
   "outputs": [],
   "source": [
    "print(a_array / 2)\n",
    "print([x / 2 for x in a_list])"
   ]
  },
  {
   "cell_type": "markdown",
   "id": "62ca8e2f",
   "metadata": {},
   "source": [
    "### Some practical differences between list and array"
   ]
  },
  {
   "cell_type": "code",
   "execution_count": null,
   "id": "923823f1",
   "metadata": {},
   "outputs": [],
   "source": [
    "list_age = [18, 47, 12, 8, 4, 65, 17, 34, 77]\n",
    "list_name = ['Alice', 'Bob', 'Clare', 'Don', 'Eric', 'Fei', 'Gabriel', 'Henry', 'Ivan']\n",
    "\n",
    "array_age = np.array([18, 47, 12, 8, 4, 65, 17, 34, 77])\n",
    "array_name = np.array(['Alice', 'Bob', 'Clare', 'Don', 'Eric', 'Fei', 'Gabriel', 'Henry', 'Ivan'])"
   ]
  },
  {
   "cell_type": "markdown",
   "id": "edf78598",
   "metadata": {},
   "source": [
    "#### Finding Don's age"
   ]
  },
  {
   "cell_type": "code",
   "execution_count": null,
   "id": "7ee17b55",
   "metadata": {},
   "outputs": [],
   "source": [
    "print('Don\\'s age:', list_age[list_name.index('Don')])\n",
    "print('Don\\'s age:', array_age[array_name == 'Don'])"
   ]
  },
  {
   "cell_type": "markdown",
   "id": "5eac1bc7",
   "metadata": {},
   "source": [
    "#### Selecting all patients younger than 10"
   ]
  },
  {
   "cell_type": "code",
   "execution_count": null,
   "id": "1e855032",
   "metadata": {},
   "outputs": [],
   "source": [
    "print('young patients:', [list_name[i] for i in range(len(list_name)) if list_age[i] < 10])\n",
    "print('young patients:', array_name[array_age < 10])"
   ]
  },
  {
   "cell_type": "markdown",
   "id": "13fd9a3f",
   "metadata": {},
   "source": [
    "## Multidimensional list and array"
   ]
  },
  {
   "cell_type": "code",
   "execution_count": null,
   "id": "0fe5e8fa",
   "metadata": {},
   "outputs": [],
   "source": [
    "b_list = [[0, 1], [1, 0]]\n",
    "print(b_list)\n",
    "\n",
    "b_array = np.array([[0, 1], [1, 0]])\n",
    "print(b_array)"
   ]
  },
  {
   "cell_type": "code",
   "execution_count": null,
   "id": "4d09ebe6",
   "metadata": {},
   "outputs": [],
   "source": [
    "print('first row:', b_list[0])\n",
    "print('first row:', b_array[0])\n",
    "\n",
    "print('first row, second element:', b_list[0][1])\n",
    "print('first row, second element:', b_array[0][1])"
   ]
  },
  {
   "cell_type": "markdown",
   "id": "3c14c356",
   "metadata": {},
   "source": [
    "#### len() can only count the number of rows"
   ]
  },
  {
   "cell_type": "code",
   "execution_count": null,
   "id": "05da29f8",
   "metadata": {},
   "outputs": [],
   "source": [
    "print(len(b_list))\n",
    "print(len(b_array))"
   ]
  },
  {
   "cell_type": "markdown",
   "id": "0295a371",
   "metadata": {},
   "source": [
    "#### array.shape return all dimensions together"
   ]
  },
  {
   "cell_type": "code",
   "execution_count": null,
   "id": "3a25d1c1",
   "metadata": {},
   "outputs": [],
   "source": [
    "print(b_array.shape)"
   ]
  },
  {
   "cell_type": "markdown",
   "id": "0e72833d",
   "metadata": {},
   "source": [
    "#### Array check the consistency of the number of columns"
   ]
  },
  {
   "cell_type": "code",
   "execution_count": null,
   "id": "3ec698a6",
   "metadata": {},
   "outputs": [],
   "source": [
    "b_list = [[0, 1], [1, 0, 0]]\n",
    "print(b_list)\n",
    "\n",
    "b_array = np.array([[0, 1], [1, 0, 0]])\n",
    "print(b_array)"
   ]
  },
  {
   "cell_type": "markdown",
   "id": "7e21858a",
   "metadata": {},
   "source": [
    "#### Initializing a multidimensional array"
   ]
  },
  {
   "cell_type": "code",
   "execution_count": null,
   "id": "91e2f905",
   "metadata": {},
   "outputs": [],
   "source": [
    "b_array = np.zeros([5, 5])\n",
    "print(b_array)"
   ]
  },
  {
   "cell_type": "code",
   "execution_count": null,
   "id": "3cd793a3",
   "metadata": {},
   "outputs": [],
   "source": [
    "b_array = np.ones([5, 5])\n",
    "print(b_array)"
   ]
  },
  {
   "cell_type": "markdown",
   "id": "350f888a",
   "metadata": {},
   "source": [
    "#### Element in a multidimensional array can be accessed in two ways"
   ]
  },
  {
   "cell_type": "code",
   "execution_count": null,
   "id": "cd9e68a7",
   "metadata": {},
   "outputs": [],
   "source": [
    "print(b_array[0][1])\n",
    "print(b_array[0, 1])"
   ]
  },
  {
   "cell_type": "markdown",
   "id": "african-discipline",
   "metadata": {},
   "source": [
    "## (pandas) DataFrame and Series\n",
    "Let's reload the demo data from excel with **pd.read_excel()**\n",
    "\n",
    "### Tips:\n",
    "* For tab- or comma-separated files (.txt, .tsv, or .csv), use **pd.read_csv()**\n",
    "* For excel file with multiple sheets, specify the **sheet_name** parameter\n",
    "* **index_col** specify the column that should be used as the row index\n",
    "* **header** specify the row that should be used as the column header\n",
    "\n",
    "#### The read result is a DataFrame\n",
    "**head()** is used to preview the top rows of the DataFrame"
   ]
  },
  {
   "cell_type": "code",
   "execution_count": null,
   "id": "spatial-education",
   "metadata": {},
   "outputs": [],
   "source": [
    "data = pd.read_excel('CRC_sample_data.xlsx', sheet_name = 'expression', \n",
    "                     index_col = 0, header = 0)\n",
    "data.head(2)"
   ]
  },
  {
   "cell_type": "markdown",
   "id": "ultimate-franklin",
   "metadata": {},
   "source": [
    "**tail()** shows the bottom rows of the data frame"
   ]
  },
  {
   "cell_type": "code",
   "execution_count": null,
   "id": "respective-school",
   "metadata": {},
   "outputs": [],
   "source": [
    "data.tail(3)"
   ]
  },
  {
   "cell_type": "markdown",
   "id": "comic-winning",
   "metadata": {},
   "source": [
    "### Pandas automatically determine the appropriate data types for each column\n",
    "We can check data types with the built-in **DataFrame.dtypes**"
   ]
  },
  {
   "cell_type": "code",
   "execution_count": null,
   "id": "complicated-error",
   "metadata": {},
   "outputs": [],
   "source": [
    "data.dtypes"
   ]
  },
  {
   "cell_type": "markdown",
   "id": "delayed-restriction",
   "metadata": {},
   "source": [
    "#### View the dimension of the data with DataFrame.shape\n",
    "Like array"
   ]
  },
  {
   "cell_type": "code",
   "execution_count": null,
   "id": "satisfied-language",
   "metadata": {},
   "outputs": [],
   "source": [
    "data.shape"
   ]
  },
  {
   "cell_type": "markdown",
   "id": "isolated-irrigation",
   "metadata": {},
   "source": [
    "### DataFrame is a multidimensional array with row indices and column headers\n",
    "* DataFrame.index\n",
    "* DataFrame.columns"
   ]
  },
  {
   "cell_type": "code",
   "execution_count": null,
   "id": "rapid-warren",
   "metadata": {},
   "outputs": [],
   "source": [
    "data.index"
   ]
  },
  {
   "cell_type": "code",
   "execution_count": null,
   "id": "suffering-wholesale",
   "metadata": {},
   "outputs": [],
   "source": [
    "data.columns"
   ]
  },
  {
   "cell_type": "markdown",
   "id": "another-baseline",
   "metadata": {},
   "source": [
    "### Basic summary statistics for DataFrame\n",
    "* DataFrame.describe()\n",
    "* DataFrame.mean(axis = 0)\n",
    "* DataFrame.std(axis = 0)\n",
    "#### Notice how the CMS column is ignored automatically"
   ]
  },
  {
   "cell_type": "code",
   "execution_count": null,
   "id": "primary-factor",
   "metadata": {},
   "outputs": [],
   "source": [
    "data.describe()"
   ]
  },
  {
   "cell_type": "code",
   "execution_count": null,
   "id": "curious-rochester",
   "metadata": {},
   "outputs": [],
   "source": [
    "data.mean(axis = 0).head(2)"
   ]
  },
  {
   "cell_type": "code",
   "execution_count": null,
   "id": "coupled-magic",
   "metadata": {
    "scrolled": true
   },
   "outputs": [],
   "source": [
    "data.std(axis = 1).head(2)"
   ]
  },
  {
   "cell_type": "markdown",
   "id": "traditional-priority",
   "metadata": {},
   "source": [
    "### Basic statistics for categorical columns\n",
    "* DataFrame.nunique()\n",
    "* DataFrame.value_counts()"
   ]
  },
  {
   "cell_type": "code",
   "execution_count": null,
   "id": "southeast-master",
   "metadata": {},
   "outputs": [],
   "source": [
    "print('number of distinct elements:', data['CMS'].nunique())\n",
    "print('---------------------')\n",
    "print(data['CMS'].value_counts())"
   ]
  },
  {
   "cell_type": "markdown",
   "id": "88f58a5d",
   "metadata": {},
   "source": [
    "#### We can get the unique elements with pd.unique()"
   ]
  },
  {
   "cell_type": "code",
   "execution_count": null,
   "id": "33534682",
   "metadata": {},
   "outputs": [],
   "source": [
    "pd.unique(data['CMS'])"
   ]
  },
  {
   "cell_type": "markdown",
   "id": "durable-blink",
   "metadata": {},
   "source": [
    "## Standardizing the DataFrame\n",
    "What is standardization?"
   ]
  },
  {
   "cell_type": "code",
   "execution_count": null,
   "id": "meaning-bulgaria",
   "metadata": {},
   "outputs": [],
   "source": [
    "data_std = (data - data.mean()) / data.std()\n",
    "data_std.head(2)"
   ]
  },
  {
   "cell_type": "markdown",
   "id": "921cb22b",
   "metadata": {},
   "source": [
    "### Ouch, we don't want to standardize the CMS columns\n",
    "Use DataFrame.drop()"
   ]
  },
  {
   "cell_type": "code",
   "execution_count": null,
   "id": "6e9bba85",
   "metadata": {},
   "outputs": [],
   "source": [
    "data_no_cms = data_std.drop('CMS', axis = 1)\n",
    "data_no_cms.head(2)"
   ]
  },
  {
   "cell_type": "markdown",
   "id": "professional-scratch",
   "metadata": {},
   "source": [
    "## How to access rows, columns, and specific cells?\n",
    "* DataFrame[A]\n",
    "* DataFrame.loc[A, B]\n",
    "* DataFrame.iloc[a, b]\n",
    "\n",
    "#### DataFrame[headers] return a Series or a DataFrame\n",
    "A Series is a one-dimensional DataFrame"
   ]
  },
  {
   "cell_type": "code",
   "execution_count": null,
   "id": "rolled-copying",
   "metadata": {},
   "outputs": [],
   "source": [
    "data['AGR2'].head(2)"
   ]
  },
  {
   "cell_type": "code",
   "execution_count": null,
   "id": "d4c61b09",
   "metadata": {},
   "outputs": [],
   "source": [
    "data[['AGR2', 'ASCL2']].head(2)"
   ]
  },
  {
   "cell_type": "markdown",
   "id": "0e78214e",
   "metadata": {},
   "source": [
    "#### DataFrame.loc[A, B] lets us specific the row indices and column headers\n",
    "The output follows the ordering in A and B\n",
    "\n",
    "**:** can be used to select everything"
   ]
  },
  {
   "cell_type": "code",
   "execution_count": null,
   "id": "dying-equity",
   "metadata": {},
   "outputs": [],
   "source": [
    "print(data.loc['Patient3', 'AGR2'])\n",
    "print('---------------------')\n",
    "print(data.loc['Patient3', ['GFPT2', 'FAP']])\n",
    "print('---------------------')\n",
    "print(data.loc[['Patient3', 'Patient2'], ['GFPT2', 'FAP']])\n",
    "print('---------------------')\n",
    "print(data.loc['Patient3', :])"
   ]
  },
  {
   "cell_type": "markdown",
   "id": "c6ec7759",
   "metadata": {},
   "source": [
    "#### DataFrame.iloc[a, b] lets us specific the locations by 0, 1, ... indices"
   ]
  },
  {
   "cell_type": "code",
   "execution_count": null,
   "id": "1d612e08",
   "metadata": {},
   "outputs": [],
   "source": [
    "print(data.iloc[[0, 2], [-1, -3]])"
   ]
  },
  {
   "cell_type": "markdown",
   "id": "dde56da8",
   "metadata": {},
   "source": [
    "#### Combination of access forms"
   ]
  },
  {
   "cell_type": "code",
   "execution_count": null,
   "id": "f35abe4d",
   "metadata": {},
   "outputs": [],
   "source": [
    "print(data['FAP'].iloc[[0, 1]])"
   ]
  },
  {
   "cell_type": "code",
   "execution_count": null,
   "id": "bcef301c",
   "metadata": {},
   "outputs": [],
   "source": [
    "print(data['FAP'].loc[data['FAP'] < 5])"
   ]
  },
  {
   "cell_type": "markdown",
   "id": "superior-creature",
   "metadata": {},
   "source": [
    "## Access with conditions (a list of booleans)\n",
    "* data.loc[[True, False, ..., True], [True, False, ..., True]]"
   ]
  },
  {
   "cell_type": "code",
   "execution_count": null,
   "id": "conceptual-convenience",
   "metadata": {},
   "outputs": [],
   "source": [
    "data.loc[data['CMS'] == 'CMS3', ['FAP', 'SLC5A6', 'CMS']].head(5)"
   ]
  },
  {
   "cell_type": "code",
   "execution_count": null,
   "id": "finnish-result",
   "metadata": {},
   "outputs": [],
   "source": [
    "data.loc[data['DUSP4'] > 7, ['DUSP4', 'CMS']].head(5)"
   ]
  },
  {
   "cell_type": "markdown",
   "id": "4866ffbc",
   "metadata": {},
   "source": [
    "### Accessing by condition lets us do subpopulation-specific calculations"
   ]
  },
  {
   "cell_type": "code",
   "execution_count": null,
   "id": "flexible-judges",
   "metadata": {
    "scrolled": false
   },
   "outputs": [],
   "source": [
    "print('average DUSP4 expression in CMS1 is', data.loc[data['CMS'] == 'CMS1', 'DUSP4'].mean())\n",
    "print('average DUSP4 expression in CMS2 is', data.loc[data['CMS'] == 'CMS2', 'DUSP4'].mean())\n",
    "print('average DUSP4 expression in CMS3 is', data.loc[data['CMS'] == 'CMS3', 'DUSP4'].mean())"
   ]
  },
  {
   "cell_type": "markdown",
   "id": "lovely-singapore",
   "metadata": {},
   "source": [
    "## Combining multiple conditions\n",
    "Instead of **and**, **or**, **not**, we need to use &, |, ~"
   ]
  },
  {
   "cell_type": "code",
   "execution_count": null,
   "id": "focal-france",
   "metadata": {
    "scrolled": true
   },
   "outputs": [],
   "source": [
    "data.loc[(data['CMS'] == 'CMS1') | (data['CMS'] == 'CMS2'), :].shape"
   ]
  },
  {
   "cell_type": "code",
   "execution_count": null,
   "id": "nearby-hormone",
   "metadata": {
    "scrolled": true
   },
   "outputs": [],
   "source": [
    "data.loc[(data['CMS'] == 'CMS3') & (data['FAP'] < 6), ['FAP', 'SLC5A6', 'CMS']].head(5)"
   ]
  },
  {
   "cell_type": "code",
   "execution_count": null,
   "id": "pretty-biology",
   "metadata": {
    "scrolled": true
   },
   "outputs": [],
   "source": [
    "data.loc[~(data['CMS'] == 'CMS1') & (data['FAP'] < 6), ['FAP', 'SLC5A6', 'CMS']].head(5)"
   ]
  },
  {
   "cell_type": "markdown",
   "id": "funded-investment",
   "metadata": {},
   "source": [
    "### Selection for categorical feature with Series.isin()"
   ]
  },
  {
   "cell_type": "code",
   "execution_count": null,
   "id": "unavailable-timeline",
   "metadata": {},
   "outputs": [],
   "source": [
    "data.loc[(data['CMS'] == 'CMS1') | (data['CMS'] == 'CMS2'), :].shape"
   ]
  },
  {
   "cell_type": "code",
   "execution_count": null,
   "id": "extraordinary-citizen",
   "metadata": {},
   "outputs": [],
   "source": [
    "data.loc[data['CMS'].isin(['CMS1', 'CMS2']), :].shape"
   ]
  },
  {
   "cell_type": "markdown",
   "id": "wrong-prerequisite",
   "metadata": {},
   "source": [
    "## Load a different sheet from an excel file"
   ]
  },
  {
   "cell_type": "code",
   "execution_count": null,
   "id": "advanced-momentum",
   "metadata": {},
   "outputs": [],
   "source": [
    "mutation_data = pd.read_excel('CRC_sample_data.xlsx', sheet_name = 'mutation', header = 0, index_col = 0)\n",
    "mutation_data.head(5)"
   ]
  },
  {
   "cell_type": "markdown",
   "id": "breeding-reasoning",
   "metadata": {},
   "source": [
    "## Select non-missing values is pd.isna()"
   ]
  },
  {
   "cell_type": "code",
   "execution_count": null,
   "id": "manufactured-airplane",
   "metadata": {
    "scrolled": true
   },
   "outputs": [],
   "source": [
    "mutation_data.loc[~pd.isna(mutation_data['KRAS']), :].head(2)"
   ]
  },
  {
   "cell_type": "markdown",
   "id": "058fdf3d",
   "metadata": {},
   "source": [
    "#### Broadcasting this selection to the gene expression data"
   ]
  },
  {
   "cell_type": "code",
   "execution_count": null,
   "id": "c890a31f",
   "metadata": {},
   "outputs": [],
   "source": [
    "data.loc[~pd.isna(mutation_data['KRAS']), :].head(2)"
   ]
  },
  {
   "cell_type": "markdown",
   "id": "5df3f7be",
   "metadata": {},
   "source": [
    "## Merging two DataFrames with pd.concat()\n",
    "Designate the joining direction with **axis** and how common or distinct entries should be handled with **join**\n",
    "* inner = intersection of entires\n",
    "* outer = union of entires"
   ]
  },
  {
   "cell_type": "code",
   "execution_count": null,
   "id": "91f7457e",
   "metadata": {},
   "outputs": [],
   "source": [
    "merged = pd.concat([data, mutation_data], axis = 1, join = 'inner')\n",
    "print(merged.shape)\n",
    "merged.head(2)"
   ]
  },
  {
   "cell_type": "code",
   "execution_count": null,
   "id": "513240f7",
   "metadata": {},
   "outputs": [],
   "source": [
    "merged = pd.concat([data, mutation_data], axis = 0, join = 'inner')\n",
    "print(merged.shape)\n",
    "merged.head(2)"
   ]
  },
  {
   "cell_type": "code",
   "execution_count": null,
   "id": "6c3da9bd",
   "metadata": {},
   "outputs": [],
   "source": [
    "merged = pd.concat([data, mutation_data], axis = 0, join = 'outer')\n",
    "print(merged.shape)\n",
    "merged.head(2)"
   ]
  },
  {
   "cell_type": "markdown",
   "id": "dental-dressing",
   "metadata": {},
   "source": [
    "## Copying data frame\n",
    "Like list and other objects, using *=* assignment for DataFrame makes the variables linked\n",
    "\n",
    "#### Use DataFrame.copy() to get an independent copy"
   ]
  },
  {
   "cell_type": "code",
   "execution_count": null,
   "id": "ecological-crest",
   "metadata": {},
   "outputs": [],
   "source": [
    "new_data = data.copy()\n",
    "new_data.loc['Patient1', :] = -5\n",
    "new_data.head(2)"
   ]
  },
  {
   "cell_type": "markdown",
   "id": "subtle-strike",
   "metadata": {},
   "source": [
    "Original data remain unchanged"
   ]
  },
  {
   "cell_type": "code",
   "execution_count": null,
   "id": "atmospheric-bulletin",
   "metadata": {},
   "outputs": [],
   "source": [
    "data.head(2)"
   ]
  },
  {
   "cell_type": "markdown",
   "id": "noticed-conversation",
   "metadata": {},
   "source": [
    "## Adding new column or row\n",
    "By default, DataFrame[A] refers to column first"
   ]
  },
  {
   "cell_type": "code",
   "execution_count": null,
   "id": "indoor-assets",
   "metadata": {},
   "outputs": [],
   "source": [
    "new_data['FAP x SLC5A6'] = new_data['TSPAN6'] * new_data['SLC5A6']\n",
    "new_data.head(2)"
   ]
  },
  {
   "cell_type": "code",
   "execution_count": null,
   "id": "6c1a0ec6",
   "metadata": {},
   "outputs": [],
   "source": [
    "new_data.loc['NewPatient'] = 0\n",
    "new_data.tail(2)"
   ]
  },
  {
   "cell_type": "code",
   "execution_count": null,
   "id": "dc804af3",
   "metadata": {},
   "outputs": [],
   "source": [
    "new_data[['NewGene1', 'NewGene2']] = -1\n",
    "new_data.head(2)"
   ]
  },
  {
   "cell_type": "markdown",
   "id": "excited-charlotte",
   "metadata": {},
   "source": [
    "## Save DataFrame to file\n",
    "Similar to **read_excel()** and **read_csv()**, we have **to_excel()** and **to_csv()**"
   ]
  },
  {
   "cell_type": "code",
   "execution_count": null,
   "id": "binary-combination",
   "metadata": {},
   "outputs": [],
   "source": [
    "new_data.to_excel('new_dataframe.xlsx')\n",
    "new_data.to_csv('new_dataframe.csv', sep = ',')\n",
    "new_data.to_tsv('new_dataframe.tsv', sep = '\\t')"
   ]
  },
  {
   "cell_type": "markdown",
   "id": "precious-washington",
   "metadata": {},
   "source": [
    "## For iterates over data in a DataFrame"
   ]
  },
  {
   "cell_type": "code",
   "execution_count": null,
   "id": "fabulous-weather",
   "metadata": {
    "scrolled": false
   },
   "outputs": [],
   "source": [
    "for column in data.columns[:-1]:\n",
    "    print(column, data[column].mean())"
   ]
  },
  {
   "cell_type": "code",
   "execution_count": null,
   "id": "brutal-debut",
   "metadata": {},
   "outputs": [],
   "source": [
    "for i in range(5):\n",
    "    print('Patient', i, 'FAP =', data.iloc[i, 0], 'SLC5A6 =', data.iloc[i, 1])"
   ]
  }
 ],
 "metadata": {
  "kernelspec": {
   "display_name": "Python 3 (ipykernel)",
   "language": "python",
   "name": "python3"
  },
  "language_info": {
   "codemirror_mode": {
    "name": "ipython",
    "version": 3
   },
   "file_extension": ".py",
   "mimetype": "text/x-python",
   "name": "python",
   "nbconvert_exporter": "python",
   "pygments_lexer": "ipython3",
   "version": "3.9.12"
  }
 },
 "nbformat": 4,
 "nbformat_minor": 5
}
