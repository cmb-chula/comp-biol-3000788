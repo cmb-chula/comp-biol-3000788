{
 "cells": [
  {
   "cell_type": "markdown",
   "id": "foster-excitement",
   "metadata": {},
   "source": [
    "# About the data\n",
    "~3,000 rice plants from 218 cultivars in Thailand were grown under normal (Condition ID = 1), low phosphorus (Condition ID = 2), and very low phosphorus conditions (Condition ID = 3).\n",
    "\n",
    "Then, the absorbance spectrum of the rice leaf as well as the inorganic phosphat (Pi) contents were measured. [This article](https://journals.plos.org/plosone/article?id=10.1371/journal.pone.0267304) provides more details on the methodology.\n",
    "\n",
    "Each row corresponds to a rice plant.\n",
    "\n",
    "Columns designate the Condition ID, Cultivar ID, Pi content, and absorbance at each wavelength from 324 nm to 784 nm."
   ]
  },
  {
   "cell_type": "markdown",
   "id": "level-practitioner",
   "metadata": {},
   "source": [
    "# How to approach this dataset?\n",
    "## First, check data quality and variance\n",
    "* Does Condition ID, which indicates the phosphorus level in soil, correlate well with Pi content, which reflects the actual amount of phosphorus that the plant can absorb?\n",
    "* How do Pi content and absorbance spectrum vary across individual plants of the same cultivar and condition?\n",
    "* How much impact does cultivar have on Pi content (difference in phosphorus utilization)?\n",
    "\n",
    "## Then, let's build some models\n",
    "* How well can absorbance spectrum predict the soil phosphorus level (Condition ID)?\n",
    "* How well can absorbance spectrum predict the leaf Pi content?"
   ]
  },
  {
   "cell_type": "code",
   "execution_count": null,
   "id": "potential-martial",
   "metadata": {},
   "outputs": [],
   "source": [
    "import pandas as pd\n",
    "import numpy as np\n",
    "import matplotlib.pyplot as plt\n",
    "import seaborn as sns\n",
    "import scipy.stats\n",
    "import umap\n",
    "\n",
    "from sklearn.preprocessing import StandardScaler\n",
    "from sklearn.model_selection import train_test_split, StratifiedKFold, GridSearchCV\n",
    "from sklearn.linear_model import LogisticRegression, Ridge, Lasso\n",
    "from sklearn.decomposition import PCA\n",
    "from sklearn.metrics import classification_report, confusion_matrix, roc_curve, roc_auc_score\n",
    "from sklearn.metrics import average_precision_score, precision_recall_curve\n",
    "from sklearn.svm import SVR"
   ]
  },
  {
   "cell_type": "markdown",
   "id": "16780fcc",
   "metadata": {},
   "source": [
    "## Load data"
   ]
  },
  {
   "cell_type": "code",
   "execution_count": null,
   "id": "ruled-membrane",
   "metadata": {},
   "outputs": [],
   "source": [
    "data = pd.read_csv('RiceNutrientDeficiency.csv', index_col = None, header = 0)\n",
    "data.head()"
   ]
  },
  {
   "cell_type": "markdown",
   "id": "6f58094e",
   "metadata": {},
   "source": [
    "## Analysis 1: Evaluate concordance between condition ID and Pi content\n",
    "Start with a simple boxplot / violin plot"
   ]
  },
  {
   "cell_type": "code",
   "execution_count": null,
   "id": "twelve-investing",
   "metadata": {},
   "outputs": [],
   "source": [
    "conditions = sorted(pd.unique(data['ConditionID']))\n",
    "\n",
    "plt.figure(figsize = (5, 2))\n",
    "plt.boxplot([data['Pi'].loc[data['ConditionID'] == c] for c in conditions], labels = conditions, vert = False)\n",
    "plt.xlabel('Pi'); plt.ylabel('Condition ID')\n",
    "plt.show()"
   ]
  },
  {
   "cell_type": "code",
   "execution_count": null,
   "id": "c3eb1d27",
   "metadata": {},
   "outputs": [],
   "source": [
    "plt.figure(figsize = (5, 2))\n",
    "_ = sns.violinplot(data = data, y = 'ConditionID', x = 'Pi', orient = 'h')"
   ]
  },
  {
   "cell_type": "markdown",
   "id": "c09f578c",
   "metadata": {},
   "source": [
    "### Because the range of Pi content is quite wide, log-scale can provide a better view"
   ]
  },
  {
   "cell_type": "code",
   "execution_count": null,
   "id": "265e7f60",
   "metadata": {},
   "outputs": [],
   "source": [
    "data['Log Pi'] = np.log1p(data['Pi']) ## log1p(x) = log(1 + x), avoid the problem of log(0)"
   ]
  },
  {
   "cell_type": "code",
   "execution_count": null,
   "id": "3d40e355",
   "metadata": {},
   "outputs": [],
   "source": [
    "conditions = sorted(pd.unique(data['ConditionID']))\n",
    "\n",
    "plt.figure(figsize = (5, 2))\n",
    "plt.boxplot([data['Log Pi'].loc[data['ConditionID'] == c] for c in conditions], \n",
    "            labels = conditions, vert = False)\n",
    "plt.xlabel('Log Pi'); plt.ylabel('Condition ID')\n",
    "plt.show()"
   ]
  },
  {
   "cell_type": "code",
   "execution_count": null,
   "id": "dc7525f7",
   "metadata": {},
   "outputs": [],
   "source": [
    "plt.figure(figsize = (5, 2))\n",
    "_ = sns.violinplot(data = data, y = 'ConditionID', x = 'Log Pi', orient = 'h')"
   ]
  },
  {
   "cell_type": "markdown",
   "id": "8db67326",
   "metadata": {},
   "source": [
    "### Test the difference in Pi content across conditions with Mann-Whitney U test"
   ]
  },
  {
   "cell_type": "code",
   "execution_count": null,
   "id": "31f77cf6",
   "metadata": {},
   "outputs": [],
   "source": [
    "print('Condition 1 vs 2:', scipy.stats.mannwhitneyu(data['Pi'].loc[data['ConditionID'] == 1],\n",
    "                                                    data['Pi'].loc[data['ConditionID'] == 2]))\n",
    "print('Condition 2 vs 3:', scipy.stats.mannwhitneyu(data['Pi'].loc[data['ConditionID'] == 2],\n",
    "                                                    data['Pi'].loc[data['ConditionID'] == 3]))"
   ]
  },
  {
   "cell_type": "markdown",
   "id": "b7def3f4",
   "metadata": {},
   "source": [
    "## Analysis 2: Evaluate variance of Pi content across replicates\n",
    "We have 5-6 replicates for each cultivar and growth condition"
   ]
  },
  {
   "cell_type": "markdown",
   "id": "305d528e",
   "metadata": {},
   "source": [
    "### This code will show the violin plot of Pi content for a random cultivar"
   ]
  },
  {
   "cell_type": "code",
   "execution_count": null,
   "id": "7c98e777",
   "metadata": {},
   "outputs": [],
   "source": [
    "cultivars = pd.unique(data['CultivarID'])\n",
    "random_cultivar = np.random.choice(cultivars, 1)[0]\n",
    "\n",
    "plt.figure(figsize = (5, 2))\n",
    "\n",
    "temp = data[['ConditionID', 'Log Pi']].loc[data['CultivarID'] == random_cultivar]\n",
    "\n",
    "_ = sns.violinplot(data = temp, y = 'ConditionID', x = 'Log Pi', orient = 'h')\n",
    "plt.title('Cultivar: ' + str(random_cultivar))\n",
    "\n",
    "plt.show()"
   ]
  },
  {
   "cell_type": "markdown",
   "id": "cea5c6b7",
   "metadata": {},
   "source": [
    "### This code will randomly select 20 cultivars to compare the Pi contents"
   ]
  },
  {
   "cell_type": "code",
   "execution_count": null,
   "id": "e3796e75",
   "metadata": {},
   "outputs": [],
   "source": [
    "conditions = sorted(pd.unique(data['ConditionID']))\n",
    "cultivars = pd.unique(data['CultivarID'])\n",
    "random_cultivars = np.random.choice(cultivars, 20)\n",
    "\n",
    "plt.figure(figsize = (13, 9))\n",
    "\n",
    "for i, c in enumerate(conditions, start = 1):\n",
    "    plt.subplot(3, 1, i)\n",
    "    filt = data['CultivarID'].isin(random_cultivars) & (data['ConditionID'] == c)\n",
    "    temp = data[['CultivarID', 'Pi']].loc[filt].copy()\n",
    "    temp['Log Pi'] = np.log1p(temp['Pi'])\n",
    "    \n",
    "    _ = sns.violinplot(data = temp, x = 'CultivarID', y = 'Log Pi')\n",
    "    plt.title('Condition: ' + str(c))\n",
    "    plt.ylim([-1, 8])\n",
    "    \n",
    "plt.tight_layout()\n",
    "plt.show()"
   ]
  },
  {
   "cell_type": "markdown",
   "id": "b88a3e49",
   "metadata": {},
   "source": [
    "### Calculate the average Pi content for each cultivar and condition"
   ]
  },
  {
   "cell_type": "code",
   "execution_count": null,
   "id": "46105ae1",
   "metadata": {},
   "outputs": [],
   "source": [
    "data['Cultivar-ConditionID'] = data['ConditionID'] * 1000 + data['CultivarID'] ## cultivar ID are 1-3 digits\n",
    "\n",
    "average_pi = data[['ConditionID', 'CultivarID', 'Cultivar-ConditionID', 'Log Pi']].groupby('Cultivar-ConditionID').mean()\n",
    "average_pi['ConditionID'] = average_pi['ConditionID'].astype(int)\n",
    "average_pi['CultivarID'] = average_pi['CultivarID'].astype(int)\n",
    "average_pi.head()"
   ]
  },
  {
   "cell_type": "markdown",
   "id": "f7f7afe9",
   "metadata": {},
   "source": [
    "### Visualize the distribution of average Pi content"
   ]
  },
  {
   "cell_type": "code",
   "execution_count": null,
   "id": "49c495b4",
   "metadata": {},
   "outputs": [],
   "source": [
    "conditions = sorted(pd.unique(data['ConditionID']))\n",
    "bins = np.arange(0, 7, 0.1)\n",
    "\n",
    "plt.figure(figsize = (5, 3))\n",
    "\n",
    "for cond in conditions:\n",
    "    plt.hist(average_pi['Log Pi'].loc[average_pi['ConditionID'] == cond], bins = bins, density = True, \n",
    "             alpha = 0.8, label = 'Condition ' + str(cond))\n",
    "\n",
    "plt.xlabel('Average log Pi'); plt.ylabel('Density'); plt.legend()\n",
    "plt.show()"
   ]
  },
  {
   "cell_type": "markdown",
   "id": "bc7b120d",
   "metadata": {},
   "source": [
    "## Analysis 3: Evaluate variability in absorbance spectrum across replicates"
   ]
  },
  {
   "cell_type": "markdown",
   "id": "11749c22",
   "metadata": {},
   "source": [
    "### This code will randomly select 20 absorbance spectra to visualize"
   ]
  },
  {
   "cell_type": "code",
   "execution_count": null,
   "id": "0887a18b",
   "metadata": {},
   "outputs": [],
   "source": [
    "random_samples = np.random.choice(data.index, 20, replace = False)\n",
    "\n",
    "plt.figure(figsize = (8, 3))\n",
    "\n",
    "for i in random_samples:\n",
    "    plt.plot(data.columns[3:-2], data.iloc[i, 3:-2])\n",
    "\n",
    "plt.xticks(range(0, data.shape[1], 5))\n",
    "plt.xlabel('Wavelength (nm)'); plt.ylabel('Absorbance')\n",
    "plt.show()"
   ]
  },
  {
   "cell_type": "markdown",
   "id": "4d9e482f",
   "metadata": {},
   "source": [
    "### Add color based on condition ID"
   ]
  },
  {
   "cell_type": "code",
   "execution_count": null,
   "id": "a76825fc",
   "metadata": {},
   "outputs": [],
   "source": [
    "cmap = {1:'tab:blue', 2:'tab:orange', 3:'tab:green'}\n",
    "\n",
    "plt.figure(figsize = (8, 3))\n",
    "\n",
    "for i in random_samples:\n",
    "    plt.plot(data.columns[3:-2], data.iloc[i, 3:-2], c = cmap[data['ConditionID'].iloc[i]])\n",
    "\n",
    "plt.xticks(range(0, data.shape[1], 5))\n",
    "plt.xlabel('Wavelength (nm)'); plt.ylabel('Absorbance')\n",
    "plt.show()"
   ]
  },
  {
   "cell_type": "markdown",
   "id": "d3bd3b9b",
   "metadata": {},
   "source": [
    "### Focusing on specific wavelengths\n",
    "Select 5 representative wavelengths uniformly"
   ]
  },
  {
   "cell_type": "code",
   "execution_count": null,
   "id": "1a4fc0b0",
   "metadata": {},
   "outputs": [],
   "source": [
    "selected_wavelengths = data.columns[range(8, data.shape[1], 8)][:5]\n",
    "\n",
    "plt.figure(figsize = (13, 3))\n",
    "\n",
    "for i in range(len(selected_wavelengths)):\n",
    "    plt.subplot(1, len(selected_wavelengths), i + 1)\n",
    "    sns.violinplot(data = data, x = 'ConditionID', y = selected_wavelengths[i])\n",
    "    plt.title(str(selected_wavelengths[i]) + ' nm')\n",
    "    plt.ylabel('Absorbance')\n",
    "\n",
    "plt.tight_layout()\n",
    "plt.show()"
   ]
  },
  {
   "cell_type": "markdown",
   "id": "12665e95",
   "metadata": {},
   "source": [
    "### Visualize distribution of absorbance spectra with PCA and UMAP"
   ]
  },
  {
   "cell_type": "code",
   "execution_count": null,
   "id": "cf943580",
   "metadata": {},
   "outputs": [],
   "source": [
    "std_data = (data.iloc[:, 3:-2] - data.iloc[:, 3:-2].mean()) / data.iloc[:, 3:-2].std()"
   ]
  },
  {
   "cell_type": "markdown",
   "id": "3e7b8f94",
   "metadata": {},
   "source": [
    "### PCA"
   ]
  },
  {
   "cell_type": "code",
   "execution_count": null,
   "id": "ca6baea0",
   "metadata": {},
   "outputs": [],
   "source": [
    "pca = PCA(random_state = 25).fit(std_data)\n",
    "pca_embed = pca.transform(std_data)\n",
    "\n",
    "plt.figure(figsize = (5, 5))\n",
    "\n",
    "for cond in conditions:\n",
    "    plt.scatter(pca_embed[data['ConditionID'] == cond, 0], pca_embed[data['ConditionID'] == cond, 1], \n",
    "                label = 'Condition ' + str(cond), alpha = 0.3, s = 5)\n",
    "    \n",
    "plt.xlabel('PC1'); plt.ylabel('PC2')\n",
    "plt.legend()\n",
    "plt.show()"
   ]
  },
  {
   "cell_type": "markdown",
   "id": "9a49ca15",
   "metadata": {},
   "source": [
    "### UMAP with Euclidean distance\n",
    "To make the process quicker, we can downsample to 1000 spectra"
   ]
  },
  {
   "cell_type": "code",
   "execution_count": null,
   "id": "be59671f",
   "metadata": {},
   "outputs": [],
   "source": [
    "random_samples = np.random.choice(data.index, 1000, replace = False)\n",
    "neighbors = [10, 25, 50]\n",
    "\n",
    "plt.figure(figsize = (12, 4))\n",
    "\n",
    "for i, n in enumerate(neighbors, start = 1):\n",
    "    plt.subplot(1, len(neighbors), i)\n",
    "    umap_embed = umap.UMAP(n_neighbors = n, random_state = 25).fit_transform(std_data.iloc[random_samples, :])\n",
    "    \n",
    "    for cond in conditions:\n",
    "        filt = data['ConditionID'].iloc[random_samples] == cond\n",
    "        plt.scatter(umap_embed[filt, 0], umap_embed[filt, 1], label = 'Condition ' + str(cond), \n",
    "                    s = 4, alpha = 0.6)\n",
    "        \n",
    "    plt.xlabel('UMAP1'); plt.ylabel('UMAP2'); plt.legend(); plt.title('n_neighbors = ' + str(n))\n",
    "    \n",
    "plt.tight_layout()\n",
    "plt.show()"
   ]
  },
  {
   "cell_type": "markdown",
   "id": "060467ce",
   "metadata": {},
   "source": [
    "## Analysis 4: Predict P-deficiency status in soil from absorbance spectrum\n",
    "Predict growth conditions: 1, 2, or 3"
   ]
  },
  {
   "cell_type": "code",
   "execution_count": null,
   "id": "fad43f13",
   "metadata": {},
   "outputs": [],
   "source": [
    "data['ConditionID'].value_counts()"
   ]
  },
  {
   "cell_type": "markdown",
   "id": "dc3da01b",
   "metadata": {},
   "source": [
    "### Split 80-20 for training and testing\n",
    "Stratify the split to preserve the sample ratio"
   ]
  },
  {
   "cell_type": "code",
   "execution_count": null,
   "id": "19125418",
   "metadata": {},
   "outputs": [],
   "source": [
    "X_train, X_test, y_train, y_test = train_test_split(std_data, data['ConditionID'], test_size = 0.2,\n",
    "                                                    stratify = data['ConditionID'], shuffle = True, random_state = 25)"
   ]
  },
  {
   "cell_type": "code",
   "execution_count": null,
   "id": "228d0437",
   "metadata": {},
   "outputs": [],
   "source": [
    "y_train.value_counts()"
   ]
  },
  {
   "cell_type": "code",
   "execution_count": null,
   "id": "949fab05",
   "metadata": {},
   "outputs": [],
   "source": [
    "y_test.value_counts()"
   ]
  },
  {
   "cell_type": "markdown",
   "id": "331e6686",
   "metadata": {},
   "source": [
    "### For the training data, we will generate 5 partition for cross-validation"
   ]
  },
  {
   "cell_type": "code",
   "execution_count": null,
   "id": "d995601e",
   "metadata": {},
   "outputs": [],
   "source": [
    "cv_splitter = StratifiedKFold(n_splits = 5, shuffle = True, random_state = 25)"
   ]
  },
  {
   "cell_type": "code",
   "execution_count": null,
   "id": "ca119982",
   "metadata": {},
   "outputs": [],
   "source": [
    "for train_index, val_index in cv_splitter.split(X_train, y_train):\n",
    "    print(train_index)"
   ]
  },
  {
   "cell_type": "markdown",
   "id": "741d1b0a",
   "metadata": {},
   "source": [
    "### Use Logistic Regression\n",
    "Two key hyperparameters: **Penalty (regularization)** = [l1, l2], **C (inverse regularization strength)** = [1e-5, 1e-3, 1, 1e3, 1e5]\n",
    "\n",
    "**GridSearchCV** will try all hyperparameter combinations and report the resulting accuracy"
   ]
  },
  {
   "cell_type": "code",
   "execution_count": null,
   "id": "d880ecba",
   "metadata": {},
   "outputs": [],
   "source": [
    "base_logistic = LogisticRegression(solver = 'liblinear', max_iter = 1000, random_state = 25)\n",
    "params = {'penalty': ['l1', 'l2'], 'C': [1e-5, 1e-3, 1, 1e3, 1e5]}\n",
    "\n",
    "gridcv = GridSearchCV(base_logistic, param_grid = params, scoring = 'accuracy', refit = True, cv = cv_splitter)\n",
    "gridcv.fit(X_train, y_train)"
   ]
  },
  {
   "cell_type": "markdown",
   "id": "f286751f",
   "metadata": {},
   "source": [
    "### View top models sorted by accuracy"
   ]
  },
  {
   "cell_type": "code",
   "execution_count": null,
   "id": "f07b62e1",
   "metadata": {},
   "outputs": [],
   "source": [
    "grid_result = pd.DataFrame.from_dict(gridcv.cv_results_)\n",
    "grid_result = grid_result.sort_values('rank_test_score')\n",
    "grid_result[['params', 'mean_test_score', 'std_test_score']].head(5)"
   ]
  },
  {
   "cell_type": "markdown",
   "id": "edb7a406",
   "metadata": {},
   "source": [
    "### Conclusion:\n",
    "* The best accuracy is 75%\n",
    "* Choice of hyperparameters have small impact on model performance"
   ]
  },
  {
   "cell_type": "markdown",
   "id": "55122c5b",
   "metadata": {},
   "source": [
    "### View classification performance report on the test set"
   ]
  },
  {
   "cell_type": "code",
   "execution_count": null,
   "id": "596099ea",
   "metadata": {},
   "outputs": [],
   "source": [
    "y_pred = gridcv.predict(X_test)\n",
    "print(classification_report(y_test, y_pred))"
   ]
  },
  {
   "cell_type": "markdown",
   "id": "53799e7f",
   "metadata": {},
   "source": [
    "### View confusion matrix"
   ]
  },
  {
   "cell_type": "code",
   "execution_count": null,
   "id": "6ea10449",
   "metadata": {},
   "outputs": [],
   "source": [
    "plt.figure(figsize = (5, 4))\n",
    "\n",
    "sns.heatmap(confusion_matrix(y_test, y_pred), annot = True, fmt = 'd')\n",
    "plt.xlabel('Prediction'); plt.ylabel('Ground truth')\n",
    "plt.xticks(ticks = np.arange(0.5, 3.5), labels = [1, 2, 3])\n",
    "plt.yticks(ticks = np.arange(0.5, 3.5), labels = [1, 2, 3])\n",
    "\n",
    "plt.show()"
   ]
  },
  {
   "cell_type": "markdown",
   "id": "b7e6f2e7",
   "metadata": {},
   "source": [
    "### We can reframe the task as identifying condition 3 (very low phosphorus in soil)"
   ]
  },
  {
   "cell_type": "code",
   "execution_count": null,
   "id": "dcd3b4b9",
   "metadata": {},
   "outputs": [],
   "source": [
    "lowP_label = data['ConditionID'] == 3\n",
    "\n",
    "X_train_lowP, X_test_lowP, y_train_lowP, y_test_lowP = train_test_split(std_data, lowP_label, test_size = 0.2,\n",
    "                                                                        stratify = lowP_label, shuffle = True, \n",
    "                                                                        random_state = 25)"
   ]
  },
  {
   "cell_type": "code",
   "execution_count": null,
   "id": "b0c3a1a2",
   "metadata": {},
   "outputs": [],
   "source": [
    "gridcv_lowP = GridSearchCV(base_logistic, param_grid = params, scoring = 'accuracy', refit = True, cv = cv_splitter)\n",
    "gridcv_lowP.fit(X_train_lowP, y_train_lowP)"
   ]
  },
  {
   "cell_type": "code",
   "execution_count": null,
   "id": "874fc1b7",
   "metadata": {},
   "outputs": [],
   "source": [
    "grid_result_lowP = pd.DataFrame.from_dict(gridcv_lowP.cv_results_)\n",
    "grid_result_lowP = grid_result_lowP.sort_values('rank_test_score')\n",
    "grid_result_lowP[['params', 'mean_test_score', 'std_test_score']].head(5)"
   ]
  },
  {
   "cell_type": "code",
   "execution_count": null,
   "id": "300cbf15",
   "metadata": {},
   "outputs": [],
   "source": [
    "y_pred_lowP = gridcv_lowP.predict(X_test_lowP)\n",
    "\n",
    "plt.figure(figsize = (4, 3))\n",
    "\n",
    "sns.heatmap(confusion_matrix(y_test_lowP, y_pred_lowP), annot = True, fmt = 'd')\n",
    "plt.xlabel('Prediction'); plt.ylabel('Ground truth')\n",
    "plt.xticks(ticks = np.arange(0.5, 2.5), labels = [1, 2])\n",
    "plt.yticks(ticks = np.arange(0.5, 2.5), labels = [1, 2])\n",
    "\n",
    "plt.show()"
   ]
  },
  {
   "cell_type": "markdown",
   "id": "deb29cde",
   "metadata": {},
   "source": [
    "### Visualize prediction vs ground truth on UMAP\n",
    "Fit UMAP using only training data, and transform test data"
   ]
  },
  {
   "cell_type": "code",
   "execution_count": null,
   "id": "223fda1f",
   "metadata": {},
   "outputs": [],
   "source": [
    "umap = umap.UMAP(n_neighbors = 25, random_state = 25).fit(X_train)\n",
    "umap_train = umap.transform(X_train)\n",
    "umap_test = umap.transform(X_test)"
   ]
  },
  {
   "cell_type": "code",
   "execution_count": null,
   "id": "3763bc15",
   "metadata": {},
   "outputs": [],
   "source": [
    "cmap = {1:'tab:blue', 2:'tab:orange', 3:'tab:green'}\n",
    "plt.figure(figsize = (10, 5))\n",
    "\n",
    "plt.subplot(1, 2, 1)\n",
    "\n",
    "for cond in conditions:\n",
    "    filt = data['ConditionID'].loc[X_train.index] == cond\n",
    "    plt.scatter(umap_train[filt, 0], umap_train[filt, 1], c = cmap[cond], label = 'Condition ' + str(cond), s = 8, alpha = 0.8)\n",
    "    \n",
    "plt.xlabel('UMAP1'); plt.ylabel('UMAP2'); plt.legend(); plt.title('Training set')\n",
    "    \n",
    "plt.subplot(1, 2, 2)\n",
    "\n",
    "for cond in conditions:\n",
    "    filt = y_pred == cond\n",
    "    plt.scatter(umap_test[filt, 0], umap_test[filt, 1], c = cmap[cond], label = 'Condition ' + str(cond), s = 8, alpha = 0.8)\n",
    "        \n",
    "plt.xlabel('UMAP1'); plt.ylabel('UMAP2'); plt.legend(); plt.title('Prediction')\n",
    "\n",
    "plt.tight_layout()\n",
    "plt.show()"
   ]
  },
  {
   "cell_type": "markdown",
   "id": "0f95f22c",
   "metadata": {},
   "source": [
    "### View ROC and PR curves\n",
    "This will show the performance of the model across multiple confidence cutoffs"
   ]
  },
  {
   "cell_type": "code",
   "execution_count": null,
   "id": "436db94b",
   "metadata": {},
   "outputs": [],
   "source": [
    "y_proba = gridcv.predict_proba(X_test) ## predict_proba() produces confidence scores"
   ]
  },
  {
   "cell_type": "code",
   "execution_count": null,
   "id": "002c63e1",
   "metadata": {},
   "outputs": [],
   "source": [
    "plt.figure(figsize = (15, 4))\n",
    "\n",
    "for i in range(y_proba.shape[1]):\n",
    "    plt.subplot(1, 4, i + 1)\n",
    "\n",
    "    fpr, tpr, thresholds = roc_curve(y_test, y_proba[:, i], pos_label = i + 1)\n",
    "    plt.plot(fpr, tpr, label = 'AUC = ' + str(roc_auc_score(y_test == i + 1, y_proba[:, i]))[:4])\n",
    "\n",
    "    plt.legend(loc = 'lower right'); plt.title('Condition ' + str(i + 1))\n",
    "    plt.xlabel('1 - Specificity'); plt.ylabel('Sensitivity')\n",
    "\n",
    "plt.tight_layout()\n",
    "plt.show()"
   ]
  },
  {
   "cell_type": "code",
   "execution_count": null,
   "id": "4077751d",
   "metadata": {},
   "outputs": [],
   "source": [
    "plt.figure(figsize = (15, 4))\n",
    "\n",
    "for i in range(y_proba.shape[1]):\n",
    "    plt.subplot(1, 4, i + 1)\n",
    "\n",
    "    precision, recall, thresholds = precision_recall_curve(y_test, y_proba[:, i], pos_label = i + 1)\n",
    "    plt.plot(recall, precision, label = 'Logistic, AP = ' + str(average_precision_score(y_test == i + 1, y_proba[:, i]))[:4])\n",
    "\n",
    "    plt.legend(loc = 'lower left'); plt.title('Condition ' + str(i + 1))\n",
    "    plt.xlabel('Recall'); plt.ylabel('Precision')\n",
    "\n",
    "plt.tight_layout()\n",
    "plt.show()"
   ]
  },
  {
   "cell_type": "markdown",
   "id": "bbb4fcbf",
   "metadata": {},
   "source": [
    "## Analysis 5: Predict Log Pi content from absorbance spectrum\n",
    "Use the same data split as above"
   ]
  },
  {
   "cell_type": "code",
   "execution_count": null,
   "id": "612f7919",
   "metadata": {},
   "outputs": [],
   "source": [
    "pi_train = data['Log Pi'].loc[y_train.index]\n",
    "pi_test = data['Log Pi'].loc[y_test.index]"
   ]
  },
  {
   "cell_type": "markdown",
   "id": "20d390a8",
   "metadata": {},
   "source": [
    "### Tune Ridge and Lasso models\n",
    "**alpha (regularization strength)** = [1e-5, 1e-3, 1, 1e3, 1e5]\n",
    "\n",
    "Replace **cv = cv_splitter** with **cv = cv_splitter.split(X_train_std, y_train)** because **cv_splitter** was defined with stratification"
   ]
  },
  {
   "cell_type": "code",
   "execution_count": null,
   "id": "9c0d2f85",
   "metadata": {},
   "outputs": [],
   "source": [
    "base_ridge = Ridge(random_state = 25)\n",
    "base_lasso = Lasso(random_state = 25)\n",
    "params_ridge = {'alpha': [1e-5, 1e-3, 1, 1e3, 1e5]}\n",
    "\n",
    "gridcv_ridge = GridSearchCV(base_ridge, param_grid = params_ridge, scoring = ['neg_mean_absolute_error', 'r2'],\n",
    "                            refit = 'neg_mean_absolute_error', cv = cv_splitter.split(X_train, y_train))\n",
    "gridcv_lasso = GridSearchCV(base_lasso, param_grid = params_ridge, scoring = ['neg_mean_absolute_error', 'r2'],\n",
    "                            refit = 'neg_mean_absolute_error', cv = cv_splitter.split(X_train, y_train))\n",
    "\n",
    "gridcv_ridge.fit(X_train, pi_train)\n",
    "gridcv_lasso.fit(X_train, pi_train)"
   ]
  },
  {
   "cell_type": "code",
   "execution_count": null,
   "id": "ba3112f0",
   "metadata": {},
   "outputs": [],
   "source": [
    "grid_result_ridge = pd.DataFrame.from_dict(gridcv_ridge.cv_results_)\n",
    "grid_result_ridge = grid_result_ridge.sort_values('rank_test_neg_mean_absolute_error')\n",
    "grid_result_ridge[['params', 'mean_test_neg_mean_absolute_error', 'mean_test_r2']].head(5)"
   ]
  },
  {
   "cell_type": "code",
   "execution_count": null,
   "id": "375ccf1b",
   "metadata": {},
   "outputs": [],
   "source": [
    "grid_result_lasso = pd.DataFrame.from_dict(gridcv_lasso.cv_results_)\n",
    "grid_result_lasso = grid_result_lasso.sort_values('rank_test_neg_mean_absolute_error')\n",
    "grid_result_lasso[['params', 'mean_test_neg_mean_absolute_error', 'mean_test_r2']].head(5)"
   ]
  },
  {
   "cell_type": "markdown",
   "id": "0e745446",
   "metadata": {},
   "source": [
    "### Ridge regression with alpha = 1e-5 achieves the lowest MAE of 1.0276"
   ]
  },
  {
   "cell_type": "markdown",
   "id": "ed1305ad",
   "metadata": {},
   "source": [
    "### Visualize predicted Log Pi versus ground truth"
   ]
  },
  {
   "cell_type": "code",
   "execution_count": null,
   "id": "06a97cde",
   "metadata": {},
   "outputs": [],
   "source": [
    "pi_ridge = gridcv_ridge.predict(X_test)\n",
    "\n",
    "plt.figure(figsize = (5, 5))\n",
    "\n",
    "for c in conditions:\n",
    "    filt = data['ConditionID'].loc[y_test.index] == c\n",
    "    plt.scatter(pi_test.loc[filt], pi_ridge[filt], label = c)\n",
    "\n",
    "plt.plot([-1, 7], [-1, 7], '--k')\n",
    "plt.xlabel('Ground truth log Pi'); plt.ylabel('Predicted log Pi'); plt.legend()\n",
    "plt.show()"
   ]
  },
  {
   "cell_type": "code",
   "execution_count": null,
   "id": "872d47df",
   "metadata": {},
   "outputs": [],
   "source": []
  }
 ],
 "metadata": {
  "kernelspec": {
   "display_name": "Python 3 (ipykernel)",
   "language": "python",
   "name": "python3"
  },
  "language_info": {
   "codemirror_mode": {
    "name": "ipython",
    "version": 3
   },
   "file_extension": ".py",
   "mimetype": "text/x-python",
   "name": "python",
   "nbconvert_exporter": "python",
   "pygments_lexer": "ipython3",
   "version": "3.9.7"
  }
 },
 "nbformat": 4,
 "nbformat_minor": 5
}
