{
 "cells": [
  {
   "cell_type": "markdown",
   "metadata": {},
   "source": [
    "# Welcome to Python programming via Jupyter interface\n",
    "***\n",
    "### Advices\n",
    "* We are going to spend 6 sessions (9 hours) on this interface. If you want to make the most out of these sessions, or take a first step toward mastering Python, do some self practices and learn from other sources alongside this course.\n",
    "* One good place to start is MIT OCW's [6.0001 course](https://ocw.mit.edu/courses/6-0001-introduction-to-computer-science-and-programming-in-python-fall-2016/)\n",
    "***\n",
    "### Our objectives\n",
    "1. Get you familiar with general features of computer programming\n",
    "2. Let you practice editing an existing codes to get desired results\n",
    "3. Introduce you to data analysis techniques and their implementation in Python"
   ]
  },
  {
   "cell_type": "markdown",
   "metadata": {},
   "source": [
    "## First, there are two main panels in Jupyter interface\n",
    "* This text-only panel is called a **markdown** panel (or **text** panel on Google Colab)\n",
    "* The panel below, which contains runnable commands, is called a **code** panel\n",
    "  * Even in the code panel, you can add descriptions of your code using the **#** symbol"
   ]
  },
  {
   "cell_type": "code",
   "execution_count": null,
   "metadata": {},
   "outputs": [],
   "source": [
    "x = 5            ## define x\n",
    "x = x * 20       ## some calculation\n",
    "print('x is', x) ## print something to the screen"
   ]
  },
  {
   "cell_type": "markdown",
   "metadata": {},
   "source": [
    "### Markdown helps readers, including your future self, understand what the code does\n",
    "You can make your markdown panel very [__fancy__](https://medium.com/ibm-data-science-experience/markdown-for-jupyter-notebooks-cheatsheet-386c05aeebed)\n",
    "\n",
    "## Next is a markdown demo\n",
    "Double click on it to view how **boldface**, *italic*, and table are formatted"
   ]
  },
  {
   "cell_type": "markdown",
   "metadata": {},
   "source": [
    "## Lab note for Nov 5th, 2023\n",
    "### Data were acquired by two laboratories on two sequencing platforms\n",
    "*   **M0** dataset was acquired on an **Illumina** platform by a group at CU\n",
    "*   **JI** and **KI** datasets were acquired by a group at JP on **454** and **Illumina** platforms, respectively\n",
    "\n",
    "### *M0* dataset was acquired in 3 sequencing batches\n",
    "*    Batch ID can be found in **M0_manifest.tsv**\n",
    "\n",
    "### For each dataset, there are two files:\n",
    "1.   **_feature.tsv** files contain OTU abundance table\n",
    "\n",
    "| OTU ID   | sample-1 | sample-2 |    ...   | sample-N |\n",
    "| :-: | :-: | :-: | :-: | :-: |\n",
    "| OTU-1   | 39 | 214 |    ...   | 380 |\n",
    "| OTU-2   | 359 | 0 |    ...   | 495 |\n",
    "| ...   | ... | ... |    ...   | ... |\n",
    "| OTU-M   | 155 | 108 |    ...   | 12 |\n",
    "\n",
    "2.   **_taxonomy.tsv** files contain taxonomy mapping for each OTU\n",
    "\n",
    "| OTU ID   | taxonomy | confidence |\n",
    "|  :-:  | :- | -: |\n",
    "| OTU-1   | D_1__Actinobacteria;D_2__Coriobacteriia;D_3__Coriobacteriales;D_4__Coriobacteriaceae;D_5__Collinsella | 0.99 |\n",
    "| OTU-2   | D_1__Firmicutes;D_2__Clostridia;D_3__Clostridiales;D_4__Lachnospiraceae;D_5__Fusicatenibacter | 0.971 |\n",
    "| ...   | ... | ... |\n",
    "| OTU-M   | D_1__Firmicutes;D_2__Clostridia;D_3__Clostridiales;D_4__Ruminococcaceae;D_5__Subdoligranulum | 0.98 |"
   ]
  },
  {
   "cell_type": "markdown",
   "metadata": {},
   "source": [
    "## Now, let's dive into some codes\n",
    "### Tips:\n",
    "* Use **print()** when you are unsure about what the value of a variable is\n",
    "* **print(x, y, z)** will print *x*, *y*, and *z* at once\n",
    "***\n",
    "### Variable assignments\n",
    "In Python, a variable can be assigned to any data type"
   ]
  },
  {
   "cell_type": "code",
   "execution_count": null,
   "metadata": {},
   "outputs": [],
   "source": [
    "x = 7\n",
    "print(x)\n",
    "\n",
    "x = 'computational biology'\n",
    "print(x)"
   ]
  },
  {
   "cell_type": "markdown",
   "metadata": {},
   "source": [
    "#### We can assign one variable with the value of a nother"
   ]
  },
  {
   "cell_type": "code",
   "execution_count": null,
   "metadata": {},
   "outputs": [],
   "source": [
    "y = x\n",
    "print(y)"
   ]
  },
  {
   "cell_type": "markdown",
   "metadata": {},
   "source": [
    "#### And they will remain independent"
   ]
  },
  {
   "cell_type": "code",
   "execution_count": null,
   "metadata": {},
   "outputs": [],
   "source": [
    "x = 5\n",
    "y = x\n",
    "print('y =', y, ', x =', x)\n",
    "\n",
    "x = 10\n",
    "print('y =', y, ', x =', x)"
   ]
  },
  {
   "cell_type": "markdown",
   "metadata": {},
   "source": [
    "### Numerical operations\n",
    "What is the difference between **x / 2** and **x // 2**?"
   ]
  },
  {
   "cell_type": "code",
   "execution_count": null,
   "metadata": {},
   "outputs": [],
   "source": [
    "x = 7\n",
    "\n",
    "print(x + 1)\n",
    "print(x * 10)\n",
    "print(x / 2)\n",
    "print(x // 2)\n",
    "print(x ** 2)\n",
    "\n",
    "print('x / 2 is', x / 2)\n",
    "print('x // 2 is', x // 2)"
   ]
  },
  {
   "cell_type": "markdown",
   "metadata": {},
   "source": [
    "#### Can you guess what % operator does?"
   ]
  },
  {
   "cell_type": "code",
   "execution_count": null,
   "metadata": {},
   "outputs": [],
   "source": [
    "print(15 % 4)\n",
    "print(20 % 7)\n",
    "print(100 % 13)"
   ]
  },
  {
   "cell_type": "markdown",
   "metadata": {},
   "source": [
    "#### How about the ** operator?"
   ]
  },
  {
   "cell_type": "code",
   "execution_count": null,
   "metadata": {},
   "outputs": [],
   "source": [
    "x = 3\n",
    "print(x ** 3)\n",
    "print('What does \"**\" do?')"
   ]
  },
  {
   "cell_type": "markdown",
   "metadata": {},
   "source": [
    "### Tips:\n",
    "* Variable can be updated at the same time that an operation is performed"
   ]
  },
  {
   "cell_type": "code",
   "execution_count": null,
   "metadata": {},
   "outputs": [],
   "source": [
    "x = 7.9\n",
    "x = x + 2\n",
    "print('x =', x)\n",
    "\n",
    "y = 7.9\n",
    "y = y / 2 # divide y by 2\n",
    "y = y - 5\n",
    "print('y =', y)"
   ]
  },
  {
   "cell_type": "markdown",
   "metadata": {},
   "source": [
    "### String operations\n",
    "* String can be defined with either **'** or **\"** symbol\n",
    "* String can be added (or concatenated) with +"
   ]
  },
  {
   "cell_type": "code",
   "execution_count": null,
   "metadata": {},
   "outputs": [],
   "source": [
    "msg1 = 'hello'\n",
    "msg2 = \"world\"\n",
    "print(msg1)\n",
    "\n",
    "msg = msg1 + ' ' + msg2\n",
    "print(msg)"
   ]
  },
  {
   "cell_type": "markdown",
   "metadata": {},
   "source": [
    "#### String can be reformatted in several ways\n",
    "Notice that the original string remains unaltered"
   ]
  },
  {
   "cell_type": "code",
   "execution_count": null,
   "metadata": {},
   "outputs": [],
   "source": [
    "msg = 'deep learning'\n",
    "print('capitalized:', msg.capitalize())\n",
    "print('uppercase:', msg.upper())\n",
    "print()\n",
    "print('original value:', msg)"
   ]
  },
  {
   "cell_type": "markdown",
   "metadata": {},
   "source": [
    "#### Assign the value if you want to make the change permanent"
   ]
  },
  {
   "cell_type": "code",
   "execution_count": null,
   "metadata": {},
   "outputs": [],
   "source": [
    "msg = 'deep learning'\n",
    "msg = msg.capitalize()\n",
    "print('capitalized:', msg)"
   ]
  },
  {
   "cell_type": "markdown",
   "metadata": {},
   "source": [
    "#### str.replace(x, y) will replace all occurrences of x with y in the string"
   ]
  },
  {
   "cell_type": "code",
   "execution_count": null,
   "metadata": {},
   "outputs": [],
   "source": [
    "msg = 'deep learning with deep network'\n",
    "print(msg.replace('deep', 'machine'))\n",
    "print(msg.replace('learning', 'tech').upper())\n",
    "print()\n",
    "print(msg)"
   ]
  },
  {
   "cell_type": "markdown",
   "metadata": {},
   "source": [
    "#### str.strip() will remove all spaces in the beginning and the end of the string"
   ]
  },
  {
   "cell_type": "code",
   "execution_count": null,
   "metadata": {},
   "outputs": [],
   "source": [
    "msg = '    DNA-RNA   '\n",
    "print(msg)\n",
    "print(msg.strip())"
   ]
  },
  {
   "cell_type": "markdown",
   "metadata": {},
   "source": [
    "#### str.startswith() and st.endswith() can be used to check the prefix and suffix of a string"
   ]
  },
  {
   "cell_type": "code",
   "execution_count": null,
   "metadata": {},
   "outputs": [],
   "source": [
    "gene = 'ENST000123129'\n",
    "print(gene.startswith('ENST'))"
   ]
  },
  {
   "cell_type": "code",
   "execution_count": null,
   "metadata": {},
   "outputs": [],
   "source": [
    "file_name = 'hg19.genomic.fasta'\n",
    "print(file_name.endswith('.fasta'))"
   ]
  },
  {
   "cell_type": "markdown",
   "metadata": {},
   "source": [
    "### Different variable types may not be compatible\n",
    "Adding a number with a string does not make sense. And we just generate our first **Error message**"
   ]
  },
  {
   "cell_type": "code",
   "execution_count": null,
   "metadata": {},
   "outputs": [],
   "source": [
    "print(2 + 'two')"
   ]
  },
  {
   "cell_type": "markdown",
   "metadata": {},
   "source": [
    "## Error messages\n",
    "### Tips:\n",
    "* Do not be scared of them. Error messages often provide helpful information and will point you to where the problem is\n",
    "* Look for the **line numbers** and the **--> arrows pointing to the issue**\n",
    "* Read the error's type (*NameError*, *SyntaxError*, etc.) and the details\n",
    "* **Searching these errors on the internet or asking ChatGPT often yields a solution**\n",
    "\n",
    "[An example of Google search result](https://www.google.com/search?q=NameError%3A+name+%27unknown1%27+is+not+defined&oq=NameError%3A+name+%27unknown1%27+is+not+defined&gs_lcrp=EgZjaHJvbWUyBggAEEUYOTIGCAEQRRg60gEHNjA2ajBqN6gCALACAA&sourceid=chrome&ie=UTF-8) for the error below"
   ]
  },
  {
   "cell_type": "code",
   "execution_count": null,
   "metadata": {},
   "outputs": [],
   "source": [
    "print('NameError occurs when you use undefined variable')\n",
    "x = unknown1\n",
    "\n",
    "print('The code will terminate before this part gets printed')"
   ]
  },
  {
   "cell_type": "markdown",
   "metadata": {},
   "source": [
    "#### Variable name cannot begin with number\n",
    "Also notice the green highlight for the number **1**"
   ]
  },
  {
   "cell_type": "code",
   "execution_count": null,
   "metadata": {},
   "outputs": [],
   "source": [
    "1x = 4.89"
   ]
  },
  {
   "cell_type": "markdown",
   "metadata": {},
   "source": [
    "#### Illegal mathematical operation will also produce an error"
   ]
  },
  {
   "cell_type": "code",
   "execution_count": null,
   "metadata": {},
   "outputs": [],
   "source": [
    "x = 6 / 0"
   ]
  },
  {
   "cell_type": "markdown",
   "metadata": {},
   "source": [
    "### Some names are reserved\n",
    "Do not use names that are automatically highlighted in color by the Jupyter interface"
   ]
  },
  {
   "cell_type": "code",
   "execution_count": null,
   "metadata": {},
   "outputs": [],
   "source": [
    "int\n",
    "float\n",
    "str\n",
    "bool\n",
    "\n",
    "list\n",
    "dict\n",
    "tuple\n",
    "\n",
    "print\n",
    "open\n",
    "with\n",
    "del\n",
    "\n",
    "and\n",
    "or\n",
    "not\n",
    "\n",
    "True\n",
    "False"
   ]
  },
  {
   "cell_type": "markdown",
   "metadata": {},
   "source": [
    "## Task 1: Python as a calculator\n",
    "### Find the value of A $= \\left(\\frac{2.45 \\times 3.7}{8.1 - 0.5 \\times (9.4 + 1.2)}\\right)^{1.4}$\n",
    "\n",
    "Handling complex mathematical operation requires *careful parenthesis balancing*"
   ]
  },
  {
   "cell_type": "code",
   "execution_count": null,
   "metadata": {},
   "outputs": [],
   "source": [
    "### fill in your answer here"
   ]
  },
  {
   "cell_type": "markdown",
   "metadata": {},
   "source": [
    "### To compute advanced functions, we need the [math module](https://docs.python.org/3/library/math.html)"
   ]
  },
  {
   "cell_type": "code",
   "execution_count": null,
   "metadata": {},
   "outputs": [],
   "source": [
    "import math\n",
    "\n",
    "print(math.log10(1000))\n",
    "print(math.sin(math.pi / 2))\n",
    "print(math.e)\n",
    "print(math.exp(5))\n",
    "print(math.pow(2, 6))"
   ]
  },
  {
   "cell_type": "markdown",
   "metadata": {},
   "source": [
    "#### When borrowing function from a module, always include the module name\n",
    "Python understands *math.log10* as the function *log10* from the *math* module"
   ]
  },
  {
   "cell_type": "code",
   "execution_count": null,
   "metadata": {},
   "outputs": [],
   "source": [
    "print(math.log10(1000))\n",
    "print(log10(1000))"
   ]
  },
  {
   "cell_type": "markdown",
   "metadata": {},
   "source": [
    "### Find the value of B $= \\frac{1 - e^{-2}}{\\ln(7)}$"
   ]
  },
  {
   "cell_type": "code",
   "execution_count": null,
   "metadata": {},
   "outputs": [],
   "source": [
    "### fill in your answer here"
   ]
  },
  {
   "cell_type": "markdown",
   "metadata": {},
   "source": [
    "## Defining your own functions\n",
    "Instead of using only built-in functions, like print() or math.log(), you can define customize functions with **def** (define)"
   ]
  },
  {
   "cell_type": "code",
   "execution_count": null,
   "metadata": {},
   "outputs": [],
   "source": [
    "def special_add(v1, v2):\n",
    "    return v1 * 3 + v2 * 5"
   ]
  },
  {
   "cell_type": "code",
   "execution_count": null,
   "metadata": {},
   "outputs": [],
   "source": [
    "print(special_add(3.6, 10.2))"
   ]
  },
  {
   "cell_type": "markdown",
   "metadata": {},
   "source": [
    "#### Your function can return nothing"
   ]
  },
  {
   "cell_type": "code",
   "execution_count": null,
   "metadata": {},
   "outputs": [],
   "source": [
    "def wanna_print(message):\n",
    "    print('I want to', message)"
   ]
  },
  {
   "cell_type": "code",
   "execution_count": null,
   "metadata": {},
   "outputs": [],
   "source": [
    "wanna_print('sleep')"
   ]
  },
  {
   "cell_type": "markdown",
   "metadata": {},
   "source": [
    "## Task 1: Write a simple calculator\n",
    "* The following function takes in three inputs from the user: two numbers, x and y, and a mathematical command, *add*, *subtract*, *multiply*, or *divide*, as a string\n",
    "* Then, the output of the calculation is returned\n",
    "* However, if the user enters unexpected command, a message is printed and *None* is returned by default\n",
    "\n",
    "**if-elif-else** is a control structure that let us define how the code should behave under each condition\n",
    "\n",
    "Note that **elif** is shortened from *else-if*"
   ]
  },
  {
   "cell_type": "code",
   "execution_count": null,
   "metadata": {},
   "outputs": [],
   "source": [
    "def simple_calculator(x, y, command):\n",
    "    if command == 'add':\n",
    "        return ### fill in your answer here\n",
    "    elif command == 'subtract':\n",
    "        return ### fill in your answer here\n",
    "    elif command == 'multiply':\n",
    "        return ### fill in your answer here\n",
    "    elif command == 'divide':\n",
    "        return ### fill in your answer here\n",
    "    else:\n",
    "        print('Error, unknown command: ', command)"
   ]
  },
  {
   "cell_type": "markdown",
   "metadata": {},
   "source": [
    "#### Test your work here"
   ]
  },
  {
   "cell_type": "code",
   "execution_count": null,
   "metadata": {},
   "outputs": [],
   "source": [
    "print(simple_calculator(5, 10, 'divide'))     ## should get 0.5\n",
    "print(simple_calculator(2, 3, 'multiply'))    ## should get 6\n",
    "print(simple_calculator(2, 8, 'exponential')) ## should get an error message (and None)"
   ]
  },
  {
   "cell_type": "markdown",
   "metadata": {},
   "source": [
    "## A function can return multiple values"
   ]
  },
  {
   "cell_type": "code",
   "execution_count": null,
   "metadata": {},
   "outputs": [],
   "source": [
    "def my_swap(x, y):\n",
    "    return y, x"
   ]
  },
  {
   "cell_type": "code",
   "execution_count": null,
   "metadata": {},
   "outputs": [],
   "source": [
    "print(my_swap(1, 2))"
   ]
  },
  {
   "cell_type": "markdown",
   "metadata": {},
   "source": [
    "## Task 2: Write a function that return the arithmetic, geometric, and harmonic means\n",
    "* Harmonic mean of x and y is $\\frac{2}{\\frac{1}{x} + \\frac{1}{y}}$"
   ]
  },
  {
   "cell_type": "code",
   "execution_count": null,
   "metadata": {},
   "outputs": [],
   "source": [
    "def get_means(x, y):\n",
    "    return ### fill in your answer here"
   ]
  },
  {
   "cell_type": "code",
   "execution_count": null,
   "metadata": {},
   "outputs": [],
   "source": [
    "print(get_means(1000, 10)) ## should get (505.0, 100.0, 19.801980198019802)\n",
    "print(get_means(200, 30))  ## should get (115.0, 77.45966692414834, 52.173913043478265)"
   ]
  },
  {
   "cell_type": "markdown",
   "metadata": {},
   "source": [
    "## If-else control statement\n",
    "Let's explore the building block behind if-else statement - the condition checking and boolean\n",
    "\n",
    "#### Notice the difference between assignment and condition checking\n",
    "* command = 'add' is an assignment\n",
    "* command == 'add' is condition checking (whether the value of *command* variable is the string 'add')\n",
    "* **!=** is the same as **not ==**\n",
    "\n",
    "#### The output of condition checking is either *True* or *False*, which are called **boolean**"
   ]
  },
  {
   "cell_type": "code",
   "execution_count": null,
   "metadata": {},
   "outputs": [],
   "source": [
    "command = 'add'\n",
    "\n",
    "print(command == 'add')\n",
    "print(command == 'subtract')\n",
    "\n",
    "print(command != 'add')\n",
    "print(not command == 'add')"
   ]
  },
  {
   "cell_type": "markdown",
   "metadata": {},
   "source": [
    "## Boolean"
   ]
  },
  {
   "cell_type": "code",
   "execution_count": null,
   "metadata": {},
   "outputs": [],
   "source": [
    "t = True\n",
    "\n",
    "if t:\n",
    "    print('\"t\" is True')\n",
    "else:\n",
    "    print('\"t\" is False')\n",
    "    \n",
    "f = False\n",
    "\n",
    "if f:\n",
    "    print('\"f\" is True')\n",
    "else:\n",
    "    print('\"f\" is False')"
   ]
  },
  {
   "cell_type": "markdown",
   "metadata": {},
   "source": [
    "#### Boolean operations: and, or, not"
   ]
  },
  {
   "cell_type": "code",
   "execution_count": null,
   "metadata": {},
   "outputs": [],
   "source": [
    "print(t and f)\n",
    "print(t or f)\n",
    "print(not t)"
   ]
  },
  {
   "cell_type": "markdown",
   "metadata": {},
   "source": [
    "#### Be careful about how boolean operations are prioritized (like +, -, x, /)\n",
    "Use parenthesis to make the operation order clear"
   ]
  },
  {
   "cell_type": "code",
   "execution_count": null,
   "metadata": {},
   "outputs": [],
   "source": [
    "print(not t and f)\n",
    "print(not (t and f))"
   ]
  },
  {
   "cell_type": "markdown",
   "metadata": {},
   "source": [
    "## Task 3: Let's create a simple guessing game\n",
    "* You define a secret target value of 7\n",
    "* The player will enter a guess\n",
    "* Your function should provide a feedback whether the guess is *higher than*, *lower than*, or *equal to* the secret target"
   ]
  },
  {
   "cell_type": "code",
   "execution_count": null,
   "metadata": {},
   "outputs": [],
   "source": [
    "target = 7\n",
    "\n",
    "def guessing_game(guess):\n",
    "    if ### fill in your answer here\n",
    "        print() ### fill in your answer here\n",
    "    elif ### fill in your answer here\n",
    "        print() ### fill in your answer here\n",
    "    else:\n",
    "        print() ### fill in your answer here"
   ]
  },
  {
   "cell_type": "markdown",
   "metadata": {},
   "source": [
    "## Next, we are moving on from primitive variables to objects\n",
    "Objects are more complex data structure that can hold multiple values, like a list, a dictionary (mapping), or a tuple\n",
    "\n",
    "## List\n",
    "List is a 1D data structure that store multiple elements: [a, b, ...]\n",
    "\n",
    "String can be thought of as a list of characters\n",
    "\n",
    "### Tips:\n",
    "* In computer science, index begins at 0, not 1\n",
    "* *a*[0] is the first element of a list *a*, not *a*[1]\n",
    "* Likewise, *a*[-1] is the last element of a list *a*"
   ]
  },
  {
   "cell_type": "code",
   "execution_count": null,
   "metadata": {},
   "outputs": [],
   "source": [
    "mylist = [1, 1, 2, 3, 5, 8, 13, 21, 34]\n",
    "\n",
    "print(mylist)\n",
    "print('first element:', mylist[0])\n",
    "print('second element:', mylist[1])\n",
    "print('third element:', mylist[2])\n",
    "print('sixth element:', mylist[5])"
   ]
  },
  {
   "cell_type": "markdown",
   "metadata": {},
   "source": [
    "#### List members can be conveniently accessed from the end as well"
   ]
  },
  {
   "cell_type": "code",
   "execution_count": null,
   "metadata": {},
   "outputs": [],
   "source": [
    "print(mylist)\n",
    "print('last element:', mylist[-1])\n",
    "print('second last element:', mylist[-2])"
   ]
  },
  {
   "cell_type": "markdown",
   "metadata": {},
   "source": [
    "#### Multiple consecutive members can be extracted via slicing with the : symbol\n",
    "### Tips:\n",
    "* *a*[i:j] will extract *a*[i], *a*[i+1], ..., up to *a*[j - 1], but will not include *a*[j]"
   ]
  },
  {
   "cell_type": "code",
   "execution_count": null,
   "metadata": {},
   "outputs": [],
   "source": [
    "mylist = [1, 1, 2, 3, 5, 8, 13, 21, 34]\n",
    "print(mylist)\n",
    "print('third and fourth elements:', mylist[2:4])\n",
    "print('the first three elements:', mylist[:3])\n",
    "print('the last five elements:', mylist[-5:])"
   ]
  },
  {
   "cell_type": "markdown",
   "metadata": {},
   "source": [
    "#### We can control the slicing by defining the start:stop:step"
   ]
  },
  {
   "cell_type": "code",
   "execution_count": null,
   "metadata": {},
   "outputs": [],
   "source": [
    "mylist = [1, 1, 2, 3, 5, 8, 13, 21, 34]\n",
    "print(mylist[1:6:2])"
   ]
  },
  {
   "cell_type": "markdown",
   "metadata": {},
   "source": [
    "## Objects like lists become dependent when assigned\n",
    "### Tips:\n",
    "* Use *a2* = *a1*[:] instead of *a2* = *a1* (*a1*[:] refers to all elements in *a1*, not the object *a1* itself)\n",
    "\n",
    "Below, notice how the values of the two lists keep changing when one is changed"
   ]
  },
  {
   "cell_type": "code",
   "execution_count": null,
   "metadata": {},
   "outputs": [],
   "source": [
    "mylist = [1, 1, 2, 3, 5]\n",
    "yourlist = mylist\n",
    "print(mylist)\n",
    "print(yourlist)\n",
    "\n",
    "mylist[0] = 'my_new_entry'\n",
    "print(mylist)\n",
    "print(yourlist)\n",
    "\n",
    "yourlist[0] = 'your_new_entry'\n",
    "print(mylist)\n",
    "print(yourlist)"
   ]
  },
  {
   "cell_type": "code",
   "execution_count": null,
   "metadata": {},
   "outputs": [],
   "source": [
    "mylist = [1, 1, 2, 3, 5]\n",
    "yourlist = mylist[:]\n",
    "print(mylist)\n",
    "print(yourlist)\n",
    "\n",
    "mylist[0] = 'my_new_entry'\n",
    "print(mylist)\n",
    "print(yourlist)\n",
    "\n",
    "yourlist[0] = 'your_new_entry'\n",
    "print(mylist)\n",
    "print(yourlist)"
   ]
  },
  {
   "cell_type": "markdown",
   "metadata": {},
   "source": [
    "### Some list operations"
   ]
  },
  {
   "cell_type": "code",
   "execution_count": null,
   "metadata": {},
   "outputs": [],
   "source": [
    "mylist = []\n",
    "mylist.append(1)\n",
    "print(mylist)\n",
    "\n",
    "mylist.extend([2, 3, 4])\n",
    "print(mylist)"
   ]
  },
  {
   "cell_type": "markdown",
   "metadata": {},
   "source": [
    "### list.index() can identify the location of an element in a list"
   ]
  },
  {
   "cell_type": "code",
   "execution_count": null,
   "metadata": {},
   "outputs": [],
   "source": [
    "department = ['medicine', 'radiology', 'pathology', 'pediatrics']\n",
    "print(department.index('pediatrics'))"
   ]
  },
  {
   "cell_type": "markdown",
   "metadata": {},
   "source": [
    "#### However, a ValueError is returned when the element cannot be found"
   ]
  },
  {
   "cell_type": "code",
   "execution_count": null,
   "metadata": {},
   "outputs": [],
   "source": [
    "print(department.index('AI'))"
   ]
  },
  {
   "cell_type": "markdown",
   "metadata": {},
   "source": [
    "## Task 4: Handle element not found error from list.index()\n",
    "Using your knowledge of **if-else**, write a function that can address the error caused by list.index()"
   ]
  },
  {
   "cell_type": "code",
   "execution_count": null,
   "metadata": {},
   "outputs": [],
   "source": [
    "def error_free_index(input_list, element):\n",
    "    ### fill in your answer here"
   ]
  },
  {
   "cell_type": "code",
   "execution_count": null,
   "metadata": {},
   "outputs": [],
   "source": [
    "print(error_free_index(department, 'radiology')) ## should get 2\n",
    "print(error_free_index(department, 'AI'))        ## no error here"
   ]
  },
  {
   "cell_type": "markdown",
   "metadata": {},
   "source": [
    "### String can be thought of as a list of character\n",
    "Part of a string or a specific position can be extracted in the same way"
   ]
  },
  {
   "cell_type": "code",
   "execution_count": null,
   "metadata": {},
   "outputs": [],
   "source": [
    "seq = 'ATGAACGGGTAG'\n",
    "print(seq[:3])\n",
    "print(seq[7])\n",
    "print(seq[-2:])"
   ]
  },
  {
   "cell_type": "markdown",
   "metadata": {},
   "source": [
    "## range: a built-in function for generating list of integers\n",
    "range(start, stop, step)"
   ]
  },
  {
   "cell_type": "code",
   "execution_count": null,
   "metadata": {},
   "outputs": [],
   "source": [
    "print(range(5))\n",
    "print(list(range(5)))"
   ]
  },
  {
   "cell_type": "markdown",
   "metadata": {},
   "source": [
    "## For control statement\n",
    "For loop is used to repeatedly run a block of code multiple times"
   ]
  },
  {
   "cell_type": "code",
   "execution_count": null,
   "metadata": {},
   "outputs": [],
   "source": [
    "for i in range(3):\n",
    "    print('wake up')"
   ]
  },
  {
   "cell_type": "code",
   "execution_count": null,
   "metadata": {},
   "outputs": [],
   "source": [
    "for i in range(5):\n",
    "    print(i)"
   ]
  },
  {
   "cell_type": "markdown",
   "metadata": {},
   "source": [
    "#### Step in range can be negative to generate a descending list"
   ]
  },
  {
   "cell_type": "code",
   "execution_count": null,
   "metadata": {},
   "outputs": [],
   "source": [
    "for i in range(3, 0, -1):\n",
    "    print(i)"
   ]
  },
  {
   "cell_type": "markdown",
   "metadata": {},
   "source": [
    "## For statement with list\n",
    "For loop is a perfect way to iterate through the content of a list in a controlled manner"
   ]
  },
  {
   "cell_type": "code",
   "execution_count": null,
   "metadata": {},
   "outputs": [],
   "source": [
    "more_department = ['medicine', 'radiology', 'pathology', 'pediatrics', 'surgery', 'immunology', \n",
    "                   'microbiology', 'anesthesiology']\n",
    "\n",
    "for i in range(0, len(more_department), 2):\n",
    "    print(i, more_department[i])"
   ]
  },
  {
   "cell_type": "markdown",
   "metadata": {},
   "source": [
    "#### We can also iterate through elements of a list directly"
   ]
  },
  {
   "cell_type": "code",
   "execution_count": null,
   "metadata": {},
   "outputs": [],
   "source": [
    "for x in more_department:\n",
    "    print(x[:5])"
   ]
  },
  {
   "cell_type": "markdown",
   "metadata": {},
   "source": [
    "## Task 5: Print out every department name that ends with -logy"
   ]
  },
  {
   "cell_type": "code",
   "execution_count": null,
   "metadata": {},
   "outputs": [],
   "source": [
    "for x in more_department:\n",
    "    ### fill in your answer here"
   ]
  },
  {
   "cell_type": "markdown",
   "metadata": {},
   "source": [
    "# Exercises: Let's apply what we learned so far to do some actual analyses"
   ]
  },
  {
   "cell_type": "code",
   "execution_count": null,
   "metadata": {},
   "outputs": [],
   "source": [
    "patient_age = [18,        47,   12,     8,      4,     65,      17,      34,      77]\n",
    "patient_name = ['Alice', 'Bob', 'Clare', 'Don', 'Eric', 'Fei', 'Gabriel', 'Henry', 'Ivan']"
   ]
  },
  {
   "cell_type": "markdown",
   "metadata": {},
   "source": [
    "## Count the number of patients"
   ]
  },
  {
   "cell_type": "code",
   "execution_count": null,
   "metadata": {},
   "outputs": [],
   "source": [
    "number_of_patient = 9 ### replace 9 with your answer that should always work\n",
    "print('there are', number_of_patient, 'patients')"
   ]
  },
  {
   "cell_type": "markdown",
   "metadata": {},
   "source": [
    "## Calculate the geometric mean of patient's ages\n",
    "An example that you can adapt is provided"
   ]
  },
  {
   "cell_type": "code",
   "execution_count": null,
   "metadata": {},
   "outputs": [],
   "source": [
    "total_age = 0\n",
    "\n",
    "for x in patient_age:\n",
    "    total_age += x\n",
    "    \n",
    "average_age = total_age / number_of_patient ## this use your answer from Task 5\n",
    "    \n",
    "print('average patient age is', average_age)"
   ]
  },
  {
   "cell_type": "markdown",
   "metadata": {},
   "source": [
    "## Find the lowest age\n",
    "An example that you can adapt is provided"
   ]
  },
  {
   "cell_type": "code",
   "execution_count": null,
   "metadata": {},
   "outputs": [],
   "source": [
    "max_age = 0\n",
    "\n",
    "for x in patient_age:\n",
    "    if x > max_age:\n",
    "        max_age = x\n",
    "    \n",
    "print('the oldest patient\\'s age is', max_age)"
   ]
  },
  {
   "cell_type": "markdown",
   "metadata": {},
   "source": [
    "## Find the name of the youngest patient"
   ]
  },
  {
   "cell_type": "code",
   "execution_count": null,
   "metadata": {},
   "outputs": [],
   "source": []
  },
  {
   "cell_type": "markdown",
   "metadata": {},
   "source": [
    "## Count the number of patients above 60 years old"
   ]
  },
  {
   "cell_type": "code",
   "execution_count": null,
   "metadata": {},
   "outputs": [],
   "source": []
  },
  {
   "cell_type": "markdown",
   "metadata": {},
   "source": [
    "## List the names of all patients above 60 years old"
   ]
  },
  {
   "cell_type": "code",
   "execution_count": null,
   "metadata": {},
   "outputs": [],
   "source": []
  },
  {
   "cell_type": "markdown",
   "metadata": {},
   "source": [
    "## And now, the BEST feature of Python\n",
    "This is a technique called **list comprehension**"
   ]
  },
  {
   "cell_type": "code",
   "execution_count": null,
   "metadata": {},
   "outputs": [],
   "source": [
    "y = [i for i in range(5) if i % 2 == 0]\n",
    "print(y)"
   ]
  },
  {
   "cell_type": "markdown",
   "metadata": {},
   "source": [
    "#### List comprehension combines list creation with if condition into one operation\n",
    "The above code is a shortened form of the following full version"
   ]
  },
  {
   "cell_type": "code",
   "execution_count": null,
   "metadata": {},
   "outputs": [],
   "source": [
    "y = []\n",
    "\n",
    "for i in range(5):\n",
    "    if i % 2 == 0:\n",
    "        y.append(i)\n",
    "\n",
    "print(y)"
   ]
  },
  {
   "cell_type": "markdown",
   "metadata": {},
   "source": [
    "### Previous tasks, but with list comprehension\n",
    "#### Find departments with names ending with -logy"
   ]
  },
  {
   "cell_type": "code",
   "execution_count": null,
   "metadata": {},
   "outputs": [],
   "source": [
    "print([x for x in more_department if x[-4:] == 'logy'])"
   ]
  },
  {
   "cell_type": "markdown",
   "metadata": {},
   "source": [
    "#### Number of patients above 60 years old"
   ]
  },
  {
   "cell_type": "code",
   "execution_count": null,
   "metadata": {},
   "outputs": [],
   "source": [
    "age_above_60 = [x for x in patient_age if x > 60]\n",
    "\n",
    "print('there are', len(age_above_60), 'patients above 60 years old')"
   ]
  },
  {
   "cell_type": "markdown",
   "metadata": {},
   "source": [
    "#### The names of patients above 60 years old"
   ]
  },
  {
   "cell_type": "code",
   "execution_count": null,
   "metadata": {},
   "outputs": [],
   "source": [
    "patient_above_60 = [patient_name[i] for i in range(len(patient_name)) if patient_age[i] > 60]\n",
    "print(patient_above_60)"
   ]
  }
 ],
 "metadata": {
  "kernelspec": {
   "display_name": "Python 3 (ipykernel)",
   "language": "python",
   "name": "python3"
  },
  "language_info": {
   "codemirror_mode": {
    "name": "ipython",
    "version": 3
   },
   "file_extension": ".py",
   "mimetype": "text/x-python",
   "name": "python",
   "nbconvert_exporter": "python",
   "pygments_lexer": "ipython3",
   "version": "3.9.12"
  }
 },
 "nbformat": 4,
 "nbformat_minor": 2
}
