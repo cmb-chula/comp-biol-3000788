{
 "cells": [
  {
   "cell_type": "markdown",
   "id": "public-storm",
   "metadata": {},
   "source": [
    "# Introduction to Pandas modules for data handling\n",
    "* [pandas](https://pandas.pydata.org/pandas-docs/stable/) imports and exports tabular data\n",
    "\n",
    "### Tips:\n",
    "* Using `import pandas as pd` lets us abbreviate the library name\n",
    "* We can call `pd.DataFrame()` instead of `pandas.DataFrame()`"
   ]
  },
  {
   "cell_type": "code",
   "execution_count": null,
   "id": "0fe153d1",
   "metadata": {},
   "outputs": [],
   "source": [
    "# !pip install --upgrade numpy pandas"
   ]
  },
  {
   "cell_type": "code",
   "execution_count": null,
   "id": "indoor-escape",
   "metadata": {},
   "outputs": [],
   "source": [
    "import pandas as pd\n",
    "import numpy as np"
   ]
  },
  {
   "cell_type": "markdown",
   "id": "f893687e",
   "metadata": {},
   "source": [
    "### Let's try loading data from an Excel file"
   ]
  },
  {
   "cell_type": "code",
   "execution_count": null,
   "id": "b2d45f52",
   "metadata": {},
   "outputs": [],
   "source": [
    "data = pd.read_excel('CRC_sample_data.xlsx', sheet_name = 'expression', index_col = 0)\n",
    "data.head()"
   ]
  },
  {
   "cell_type": "markdown",
   "id": "periodic-lender",
   "metadata": {},
   "source": [
    "### If you encounter an error message:\n",
    "**ImportError: Missing optional dependency 'xlrd'. Install xlrd >= 1.0.0 for Excel support Use pip or conda to install xlrd**\n",
    "  \n",
    "Then, follow the instruction to install missing library with this command template\n",
    "\n",
    "**!pip install _missing-lib-name_**"
   ]
  },
  {
   "cell_type": "code",
   "execution_count": null,
   "id": "blocked-mistress",
   "metadata": {},
   "outputs": [],
   "source": [
    "# !pip install xlrd openpyxl"
   ]
  },
  {
   "cell_type": "markdown",
   "id": "african-discipline",
   "metadata": {},
   "source": [
    "## (pandas) DataFrame and Series\n",
    "**pd.read_excel()** reads data from an excel file\n",
    "\n",
    "### Tips:\n",
    "* For tab- or comma-separated files (.txt, .tsv, or .csv), use **pd.read_csv()**\n",
    "* For excel file with multiple sheets, specify the **sheet_name** parameter\n",
    "* **index_col** specify the column that should be used as the row index\n",
    "* **header** specify the row that should be used as the column header\n",
    "\n",
    "#### The read result is a DataFrame\n",
    "**head()** is used to preview the top rows of the DataFrame"
   ]
  },
  {
   "cell_type": "code",
   "execution_count": null,
   "id": "spatial-education",
   "metadata": {},
   "outputs": [],
   "source": [
    "data = pd.read_excel('CRC_sample_data.xlsx',\n",
    "                     sheet_name = 'expression', \n",
    "                     index_col = 0,\n",
    "                     header = 0)\n",
    "data.head(2)"
   ]
  },
  {
   "cell_type": "markdown",
   "id": "ultimate-franklin",
   "metadata": {},
   "source": [
    "**tail()** shows the bottom rows of the data frame"
   ]
  },
  {
   "cell_type": "code",
   "execution_count": null,
   "id": "respective-school",
   "metadata": {},
   "outputs": [],
   "source": [
    "data.tail(3)"
   ]
  },
  {
   "cell_type": "markdown",
   "id": "comic-winning",
   "metadata": {},
   "source": [
    "### Pandas automatically determine the appropriate data types for each column\n",
    "We can check data types with the built-in **DataFrame.dtypes**"
   ]
  },
  {
   "cell_type": "code",
   "execution_count": null,
   "id": "complicated-error",
   "metadata": {},
   "outputs": [],
   "source": [
    "data.dtypes"
   ]
  },
  {
   "cell_type": "markdown",
   "id": "delayed-restriction",
   "metadata": {},
   "source": [
    "#### View the dimension of the data with DataFrame.shape\n",
    "Like array"
   ]
  },
  {
   "cell_type": "code",
   "execution_count": null,
   "id": "satisfied-language",
   "metadata": {},
   "outputs": [],
   "source": [
    "data.shape"
   ]
  },
  {
   "cell_type": "markdown",
   "id": "isolated-irrigation",
   "metadata": {},
   "source": [
    "### DataFrame is a multidimensional array with row indices and column headers\n",
    "* DataFrame.index\n",
    "* DataFrame.columns"
   ]
  },
  {
   "cell_type": "code",
   "execution_count": null,
   "id": "rapid-warren",
   "metadata": {},
   "outputs": [],
   "source": [
    "data.index"
   ]
  },
  {
   "cell_type": "code",
   "execution_count": null,
   "id": "suffering-wholesale",
   "metadata": {},
   "outputs": [],
   "source": [
    "data.columns"
   ]
  },
  {
   "cell_type": "markdown",
   "id": "another-baseline",
   "metadata": {},
   "source": [
    "### Basic summary statistics for DataFrame\n",
    "* DataFrame.describe()\n",
    "* DataFrame.mean(axis = 0)\n",
    "* DataFrame.std(axis = 0)\n",
    "#### Notice how the CMS column is ignored automatically"
   ]
  },
  {
   "cell_type": "code",
   "execution_count": null,
   "id": "primary-factor",
   "metadata": {},
   "outputs": [],
   "source": [
    "data.describe()"
   ]
  },
  {
   "cell_type": "code",
   "execution_count": null,
   "id": "curious-rochester",
   "metadata": {},
   "outputs": [],
   "source": [
    "data.iloc[:, :-1].mean(axis = 0)"
   ]
  },
  {
   "cell_type": "code",
   "execution_count": null,
   "id": "coupled-magic",
   "metadata": {
    "scrolled": true
   },
   "outputs": [],
   "source": [
    "data.iloc[:, :-1].std(axis = 0)"
   ]
  },
  {
   "cell_type": "markdown",
   "id": "traditional-priority",
   "metadata": {},
   "source": [
    "### Basic statistics for categorical columns\n",
    "* DataFrame.nunique()\n",
    "* DataFrame.value_counts()"
   ]
  },
  {
   "cell_type": "code",
   "execution_count": null,
   "id": "southeast-master",
   "metadata": {},
   "outputs": [],
   "source": [
    "print('number of distinct elements:', data['CMS'].nunique())\n",
    "print('---------------------')\n",
    "print(data['CMS'].value_counts())"
   ]
  },
  {
   "cell_type": "markdown",
   "id": "4cf4fbe2",
   "metadata": {},
   "source": [
    "#### We can get the unique elements with pd.unique()"
   ]
  },
  {
   "cell_type": "code",
   "execution_count": null,
   "id": "628f02e7",
   "metadata": {},
   "outputs": [],
   "source": [
    "unique_classes = pd.unique(data['CMS'])"
   ]
  },
  {
   "cell_type": "markdown",
   "id": "professional-scratch",
   "metadata": {},
   "source": [
    "## How to access rows, columns, and specific cells?\n",
    "* DataFrame[A]\n",
    "* DataFrame.loc[A, B]\n",
    "* DataFrame.iloc[a, b]\n",
    "\n",
    "#### DataFrame[headers] return a Series or a DataFrame\n",
    "A Series is a one-dimensional DataFrame"
   ]
  },
  {
   "cell_type": "code",
   "execution_count": null,
   "id": "rolled-copying",
   "metadata": {},
   "outputs": [],
   "source": [
    "data['AGR2'].head(2)"
   ]
  },
  {
   "cell_type": "code",
   "execution_count": null,
   "id": "50da8725",
   "metadata": {},
   "outputs": [],
   "source": [
    "data[['AGR2', 'ASCL2']].head(2)"
   ]
  },
  {
   "cell_type": "markdown",
   "id": "4a25910d",
   "metadata": {},
   "source": [
    "#### DataFrame.loc[A, B] lets us specific the row indices and column headers\n",
    "The output follows the ordering in A and B\n",
    "\n",
    "**:** can be used to select everything"
   ]
  },
  {
   "cell_type": "code",
   "execution_count": null,
   "id": "dying-equity",
   "metadata": {},
   "outputs": [],
   "source": [
    "print(data.loc['Patient3', 'AGR2'])\n",
    "print('---------------------')\n",
    "print(data.loc['Patient3', ['GFPT2', 'FAP']])\n",
    "print('---------------------')\n",
    "print(data.loc[['Patient3', 'Patient2'], ['GFPT2', 'FAP']])\n",
    "print('---------------------')\n",
    "print(data.loc['Patient3', :])"
   ]
  },
  {
   "cell_type": "markdown",
   "id": "451d3654",
   "metadata": {},
   "source": [
    "#### DataFrame.iloc[a, b] lets us specific the locations by 0, 1, ... indices"
   ]
  },
  {
   "cell_type": "code",
   "execution_count": null,
   "id": "a46114d8",
   "metadata": {},
   "outputs": [],
   "source": [
    "print(data.iloc[[0, 2], [-1, -3]])"
   ]
  },
  {
   "cell_type": "markdown",
   "id": "a2ccbb95",
   "metadata": {},
   "source": [
    "#### Combination of access forms"
   ]
  },
  {
   "cell_type": "code",
   "execution_count": null,
   "id": "5716c1c6",
   "metadata": {},
   "outputs": [],
   "source": [
    "print(data['FAP'].iloc[[10, 21]])"
   ]
  },
  {
   "cell_type": "code",
   "execution_count": null,
   "id": "93b5b444",
   "metadata": {},
   "outputs": [],
   "source": [
    "print(data['FAP'].loc[data['FAP'] < 5])"
   ]
  },
  {
   "cell_type": "markdown",
   "id": "2b05dd12-a68f-4599-b5a4-28f09b7c2efe",
   "metadata": {},
   "source": [
    "Who is the first patient whose `FAP` expression is lower than 5.0?"
   ]
  },
  {
   "cell_type": "code",
   "execution_count": null,
   "id": "93418a92-7f36-4193-b1af-ddb6a1b75ab8",
   "metadata": {},
   "outputs": [],
   "source": []
  },
  {
   "cell_type": "markdown",
   "id": "superior-creature",
   "metadata": {},
   "source": [
    "## Access with conditions (a list of booleans)\n",
    "* data.loc[[True, False, ..., True], [True, False, ..., True]]"
   ]
  },
  {
   "cell_type": "code",
   "execution_count": null,
   "id": "conceptual-convenience",
   "metadata": {},
   "outputs": [],
   "source": [
    "data.loc[data['CMS'] == 'CMS3', ['FAP', 'SLC5A6', 'CMS']].head(5)"
   ]
  },
  {
   "cell_type": "markdown",
   "id": "b5d7406c-8982-4f30-913b-aa6959d132eb",
   "metadata": {},
   "source": [
    "Select patients whose `DUSP4` expression is higher than 7.0"
   ]
  },
  {
   "cell_type": "code",
   "execution_count": null,
   "id": "finnish-result",
   "metadata": {},
   "outputs": [],
   "source": []
  },
  {
   "cell_type": "markdown",
   "id": "d4608c41",
   "metadata": {},
   "source": [
    "### Accessing by condition lets us do subpopulation-specific calculations"
   ]
  },
  {
   "cell_type": "code",
   "execution_count": null,
   "id": "flexible-judges",
   "metadata": {},
   "outputs": [],
   "source": [
    "print('average DUSP4 expression in CMS1 is', data.loc[data['CMS'] == 'CMS1', 'DUSP4'].mean())\n",
    "print('average DUSP4 expression in CMS2 is', data.loc[data['CMS'] == 'CMS2', 'DUSP4'].mean())\n",
    "print('average DUSP4 expression in CMS3 is', data.loc[data['CMS'] == 'CMS3', 'DUSP4'].mean())"
   ]
  },
  {
   "cell_type": "markdown",
   "id": "lovely-singapore",
   "metadata": {},
   "source": [
    "## Combining multiple conditions\n",
    "Instead of **and**, **or**, **not**, we need to use `&`, `|`, `~`\n",
    "\n",
    "First, try to select every CMS1 and CMS2 patients"
   ]
  },
  {
   "cell_type": "markdown",
   "id": "af821f11-a4e6-4268-b557-72dc70d7559d",
   "metadata": {
    "scrolled": true
   },
   "source": []
  },
  {
   "cell_type": "markdown",
   "id": "db883d3b-37c1-418a-8171-3a15a2018d60",
   "metadata": {},
   "source": [
    "Try to select CMS3 patients whose FAP expression is lower than 6.0"
   ]
  },
  {
   "cell_type": "code",
   "execution_count": null,
   "id": "nearby-hormone",
   "metadata": {
    "scrolled": true
   },
   "outputs": [],
   "source": []
  },
  {
   "cell_type": "markdown",
   "id": "93c1cda9-9195-4eae-8355-87171fd55c5a",
   "metadata": {},
   "source": [
    "How about non-CMS3 patients?"
   ]
  },
  {
   "cell_type": "code",
   "execution_count": null,
   "id": "pretty-biology",
   "metadata": {
    "scrolled": true
   },
   "outputs": [],
   "source": []
  },
  {
   "cell_type": "markdown",
   "id": "funded-investment",
   "metadata": {},
   "source": [
    "### Selection for categorical feature with `.isin()`"
   ]
  },
  {
   "cell_type": "code",
   "execution_count": null,
   "id": "unavailable-timeline",
   "metadata": {},
   "outputs": [],
   "source": [
    "data.loc[(data['CMS'] == 'CMS1') | (data['CMS'] == 'CMS2'), :].shape"
   ]
  },
  {
   "cell_type": "code",
   "execution_count": null,
   "id": "extraordinary-citizen",
   "metadata": {},
   "outputs": [],
   "source": []
  },
  {
   "cell_type": "markdown",
   "id": "wrong-prerequisite",
   "metadata": {},
   "source": [
    "## Let's load the mutation data from a different sheet"
   ]
  },
  {
   "cell_type": "code",
   "execution_count": null,
   "id": "advanced-momentum",
   "metadata": {},
   "outputs": [],
   "source": [
    "mutation_data = pd.read_excel('CRC_sample_data.xlsx', sheet_name = 'mutation', header = 0, index_col = 0)\n",
    "mutation_data.head(5)"
   ]
  },
  {
   "cell_type": "markdown",
   "id": "breeding-reasoning",
   "metadata": {},
   "source": [
    "## Identify missing values with `pd.isna()`"
   ]
  },
  {
   "cell_type": "code",
   "execution_count": null,
   "id": "efb04f35-0036-4b71-92fc-058a178e59e2",
   "metadata": {},
   "outputs": [],
   "source": [
    "pd.isna(mutation_data['microsatelite_status']"
   ]
  },
  {
   "cell_type": "code",
   "execution_count": null,
   "id": "manufactured-airplane",
   "metadata": {
    "scrolled": true
   },
   "outputs": [],
   "source": []
  },
  {
   "cell_type": "markdown",
   "id": "f7d74c52",
   "metadata": {},
   "source": [
    "### Broadcasting this selection to the gene expression table\n",
    "This assumes that the two tables have the same row ordering\n",
    "\n",
    "Can we broadcast the selection in a safer manner?"
   ]
  },
  {
   "cell_type": "code",
   "execution_count": null,
   "id": "e55b7ff2",
   "metadata": {},
   "outputs": [],
   "source": [
    "data.loc[~pd.isna(mutation_data['KRAS']), :].head(2)"
   ]
  },
  {
   "cell_type": "code",
   "execution_count": null,
   "id": "2d7404ef-cb7f-42e4-af61-bfca543e952e",
   "metadata": {},
   "outputs": [],
   "source": []
  },
  {
   "cell_type": "markdown",
   "id": "371fe240",
   "metadata": {},
   "source": [
    "## Merging two DataFrames with pd.concat()\n",
    "Designate the joining direction with **axis** and how common or distinct entries should be handled with **join**\n",
    "* inner = intersection of entires\n",
    "* outer = union of entires"
   ]
  },
  {
   "cell_type": "code",
   "execution_count": null,
   "id": "1a358552",
   "metadata": {},
   "outputs": [],
   "source": [
    "merged = pd.concat([data, mutation_data], \n",
    "                   axis = 1)\n",
    "print(merged.shape)\n",
    "merged.head(2)"
   ]
  },
  {
   "cell_type": "code",
   "execution_count": null,
   "id": "ee492117",
   "metadata": {},
   "outputs": [],
   "source": [
    "mutation_nomissing = "
   ]
  },
  {
   "cell_type": "code",
   "execution_count": null,
   "id": "31a05b51",
   "metadata": {},
   "outputs": [],
   "source": []
  },
  {
   "cell_type": "markdown",
   "id": "dental-dressing",
   "metadata": {},
   "source": [
    "## Copying data frame\n",
    "Like list and other objects, using *=* assignment for DataFrame makes the variables linked\n",
    "\n",
    "#### Use DataFrame.copy() to get an independent copy"
   ]
  },
  {
   "cell_type": "code",
   "execution_count": null,
   "id": "ecological-crest",
   "metadata": {},
   "outputs": [],
   "source": [
    "new_data = data.copy()\n",
    "new_data.loc['Patient1', :] = -5\n",
    "new_data.head(2)"
   ]
  },
  {
   "cell_type": "markdown",
   "id": "subtle-strike",
   "metadata": {},
   "source": [
    "Original data remain unchanged"
   ]
  },
  {
   "cell_type": "code",
   "execution_count": null,
   "id": "atmospheric-bulletin",
   "metadata": {},
   "outputs": [],
   "source": [
    "data.head(2)"
   ]
  },
  {
   "cell_type": "markdown",
   "id": "noticed-conversation",
   "metadata": {},
   "source": [
    "## Adding new column or row\n",
    "Be sure to wotk on a copy to protect the original DataFrame"
   ]
  },
  {
   "cell_type": "code",
   "execution_count": null,
   "id": "indoor-assets",
   "metadata": {},
   "outputs": [],
   "source": [
    "new_data['FAP x SLC5A6'] = new_data['TSPAN6'] * new_data['SLC5A6']\n",
    "new_data.head(2)"
   ]
  },
  {
   "cell_type": "code",
   "execution_count": null,
   "id": "f244bf67",
   "metadata": {},
   "outputs": [],
   "source": [
    "new_data.loc['NewPatient'] = 0\n",
    "new_data.tail(2)"
   ]
  },
  {
   "cell_type": "code",
   "execution_count": null,
   "id": "d00f82d5",
   "metadata": {},
   "outputs": [],
   "source": [
    "new_data[['NewGene1', 'NewGene2']] = -1\n",
    "new_data.head(2)"
   ]
  },
  {
   "cell_type": "code",
   "execution_count": null,
   "id": "b3ca01af-0586-4d8f-ab3d-d23e4b5fcb63",
   "metadata": {},
   "outputs": [],
   "source": []
  },
  {
   "cell_type": "markdown",
   "id": "excited-charlotte",
   "metadata": {},
   "source": [
    "## Save DataFrame to file\n",
    "Similar to **read_excel()** and **read_csv()**, we have **to_excel()** and **to_csv()**"
   ]
  },
  {
   "cell_type": "code",
   "execution_count": null,
   "id": "binary-combination",
   "metadata": {},
   "outputs": [],
   "source": [
    "new_data.to_excel('new_dataframe.xlsx')\n",
    "new_data.to_csv('new_dataframe.csv', sep = ',')\n",
    "new_data.to_csv('new_dataframe.tsv', sep = '\\t')"
   ]
  },
  {
   "cell_type": "code",
   "execution_count": null,
   "id": "e884530f-043d-4dc1-9bd5-ceef9d882b38",
   "metadata": {},
   "outputs": [],
   "source": []
  }
 ],
 "metadata": {
  "kernelspec": {
   "display_name": "Python 3 (ipykernel)",
   "language": "python",
   "name": "python3"
  },
  "language_info": {
   "codemirror_mode": {
    "name": "ipython",
    "version": 3
   },
   "file_extension": ".py",
   "mimetype": "text/x-python",
   "name": "python",
   "nbconvert_exporter": "python",
   "pygments_lexer": "ipython3",
   "version": "3.12.4"
  }
 },
 "nbformat": 4,
 "nbformat_minor": 5
}
