{
 "cells": [
  {
   "cell_type": "markdown",
   "id": "metropolitan-elizabeth",
   "metadata": {},
   "source": [
    "# For visualization, we will use matplotlib and seaborn\n",
    "* [matplotlib](https://matplotlib.org/stable/plot_types/index.html) covers basic graphs\n",
    "* [seaborn](https://seaborn.pydata.org/examples/index.html) contains advanced graphs and can make use of pandas's DataFrame directly"
   ]
  },
  {
   "cell_type": "code",
   "execution_count": null,
   "id": "rational-navigator",
   "metadata": {},
   "outputs": [],
   "source": [
    "# !pip install matplotlib seaborn"
   ]
  },
  {
   "cell_type": "code",
   "execution_count": null,
   "id": "alien-variance",
   "metadata": {},
   "outputs": [],
   "source": [
    "import matplotlib.pyplot as plt\n",
    "import seaborn as sns\n",
    "\n",
    "import pandas as pd\n",
    "import numpy as np"
   ]
  },
  {
   "cell_type": "markdown",
   "id": "through-right",
   "metadata": {},
   "source": [
    "## Load gene expression dataset"
   ]
  },
  {
   "cell_type": "code",
   "execution_count": null,
   "id": "adolescent-entry",
   "metadata": {},
   "outputs": [],
   "source": [
    "data = pd.read_excel('CRC_sample_data.xlsx', sheet_name = 'expression', header = 0, index_col = 0)\n",
    "data.head()"
   ]
  },
  {
   "cell_type": "markdown",
   "id": "compatible-transformation",
   "metadata": {},
   "source": [
    "## Visualization code template"
   ]
  },
  {
   "cell_type": "code",
   "execution_count": null,
   "id": "after-handy",
   "metadata": {},
   "outputs": [],
   "source": [
    "plt.figure(figsize = (5, 5))\n",
    "\n",
    "plt.scatter(data['FAP'], data['SLC5A6'])\n",
    "\n",
    "plt.xlabel('FAP')\n",
    "plt.ylabel('SLC5A6')\n",
    "plt.title('FAP vs SLC5A6')\n",
    "\n",
    "# plt.axis([6, 7, 6, 7])\n",
    "# plt.xlim([6, 7])\n",
    "plt.ylim([6, 7])\n",
    "\n",
    "# plt.savefig('figure.png', dpi = 200)\n",
    "plt.savefig('figure.svg', dpi = 70)\n",
    "plt.show()"
   ]
  },
  {
   "cell_type": "markdown",
   "id": "armed-boost",
   "metadata": {},
   "source": [
    "## Multiple graphs can be placed on the same figure, with automatic coloring\n",
    "Use **label** parameter and **legend()** to distinguish plots "
   ]
  },
  {
   "cell_type": "code",
   "execution_count": null,
   "id": "visible-float",
   "metadata": {},
   "outputs": [],
   "source": [
    "plt.figure(figsize = (5, 5))\n",
    "\n",
    "plt.scatter(data.loc[data['CMS'] == 'CMS1', 'FAP'], \n",
    "            data.loc[data['CMS'] == 'CMS1', 'SLC5A6'],\n",
    "            label = 'CMS1')\n",
    "\n",
    "plt.scatter(data.loc[data['CMS'] == 'CMS2', 'FAP'], \n",
    "            data.loc[data['CMS'] == 'CMS2', 'SLC5A6'],\n",
    "            label = 'CMS2')\n",
    "\n",
    "plt.xlabel('FAP')\n",
    "plt.ylabel('SLC5A6')\n",
    "plt.title('FAP vs SLC5A6 by CMS group')\n",
    "\n",
    "plt.legend()\n",
    "plt.show()"
   ]
  },
  {
   "cell_type": "markdown",
   "id": "exempt-thickness",
   "metadata": {},
   "source": [
    "## Key visualization settings\n",
    "* Color\n",
    "* Shape\n",
    "* Size\n",
    "* Transparency"
   ]
  },
  {
   "cell_type": "markdown",
   "id": "4a5f4adb",
   "metadata": {},
   "source": [
    "### Color, shape, and transparency"
   ]
  },
  {
   "cell_type": "code",
   "execution_count": null,
   "id": "orange-bathroom",
   "metadata": {},
   "outputs": [],
   "source": [
    "plt.figure(figsize = (5, 5))\n",
    "\n",
    "plt.scatter(data['FAP'], data['SLC5A6'],\n",
    "            color = 'tab:red',\n",
    "            marker = '.',\n",
    "            alpha = 0.7)\n",
    "\n",
    "plt.xlabel('FAP')\n",
    "plt.ylabel('SLC5A6')\n",
    "\n",
    "plt.show()"
   ]
  },
  {
   "cell_type": "markdown",
   "id": "5ac5b0da",
   "metadata": {},
   "source": [
    "### Size"
   ]
  },
  {
   "cell_type": "code",
   "execution_count": null,
   "id": "narrow-visitor",
   "metadata": {},
   "outputs": [],
   "source": [
    "plt.figure(figsize = (5, 5))\n",
    "\n",
    "plt.scatter(data['FAP'], data['SLC5A6'],\n",
    "            color = 'coral',\n",
    "            marker = 'o',\n",
    "            s = data['GFPT2'] * 10,\n",
    "            alpha = 0.7)\n",
    "\n",
    "plt.xlabel('FAP')\n",
    "plt.ylabel('SLC5A6')\n",
    "\n",
    "plt.show()"
   ]
  },
  {
   "cell_type": "markdown",
   "id": "ambient-aerospace",
   "metadata": {},
   "source": [
    "## Essentially infinite [color choices](https://matplotlib.org/stable/gallery/color/named_colors.html)"
   ]
  },
  {
   "cell_type": "markdown",
   "id": "southeast-documentary",
   "metadata": {},
   "source": [
    "## Integration of for loop with visualization"
   ]
  },
  {
   "cell_type": "code",
   "execution_count": null,
   "id": "43841eb4",
   "metadata": {},
   "outputs": [],
   "source": [
    "print(pd.unique(data['CMS']))"
   ]
  },
  {
   "cell_type": "code",
   "execution_count": null,
   "id": "vertical-treasure",
   "metadata": {},
   "outputs": [],
   "source": [
    "plt.figure(figsize = (5, 5))\n",
    "\n",
    "for cms in pd.unique(data['CMS']):\n",
    "    plt.scatter(data.loc[data['CMS'] == cms, 'FAP'], \n",
    "                data.loc[data['CMS'] == cms, 'SLC5A6'],\n",
    "                label = cms)\n",
    "\n",
    "plt.xlabel('FAP')\n",
    "plt.ylabel('SLC5A6')\n",
    "plt.title('FAP vs SLC5A6 by CMS group')\n",
    "\n",
    "plt.legend()\n",
    "plt.show()"
   ]
  },
  {
   "cell_type": "markdown",
   "id": "sharing-convertible",
   "metadata": {},
   "source": [
    "## Histogram"
   ]
  },
  {
   "cell_type": "code",
   "execution_count": null,
   "id": "sticky-intermediate",
   "metadata": {},
   "outputs": [],
   "source": [
    "plt.figure(figsize = (5, 3))\n",
    "\n",
    "plt.hist(data['AGR2'])\n",
    "\n",
    "plt.xlabel('AGR2')\n",
    "plt.ylabel('# patients')\n",
    "\n",
    "plt.show()"
   ]
  },
  {
   "cell_type": "markdown",
   "id": "1d734f27",
   "metadata": {},
   "source": [
    "### Bin sizes\n",
    "numpy.arange is similar to range but can operate on real numbers, not just integers"
   ]
  },
  {
   "cell_type": "code",
   "execution_count": null,
   "id": "7daae13b",
   "metadata": {},
   "outputs": [],
   "source": [
    "plt.figure(figsize = (5, 3))\n",
    "\n",
    "plt.hist(data['AGR2'], bins = 15)\n",
    "\n",
    "plt.xlabel('AGR2')\n",
    "plt.ylabel('# patients')\n",
    "\n",
    "plt.show()"
   ]
  },
  {
   "cell_type": "markdown",
   "id": "ordered-amazon",
   "metadata": {},
   "source": [
    "## Overlay histograms\n",
    "Transparency is the key"
   ]
  },
  {
   "cell_type": "code",
   "execution_count": null,
   "id": "optimum-baptist",
   "metadata": {},
   "outputs": [],
   "source": [
    "plt.figure(figsize = (5, 3))\n",
    "\n",
    "plt.hist(data.loc[data['CMS'] == 'CMS2', 'AGR2'], facecolor = 'tab:orange', alpha = 0.5, label = 'CMS2')\n",
    "plt.hist(data.loc[data['CMS'] == 'CMS1', 'AGR2'], facecolor = 'tab:blue', alpha = 0.5, label = 'CMS1')\n",
    "\n",
    "plt.xlabel('AGR2')\n",
    "plt.ylabel('# patients')\n",
    "\n",
    "plt.legend()\n",
    "plt.show()"
   ]
  },
  {
   "cell_type": "markdown",
   "id": "7848209d",
   "metadata": {},
   "source": [
    "### Control bin size to match multiple histograms"
   ]
  },
  {
   "cell_type": "code",
   "execution_count": null,
   "id": "aboriginal-pitch",
   "metadata": {},
   "outputs": [],
   "source": [
    "common_bins = np.arange(4.5, 12, 0.4)\n",
    "\n",
    "plt.figure(figsize = (5, 3))\n",
    "\n",
    "plt.hist(data.loc[data['CMS'] == 'CMS1', 'AGR2'], facecolor = 'tab:blue', alpha = 0.5, label = 'CMS1', bins = common_bins)\n",
    "plt.hist(data.loc[data['CMS'] == 'CMS2', 'AGR2'], facecolor = 'tab:orange', alpha = 0.5, label = 'CMS2', bins = common_bins)\n",
    "\n",
    "plt.xlabel('AGR2')\n",
    "plt.ylabel('# patients')\n",
    "\n",
    "plt.legend()\n",
    "plt.show()"
   ]
  },
  {
   "cell_type": "markdown",
   "id": "advanced-heather",
   "metadata": {},
   "source": [
    "## Convert count to density\n",
    "Set **density** = True"
   ]
  },
  {
   "cell_type": "code",
   "execution_count": null,
   "id": "thrown-zoning",
   "metadata": {},
   "outputs": [],
   "source": [
    "common_bins = np.arange(4.5, 12, 0.4)\n",
    "\n",
    "plt.figure(figsize = (5, 3))\n",
    "\n",
    "plt.hist(data.loc[data['CMS'] == 'CMS1', 'AGR2'], facecolor = 'tab:blue', alpha = 0.5, label = 'CMS1', bins = common_bins,\n",
    "         density = True)\n",
    "plt.hist(data.loc[data['CMS'] == 'CMS2', 'AGR2'], facecolor = 'tab:orange', alpha = 0.5, label = 'CMS2', bins = common_bins,\n",
    "         density = True)\n",
    "\n",
    "plt.xlabel('AGR2')\n",
    "plt.ylabel('density')\n",
    "\n",
    "plt.legend()\n",
    "plt.show()"
   ]
  },
  {
   "cell_type": "markdown",
   "id": "0ac94117",
   "metadata": {},
   "source": [
    "## Comparing histogram side-by-side with subplot"
   ]
  },
  {
   "cell_type": "code",
   "execution_count": null,
   "id": "23fe12c1",
   "metadata": {},
   "outputs": [],
   "source": [
    "common_bins = np.arange(4, 12, 0.5)\n",
    "\n",
    "plt.figure(figsize = (4, 3))\n",
    "\n",
    "plt.hist(data.loc[data['CMS'] == 'CMS1', 'AGR2'], bins = common_bins, density = True)\n",
    "plt.xlabel('AGR2')\n",
    "plt.ylabel('density')\n",
    "plt.title('CMS1')\n",
    "\n",
    "plt.show()\n",
    "\n",
    "plt.figure(figsize = (4, 3))\n",
    "plt.hist(data.loc[data['CMS'] == 'CMS2', 'AGR2'], bins = common_bins, density = True)\n",
    "plt.xlabel('AGR2')\n",
    "plt.ylabel('density')\n",
    "plt.title('CMS2')\n",
    "\n",
    "plt.show()"
   ]
  },
  {
   "cell_type": "code",
   "execution_count": null,
   "id": "e5619ef6",
   "metadata": {},
   "outputs": [],
   "source": [
    "common_bins = np.arange(4, 12, 0.5)\n",
    "\n",
    "plt.figure(figsize = (8, 3))\n",
    "\n",
    "plt.subplot(1, 2, 1)\n",
    "plt.hist(data.loc[data['CMS'] == 'CMS1', 'AGR2'], bins = common_bins, density = True)\n",
    "plt.xlabel('AGR2')\n",
    "plt.ylabel('density')\n",
    "plt.title('CMS1')\n",
    "\n",
    "plt.subplot(1, 2, 2)\n",
    "plt.hist(data.loc[data['CMS'] == 'CMS2', 'AGR2'], bins = common_bins, density = True)\n",
    "plt.xlabel('AGR2')\n",
    "plt.ylabel('density')\n",
    "plt.title('CMS2')\n",
    "\n",
    "plt.tight_layout()\n",
    "\n",
    "plt.show()"
   ]
  },
  {
   "cell_type": "markdown",
   "id": "future-edinburgh",
   "metadata": {},
   "source": [
    "## Box plot & violin plot"
   ]
  },
  {
   "cell_type": "code",
   "execution_count": null,
   "id": "apparent-pregnancy",
   "metadata": {},
   "outputs": [],
   "source": [
    "plt.figure(figsize = (3, 5))\n",
    "\n",
    "plt.boxplot([data.loc[data['CMS'] == 'CMS1', 'AGR2'], \n",
    "             data.loc[data['CMS'] == 'CMS2', 'AGR2']], labels = ('CMS1', 'CMS2'))\n",
    "\n",
    "plt.ylabel('AGR2')\n",
    "\n",
    "plt.show()"
   ]
  },
  {
   "cell_type": "markdown",
   "id": "turkish-resource",
   "metadata": {},
   "source": [
    "## Horizontal boxplot\n",
    "Set **vert** to False"
   ]
  },
  {
   "cell_type": "code",
   "execution_count": null,
   "id": "induced-satisfaction",
   "metadata": {},
   "outputs": [],
   "source": [
    "plt.figure(figsize = (5, 3))\n",
    "\n",
    "plt.boxplot([data.loc[data['CMS'] == 'CMS1', 'AGR2'], \n",
    "             data.loc[data['CMS'] == 'CMS2', 'AGR2']], labels = ('CMS1', 'CMS2'), vert = False)\n",
    "\n",
    "plt.xlabel('AGR2')\n",
    "\n",
    "plt.show()"
   ]
  },
  {
   "cell_type": "markdown",
   "id": "white-brother",
   "metadata": {},
   "source": [
    "## List comprehension with box plot"
   ]
  },
  {
   "cell_type": "code",
   "execution_count": null,
   "id": "statistical-action",
   "metadata": {},
   "outputs": [],
   "source": [
    "plt.figure(figsize = (5, 3))\n",
    "\n",
    "plt.boxplot([data.loc[data['CMS'] == cms, 'AGR2'] for cms in pd.unique(data['CMS'])], \n",
    "            labels = pd.unique(data['CMS']), vert = False)\n",
    "\n",
    "plt.xlabel('AGR2')\n",
    "\n",
    "plt.show()"
   ]
  },
  {
   "cell_type": "markdown",
   "id": "2f71bb67",
   "metadata": {},
   "source": [
    "## Violin plot\n",
    "We will use violin plot from seaborn because matplotlib's violin plot does not provide much customization"
   ]
  },
  {
   "cell_type": "code",
   "execution_count": null,
   "id": "f5166c88",
   "metadata": {},
   "outputs": [],
   "source": [
    "_ = sns.violinplot(data = data, x = 'CMS', y = 'FAP')"
   ]
  },
  {
   "cell_type": "markdown",
   "id": "855c7294",
   "metadata": {},
   "source": [
    "## Let's add mutation information to the data"
   ]
  },
  {
   "cell_type": "code",
   "execution_count": null,
   "id": "e7182543",
   "metadata": {},
   "outputs": [],
   "source": [
    "mutation = pd.read_excel('CRC_sample_data.xlsx', sheet_name = 'mutation', index_col = 0)\n",
    "mutation.head(5)"
   ]
  },
  {
   "cell_type": "code",
   "execution_count": null,
   "id": "a65d1bef",
   "metadata": {},
   "outputs": [],
   "source": [
    "merged = pd.concat([data, mutation], axis = 1, join = 'inner')\n",
    "\n",
    "print(merged.shape)\n",
    "merged.head(2)"
   ]
  },
  {
   "cell_type": "markdown",
   "id": "653fbb24",
   "metadata": {},
   "source": [
    "## Violin plot with additional hue component\n",
    "We can control the components of a seaborn plot via matplotlib"
   ]
  },
  {
   "cell_type": "code",
   "execution_count": null,
   "id": "cc376edb",
   "metadata": {},
   "outputs": [],
   "source": [
    "_ = sns.violinplot(data = merged, x = 'CMS', y = 'AGR2', hue = 'TP53')"
   ]
  },
  {
   "cell_type": "code",
   "execution_count": null,
   "id": "cebfea54",
   "metadata": {},
   "outputs": [],
   "source": [
    "plt.figure(figsize = (8, 4))\n",
    "_ = sns.violinplot(data = merged, x = 'CMS', y = 'AGR2', hue = 'BRAF')\n",
    "_ = plt.legend(loc = 'lower right')"
   ]
  },
  {
   "cell_type": "markdown",
   "id": "incredible-preparation",
   "metadata": {},
   "source": [
    "## Computing and visualizing coexpression\n",
    "Pandas DataFrame has a built-in *corr* function "
   ]
  },
  {
   "cell_type": "code",
   "execution_count": null,
   "id": "upper-stopping",
   "metadata": {},
   "outputs": [],
   "source": [
    "expr_data = data.iloc[:, :-1]\n",
    "coexpr = expr_data.corr(method = 'pearson')\n",
    "coexpr.head()"
   ]
  },
  {
   "cell_type": "markdown",
   "id": "1f98d3e1",
   "metadata": {},
   "source": [
    "## Several ways to show heatmap\n",
    "### First, as an image"
   ]
  },
  {
   "cell_type": "code",
   "execution_count": null,
   "id": "a4c9285e",
   "metadata": {},
   "outputs": [],
   "source": [
    "plt.figure(figsize = (5, 5))\n",
    "plt.imshow(coexpr)\n",
    "plt.show()"
   ]
  },
  {
   "cell_type": "markdown",
   "id": "d29b9f7e",
   "metadata": {},
   "source": [
    "### Customizing [colormap](https://matplotlib.org/stable/gallery/color/colormap_reference.html)\n",
    "Add colorbar"
   ]
  },
  {
   "cell_type": "code",
   "execution_count": null,
   "id": "beb806c8",
   "metadata": {},
   "outputs": [],
   "source": [
    "plt.figure(figsize = (6, 5))\n",
    "\n",
    "plt.imshow(coexpr, cmap = 'RdBu', vmin = -1, vmax = 1)\n",
    "plt.colorbar()\n",
    "\n",
    "plt.show()"
   ]
  },
  {
   "cell_type": "markdown",
   "id": "7d7e751b",
   "metadata": {},
   "source": [
    "### Add axis tick annotations"
   ]
  },
  {
   "cell_type": "code",
   "execution_count": null,
   "id": "69883b61",
   "metadata": {},
   "outputs": [],
   "source": [
    "plt.figure(figsize = (6, 5))\n",
    "\n",
    "plt.imshow(coexpr, cmap = 'RdBu', vmin = -1, vmax = 1)\n",
    "\n",
    "plt.colorbar()\n",
    "plt.yticks(range(coexpr.shape[1]), coexpr.columns)\n",
    "plt.xticks(range(coexpr.shape[1]), coexpr.columns, rotation = 90)\n",
    "\n",
    "plt.show()"
   ]
  },
  {
   "cell_type": "markdown",
   "id": "lightweight-stanford",
   "metadata": {},
   "source": [
    "## Seaborn's clustermap"
   ]
  },
  {
   "cell_type": "code",
   "execution_count": null,
   "id": "ideal-europe",
   "metadata": {},
   "outputs": [],
   "source": [
    "_ = sns.clustermap(coexpr)"
   ]
  },
  {
   "cell_type": "markdown",
   "id": "042c07a3",
   "metadata": {},
   "source": [
    "### Understanding the components of [clustermap](https://seaborn.pydata.org/generated/seaborn.clustermap.html)"
   ]
  },
  {
   "cell_type": "code",
   "execution_count": null,
   "id": "bdb391c1",
   "metadata": {},
   "outputs": [],
   "source": [
    "_ = sns.clustermap(data = coexpr, metric = 'euclidean', method = 'average', \n",
    "                   z_score = None, standard_scale = None, \n",
    "                   figsize = (5, 5), \n",
    "                   row_cluster = True, col_cluster = True, \n",
    "                   row_colors = None, col_colors = None)"
   ]
  },
  {
   "cell_type": "markdown",
   "id": "05638b3a",
   "metadata": {},
   "source": [
    "## Let's show similarity between both patient and gene"
   ]
  },
  {
   "cell_type": "code",
   "execution_count": null,
   "id": "9f680893",
   "metadata": {},
   "outputs": [],
   "source": [
    "_ = sns.clustermap(data = expr_data, metric = 'correlation', method = 'average', \n",
    "                   z_score = 1, figsize = (6, 7), cmap = 'RdBu', center = 0, \n",
    "                   row_cluster = True, col_cluster = True, \n",
    "                   row_colors = None, col_colors = None)"
   ]
  },
  {
   "cell_type": "markdown",
   "id": "57c46f75",
   "metadata": {},
   "source": [
    "## Adding CMS group information to the plot\n",
    "We have to provide colors based on CMS to the *row_colors* or *col_colors* parameter\n",
    "\n",
    "### Use DataFrame .map() function"
   ]
  },
  {
   "cell_type": "code",
   "execution_count": null,
   "id": "3ee56dbf",
   "metadata": {
    "scrolled": true
   },
   "outputs": [],
   "source": [
    "cms_color_map = {'CMS1': 'tab:blue', 'CMS2': 'tab:orange', 'CMS3': 'tab:green'}\n",
    "\n",
    "data['CMS'].map(cms_color_map)"
   ]
  },
  {
   "cell_type": "code",
   "execution_count": null,
   "id": "c3fa41e4",
   "metadata": {},
   "outputs": [],
   "source": [
    "_ = sns.clustermap(data = expr_data, metric = 'correlation', method = 'average', \n",
    "                   z_score = 1, figsize = (6, 7), cmap = 'RdBu', center = 0, \n",
    "                   row_cluster = True, col_cluster = True, \n",
    "                   row_colors = data['CMS'].map(cms_color_map), col_colors = None)"
   ]
  },
  {
   "cell_type": "markdown",
   "id": "46ba1550",
   "metadata": {},
   "source": [
    "## Color [palettes](https://seaborn.pydata.org/tutorial/color_palettes.html) in seaborn"
   ]
  },
  {
   "cell_type": "code",
   "execution_count": null,
   "id": "595c944b",
   "metadata": {},
   "outputs": [],
   "source": [
    "_ = sns.clustermap(data = expr_data, metric = 'correlation', method = 'average', \n",
    "                   z_score = 1, figsize = (6, 7), cmap = 'vlag', center = 0, \n",
    "                   row_cluster = True, col_cluster = True, \n",
    "                   row_colors = data['CMS'].map(cms_color_map), col_colors = None)"
   ]
  },
  {
   "cell_type": "code",
   "execution_count": null,
   "id": "a2d02f5c",
   "metadata": {},
   "outputs": [],
   "source": [
    "_ = sns.clustermap(data = expr_data, metric = 'correlation', method = 'average', \n",
    "                   z_score = 1, figsize = (6, 7), cmap = 'icefire', center = 0, \n",
    "                   row_cluster = True, col_cluster = True, \n",
    "                   row_colors = data['CMS'].map(cms_color_map), col_colors = None)"
   ]
  },
  {
   "cell_type": "markdown",
   "id": "81b47b52",
   "metadata": {},
   "source": [
    "## Summarize frequency of samples in each group with pandas's crosstab"
   ]
  },
  {
   "cell_type": "code",
   "execution_count": null,
   "id": "df6b58f2",
   "metadata": {},
   "outputs": [],
   "source": [
    "pd.crosstab(index = merged['CMS'], columns = merged['KRAS'])"
   ]
  },
  {
   "cell_type": "markdown",
   "id": "38a3e296",
   "metadata": {},
   "source": [
    "### Visualizing frequency table with seaborn's heatmap"
   ]
  },
  {
   "cell_type": "code",
   "execution_count": null,
   "id": "dec4ea48",
   "metadata": {},
   "outputs": [],
   "source": [
    "plt.figure(figsize = (4, 5))\n",
    "sns.heatmap(pd.crosstab(index = merged['CMS'], columns = merged['KRAS']),\n",
    "            cmap = plt.cm.Greens, annot = True)\n",
    "plt.yticks(rotation = 0)\n",
    "plt.show()"
   ]
  },
  {
   "cell_type": "markdown",
   "id": "mineral-swaziland",
   "metadata": {},
   "source": [
    "## Linear trend plot with seaborn's lmplot"
   ]
  },
  {
   "cell_type": "code",
   "execution_count": null,
   "id": "special-opening",
   "metadata": {},
   "outputs": [],
   "source": [
    "_ = sns.lmplot(data = data, x = 'AGR2', y = 'REG4')"
   ]
  },
  {
   "cell_type": "code",
   "execution_count": null,
   "id": "recovered-partner",
   "metadata": {},
   "outputs": [],
   "source": [
    "_ = sns.lmplot(data = data, x = 'AGR2', y = 'REG4', hue = 'CMS')"
   ]
  },
  {
   "cell_type": "markdown",
   "id": "occupied-pasta",
   "metadata": {},
   "source": [
    "## Pie chart"
   ]
  },
  {
   "cell_type": "code",
   "execution_count": null,
   "id": "unusual-island",
   "metadata": {},
   "outputs": [],
   "source": [
    "prop = data['CMS'].value_counts()\n",
    "prop.head()"
   ]
  },
  {
   "cell_type": "code",
   "execution_count": null,
   "id": "framed-shirt",
   "metadata": {},
   "outputs": [],
   "source": [
    "plt.figure(figsize = (5, 5))\n",
    "plt.pie(prop.values, labels = prop.index, startangle = 90, autopct = '%.1f')\n",
    "plt.show()"
   ]
  },
  {
   "cell_type": "markdown",
   "id": "magnetic-society",
   "metadata": {},
   "source": [
    "### Highlighting CMS2"
   ]
  },
  {
   "cell_type": "code",
   "execution_count": null,
   "id": "defensive-fabric",
   "metadata": {},
   "outputs": [],
   "source": [
    "plt.figure(figsize = (5, 5))\n",
    "\n",
    "explode = (0, 0.02, 0.05)  # only 'explode' the 2nd group\n",
    "plt.pie(prop.values, explode = explode, labels = prop.index, startangle = 90)\n",
    "\n",
    "plt.show()"
   ]
  },
  {
   "cell_type": "markdown",
   "id": "lonely-trout",
   "metadata": {},
   "source": [
    "### Donut chart"
   ]
  },
  {
   "cell_type": "code",
   "execution_count": null,
   "id": "divided-monthly",
   "metadata": {},
   "outputs": [],
   "source": [
    "plt.figure(figsize = (5, 5))\n",
    "\n",
    "explode = (0, 0.1, 0)  # only 'explode' the 2nd group\n",
    "plt.pie(prop.values, explode = explode, labels = prop.index, startangle = 90, \n",
    "        radius = 2, wedgeprops = {'width': 0.5, 'edgecolor': 'white'})\n",
    "\n",
    "plt.show()"
   ]
  }
 ],
 "metadata": {
  "kernelspec": {
   "display_name": "Python 3 (ipykernel)",
   "language": "python",
   "name": "python3"
  },
  "language_info": {
   "codemirror_mode": {
    "name": "ipython",
    "version": 3
   },
   "file_extension": ".py",
   "mimetype": "text/x-python",
   "name": "python",
   "nbconvert_exporter": "python",
   "pygments_lexer": "ipython3",
   "version": "3.9.7"
  }
 },
 "nbformat": 4,
 "nbformat_minor": 5
}
