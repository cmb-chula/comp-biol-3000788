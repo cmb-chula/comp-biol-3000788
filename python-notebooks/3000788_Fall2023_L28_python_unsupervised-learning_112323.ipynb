{
 "cells": [
  {
   "cell_type": "markdown",
   "id": "undefined-helping",
   "metadata": {
    "id": "undefined-helping"
   },
   "source": [
    "# We will apply some unsupervised techniques from lecture\n",
    "## [scikit-learn](https://scikit-learn.org/stable/) has the most extensive machine learning algorithms and good documentation\n",
    "\n",
    "## UMAP is implemented in a dedicated [umap-learn](https://umap-learn.readthedocs.io/en/latest/) package\n",
    "\n",
    "## Visit these pages to get deeper understanding of [t-SNE](https://distill.pub/2016/misread-tsne/) and [UMAP](https://pair-code.github.io/understanding-umap/)"
   ]
  },
  {
   "cell_type": "code",
   "execution_count": null,
   "id": "1e946cca",
   "metadata": {},
   "outputs": [],
   "source": [
    "# !pip install scikit-learn umap-learn"
   ]
  },
  {
   "cell_type": "code",
   "execution_count": null,
   "id": "pharmaceutical-thomson",
   "metadata": {
    "id": "pharmaceutical-thomson"
   },
   "outputs": [],
   "source": [
    "import numpy as np\n",
    "import pandas as pd\n",
    "import matplotlib.pyplot as plt\n",
    "import seaborn as sns\n",
    "import umap\n",
    "\n",
    "from sklearn.decomposition import PCA\n",
    "from sklearn.manifold import TSNE, MDS\n",
    "\n",
    "from scipy.spatial.distance import pdist, squareform"
   ]
  },
  {
   "cell_type": "markdown",
   "id": "l9NCmW-Pj5dz",
   "metadata": {
    "id": "l9NCmW-Pj5dz"
   },
   "source": [
    "## Today's data is from [3,200 colorectal cancer patients](https://pubmed.ncbi.nlm.nih.gov/26457759/)\n",
    "62 genes were selected from 6,000 to simplify the dataset\n",
    "\n",
    "Mutation of key genes and microsatellite instability also included in the last columns"
   ]
  },
  {
   "cell_type": "code",
   "execution_count": null,
   "id": "KzLoPJT2j40I",
   "metadata": {
    "colab": {
     "base_uri": "https://localhost:8080/",
     "height": 206
    },
    "id": "KzLoPJT2j40I",
    "outputId": "1ac78f68-6e4c-4cb9-ae03-0cd29438a980"
   },
   "outputs": [],
   "source": [
    "data = pd.read_excel('CRC_62gene_full.xlsx', index_col = 0, header = 0)\n",
    "data.head(3)"
   ]
  },
  {
   "cell_type": "markdown",
   "id": "85a3957f",
   "metadata": {},
   "source": [
    "## Extract gene expression part"
   ]
  },
  {
   "cell_type": "code",
   "execution_count": null,
   "id": "46bd0007",
   "metadata": {},
   "outputs": [],
   "source": [
    "first_mutation_column = list(data.columns).index('KRAS')\n",
    "\n",
    "exp_data = data.iloc[:, :first_mutation_column]\n",
    "exp_data.head(3)"
   ]
  },
  {
   "cell_type": "markdown",
   "id": "cf9c0b9b",
   "metadata": {},
   "source": [
    "# Dimensionality reduction\n",
    "## Let's start with PCA\n",
    "For PCA, data must be centered (each column has zero mean)\n",
    "\n",
    "But it's optional whether to scale the data (each column has unit variance)\n",
    "\n",
    "### First, PCA with centered data"
   ]
  },
  {
   "cell_type": "code",
   "execution_count": null,
   "id": "42357901",
   "metadata": {},
   "outputs": [],
   "source": [
    "centered_data = exp_data - exp_data.mean()\n",
    "print(centered_data.mean())"
   ]
  },
  {
   "cell_type": "code",
   "execution_count": null,
   "id": "1fb26967",
   "metadata": {},
   "outputs": [],
   "source": [
    "centered_pca = PCA(random_state = 25).fit(centered_data)\n",
    "centered_pca_embed = centered_pca.transform(centered_data)"
   ]
  },
  {
   "cell_type": "markdown",
   "id": "42f934e1",
   "metadata": {},
   "source": [
    "### View amount of explained variance in each component"
   ]
  },
  {
   "cell_type": "code",
   "execution_count": null,
   "id": "a7f9db21",
   "metadata": {},
   "outputs": [],
   "source": [
    "plt.figure(figsize = (10, 4))\n",
    "plt.subplot(1, 2, 1)\n",
    "plt.bar(range(1, centered_pca.n_components_ + 1), centered_pca.explained_variance_ratio_)\n",
    "plt.xlabel('PCA component')\n",
    "plt.ylabel('explained variance ratio')\n",
    "\n",
    "plt.subplot(1, 2, 2)\n",
    "cumulative = np.cumsum(centered_pca.explained_variance_ratio_)\n",
    "plt.bar(range(1, centered_pca.n_components_ + 1), cumulative)\n",
    "plt.plot([1, exp_data.shape[1]], [0.95, 0.95], '--', color = 'tab:orange')\n",
    "plt.xlabel('PCA component')\n",
    "plt.ylabel('explained variance ratio')\n",
    "plt.title('cumulative')\n",
    "\n",
    "plt.tight_layout()\n",
    "plt.show()"
   ]
  },
  {
   "cell_type": "markdown",
   "id": "4090d5b8",
   "metadata": {},
   "source": [
    "### Observation\n",
    "* The first two components capture >25% of variance each\n",
    "* About 38 components can capture 90% of the total variance"
   ]
  },
  {
   "cell_type": "markdown",
   "id": "e8c5358c",
   "metadata": {},
   "source": [
    "### View PCA embedding of the first two components\n",
    "Color by some genes"
   ]
  },
  {
   "cell_type": "code",
   "execution_count": null,
   "id": "5ff1eb82",
   "metadata": {},
   "outputs": [],
   "source": [
    "np.random.seed(25)\n",
    "random_genes = np.random.choice(exp_data.columns, 4, replace = False)"
   ]
  },
  {
   "cell_type": "code",
   "execution_count": null,
   "id": "39a6f3af",
   "metadata": {},
   "outputs": [],
   "source": [
    "plt.figure(figsize = (12, 3))\n",
    "\n",
    "for i in range(4):\n",
    "    plt.subplot(1, 4, i + 1)\n",
    "    plt.scatter(centered_pca_embed[:, 0], centered_pca_embed[:, 1], c = exp_data[random_genes[i]], \n",
    "                cmap = 'RdBu', s = 2)\n",
    "    plt.xlabel('PC1'); plt.ylabel('PC2')\n",
    "    plt.title(random_genes[i])\n",
    "\n",
    "plt.tight_layout()\n",
    "plt.show()"
   ]
  },
  {
   "cell_type": "markdown",
   "id": "8652ccfd",
   "metadata": {},
   "source": [
    "### View loadings on the first two components"
   ]
  },
  {
   "cell_type": "code",
   "execution_count": null,
   "id": "23603c23",
   "metadata": {},
   "outputs": [],
   "source": [
    "plt.figure(figsize = (13, 4))\n",
    "plt.bar(range(exp_data.shape[1]), centered_pca.components_[0])\n",
    "plt.xticks(range(exp_data.shape[1]), labels = exp_data.columns, rotation = 90)\n",
    "plt.ylabel('PC1 loading')\n",
    "plt.show()\n",
    "\n",
    "plt.figure(figsize = (13, 4))\n",
    "plt.bar(range(exp_data.shape[1]), centered_pca.components_[1])\n",
    "plt.xticks(range(exp_data.shape[1]), labels = exp_data.columns, rotation = 90)\n",
    "plt.ylabel('PC2 loading')\n",
    "plt.show()"
   ]
  },
  {
   "cell_type": "markdown",
   "id": "e80c37d9",
   "metadata": {},
   "source": [
    "### Observation\n",
    "* PC1 focuses on REG4, FCGBP, and MUC2\n",
    "* PC2 has a lot of similar loadings, with the top three being SFRP2, REG4 (again), and GAS1\n",
    "\n",
    "### Let's check the expression variance of these genes"
   ]
  },
  {
   "cell_type": "code",
   "execution_count": null,
   "id": "8418b15e",
   "metadata": {},
   "outputs": [],
   "source": [
    "plt.figure(figsize = (13, 4))\n",
    "plt.bar(range(exp_data.shape[1]), centered_data.var())\n",
    "plt.xticks(range(exp_data.shape[1]), labels = exp_data.columns, rotation = 90)\n",
    "plt.ylabel('Expression variance')\n",
    "plt.show()"
   ]
  },
  {
   "cell_type": "markdown",
   "id": "c8cbcc04",
   "metadata": {},
   "source": [
    "### Observation\n",
    "* REG4, FCGBP, and MUC2 have the highest expression variances --> hence, PC1 focus on them\n",
    "\n",
    "### Let's re-run PCA with standardized data instead"
   ]
  },
  {
   "cell_type": "code",
   "execution_count": null,
   "id": "92b7e2ad",
   "metadata": {},
   "outputs": [],
   "source": [
    "std_data = (exp_data - exp_data.mean()) / exp_data.std()\n",
    "print(std_data.std())"
   ]
  },
  {
   "cell_type": "code",
   "execution_count": null,
   "id": "54eb8705",
   "metadata": {},
   "outputs": [],
   "source": [
    "std_pca = PCA(random_state = 25).fit(std_data)\n",
    "std_pca_embed = std_pca.transform(std_data)"
   ]
  },
  {
   "cell_type": "markdown",
   "id": "df787446",
   "metadata": {},
   "source": [
    "### Compare new loadings with previous one"
   ]
  },
  {
   "cell_type": "code",
   "execution_count": null,
   "id": "99835ced",
   "metadata": {},
   "outputs": [],
   "source": [
    "plt.figure(figsize = (13, 4))\n",
    "plt.scatter(range(exp_data.shape[1]), centered_pca.components_[0], label = 'Centered')\n",
    "plt.scatter(range(exp_data.shape[1]), std_pca.components_[0], label = 'Standardized')\n",
    "plt.xticks(range(exp_data.shape[1]), labels = exp_data.columns, rotation = 90)\n",
    "plt.ylabel('PC1 loading'); plt.legend()\n",
    "\n",
    "plt.plot([0, exp_data.shape[1] - 1], [0, 0], 'k', alpha = 0.7)\n",
    "\n",
    "### Add arrow\n",
    "for i in range(exp_data.shape[1]):\n",
    "    plt.plot([i, i], [centered_pca.components_[0][i], std_pca.components_[0][i]], 'k--')\n",
    "\n",
    "plt.show()"
   ]
  },
  {
   "cell_type": "markdown",
   "id": "0150048b",
   "metadata": {},
   "source": [
    "### Observation\n",
    "With standardization, PC1 now assigns similar weights to many genes instead of to ony 3-4 genes\n",
    "\n",
    "### Check the new explained variance and embedding"
   ]
  },
  {
   "cell_type": "code",
   "execution_count": null,
   "id": "7b9da1d6",
   "metadata": {},
   "outputs": [],
   "source": [
    "plt.figure(figsize = (10, 4))\n",
    "plt.subplot(1, 2, 1)\n",
    "plt.bar(range(1, std_pca.n_components_ + 1), std_pca.explained_variance_ratio_)\n",
    "plt.xlabel('PCA component')\n",
    "plt.ylabel('explained variance ratio')\n",
    "\n",
    "plt.subplot(1, 2, 2)\n",
    "cumulative = np.cumsum(std_pca.explained_variance_ratio_)\n",
    "plt.bar(range(1, std_pca.n_components_ + 1), cumulative)\n",
    "plt.plot([1, exp_data.shape[1]], [0.95, 0.95], '--', color = 'tab:orange')\n",
    "plt.xlabel('PCA component')\n",
    "plt.ylabel('explained variance ratio')\n",
    "plt.title('cumulative')\n",
    "\n",
    "plt.tight_layout()\n",
    "plt.show()"
   ]
  },
  {
   "cell_type": "code",
   "execution_count": null,
   "id": "b22cb50f",
   "metadata": {},
   "outputs": [],
   "source": [
    "print('Centered data')\n",
    "plt.figure(figsize = (12, 3))\n",
    "\n",
    "for i in range(4):\n",
    "    plt.subplot(1, 4, i + 1)\n",
    "    plt.scatter(centered_pca_embed[:, 0], centered_pca_embed[:, 1], c = exp_data[random_genes[i]], cmap = 'RdBu', s = 2)\n",
    "    plt.xlabel('PC1'); plt.ylabel('PC2')\n",
    "    plt.title(random_genes[i])\n",
    "\n",
    "plt.tight_layout()\n",
    "plt.show()\n",
    "\n",
    "print('---------------------------------------------------------------')\n",
    "print('Standardized data')\n",
    "plt.figure(figsize = (12, 3))\n",
    "\n",
    "for i in range(4):\n",
    "    plt.subplot(1, 4, i + 1)\n",
    "    plt.scatter(std_pca_embed[:, 0], std_pca_embed[:, 1], c = exp_data[random_genes[i]], cmap = 'RdBu', s = 2)\n",
    "    plt.xlabel('PC1'); plt.ylabel('PC2')\n",
    "    plt.title(random_genes[i])\n",
    "\n",
    "plt.tight_layout()\n",
    "plt.show()"
   ]
  },
  {
   "cell_type": "markdown",
   "id": "578046e6",
   "metadata": {},
   "source": [
    "### Observation\n",
    "* The embedding and explained variances are similar between the two method\n",
    "* But the interpretation of genes are completely different"
   ]
  },
  {
   "cell_type": "markdown",
   "id": "cc7474d7",
   "metadata": {},
   "source": [
    "## To use non-Euclidean distance, we need to switch from PCA to MDS\n",
    "MDS function in scikit-learn requires the non-Euclidean distance matrix be *precomputed*\n",
    "\n",
    "**Important**: Correlation is a similarity function (higher = more similar), not a distance function (higher = less similar). Use **1 - correlation** instead."
   ]
  },
  {
   "cell_type": "code",
   "execution_count": null,
   "id": "312a28e8",
   "metadata": {},
   "outputs": [],
   "source": [
    "corr_matrix = exp_data.T.corr(method = 'pearson')\n",
    "display(corr_matrix.head(3))"
   ]
  },
  {
   "cell_type": "markdown",
   "id": "6f4fbb96",
   "metadata": {},
   "source": [
    "#### Select only the first 10000 patients to speed things up\n",
    "Use *1 - abs(correlation)* as the distance"
   ]
  },
  {
   "cell_type": "code",
   "execution_count": null,
   "id": "9531ed55",
   "metadata": {},
   "outputs": [],
   "source": [
    "samp_corr_matrix = corr_matrix.iloc[:1000, :1000]"
   ]
  },
  {
   "cell_type": "code",
   "execution_count": null,
   "id": "e2f0e93e",
   "metadata": {},
   "outputs": [],
   "source": [
    "corr_mds = MDS(n_components = 2, random_state = 25, dissimilarity = 'precomputed')\n",
    "corr_mds_embed = corr_mds.fit_transform(1 - np.abs(samp_corr_matrix))"
   ]
  },
  {
   "cell_type": "code",
   "execution_count": null,
   "id": "985b9b15",
   "metadata": {},
   "outputs": [],
   "source": [
    "plt.figure(figsize = (12, 3))\n",
    "\n",
    "for i in range(4):\n",
    "    plt.subplot(1, 4, i + 1)\n",
    "    plt.scatter(corr_mds_embed[:, 0], corr_mds_embed[:, 1], c = exp_data[random_genes[i]].iloc[:1000], \n",
    "                cmap = 'RdBu', s = 2)\n",
    "    plt.xlabel('MDS1'); plt.ylabel('MDS2')\n",
    "    plt.title(random_genes[i])\n",
    "\n",
    "plt.tight_layout()\n",
    "plt.show()"
   ]
  },
  {
   "cell_type": "markdown",
   "id": "5bd46c51",
   "metadata": {},
   "source": [
    "### Observation\n",
    "* MDS with correlation generate a different pattern than PCA\n",
    "* MDS took *quite a while* to fit the data"
   ]
  },
  {
   "cell_type": "markdown",
   "id": "nWgxS7EEssJy",
   "metadata": {
    "id": "nWgxS7EEssJy"
   },
   "source": [
    "## t-SNE\n",
    "We can use either standardized data + Euclidean or raw data + correlation\n",
    "\n",
    "Try several perplexity values\n",
    "\n",
    "Use **%%timeit** to measure the amount of CPU time used"
   ]
  },
  {
   "cell_type": "code",
   "execution_count": null,
   "id": "EzAjGk7Esseo",
   "metadata": {
    "colab": {
     "base_uri": "https://localhost:8080/",
     "height": 811
    },
    "id": "EzAjGk7Esseo",
    "outputId": "d06c7e2b-4aff-4bd3-b91e-029cd63ce87b"
   },
   "outputs": [],
   "source": [
    "%%timeit -r 1 -n 1\n",
    "perplexities = [5, 15, 25, 50, 100]\n",
    "\n",
    "plt.figure(figsize = (13, 3))\n",
    "\n",
    "for i, k in enumerate(perplexities, start = 1):\n",
    "    plt.subplot(1, 5, i)\n",
    "    tsne_embed = TSNE(n_components = 2, perplexity = k, random_state = 25).fit_transform(std_data.iloc[:1000, :1000])\n",
    "    plt.scatter(tsne_embed[:, 0], tsne_embed[:, 1], s = 2)\n",
    "    plt.xlabel('tSNE1'); plt.ylabel('tSNE2')\n",
    "    plt.title('perplexity = ' + str(k))\n",
    "\n",
    "plt.tight_layout()\n",
    "plt.show()"
   ]
  },
  {
   "cell_type": "markdown",
   "id": "dJxm51GowOms",
   "metadata": {
    "id": "dJxm51GowOms"
   },
   "source": [
    "## UMAP\n",
    "Similar to t-SNE. Try several neighbor values"
   ]
  },
  {
   "cell_type": "code",
   "execution_count": null,
   "id": "0qBN3ntlwO2-",
   "metadata": {
    "colab": {
     "base_uri": "https://localhost:8080/",
     "height": 513
    },
    "id": "0qBN3ntlwO2-",
    "outputId": "3106dd7e-94fb-4edd-9ffb-e00fba6ff84f"
   },
   "outputs": [],
   "source": [
    "%%timeit -r 1 -n 1 ## measure the amount of CPU time used\n",
    "neighbers = [5, 15, 25, 50, 100]\n",
    "\n",
    "plt.figure(figsize = (13, 3))\n",
    "\n",
    "for i, n in enumerate(neighbers, start = 1):\n",
    "    plt.subplot(1, 5, i)\n",
    "    umap_embed = umap.UMAP(n_components = 2, n_neighbors = n, random_state = 25).fit_transform(std_data.iloc[:1000, :1000])\n",
    "    plt.scatter(umap_embed[:, 0], umap_embed[:, 1], s = 2)\n",
    "    plt.xlabel('UMAP1'); plt.ylabel('UMAP2')\n",
    "    plt.title('n_neighbors = ' + str(n))\n",
    "\n",
    "plt.tight_layout()\n",
    "plt.show()"
   ]
  },
  {
   "cell_type": "markdown",
   "id": "289d84eb",
   "metadata": {},
   "source": [
    "### Recalculate UMAP with n_neighbors = 25\n",
    "UMAP can be run on the full dataset"
   ]
  },
  {
   "cell_type": "code",
   "execution_count": null,
   "id": "9583c9b3",
   "metadata": {},
   "outputs": [],
   "source": [
    "umap_embed = umap.UMAP(n_components = 2, n_neighbors = 25, random_state = 25).fit_transform(std_data)"
   ]
  },
  {
   "cell_type": "code",
   "execution_count": null,
   "id": "d7a2b097",
   "metadata": {},
   "outputs": [],
   "source": [
    "plt.figure(figsize = (12, 3))\n",
    "\n",
    "for i in range(4):\n",
    "    plt.subplot(1, 4, i + 1)\n",
    "    plt.scatter(umap_embed[:, 0], umap_embed[:, 1], c = exp_data[random_genes[i]], \n",
    "                cmap = 'RdBu', s = 2)\n",
    "    plt.xlabel('UMAP1'); plt.ylabel('UMAP2')\n",
    "    plt.title(random_genes[i])\n",
    "\n",
    "plt.tight_layout()\n",
    "plt.show()"
   ]
  },
  {
   "cell_type": "markdown",
   "id": "d0ea74a4",
   "metadata": {},
   "source": [
    "### Observation\n",
    "* Consistent structure when perplexity / n_neighbors are 15 or higher\n",
    "* Similar gradient of gene expressions as PCA"
   ]
  },
  {
   "cell_type": "markdown",
   "id": "31bace05",
   "metadata": {},
   "source": [
    "### Effect of min_dist"
   ]
  },
  {
   "cell_type": "code",
   "execution_count": null,
   "id": "0e0ed1ef",
   "metadata": {},
   "outputs": [],
   "source": [
    "min_dists = [0, 1]\n",
    "\n",
    "plt.figure(figsize = (12, 3))\n",
    "\n",
    "for i, m in enumerate(min_dists, start = 1):\n",
    "    plt.subplot(1, 4, i)\n",
    "    umap_embed = umap.UMAP(n_components = 2, n_neighbors = 25, min_dist = m, random_state = 25, \n",
    "                           metric = 'correlation').fit_transform(std_data)\n",
    "    plt.scatter(umap_embed[:, 0], umap_embed[:, 1], s = 2)\n",
    "    plt.xlabel('UMAP1'); plt.ylabel('UMAP2')\n",
    "    plt.title('min_dist = ' + str(m))\n",
    "\n",
    "plt.tight_layout()\n",
    "plt.show()"
   ]
  },
  {
   "cell_type": "markdown",
   "id": "845d1e9a",
   "metadata": {},
   "source": [
    "### Finalize UMAP embedding to be used later on"
   ]
  },
  {
   "cell_type": "code",
   "execution_count": null,
   "id": "191fd09a",
   "metadata": {},
   "outputs": [],
   "source": [
    "final_umap_embed = umap.UMAP(n_components = 2, n_neighbors = 25, min_dist = 0, \n",
    "                             random_state = 25, metric = 'correlation').fit_transform(std_data)"
   ]
  },
  {
   "cell_type": "markdown",
   "id": "8cb297b9",
   "metadata": {},
   "source": [
    "# Clustering with [scikit-learn](https://scikit-learn.org/stable/modules/classes.html#module-sklearn.cluster)\n",
    "\n",
    "## Various [clustering scoring functions](https://scikit-learn.org/stable/modules/classes.html#clustering-metrics)"
   ]
  },
  {
   "cell_type": "code",
   "execution_count": null,
   "id": "32166e9b",
   "metadata": {},
   "outputs": [],
   "source": [
    "from sklearn.cluster import KMeans, AgglomerativeClustering, DBSCAN\n",
    "from sklearn.metrics import silhouette_score, calinski_harabasz_score"
   ]
  },
  {
   "cell_type": "markdown",
   "id": "57b73305",
   "metadata": {},
   "source": [
    "## k-mean"
   ]
  },
  {
   "cell_type": "code",
   "execution_count": null,
   "id": "c8fbc659",
   "metadata": {},
   "outputs": [],
   "source": [
    "kmean_silhouette = []\n",
    "kmean_caha = []\n",
    "\n",
    "for k in range(2, 10):\n",
    "    kmean = KMeans(n_clusters = k, random_state = 25, n_init = 5).fit_predict(std_data)\n",
    "    kmean_silhouette.append(silhouette_score(std_data, kmean))\n",
    "    kmean_caha.append(calinski_harabasz_score(std_data, kmean))"
   ]
  },
  {
   "cell_type": "code",
   "execution_count": null,
   "id": "6a21af5e",
   "metadata": {},
   "outputs": [],
   "source": [
    "plt.figure(figsize = (8, 3))\n",
    "plt.subplot(1, 2, 1)\n",
    "plt.plot(range(2, 10), kmean_silhouette)\n",
    "plt.xlabel('Number of clusters'); plt.ylabel('Silhouette score')\n",
    "\n",
    "plt.subplot(1, 2, 2)\n",
    "plt.plot(range(2, 10), kmean_caha)\n",
    "plt.xlabel('Number of clusters'); plt.ylabel('Calinski-Harabasz score')\n",
    "\n",
    "plt.tight_layout()\n",
    "plt.show()"
   ]
  },
  {
   "cell_type": "markdown",
   "id": "38fee655",
   "metadata": {},
   "source": [
    "### Visualize the location of the two clusters"
   ]
  },
  {
   "cell_type": "code",
   "execution_count": null,
   "id": "386e70a3",
   "metadata": {},
   "outputs": [],
   "source": [
    "def view_clusters(labels):\n",
    "    plt.figure(figsize = (10, 5))\n",
    "\n",
    "    plt.subplot(1, 2, 1)\n",
    "\n",
    "    for k in np.unique(labels):\n",
    "        filt = labels == k\n",
    "        plt.scatter(final_umap_embed[filt, 0], final_umap_embed[filt, 1], s = 2, label = 'Cluster ' + str(k))\n",
    "\n",
    "    plt.xlabel('UMAP1'); plt.ylabel('UMAP2'); plt.legend()\n",
    "\n",
    "    plt.subplot(1, 2, 2)\n",
    "\n",
    "    for k in np.unique(labels):\n",
    "        filt = labels == k\n",
    "        plt.scatter(std_pca_embed[filt, 0], std_pca_embed[filt, 1], s = 2, label = 'Cluster ' + str(k))\n",
    "\n",
    "    plt.xlabel('PC1'); plt.ylabel('PC2'); plt.legend()\n",
    "\n",
    "    plt.tight_layout()\n",
    "    plt.show()"
   ]
  },
  {
   "cell_type": "code",
   "execution_count": null,
   "id": "805a6783",
   "metadata": {},
   "outputs": [],
   "source": [
    "predicted = KMeans(n_clusters = 2, random_state = 25).fit_predict(std_data)\n",
    "view_clusters(predicted)"
   ]
  },
  {
   "cell_type": "markdown",
   "id": "c15b6c4b",
   "metadata": {},
   "source": [
    "## Agglomerative / Hierarchical clustering "
   ]
  },
  {
   "cell_type": "code",
   "execution_count": null,
   "id": "ddcb0107",
   "metadata": {},
   "outputs": [],
   "source": [
    "def evaluate_clustering(n_clusters, method, data = std_data):\n",
    "    silhouette = []\n",
    "    caha = []\n",
    "\n",
    "    for k in n_clusters:\n",
    "        method.n_clusters = k\n",
    "        predicted = method.fit_predict(data)\n",
    "        silhouette.append(silhouette_score(data, predicted))\n",
    "        caha.append(calinski_harabasz_score(data, predicted))\n",
    "        \n",
    "    plt.figure(figsize = (8, 3))\n",
    "    plt.subplot(1, 2, 1)\n",
    "    plt.plot(range(2, 10), silhouette)\n",
    "    plt.xlabel('Number of clusters'); plt.ylabel('Silhouette score')\n",
    "\n",
    "    plt.subplot(1, 2, 2)\n",
    "    plt.plot(range(2, 10), caha)\n",
    "    plt.xlabel('Number of clusters'); plt.ylabel('Calinski-Harabasz score')\n",
    "\n",
    "    plt.tight_layout()\n",
    "    plt.show()"
   ]
  },
  {
   "cell_type": "markdown",
   "id": "002351fd",
   "metadata": {},
   "source": [
    "### Try with Euclidean distance"
   ]
  },
  {
   "cell_type": "code",
   "execution_count": null,
   "id": "e82f2a8c",
   "metadata": {},
   "outputs": [],
   "source": [
    "evaluate_clustering(range(2, 10), AgglomerativeClustering(affinity = 'euclidean', linkage = 'average'))"
   ]
  },
  {
   "cell_type": "code",
   "execution_count": null,
   "id": "b1fffe16",
   "metadata": {},
   "outputs": [],
   "source": [
    "predicted = AgglomerativeClustering(n_clusters = 2, metric = 'euclidean', linkage = 'average').fit_predict(std_data)\n",
    "view_clusters(predicted)"
   ]
  },
  {
   "cell_type": "markdown",
   "id": "0ac86326",
   "metadata": {},
   "source": [
    "### Visualize hierarchical clustering with seaborn's [clustermap](https://seaborn.pydata.org/generated/seaborn.clustermap.html)"
   ]
  },
  {
   "cell_type": "code",
   "execution_count": null,
   "id": "a088bccf",
   "metadata": {},
   "outputs": [],
   "source": [
    "_ = sns.clustermap(data = std_data, metric = 'euclidean', method = 'average', \n",
    "                   z_score = None, figsize = (6, 10), cmap = 'RdBu', center = 0, \n",
    "                   row_cluster = True, col_cluster = True, \n",
    "                   row_colors = None, col_colors = None)"
   ]
  },
  {
   "cell_type": "markdown",
   "id": "2b63f69d",
   "metadata": {},
   "source": [
    "### Observation\n",
    "* There is a group of outliers in the dendrogram\n",
    "* Hierarchical clustering with n_clusters = 2 simply distinguish these outliers from other patients"
   ]
  },
  {
   "cell_type": "markdown",
   "id": "4c1c8bd4",
   "metadata": {},
   "source": [
    "## DBSCAN doesn't need the number of cluster to be specified\n",
    "But we need to tune **epsilon** instead"
   ]
  },
  {
   "cell_type": "code",
   "execution_count": null,
   "id": "601dbf0d",
   "metadata": {},
   "outputs": [],
   "source": [
    "start = 0.1\n",
    "step = 0.05\n",
    "eps = np.arange(start, step * 8 + start, step)\n",
    "\n",
    "plt.figure(figsize = (12, 6))\n",
    "\n",
    "for i, e in enumerate(eps, start = 1):\n",
    "    plt.subplot(2, 4, i)\n",
    "    dbscan = DBSCAN(eps = e, metric = 'correlation', min_samples = 10)\n",
    "    predicted = dbscan.fit_predict(std_data)\n",
    "    \n",
    "    for k in sorted(np.unique(predicted)):\n",
    "        filt = predicted == k\n",
    "        plt.scatter(final_umap_embed[filt, 0], final_umap_embed[filt, 1], label = 'cluster ' + str(k), s = 2)\n",
    "\n",
    "    plt.xlabel('UMAP 1'); plt.ylabel('UMAP 2'); plt.legend()\n",
    "    plt.title('epsilon = ' + str(e)[:4])\n",
    "\n",
    "plt.tight_layout()\n",
    "plt.show()    "
   ]
  },
  {
   "cell_type": "markdown",
   "id": "14a1c552",
   "metadata": {},
   "source": [
    "### Observation\n",
    "* DBSCAN is a density-based technique\n",
    "* Since the key structure here is continuous, DBSCAN detect only a single dense cluster"
   ]
  },
  {
   "cell_type": "markdown",
   "id": "e5658ff3",
   "metadata": {},
   "source": [
    "## Lastly, network clustering\n",
    "[Louvain and Leiden](https://www.nature.com/articles/s41598-019-41695-z) algorithms"
   ]
  },
  {
   "cell_type": "code",
   "execution_count": null,
   "id": "e66ab737",
   "metadata": {},
   "outputs": [],
   "source": [
    "# !pip install --upgrade python-louvain networkx"
   ]
  },
  {
   "cell_type": "code",
   "execution_count": null,
   "id": "c5e55e3c",
   "metadata": {},
   "outputs": [],
   "source": [
    "import networkx as nx\n",
    "import community"
   ]
  },
  {
   "cell_type": "markdown",
   "id": "d538d062",
   "metadata": {},
   "source": [
    "## Create a network of absolute correlation between patients\n",
    "### Remove edges with correlation less than 0.7 to simplify the data\n",
    "Don't worry about the details. [Networkx](https://networkx.org/) commands are beyond the scope of this course"
   ]
  },
  {
   "cell_type": "code",
   "execution_count": null,
   "id": "4fbf5582",
   "metadata": {},
   "outputs": [],
   "source": [
    "thresholded_corr_matrix = exp_data.T.corr(method = 'pearson').to_numpy()\n",
    "thresholded_corr_matrix[thresholded_corr_matrix < 0.7] = 0\n",
    "thresholded_corr_matrix -= np.eye(data.shape[0]) ## remove diagonal entries\n",
    "    \n",
    "correlation_network = nx.from_numpy_array(thresholded_corr_matrix)\n",
    "correlation_network = nx.relabel_nodes(correlation_network, lambda x: data.index[x]) ## Add patient names to nodes\n",
    "_ = correlation_network.edges(data = True)"
   ]
  },
  {
   "cell_type": "markdown",
   "id": "a3b85d00",
   "metadata": {},
   "source": [
    "### Visualize a random subnetwork"
   ]
  },
  {
   "cell_type": "code",
   "execution_count": null,
   "id": "26956587",
   "metadata": {},
   "outputs": [],
   "source": [
    "np.random.seed(25)\n",
    "selected_samples = np.random.choice(data.index, size = 300, replace = False)\n",
    "selected_samples = max(nx.connected_components(correlation_network.subgraph(selected_samples)), key = len)\n",
    "selected_graph = correlation_network.subgraph(selected_samples)\n",
    "_ = selected_graph.edges(data = True)\n",
    "\n",
    "plt.figure(figsize = (8, 8))\n",
    "edges, weights = zip(*nx.get_edge_attributes(selected_graph, 'weight').items())\n",
    "nx.draw_spring(selected_graph, node_size = 40, edgelist = edges, edge_color = weights, edge_cmap = plt.cm.Greys, alpha = 0.8)\n",
    "plt.show()"
   ]
  },
  {
   "cell_type": "markdown",
   "id": "44f0862b",
   "metadata": {},
   "source": [
    "## Use Louvain algorithm to identify partitions that maximize modularity\n",
    "Partition is a dictionary that map node name to cluster ID"
   ]
  },
  {
   "cell_type": "code",
   "execution_count": null,
   "id": "56fde7c0",
   "metadata": {},
   "outputs": [],
   "source": [
    "partition = community.best_partition(correlation_network, random_state = 25)"
   ]
  },
  {
   "cell_type": "code",
   "execution_count": null,
   "id": "ad1dc0e5",
   "metadata": {},
   "outputs": [],
   "source": [
    "predicted = np.array([partition['Patient' + str(x)] for x in range(1, data.shape[0] + 1)])\n",
    "unique, counts = np.unique(predicted, return_counts = True)\n",
    "\n",
    "plt.figure(figsize = (5, 3))\n",
    "plt.hist(counts, bins = 20)\n",
    "plt.xlabel('Partition size'); plt.ylabel('Number of nodes')\n",
    "plt.show()"
   ]
  },
  {
   "cell_type": "markdown",
   "id": "0596a4fe",
   "metadata": {},
   "source": [
    "### Observation\n",
    "* There are a few outliers + 3 large clusters\n",
    "\n",
    "### Visualize only large partitions"
   ]
  },
  {
   "cell_type": "code",
   "execution_count": null,
   "id": "3cd012a7",
   "metadata": {},
   "outputs": [],
   "source": [
    "def view_large_clusters(labels, size_cutoff):\n",
    "    outliers = []\n",
    "    \n",
    "    plt.figure(figsize = (10, 5))\n",
    "    plt.subplot(1, 2, 1)\n",
    "\n",
    "    for k in np.unique(labels):\n",
    "        filt = labels == k\n",
    "        \n",
    "        if filt.sum() >= size_cutoff:\n",
    "            plt.scatter(final_umap_embed[filt, 0], final_umap_embed[filt, 1], s = 2, label = 'Cluster ' + str(k))\n",
    "        else:\n",
    "            outliers.append(k)\n",
    "\n",
    "    filt = [label for label in labels if label in outliers]\n",
    "    plt.scatter(final_umap_embed[filt, 0], final_umap_embed[filt, 1], s = 2, label = 'Outliers', c = 'tab:gray', alpha = 0.3)       \n",
    "    plt.xlabel('UMAP1'); plt.ylabel('UMAP2'); plt.legend()\n",
    "\n",
    "    plt.subplot(1, 2, 2)\n",
    "\n",
    "    for k in np.unique(labels):\n",
    "        filt = labels == k\n",
    "        \n",
    "        if filt.sum() >= size_cutoff:\n",
    "            plt.scatter(std_pca_embed[filt, 0], std_pca_embed[filt, 1], s = 2, label = 'Cluster ' + str(k))\n",
    "\n",
    "    filt = [label for label in labels if label in outliers]\n",
    "    plt.scatter(std_pca_embed[filt, 0], std_pca_embed[filt, 1], s = 2, label = 'Outliers', c = 'tab:gray', alpha = 0.3)\n",
    "    plt.xlabel('PC1'); plt.ylabel('PC2'); plt.legend()\n",
    "\n",
    "    plt.tight_layout()\n",
    "    plt.show()"
   ]
  },
  {
   "cell_type": "code",
   "execution_count": null,
   "id": "0419e226",
   "metadata": {},
   "outputs": [],
   "source": [
    "view_large_clusters(predicted, 20)"
   ]
  },
  {
   "cell_type": "markdown",
   "id": "dc1bf4c0",
   "metadata": {},
   "source": [
    "## Show these clusters on clustermap"
   ]
  },
  {
   "cell_type": "code",
   "execution_count": null,
   "id": "e27a8400",
   "metadata": {},
   "outputs": [],
   "source": [
    "cluster_cmap = {1: 'tab:blue', 3: 'tab:orange', 4: 'tab:green'}\n",
    "louvain_cluster_color = []\n",
    "\n",
    "for x in predicted:\n",
    "    if x in cluster_cmap:\n",
    "        louvain_cluster_color.append(cluster_cmap[x])\n",
    "    else: ## outliers\n",
    "        louvain_cluster_color.append('tab:gray')\n",
    "        \n",
    "_ = sns.clustermap(data = std_data, metric = 'correlation', method = 'average', \n",
    "                   z_score = None, figsize = (6, 10), cmap = 'RdBu', center = 0, \n",
    "                   row_cluster = True, col_cluster = True, \n",
    "                   row_colors = louvain_cluster_color, col_colors = None)"
   ]
  },
  {
   "cell_type": "markdown",
   "id": "0189a90f",
   "metadata": {},
   "source": [
    "### Observation\n",
    "* Good agreement between Louvain network clustering and clustermap's dendrogram\n",
    "* Some cluster contain sub-clusters"
   ]
  },
  {
   "cell_type": "markdown",
   "id": "673923bb",
   "metadata": {},
   "source": [
    "## Use mutation data to validate cluster"
   ]
  },
  {
   "cell_type": "code",
   "execution_count": null,
   "id": "3ba78617",
   "metadata": {},
   "outputs": [],
   "source": [
    "mutation_cmap = {'wt': 'tab:cyan', 'mt': 'tab:red', 'MSS': 'tab:cyan', 'MSI': 'tab:red'}"
   ]
  },
  {
   "cell_type": "code",
   "execution_count": null,
   "id": "5599cc1d",
   "metadata": {},
   "outputs": [],
   "source": [
    "plt.figure(figsize = (12, 8))\n",
    "\n",
    "plt.subplot(2, 3, 1)\n",
    "outliers = []\n",
    "    \n",
    "for k in np.unique(predicted):\n",
    "    filt = predicted == k\n",
    "\n",
    "    if filt.sum() >= 20:\n",
    "        plt.scatter(final_umap_embed[filt, 0], final_umap_embed[filt, 1], s = 4, \n",
    "                    label = 'Cluster ' + str(k), alpha = 0.6)\n",
    "    else:\n",
    "        outliers.append(k)\n",
    "\n",
    "filt = [p for p in predicted if p in outliers]\n",
    "plt.scatter(final_umap_embed[filt, 0], final_umap_embed[filt, 1], s = 4, label = 'Outliers', \n",
    "            c = 'tab:gray', alpha = 0.1)       \n",
    "\n",
    "plt.xlabel('UMAP1'); plt.ylabel('UMAP2'); plt.legend()\n",
    "\n",
    "for i, mutation in enumerate(data.columns[first_mutation_column:], start = 2):\n",
    "    plt.subplot(2, 3, i)\n",
    "\n",
    "    for m in pd.unique(data[mutation]):\n",
    "        if not pd.isna(m):\n",
    "            filt = data[mutation] == m\n",
    "            plt.scatter(final_umap_embed[filt, 0], final_umap_embed[filt, 1], s = 4, label = m,\n",
    "                        marker = 'x', c = mutation_cmap[m])       \n",
    "\n",
    "    plt.xlabel('UMAP1'); plt.ylabel('UMAP2')\n",
    "    plt.title(mutation)\n",
    "\n",
    "plt.tight_layout()\n",
    "plt.show()"
   ]
  },
  {
   "cell_type": "markdown",
   "id": "8525235d",
   "metadata": {},
   "source": [
    "### Add cluster label to data and summarize frequency"
   ]
  },
  {
   "cell_type": "code",
   "execution_count": null,
   "id": "5c5d52c0",
   "metadata": {},
   "outputs": [],
   "source": [
    "mutation_rate = pd.DataFrame(0, index = [1, 3, 4],  \n",
    "                             columns = data.columns[first_mutation_column:])\n",
    "\n",
    "for m in mutation_rate.columns:\n",
    "    for c in mutation_rate.index:\n",
    "        wt_count = (((data[m] == 'wt') | (data[m] == 'MSS')) & (predicted == c)).sum()\n",
    "        mt_count = (((data[m] == 'mt') | (data[m] == 'MSI')) & (predicted == c)).sum()\n",
    "        mutation_rate.loc[c, m] = mt_count / (wt_count + mt_count)\n",
    "        \n",
    "mutation_rate.head()"
   ]
  },
  {
   "cell_type": "markdown",
   "id": "f9654f78",
   "metadata": {},
   "source": [
    "### Observation\n",
    "* Cluster 4 is associated with high BRAF, high MSI, low APC, and low TP53"
   ]
  }
 ],
 "metadata": {
  "colab": {
   "collapsed_sections": [],
   "provenance": [],
   "toc_visible": true
  },
  "kernelspec": {
   "display_name": "Python 3 (ipykernel)",
   "language": "python",
   "name": "python3"
  },
  "language_info": {
   "codemirror_mode": {
    "name": "ipython",
    "version": 3
   },
   "file_extension": ".py",
   "mimetype": "text/x-python",
   "name": "python",
   "nbconvert_exporter": "python",
   "pygments_lexer": "ipython3",
   "version": "3.9.7"
  }
 },
 "nbformat": 4,
 "nbformat_minor": 5
}
