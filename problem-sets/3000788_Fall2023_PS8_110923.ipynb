{
 "cells": [
  {
   "cell_type": "markdown",
   "id": "9a2f1d0a",
   "metadata": {},
   "source": [
    "# Problem Set 8\n",
    "### We will use basic Python tools from the first two lectures along with some new concepts to solve various problems\n",
    "* Basic coding\n",
    "  * Impute a list by replacing all non-numbers with zeros\n",
    "  * Correct gene accession in a list (to upper-case)\n",
    "  * Find common amino acid sequences between the two lists (handle upper/lower cases)\n",
    "* DataFrame\n",
    "  * Use numpy's correlation to identify genes that associate with CMS groups\n",
    "  * Identify patients with certain conditions\n",
    "  * Apply a gene panel scoring to create a new column\n",
    "* File handling\n",
    "  * Load accession ID to symbol mapping from a file\n",
    "  * Process fastq file to count the number of read\n",
    "  * Renaming files in a folder"
   ]
  },
  {
   "cell_type": "markdown",
   "id": "f15bb144",
   "metadata": {},
   "source": [
    "## Part 1: Python coding\n",
    "### Q1: Write a function that impute all non-numbers elements in a list with zeros and return the new imputed list **without changing the original list**\n",
    "\n",
    "For example, if the *given_list* is ['NA', 3000, 788], then the function should return [0, 3000, 788]\n",
    "\n",
    "Show that your function works by **providing two examples**"
   ]
  },
  {
   "cell_type": "code",
   "execution_count": null,
   "id": "f6e2ec97",
   "metadata": {},
   "outputs": [],
   "source": [
    "def impute(given_list):\n",
    "    ### fill in your code here\n",
    "    return imputed_list"
   ]
  },
  {
   "cell_type": "markdown",
   "id": "84c66656",
   "metadata": {},
   "source": [
    "### Q2: Write a function that convert all amino acid sequences in a list into upper case letters\n",
    "\n",
    "For example, if the *given_list* is ['peptide', 'sckasd'], then the function should return ['PEPTIDE', 'SCKASD']\n",
    "\n",
    "Show that your function works by **providing two examples**"
   ]
  },
  {
   "cell_type": "code",
   "execution_count": 1,
   "id": "c0b2c166",
   "metadata": {},
   "outputs": [],
   "source": [
    "def to_upper(given_list):\n",
    "    ### fill in your code here\n",
    "    return upper_case_list"
   ]
  },
  {
   "cell_type": "markdown",
   "id": "5d9b1f47",
   "metadata": {},
   "source": [
    "### Q3: Write a function that find all common amino acid sequences between the two given lists, regardless of the upper/lower cases. Return the results in a list containing only upper case characters.\n",
    "\n",
    "For example, if list A is ['acffg', 'DADGLAK', 'FQQPE'] and list B is ['ACFFG', 'dadqqd', 'fqqpe'], then the function should return ['ACFFG', 'FQQPE]\n",
    "\n",
    "Show that your function work on **this example**"
   ]
  },
  {
   "cell_type": "code",
   "execution_count": null,
   "id": "b2aa7fe6",
   "metadata": {},
   "outputs": [],
   "source": [
    "def find_common(list_A, list_B):\n",
    "    ### fill in your code here\n",
    "    return common_list\n",
    "\n",
    "print(find_common(['acffg', 'DADGLAK', 'FQQPE'], ['ACFFG', 'dadqqd', 'fqqpe']))"
   ]
  },
  {
   "cell_type": "markdown",
   "id": "e211977a",
   "metadata": {},
   "source": [
    "## Part 2: Analyzing DataFrame\n",
    "In addition to the DataFrame structure and basic statistics functions shown in class, pandas also provide more tools for data analysis.\n",
    "\n",
    "You can calculate the correlation between rows and columns of a pandas DataFrame with [DataFrame.corr()](https://pandas.pydata.org/docs/reference/api/pandas.DataFrame.corr.html)\n",
    "\n",
    "### Load gene expression data from [CRC_sample_data.xlsx](https://github.com/cmb-chula/comp-biol-3000788/blob/main/python-notebooks/CRC_sample_data.xlsx) that was used in class and answer Q4-7. Don't forget to import any library that you need!\n",
    "### Q4: Identify gene pairs that are highly correlated with Pearson's correlation higher than 0.8"
   ]
  },
  {
   "cell_type": "code",
   "execution_count": null,
   "id": "dbc845a7",
   "metadata": {},
   "outputs": [],
   "source": []
  },
  {
   "cell_type": "markdown",
   "id": "promotional-spirituality",
   "metadata": {},
   "source": [
    "### Q5: Repeat #4 with Spearman's correlation instead"
   ]
  },
  {
   "cell_type": "code",
   "execution_count": null,
   "id": "domestic-edwards",
   "metadata": {},
   "outputs": [],
   "source": []
  },
  {
   "cell_type": "markdown",
   "id": "associate-nothing",
   "metadata": {},
   "source": [
    "### Q6: Display all patients from CMS2 group with DCN expression above 7 and RETN expression below 4"
   ]
  },
  {
   "cell_type": "code",
   "execution_count": null,
   "id": "hired-broad",
   "metadata": {},
   "outputs": [],
   "source": []
  },
  {
   "cell_type": "markdown",
   "id": "mexican-georgia",
   "metadata": {},
   "source": [
    "### A research paper has suggested that a linear scoring \n",
    "$$-0.36\\times\\text{SLC5A6} + 0.54 \\times\\text{TSPAN6} + 0.94 \\times\\text{CCDC80} -0.44 \\times\\text{TUBB6} -0.42 \\times\\text{POFUT1}$$\n",
    "### could be effective in distinguishing CMS1 and CMS2 patients.\n",
    "### Q7: Add a new *CMS score* column to your DataFrame that compute this score.\n",
    "**Hint**: Like numpy array, Pandas DataFrame and Series (rows and columns of a DataFrame) can handle basic mathematical operations. As shown in class, *array* * 2 will multiply every element in the array by 2."
   ]
  },
  {
   "cell_type": "code",
   "execution_count": null,
   "id": "vocational-income",
   "metadata": {},
   "outputs": [],
   "source": []
  },
  {
   "cell_type": "markdown",
   "id": "independent-focus",
   "metadata": {},
   "source": [
    "### Q8: Use any technique you learned so far to show whether the score in Q7 is effective in distinguishing CMS1 and CMS2 patients in this dataset or not"
   ]
  },
  {
   "cell_type": "code",
   "execution_count": null,
   "id": "editorial-choice",
   "metadata": {},
   "outputs": [],
   "source": []
  },
  {
   "cell_type": "markdown",
   "id": "ce67b8f2",
   "metadata": {},
   "source": [
    "## Part 3: File handling\n",
    "You can read any file using the follow code block, which will open the file *filename.ext*, read the whole file, and print out the content *one line at a time* through the for loop.\n",
    "\n",
    "*line* will contain the content of each line *including the [newline character](https://en.wikipedia.org/wiki/Newline)* at the end. The *newline character* is considered a space and be removed with **string.strip()** function.\n",
    "\n",
    "You can of course replace *print(line)* with other codes to do some processing on the content"
   ]
  },
  {
   "cell_type": "code",
   "execution_count": null,
   "id": "19acc42c",
   "metadata": {},
   "outputs": [],
   "source": [
    "with open('filename.ext') as fin:\n",
    "    for line in fin.readlines():\n",
    "        print(line)"
   ]
  },
  {
   "cell_type": "markdown",
   "id": "other-builder",
   "metadata": {},
   "source": [
    "### Read the [Surface-glycoprotein.fasta](https://github.com/cmb-chula/comp-biol-3000788/blob/main/problem-sets/Surface-glycoprotein.fasta) file from your previous problem set and answer Q9-10\n",
    "### Q9: Count the number of sequences in the file. Note that the number of sequences is not the same as the number of lines!"
   ]
  },
  {
   "cell_type": "code",
   "execution_count": null,
   "id": "80ec4e2e",
   "metadata": {},
   "outputs": [],
   "source": []
  },
  {
   "cell_type": "markdown",
   "id": "absent-discipline",
   "metadata": {},
   "source": [
    "### [Extra] Q10: Calculate the average gene length"
   ]
  },
  {
   "cell_type": "code",
   "execution_count": null,
   "id": "occasional-anime",
   "metadata": {},
   "outputs": [],
   "source": []
  }
 ],
 "metadata": {
  "kernelspec": {
   "display_name": "Python 3",
   "language": "python",
   "name": "python3"
  },
  "language_info": {
   "codemirror_mode": {
    "name": "ipython",
    "version": 3
   },
   "file_extension": ".py",
   "mimetype": "text/x-python",
   "name": "python",
   "nbconvert_exporter": "python",
   "pygments_lexer": "ipython3",
   "version": "3.8.7"
  }
 },
 "nbformat": 4,
 "nbformat_minor": 5
}
