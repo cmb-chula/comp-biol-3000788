{
 "cells": [
  {
   "cell_type": "markdown",
   "id": "aab31144",
   "metadata": {},
   "source": [
    "# [Myelodysplastic syndromes](https://pubmed.ncbi.nlm.nih.gov/27543316/)\n",
    "For this problem set, you are tasked with analyzing exome sequencing data from 100 MDS patients.\n",
    "\n",
    "The data is available at [MDSExome.xlsx](https://github.com/cmb-chula/comp-biol-3000788/blob/main/problem-sets/MDSExome.xlsx)\n",
    "\n",
    "## Instruction\n",
    "1. Carefully follow the description of the analysis to be performed. If you believe there are more than one ways to solve the problem, please pick the one that you think is closest to the instruction\n",
    "2. This problem set mimics real-world research situation. So try to **provide answers that are on the same standard as actual research**\n",
    "3. For conceptual questions, please add you answer in the same markdown cell as the question itself. Look for the *Ans*. \n",
    "4. For coding questions, add your code(s) in the code cell(s) provided.\n",
    "  * You may print out more than what the questions ask for, if you feel that it will improve the understanding of the readers.\n",
    "5. If the coding question asks you to print something or plot something, always annotate your answer. For example,\n",
    "  * Use **print('number of rows in the data:', data.shape[0])** rather than just **print(data.shape[0])**\n",
    "  * Add axis labels, title, and legend to the graphs to make them readable"
   ]
  },
  {
   "cell_type": "markdown",
   "id": "b71de12c",
   "metadata": {},
   "source": [
    "## Q1: Import packages to load the data\n",
    "Show the top 3 rows of the loaded dataset"
   ]
  },
  {
   "cell_type": "code",
   "execution_count": null,
   "id": "4dbea2b9",
   "metadata": {},
   "outputs": [],
   "source": [
    "data = "
   ]
  },
  {
   "cell_type": "markdown",
   "id": "acc06d3c",
   "metadata": {},
   "source": [
    "## Q2: If we want to create a unique index for the data in each row of this dataset, what would be some possible ideas?\n",
    "Ans: "
   ]
  },
  {
   "cell_type": "markdown",
   "id": "4034d36b",
   "metadata": {},
   "source": [
    "## Q3: Examine the data size\n",
    "1. Print the size of this data (number of rows and columns)\n",
    "2. Print the number of missing data in each column"
   ]
  },
  {
   "cell_type": "code",
   "execution_count": null,
   "id": "4d63bf21",
   "metadata": {},
   "outputs": [],
   "source": []
  },
  {
   "cell_type": "markdown",
   "id": "5dd55080",
   "metadata": {},
   "source": [
    "There are several missing values from the *Nucleotide Position*, *Amino Acid Position*, and *Amino Acid Change*. \n",
    "The code below extract these rows into a DataFrame **rows_with_missing**."
   ]
  },
  {
   "cell_type": "code",
   "execution_count": null,
   "id": "76320f8d",
   "metadata": {},
   "outputs": [],
   "source": [
    "rows_with_missing = data.loc[pd.isna(data[['Nucleotide Position', 'Amino Acid Position', 'Amino Acid Change']]).any(axis = 1), :]\n",
    "rows_with_missing.head(10)"
   ]
  },
  {
   "cell_type": "markdown",
   "id": "6fff4888",
   "metadata": {},
   "source": [
    "## Q4: What do you think are the causes for these missing values?\n",
    "Ans:"
   ]
  },
  {
   "cell_type": "markdown",
   "id": "3fb83b8a",
   "metadata": {},
   "source": [
    "### Population AF (allele frequency in human population, estimated from 1,000 genome project)\n",
    "Some population AF values are missing because several mutations identified in our local cohort are not well-documented in the public human mutation database. \n",
    "\n",
    "One possibility is that these mutations are rare. Let's test this idea.\n",
    "\n",
    "## Q5: Compare the distribution of VAF between rows with Population AF and rows without\n",
    "1. Use seaborn's **violinplot**\n",
    "2. Use matplotlib's **hist** and overlay the two histograms onto the same plot\n",
    "\n",
    "### What is your observation?\n",
    "\n",
    "Ans:"
   ]
  },
  {
   "cell_type": "code",
   "execution_count": null,
   "id": "b5e6d9b6",
   "metadata": {},
   "outputs": [],
   "source": []
  },
  {
   "cell_type": "markdown",
   "id": "6a7ea464",
   "metadata": {},
   "source": [
    "## Q6: Use an appropriate statistical test to determine whether VAF of mutations with Population AF are significantly higher than VAF of mutations without Population AF\n",
    "Show the test result.\n",
    "\n",
    "### Does the test result agree with your observation from Q5?\n",
    "\n",
    "Ans: "
   ]
  },
  {
   "cell_type": "code",
   "execution_count": null,
   "id": "53da8e12",
   "metadata": {},
   "outputs": [],
   "source": []
  },
  {
   "cell_type": "markdown",
   "id": "57a3d743",
   "metadata": {},
   "source": [
    "### If you used t-test above, or plan to use t-test, we should first check whether VAF data are normally distributed.\n",
    "\n",
    "## Q7: Test whether VAF data is normally distributed\n",
    "1. Show the test result\n",
    "2. Plot a histogram of all VAF values\n",
    "\n",
    "### Does the histogram agrees with the test result?\n",
    "\n",
    "Ans: "
   ]
  },
  {
   "cell_type": "code",
   "execution_count": null,
   "id": "dfe5a982",
   "metadata": {},
   "outputs": [],
   "source": []
  },
  {
   "cell_type": "markdown",
   "id": "b513c1c3",
   "metadata": {},
   "source": [
    "### Next, let's identified frequently mutated genes in these patients because they might be related to MDS\n",
    "\n",
    "## Q8: Show the mutation frequency for each gene in this dataset\n",
    "What are the top 3 mutated genes?\n",
    "\n",
    "Ans:\n",
    "\n",
    "Are they known to be involved in MDS? Provide evidence.\n",
    "\n",
    "Ans:"
   ]
  },
  {
   "cell_type": "code",
   "execution_count": null,
   "id": "dbd5fa2b",
   "metadata": {},
   "outputs": [],
   "source": []
  },
  {
   "cell_type": "markdown",
   "id": "4956e7a7",
   "metadata": {},
   "source": [
    "## Q9 Use pie chart to show the frequency of the following columns\n",
    "1. Predicted Impact\n",
    "2. Variant Type\n",
    "\n",
    "**Hint**: You can use the output from **value_counts** as input for **pie** plot"
   ]
  },
  {
   "cell_type": "code",
   "execution_count": null,
   "id": "8bdc7e43",
   "metadata": {},
   "outputs": [],
   "source": []
  },
  {
   "cell_type": "markdown",
   "id": "ed7995e9",
   "metadata": {},
   "source": [
    "### Let's explore whether VAF correlates with Population AF\n",
    "## Q10: Visualize the relationship between VAF and Population AF\n",
    "Use any plot of your choice that you believe best shows the relationship"
   ]
  },
  {
   "cell_type": "code",
   "execution_count": null,
   "id": "8e562608",
   "metadata": {},
   "outputs": [],
   "source": []
  },
  {
   "cell_type": "markdown",
   "id": "83267dcc",
   "metadata": {},
   "source": [
    "## Q11: Calculate Pearson's and Spearman's correlation between VAF and Population AF\n",
    "**Note**: Be careful that some functions cannot handle missing values"
   ]
  },
  {
   "cell_type": "code",
   "execution_count": null,
   "id": "5b31de84",
   "metadata": {},
   "outputs": [],
   "source": []
  },
  {
   "cell_type": "markdown",
   "id": "de7f5b0c",
   "metadata": {},
   "source": [
    "### Examine how Variant Type contributed to the HIGH, MODERATE, LOW, and MODIFIER predicted impact\n",
    "\n",
    "## Q12: Generate a table summarizing the relationship between Variant Type and Predicted Impact\n",
    "\n",
    "### What is your observation?\n",
    "\n",
    "Ans: "
   ]
  },
  {
   "cell_type": "code",
   "execution_count": null,
   "id": "7d2bcf24",
   "metadata": {},
   "outputs": [],
   "source": []
  },
  {
   "cell_type": "markdown",
   "id": "7e5efc8c",
   "metadata": {},
   "source": [
    "## Q13: Generate a table summarizing the number of mutation for each patient\n",
    "The result should be a **DataFrame** with patients on the rows and one column containing the *Number of Mutations*"
   ]
  },
  {
   "cell_type": "code",
   "execution_count": null,
   "id": "49451f52",
   "metadata": {},
   "outputs": [],
   "source": []
  },
  {
   "cell_type": "markdown",
   "id": "528edfc1",
   "metadata": {},
   "source": [
    "## Bonus question: \n",
    "Come up with a visualization, a table, or a statistical test that says something interesting about this dataset and/or MDS."
   ]
  },
  {
   "cell_type": "code",
   "execution_count": null,
   "id": "f2ec7748",
   "metadata": {},
   "outputs": [],
   "source": []
  }
 ],
 "metadata": {
  "kernelspec": {
   "display_name": "Python 3 (ipykernel)",
   "language": "python",
   "name": "python3"
  },
  "language_info": {
   "codemirror_mode": {
    "name": "ipython",
    "version": 3
   },
   "file_extension": ".py",
   "mimetype": "text/x-python",
   "name": "python",
   "nbconvert_exporter": "python",
   "pygments_lexer": "ipython3",
   "version": "3.9.7"
  }
 },
 "nbformat": 4,
 "nbformat_minor": 5
}
