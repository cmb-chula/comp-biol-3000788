{
 "cells": [
  {
   "cell_type": "markdown",
   "id": "1fd8f2ab",
   "metadata": {},
   "source": [
    "# Problem set 10\n",
    "### We will utilize Python to analyze and visualize some omics data \n",
    "***\n",
    "## Rules\n",
    "* It is ok to search for template code online. But please don't just copy-and-paste the code. **Try to rewrite it based on your understanding.**\n",
    "* For question that asks you to write a function, please provide **at least three examples** to show that your function works. When selecting examples, consider what the code does and try pick examples that illustrate distinct cases.\n",
    "***\n",
    "## Hints\n",
    "* Everything you need should be available from `numpy`, `pandas`, `seaborn`, `scipy`, and `matplotlib.pyplot` modules\n",
    "* A brief explanation of new functions will be provided to point you in the right direction"
   ]
  },
  {
   "cell_type": "markdown",
   "id": "926aac84",
   "metadata": {},
   "source": [
    "## Q1\n",
    "**Task**\n",
    "* Download the [colorectal cancer transcriptomics and mutation data](https://github.com/cmb-chula/comp-biol-3000788/blob/main/python-notebooks/CRC_62gene_full.xlsx)\n",
    "* Read the data into Python using `pandas`'s `read_excel()` function. Specify the first column as the row index\n",
    "* Show that you can read the data using `head()` function"
   ]
  },
  {
   "cell_type": "code",
   "execution_count": null,
   "id": "419515fc",
   "metadata": {},
   "outputs": [],
   "source": []
  },
  {
   "cell_type": "markdown",
   "id": "1ee858ec",
   "metadata": {},
   "source": [
    "## Q2\n",
    "**Task**\n",
    "* There are some missing values in this table. Use Python to answer the following questions:\n",
    "  * How many values are missing from each mutation column (KRAS, BRAF, APC, TP53, and microsatelite_stability)?\n",
    "  * How many patients have complete data (transcriptomics and mutation)?"
   ]
  },
  {
   "cell_type": "code",
   "execution_count": null,
   "id": "af1088c4",
   "metadata": {},
   "outputs": [],
   "source": []
  },
  {
   "cell_type": "markdown",
   "id": "72879825",
   "metadata": {},
   "source": [
    "## Q3\n",
    "**Task**\n",
    "* Create a new DataFrame `mutation_frequency` that contains the following information for each gene, KRAS, BRAF, APC, and TP53:\n",
    "  * The number of patients with mutation information for that gene (`wt` or `mt`)\n",
    "  * The number of patients with mutation in that gene (`mt`)\n",
    "  * The mutation frequency of that gene, in percentage\n",
    "* `mutation_frequency` should contain 4 rows, one for each gene, and 3 columns, one for each of the requested details"
   ]
  },
  {
   "cell_type": "code",
   "execution_count": null,
   "id": "1c4ea8d7",
   "metadata": {},
   "outputs": [],
   "source": []
  },
  {
   "cell_type": "markdown",
   "id": "84208cc8",
   "metadata": {},
   "source": [
    "## Q4\n",
    "**Task**\n",
    "* Draw a `bar plot` with the 4 genes on the x-axis and their mutation frequencies on the y-axis"
   ]
  },
  {
   "cell_type": "code",
   "execution_count": null,
   "id": "c793d608",
   "metadata": {},
   "outputs": [],
   "source": []
  },
  {
   "cell_type": "markdown",
   "id": "e3105554",
   "metadata": {},
   "source": [
    "## Q5\n",
    "**Task**\n",
    "* Use `pandas`'s `crosstab()` function to summarize the associatio between KRAS and TP53 mutations\n",
    "* Which statistical test could be used to check whether KRAS and TP53 mutations occur together?\n",
    "* Which function in `scipy.stats` module correspond to that test?\n",
    "* [Extra] Use the `scipy.stats`'s function to perform the test"
   ]
  },
  {
   "cell_type": "code",
   "execution_count": null,
   "id": "0a80e44b",
   "metadata": {},
   "outputs": [],
   "source": []
  },
  {
   "cell_type": "markdown",
   "id": "2c3770c7",
   "metadata": {},
   "source": [
    "## Q6\n",
    "**Scenario**\n",
    "* You want to identify the gene whose expression level is most associated with KRAS mutation\n",
    "* You decided to perform two independent samples *t*-tests\n",
    "* First, you want to be sure that the expression data are normally distributed\n",
    "\n",
    "**Task**\n",
    "* Pick two genes\n",
    "* For each gene, draw a `histogram` to show whether the distribution of that gene's expression levels look normally distributed"
   ]
  },
  {
   "cell_type": "code",
   "execution_count": null,
   "id": "0e19ec14",
   "metadata": {},
   "outputs": [],
   "source": []
  },
  {
   "cell_type": "markdown",
   "id": "893c0f0e",
   "metadata": {},
   "source": [
    "## Q7\n",
    "**Task**\n",
    "* Perform the *t*-tests you planned in **Q6**\n",
    "* For each gene, use `scipy.stats`'s `ttest_ind` function to perform the tests\n",
    "* Which **two genes** yields the lowest p-values?\n",
    "* Calculate the **log2 expression fold change** between the patients with mutant KRAS and patients with wildtype KRAS for that gene"
   ]
  },
  {
   "cell_type": "code",
   "execution_count": null,
   "id": "aaa5fd3f",
   "metadata": {},
   "outputs": [],
   "source": []
  },
  {
   "cell_type": "markdown",
   "id": "4b53b7d7",
   "metadata": {},
   "source": [
    "## Q8\n",
    "**Task**\n",
    "* For each of the two genes you identified in **Q7**, draw a `box plot` to compare the expression levels of that gene between patients with wildtype and mutant KRAS"
   ]
  },
  {
   "cell_type": "code",
   "execution_count": null,
   "id": "92bf7832",
   "metadata": {},
   "outputs": [],
   "source": []
  },
  {
   "cell_type": "markdown",
   "id": "4dfe32b3",
   "metadata": {},
   "source": [
    "## Q9\n",
    "**Task**\n",
    "* Draw a `scatter plot` with the expression levels of the two genes you identified in **Q7** as the x- and y-axis\n",
    "* Use different colors for the patients with wildtype and mutation KRAS on the plot"
   ]
  },
  {
   "cell_type": "code",
   "execution_count": null,
   "id": "68deed74",
   "metadata": {},
   "outputs": [],
   "source": []
  }
 ],
 "metadata": {
  "kernelspec": {
   "display_name": "Python 3 (ipykernel)",
   "language": "python",
   "name": "python3"
  },
  "language_info": {
   "codemirror_mode": {
    "name": "ipython",
    "version": 3
   },
   "file_extension": ".py",
   "mimetype": "text/x-python",
   "name": "python",
   "nbconvert_exporter": "python",
   "pygments_lexer": "ipython3",
   "version": "3.9.7"
  }
 },
 "nbformat": 4,
 "nbformat_minor": 5
}
