{
 "cells": [
  {
   "cell_type": "markdown",
   "id": "c8181065",
   "metadata": {},
   "source": [
    "# For this problem set, we will apply unsupervised and supervised learning techniques to diagnose hepatocellular carcinoma (HCC) from transcriptomics data. \n",
    "\n",
    "## This [dataset](https://figshare.com/articles/dataset/Liver_vs_non-liver_microarray_data_formatted_from_GSE14520_/24616128) was processed from Gene Expression Omnibus [GSE14520](https://www.ncbi.nlm.nih.gov/geo/query/acc.cgi?acc=GSE14520)\n",
    "I have formatted the data so that you can read them directly with pandas\n",
    "\n",
    "### Most of the code has been provided. Fill in the missing code at *FILL HERE*\n",
    "However, please make sure not to change the provided variable names\n",
    "\n",
    "You may also need to add more codes to answer some of the questions"
   ]
  },
  {
   "cell_type": "markdown",
   "id": "d25bd325",
   "metadata": {},
   "source": [
    "## Q1: Import packages that you need here"
   ]
  },
  {
   "cell_type": "code",
   "execution_count": null,
   "id": "a1a12fc8",
   "metadata": {},
   "outputs": [],
   "source": [
    "*FILL HERE*"
   ]
  },
  {
   "cell_type": "markdown",
   "id": "af858db9",
   "metadata": {},
   "source": [
    "## Q2: Load the transcriptomics data with pandas"
   ]
  },
  {
   "cell_type": "code",
   "execution_count": null,
   "id": "8d4f7c69",
   "metadata": {},
   "outputs": [],
   "source": [
    "data = pd.read_csv(*FILL HERE*, header = *FILL HERE*, index_col = *FILL HERE*)\n",
    "data.head()"
   ]
  },
  {
   "cell_type": "markdown",
   "id": "0048fb7c",
   "metadata": {},
   "source": [
    "### Separate gene expression data and cancer labels"
   ]
  },
  {
   "cell_type": "code",
   "execution_count": null,
   "id": "4a84f6d9",
   "metadata": {},
   "outputs": [],
   "source": [
    "exp_data = data.iloc[*FILL HERE*]\n",
    "cancer_labels = data[*FILL HERE*]"
   ]
  },
  {
   "cell_type": "markdown",
   "id": "eb3b3ca0",
   "metadata": {},
   "source": [
    "## Q3: Count the numbers of HCC and normal samples"
   ]
  },
  {
   "cell_type": "code",
   "execution_count": null,
   "id": "2338a5a9",
   "metadata": {},
   "outputs": [],
   "source": [
    "*FILL HERE*"
   ]
  },
  {
   "cell_type": "markdown",
   "id": "44a0362b",
   "metadata": {},
   "source": [
    "## Q4: Replace microarray probe IDs with gene symbols\n",
    "1. Download probe ID mapping for platform [GPL3921](https://www.ncbi.nlm.nih.gov/geo/query/acc.cgi?acc=GPL3921) from GEO (should be in .txt format)\n",
    "2. Load the mapping file using pandas'\n",
    "  * You will need to adjust **header** and **sep** parameters to get the right data"
   ]
  },
  {
   "cell_type": "code",
   "execution_count": null,
   "id": "bae1b67d",
   "metadata": {
    "scrolled": false
   },
   "outputs": [],
   "source": [
    "annot = pd.read_csv(*FILL HERE*, header = *FILL HERE*, index_col = *FILL HERE*, sep = *FILL HERE*)\n",
    "annot.head(2)"
   ]
  },
  {
   "cell_type": "markdown",
   "id": "ece24bc6",
   "metadata": {},
   "source": [
    "3. Create a dictionary that map from probe ID to gene symbol"
   ]
  },
  {
   "cell_type": "code",
   "execution_count": null,
   "id": "9ea053ba",
   "metadata": {},
   "outputs": [],
   "source": [
    "probe_to_gene = {}\n",
    "\n",
    "for probe_id in annot.index:\n",
    "    if not pd.isna(annot.loc[*FILL HERE*]): ## ignore rows with missing gene symbol\n",
    "        gene_symbol = annot.loc[*FILL HERE*].split()[0] ## add .split()[0] because some rows contain multiple gene symbols\n",
    "        probe_to_gene[probe_id] = gene_symbol"
   ]
  },
  {
   "cell_type": "markdown",
   "id": "77a1254f",
   "metadata": {},
   "source": [
    "4. Apply the mapping to the column names"
   ]
  },
  {
   "cell_type": "code",
   "execution_count": null,
   "id": "c6d01f57",
   "metadata": {},
   "outputs": [],
   "source": [
    "probes_with_symbol = *FILL HERE* ## create a list of probes that have associated gene symbols in probe_to_gene\n",
    "\n",
    "selected_exp_data = exp_data.loc[:, probes_with_symbol].copy()\n",
    "selected_exp_data.columns = [probe_to_gene[x] for x in selected_exp_data.columns]\n",
    "selected_exp_data.head(2)"
   ]
  },
  {
   "cell_type": "markdown",
   "id": "8474b433",
   "metadata": {},
   "source": [
    "## Q5: Add expression data of probes for the same gene together\n",
    "Notice above that there are multiple columns for **ACTB**, **GAPDH**, and **STAT1**, for example\n",
    "\n",
    "What's the number of distinct genes after merging?\n",
    "\n",
    "Ans:"
   ]
  },
  {
   "cell_type": "code",
   "execution_count": null,
   "id": "b7e873fe",
   "metadata": {},
   "outputs": [],
   "source": [
    "selected_exp_data = selected_exp_data.groupby(by = *FILL HERE*, axis = *FILL HERE*).sum()\n",
    "selected_exp_data.head(2)"
   ]
  },
  {
   "cell_type": "markdown",
   "id": "027f4441",
   "metadata": {},
   "source": [
    "## Q6: Visualize data distribution with PCA and UMAP\n",
    "Don't forget to standardize your data first"
   ]
  },
  {
   "cell_type": "code",
   "execution_count": null,
   "id": "b3eb0a71",
   "metadata": {},
   "outputs": [],
   "source": [
    "std_data = *FILL HERE*\n",
    "\n",
    "pca = *FILL HERE*\n",
    "pca_embed = *FILL HERE*\n",
    "\n",
    "umap_embed = *FILL HERE* ## set n_neighbors = 25"
   ]
  },
  {
   "cell_type": "markdown",
   "id": "ac220de1",
   "metadata": {},
   "source": [
    "### Color by HCC versus normal"
   ]
  },
  {
   "cell_type": "code",
   "execution_count": null,
   "id": "4e478afe",
   "metadata": {},
   "outputs": [],
   "source": [
    "plt.figure(figsize = (10, 5))\n",
    "\n",
    "plt.subplot(1, 2, 1)\n",
    "plt.scatter(pca_embed[*FILL HERE*, 0], pca_embed[*FILL HERE*, 1], label = 'Normal')\n",
    "plt.scatter(pca_embed[*FILL HERE*, 0], pca_embed[*FILL HERE*, 1], label = 'HCC')\n",
    "plt.xlabel('PC1'); plt.ylabel('PC2'); plt.title('PCA')\n",
    "\n",
    "plt.subplot(1, 2, 2)\n",
    "*FILL HERE* ## generate the same scatter plot with umap_embed\n",
    "\n",
    "plt.tight_layout()\n",
    "plt.show()"
   ]
  },
  {
   "cell_type": "markdown",
   "id": "deluxe-belgium",
   "metadata": {},
   "source": [
    "### What do these scatter plots tell you about the transcriptomics profiles for HCC vs normal?\n",
    "Ans:"
   ]
  },
  {
   "cell_type": "markdown",
   "id": "a299cd1d",
   "metadata": {},
   "source": [
    "## Q7: Identify genes that are differentially expressed\n",
    "This microarray dataset has been normalized and log-transformed. Hence, t-tests can be used\n",
    "\n",
    "We are collecting the statistical test results in a new DataFrame with p-value and log FC"
   ]
  },
  {
   "cell_type": "code",
   "execution_count": null,
   "id": "5ab856bb",
   "metadata": {},
   "outputs": [],
   "source": [
    "ttest_results = pd.DataFrame(0, index = selected_exp_data.columns, columns = ['P-value', 'HCC/Normal Log FC'])\n",
    "\n",
    "for gene in selected_exp_data.columns:\n",
    "    normal_exp = selected_exp_data[gene].loc[*FILL HERE*]\n",
    "    cancer_exp = selected_exp_data[gene].loc[*FILL HERE*]\n",
    "    \n",
    "    ttest_results.loc[gene, 'P-value'] = ttest_ind(*FILL HERE*)[1]\n",
    "    ttest_results.loc[gene, 'HCC/Normal Log FC'] = *FILL HERE*\n",
    "    \n",
    "ttest_results.head()"
   ]
  },
  {
   "cell_type": "markdown",
   "id": "88cb15a7",
   "metadata": {},
   "source": [
    "### Use statsmodels package to perform Benjamini-Yekutileli correction with FDR cutoff of 0.01\n",
    "How many statistically significant DEGs are there?\n",
    "\n",
    "Ans:"
   ]
  },
  {
   "cell_type": "code",
   "execution_count": null,
   "id": "8c664f2e",
   "metadata": {},
   "outputs": [],
   "source": [
    "by_result = multipletests(*FILL HERE*, method = *FILL HERE*, alpha = *FILL HERE*)\n",
    "by_filter = by_result[0]\n",
    "print('number of significant DEGs:', *FILL HERE*)"
   ]
  },
  {
   "cell_type": "markdown",
   "id": "3c91b765",
   "metadata": {},
   "source": [
    "### Let's apply fold change cutoff at 2-fold\n",
    "How many statistically significant DEGs also have 2 or higher fold change across the two groups? \n",
    "\n",
    "Ans:"
   ]
  },
  {
   "cell_type": "code",
   "execution_count": null,
   "id": "8b718d8e",
   "metadata": {},
   "outputs": [],
   "source": [
    "fc_filter = *FILL HERE*\n",
    "combined_filter = by_filter & fc_filter\n",
    "\n",
    "print('number of significant DEGs with 2 or higher fold change:', *FILL HERE*)"
   ]
  },
  {
   "cell_type": "markdown",
   "id": "55a9b4c2",
   "metadata": {},
   "source": [
    "### Visualize volcano plot"
   ]
  },
  {
   "cell_type": "code",
   "execution_count": null,
   "id": "55776e37",
   "metadata": {},
   "outputs": [],
   "source": [
    "plt.figure(figsize = (7, 4))\n",
    "\n",
    "plt.scatter(*FILL HERE*, s = 3, label = 'Other genes') ## plot all other genes\n",
    "plt.scatter(*FILL HERE*, s = 3, label = 'DEGs') ## plot only significant DEGs\n",
    "\n",
    "plt.xlabel('HCC/Normal Log FC'); plt.ylabel('Minus Log P-value'); plt.legend()\n",
    "plt.show()"
   ]
  },
  {
   "cell_type": "markdown",
   "id": "5424facf",
   "metadata": {},
   "source": [
    "## Q8: There is a gene with ~10 log FC but does not have as low p-value as other DEGs\n",
    "Identify what gene it is and visualize its expression in HCC and normal group using violin plot\n",
    "\n",
    "Ans:"
   ]
  },
  {
   "cell_type": "code",
   "execution_count": null,
   "id": "0c097259",
   "metadata": {},
   "outputs": [],
   "source": [
    "ttest_results.sort_values('HCC/Normal Log FC', ascending = False).head(3)"
   ]
  },
  {
   "cell_type": "code",
   "execution_count": null,
   "id": "b3d498f9",
   "metadata": {},
   "outputs": [],
   "source": [
    "*FILL HERE* ## show violin plot for the top gene"
   ]
  },
  {
   "cell_type": "markdown",
   "id": "3047cb21",
   "metadata": {},
   "source": [
    "### Compare the above pattern with another gene with the lowest p-value\n",
    "Which gene has the lowest p-value? Visualize its expression in HCC and normal group using violin plot\n",
    "\n",
    "Ans:"
   ]
  },
  {
   "cell_type": "code",
   "execution_count": null,
   "id": "3cc9000b",
   "metadata": {},
   "outputs": [],
   "source": [
    "ttest_results.sort_values('P-value').head(3)"
   ]
  },
  {
   "cell_type": "code",
   "execution_count": null,
   "id": "fdf049d2",
   "metadata": {},
   "outputs": [],
   "source": [
    "*FILL HERE* ## show violin plot for the top gene"
   ]
  },
  {
   "cell_type": "markdown",
   "id": "dbe9b467",
   "metadata": {},
   "source": [
    "### Do the two violin plots agree with observed fold changes and p-values for these two genes?\n",
    "Ans:"
   ]
  },
  {
   "cell_type": "markdown",
   "id": "5d9f2a2a",
   "metadata": {},
   "source": [
    "## Q9: Visualize the expression of these two genes on PCA and UMAP scatter plots\n",
    "Use subplot to include all 4 scatters onto the same figure"
   ]
  },
  {
   "cell_type": "code",
   "execution_count": null,
   "id": "1f42c95e",
   "metadata": {},
   "outputs": [],
   "source": [
    "*FILL HERE*"
   ]
  },
  {
   "cell_type": "markdown",
   "id": "9063788b",
   "metadata": {},
   "source": [
    "## Q10: Let's build a logistic regression model to diagnose HCC from normal\n",
    "The required packages are imported for you"
   ]
  },
  {
   "cell_type": "code",
   "execution_count": null,
   "id": "4e0b3807",
   "metadata": {},
   "outputs": [],
   "source": [
    "from sklearn.linear_model import LogisticRegression\n",
    "from sklearn.model_selection import StratifiedKFold, GridSearchCV\n",
    "\n",
    "five_fold_splitter = StratifiedKFold(n_splits = 5, shuffle = True, random_state = 25) ## split data into 5 equal partitions"
   ]
  },
  {
   "cell_type": "markdown",
   "id": "3c986178",
   "metadata": {},
   "source": [
    "### Define the base model and use GridSearchCV to try every hyperparameter combination\n",
    "Fit **GridSearchCV** on standardized data"
   ]
  },
  {
   "cell_type": "code",
   "execution_count": null,
   "id": "83c13018",
   "metadata": {},
   "outputs": [],
   "source": [
    "base_model = LogisticRegression(max_iter = 1000, solver = 'liblinear', random_state = 25) ## this is our base hyperparameters\n",
    "hyperparameters = {'penalty': ['l1', 'l2'],\n",
    "                   'C': [1e-5, 1e-4, 1e-3, 1e-2, 1e-1, 1, 10, 100]}\n",
    "\n",
    "tuned_model = GridSearchCV(base_model, param_grid = hyperparameters, scoring = 'accuracy', \n",
    "                           refit = True, cv = five_fold_splitter)\n",
    "tuned_model.fit(*FILL HERE*)"
   ]
  },
  {
   "cell_type": "markdown",
   "id": "71afd06d",
   "metadata": {},
   "source": [
    "### View the top 5 hyperparameter sets\n",
    "What is the best hyperparameter setting? \n",
    "\n",
    "Ans:\n",
    "\n",
    "What is the achieved accuracy?\n",
    "\n",
    "Ans:"
   ]
  },
  {
   "cell_type": "code",
   "execution_count": null,
   "id": "8921d446",
   "metadata": {},
   "outputs": [],
   "source": [
    "tuned_result = pd.DataFrame.from_dict(tuned_model.cv_results_)\n",
    "tuned_result = tuned_result.sort_values('rank_test_score')\n",
    "tuned_result[['params', 'mean_test_score', 'std_test_score']].head(5)"
   ]
  },
  {
   "cell_type": "markdown",
   "id": "635a7272",
   "metadata": {},
   "source": [
    "# Congratulations for reaching the end of this year's problem set!!"
   ]
  }
 ],
 "metadata": {
  "kernelspec": {
   "display_name": "Python 3 (ipykernel)",
   "language": "python",
   "name": "python3"
  },
  "language_info": {
   "codemirror_mode": {
    "name": "ipython",
    "version": 3
   },
   "file_extension": ".py",
   "mimetype": "text/x-python",
   "name": "python",
   "nbconvert_exporter": "python",
   "pygments_lexer": "ipython3",
   "version": "3.9.7"
  }
 },
 "nbformat": 4,
 "nbformat_minor": 5
}
