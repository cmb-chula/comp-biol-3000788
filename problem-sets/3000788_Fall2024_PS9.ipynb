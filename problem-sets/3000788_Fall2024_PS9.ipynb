{
 "cells": [
  {
   "cell_type": "markdown",
   "id": "8dcd1195-e19f-4bcf-b666-c140920f4961",
   "metadata": {},
   "source": [
    "# Problem set 9\n",
    "### We will utilize basic Python functionality to handle common tasks in bioinformatics\n",
    "***\n",
    "## Rules\n",
    "* It is ok to search for template code online. But please don't just copy-and-paste the code. **Try to rewrite it based on your understanding.**\n",
    "* For question that asks you to write a function, please provide **at least three examples** to show that your function works. When selecting examples, consider what the code does and try pick examples that illustrate distinct cases.\n",
    "***"
   ]
  },
  {
   "cell_type": "code",
   "execution_count": null,
   "id": "ac2ec256",
   "metadata": {},
   "outputs": [],
   "source": []
  },
  {
   "cell_type": "markdown",
   "id": "6926325a-d114-4c34-8c59-a23540b83968",
   "metadata": {},
   "source": [
    "## Q1\n",
    "**Scenario**\n",
    "* You receive a gene expression table that was manually typed in by another member of your lab\n",
    "* The table was supposed to contain only numbers (which represent the expression levels of the genes)\n",
    "* However, when you opened it, you found several types of errors:\n",
    "  * Some values are `string` that were intended for human readers (like `\"not measured\"` or `\"cannot find data\"`)\n",
    "  * Some values are `string` that were erroneously caused by extra spaces (like `\"  911.03 \"`) \n",
    "\n",
    "**Task**\n",
    "* Write a function `clean_gene_expression()` that receive a `list` and return a new `list` that contain all numerical data that can be salvaged from the input.\n",
    "* For example, if the input is `[\"not measured\", 0.123, \"  2.381\"]`, the output should be `[0.123, 2.381]`\n",
    "* You can assume that all non-number entries in the input list follow either one of the two patterns described above "
   ]
  },
  {
   "cell_type": "code",
   "execution_count": null,
   "id": "0c1983d4-be60-4b91-bf8b-608823d02b18",
   "metadata": {},
   "outputs": [],
   "source": []
  },
  {
   "cell_type": "markdown",
   "id": "677a1cd6-c381-407d-b575-cf8ea5139faa",
   "metadata": {},
   "source": [
    "## Q2\n",
    "**Scenario**\n",
    "* You want to analyze a list of DNA sequences using a bioinformatics tool\n",
    "* However, this tool requires that you convert the DNA sequences into RNA sequences (what a lazy programmer!)\n",
    "* Furthermore, this tool will not consider the possibility that some of your input sequences were from the reverse strand. So you will have to generate the reverse complement sequences and include them as part of the input\n",
    "\n",
    "**Task**\n",
    "* Write a function `create_input_for_lazy_tool()` that receive a `list of DNA sequences` and return a new `list of string` that contains both the converted RNA sequences and the reverse complements \n",
    "* For example, if the input is `[\"ACTG\", \"GGGG\"]`, the output should be `[\"ACUG\", \"GGGG\", \"CAGU\", \"CCCC\"]` (or any other arrangement of these 4 entries)\n",
    "* The ordering of the entries in the output does not matter\n",
    "* You can assume that the input DNA sequences contain only A, C, G, and T"
   ]
  },
  {
   "cell_type": "code",
   "execution_count": null,
   "id": "b920d8e4-da21-411b-b62a-702f0b7e3d5b",
   "metadata": {},
   "outputs": [],
   "source": []
  },
  {
   "cell_type": "markdown",
   "id": "c6b36c32-a6c4-427b-ba8d-2fcc9da073a5",
   "metadata": {},
   "source": [
    "## Q3\n",
    "**Scenario**\n",
    "* A collaborator gave you a list of Ensemble accession IDs which contains some entries that do not follow the expected Ensemble human gene ID format\n",
    "* You want to flag non-gene entries so that your collaborator can go back and double check their data\n",
    "\n",
    "**Task**\n",
    "* Write a function `flag_nongene_accession()` that receive a `list of string` and return a new `list of string` that contains only the entries that fail to match the expected Ensemble accession format for human genes\n",
    "* Study the Ensemble accession format for human genes, like `\"ENSG00000139618\"` carefully and define the rules that must be followed\n",
    "* For example, if the input is `[\"ESNG0000123162\", \"ESNT0000123162\", \"1231271\"]`, the output should be `[\"ESNT0000123162\", \"1231271\"]`\n",
    "* The ordering of the entries in the output does not matter"
   ]
  },
  {
   "cell_type": "code",
   "execution_count": null,
   "id": "846936e3-02a8-4e17-b409-73820c0bb1d4",
   "metadata": {},
   "outputs": [],
   "source": []
  },
  {
   "cell_type": "markdown",
   "id": "ef440fae-ead9-4f23-8e98-6728204ce107",
   "metadata": {},
   "source": [
    "## Q4\n",
    "**Task**\n",
    "* Write a function `count_dimer_GC()` that receive a `DNA sequence` and return a `dictionary` that contain the frequencies of all nucleotide dimers found in the input sequence (i.e., `AA`, `AC`, etc.) as well as `the GC content` of the input sequence as percentage\n",
    "* For example, if the input is `\"AAACTGCT\"`, the output should be a dictionary `{\"AA\": 2, \"AC\": 1, \"CT\": 2, \"TG\": 1, \"GC\": 1}` and a number `0.375`\n",
    "* You can assume that the input DNA sequence contains only A, C, G, and T"
   ]
  },
  {
   "cell_type": "code",
   "execution_count": null,
   "id": "ea86c24d-8741-43af-b36a-27e1506301c5",
   "metadata": {},
   "outputs": [],
   "source": []
  },
  {
   "cell_type": "markdown",
   "id": "5a846219-8e7f-4a3f-88b8-11fb85909b80",
   "metadata": {},
   "source": [
    "## Q5\n",
    "**Scenario**\n",
    "* You want to cluster DNA sequences from a shotgun metagenomics study based on GC content and dimer profiles (i.e., binning)\n",
    "* The first step is to be able to compute the difference in dimer profiles between two DNA sequences\n",
    "\n",
    "**Task**\n",
    "* Write a function `dimer_difference()` that receive `two dictionaries of dimer frequencies` and return the difference between the two dictionaries. Here, the difference is the discrepancy between the two dimer frequencies.\n",
    "* For example, the difference between `{\"AA\": 2, \"AC\": 1, \"CT\": 2, \"TG\": 1, \"GC\": 1}` and `{\"AA\": 1, \"AC\": 2, \"CT\": 3, \"TG\": 1}` should be `4` because the frequencies of `\"AA\"`, `\"AC\"`, `\"CT\"`, and `\"GC\"` differ by 1 each."
   ]
  },
  {
   "cell_type": "code",
   "execution_count": null,
   "id": "86b83d72-2997-4c29-ba1d-d3b3fb0ec7a9",
   "metadata": {},
   "outputs": [],
   "source": []
  },
  {
   "cell_type": "markdown",
   "id": "1bb58425-f798-4b45-a354-1d1976fcb2f6",
   "metadata": {},
   "source": [
    "## [Extra] Q6\n",
    "**Task**\n",
    "* Write a function `is_binnable()` that receive `two DNA sequences` of the same length and return a boolean (`True` or `False`) whether the two DNA sequences could be grouped for binning under the following criteria:\n",
    "  * The difference in dimer frequency should be less than 25% of the length of the DNA sequences\n",
    "  * The difference in GC content should be less than 0.2\n",
    "* The function should return `True` if both criteria were met, and return `False` otherwise\n",
    "* Use your functions from **Q4** and **Q5** to help"
   ]
  },
  {
   "cell_type": "code",
   "execution_count": null,
   "id": "638dd897-5203-40e5-853d-d6fa8ce3d0a4",
   "metadata": {},
   "outputs": [],
   "source": []
  },
  {
   "cell_type": "markdown",
   "id": "e892d69d-b00f-4e1c-954e-6f30c91baf94",
   "metadata": {},
   "source": [
    "## For Q7-Q9, you will need to read files into Python\n",
    "Below is a template that will let you read the content of `filename.ext`, one line at a time, into a variable `line`"
   ]
  },
  {
   "cell_type": "code",
   "execution_count": null,
   "id": "48cac7c9-4b55-45f3-bcdd-42d000384469",
   "metadata": {},
   "outputs": [],
   "source": [
    "with open('filename.ext') as fin:\n",
    "    for line in fin.readlines():\n",
    "        print(line)"
   ]
  },
  {
   "cell_type": "markdown",
   "id": "164946f0-dda1-47a0-a409-e6da1021c264",
   "metadata": {},
   "source": [
    "## Q7\n",
    "**Task**\n",
    "* Read the [Surface-glycoprotein.fasta](https://github.com/cmb-chula/comp-biol-3000788/blob/main/problem-sets/Surface-glycoprotein.fasta) and output the following:\n",
    "  * The number of DNA sequences in the file\n",
    "  * The average length of DNA sequences in the file\n",
    "* Don't use BioPython or other module for reading FASTA file. Write your own code"
   ]
  },
  {
   "cell_type": "code",
   "execution_count": null,
   "id": "65ca7eac-3838-4250-8e10-866fa965a36c",
   "metadata": {},
   "outputs": [],
   "source": []
  },
  {
   "cell_type": "markdown",
   "id": "d69eb754",
   "metadata": {},
   "source": [
    "## Q8\n",
    "**Scenario**\n",
    "* You want to be sure that all DNA sequences in [Surface-glycoprotein.fasta](https://github.com/cmb-chula/comp-biol-3000788/blob/main/problem-sets/Surface-glycoprotein.fasta) are valid protein-coding sequence\n",
    "\n",
    "**Task**\n",
    "* Given an input DNA sequence, how would you check whether it is a valid protein-coding sequence? In other words, what are the criteria that the input DNA sequence must satisfy?"
   ]
  },
  {
   "cell_type": "code",
   "execution_count": null,
   "id": "e697bf78-d7c4-4295-aa64-f6edfb7ff3b1",
   "metadata": {},
   "outputs": [],
   "source": []
  },
  {
   "cell_type": "markdown",
   "id": "a3603ad7",
   "metadata": {},
   "source": [
    "## Q9\n",
    "**Scenario**\n",
    "* You want to be sure that all DNA sequences in [Surface-glycoprotein.fasta](https://github.com/cmb-chula/comp-biol-3000788/blob/main/problem-sets/Surface-glycoprotein.fasta) are valid protein-coding sequence\n",
    "\n",
    "**Task**\n",
    "* Write a function `is_protein_coding()` that receive a `DNA sequence` as an input and output a boolean (`True` or `False`) that indicate whether the input is a valid protein-coding sequence\n",
    "* This function should follow the criteria that you formulated in **Q8**"
   ]
  },
  {
   "cell_type": "code",
   "execution_count": null,
   "id": "0e76dc91",
   "metadata": {},
   "outputs": [],
   "source": []
  },
  {
   "cell_type": "markdown",
   "id": "10cde9f9",
   "metadata": {},
   "source": [
    "## Q10\n",
    "**Scenario**\n",
    "* We will extend the number guessing function that we implemented in class into a more realistic game\n",
    "* The game will keep asking for the player to guess a number until the correct answer is input (or the player gives up)\n",
    "* A hint, whether the guess is too high or too low, will be displayed\n",
    "* We will use the built-in `input()` function to receive inputs from the player\n",
    "\n",
    "**Task**\n",
    "* Some parts of the code have been provided below. Fill in the missing codes to make the game works as it should be"
   ]
  },
  {
   "cell_type": "code",
   "execution_count": null,
   "id": "bfd3f674",
   "metadata": {},
   "outputs": [],
   "source": [
    "hidden_number = 123\n",
    "game_message = 'Guess a number from 1-999. Or enter `Q` to give up: '\n",
    "\n",
    "guess = input(game_message)\n",
    "\n",
    "while not guess == str(hidden_number):\n",
    "    guess = input(game_message)\n",
    "    \n",
    "    ## complete the missing codes"
   ]
  }
 ],
 "metadata": {
  "kernelspec": {
   "display_name": "Python 3 (ipykernel)",
   "language": "python",
   "name": "python3"
  },
  "language_info": {
   "codemirror_mode": {
    "name": "ipython",
    "version": 3
   },
   "file_extension": ".py",
   "mimetype": "text/x-python",
   "name": "python",
   "nbconvert_exporter": "python",
   "pygments_lexer": "ipython3",
   "version": "3.9.7"
  }
 },
 "nbformat": 4,
 "nbformat_minor": 5
}
